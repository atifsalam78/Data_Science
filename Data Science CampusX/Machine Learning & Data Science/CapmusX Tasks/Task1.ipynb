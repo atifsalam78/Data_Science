{
 "cells": [
  {
   "cell_type": "code",
   "execution_count": 1,
   "id": "c39b46c3",
   "metadata": {},
   "outputs": [],
   "source": [
    "str1 = \"Data\"\n",
    "str2 = \"Science\"\n",
    "str3 = \"Mentorship\"\n",
    "str4 = \"Program\"\n",
    "str5 = \"By\"\n",
    "str6 = \"CampusX\""
   ]
  },
  {
   "cell_type": "code",
   "execution_count": 5,
   "id": "07369427",
   "metadata": {},
   "outputs": [
    {
     "name": "stdout",
     "output_type": "stream",
     "text": [
      "Data-Science-Mentorship-Program-By-CampusX\n"
     ]
    }
   ],
   "source": [
    "print(str1 + \"-\" + str2 + \"-\" + str3 + \"-\" + str4 + \"-\" + str5 + \"-\" + str6)"
   ]
  },
  {
   "cell_type": "code",
   "execution_count": 8,
   "id": "f554e863",
   "metadata": {},
   "outputs": [
    {
     "name": "stdout",
     "output_type": "stream",
     "text": [
      "Data-Science-Mentorship-Program-By-CampusX\n"
     ]
    }
   ],
   "source": [
    "print(str1,str2,str3,str4,str5,str6, sep=\"-\")"
   ]
  },
  {
   "cell_type": "code",
   "execution_count": 10,
   "id": "35a88776",
   "metadata": {},
   "outputs": [
    {
     "name": "stdout",
     "output_type": "stream",
     "text": [
      "89.6\n"
     ]
    }
   ],
   "source": [
    "# Write a program that will convert celsius value to fahrenheit.\n",
    "cels = 32\n",
    "far = (cels * 9/5) + 32\n",
    "print(far)"
   ]
  },
  {
   "cell_type": "code",
   "execution_count": 16,
   "id": "be79e497",
   "metadata": {},
   "outputs": [
    {
     "name": "stdout",
     "output_type": "stream",
     "text": [
      "Enter number 1: 1\n",
      "Enter number 2: 2\n",
      "2 1\n"
     ]
    }
   ],
   "source": [
    "# Take 2 numbers as input from the user.Write a program to swap the numbers without using any special python syntax.\n",
    "num1 = int(input(\"Enter number 1: \"))\n",
    "num2 = int(input(\"Enter number 2: \"))\n",
    "temp = \"\"\n",
    "temp = num1\n",
    "num1 = num2\n",
    "num2 = temp\n",
    "\n",
    "print(num1, num2)\n"
   ]
  },
  {
   "cell_type": "code",
   "execution_count": 47,
   "id": "c6ee0155",
   "metadata": {},
   "outputs": [
    {
     "name": "stdout",
     "output_type": "stream",
     "text": [
      "First Coordinate: 25\n",
      "Second Coordinate: 45\n",
      "51.478150704935004\n"
     ]
    }
   ],
   "source": [
    "# Write a program to find the euclidean distance between two coordinates.Take both the coordinates from the user as input.\n",
    "import math\n",
    "x = int(input(\"First Coordinate: \"))\n",
    "y = int(input(\"Second Coordinate: \"))\n",
    "\n",
    "dis_eucl = math.sqrt((x**2)+(y**2))\n",
    "print(dis_eucl)"
   ]
  },
  {
   "cell_type": "code",
   "execution_count": null,
   "id": "5d09031c",
   "metadata": {},
   "outputs": [],
   "source": []
  },
  {
   "cell_type": "code",
   "execution_count": null,
   "id": "b35656ce",
   "metadata": {},
   "outputs": [],
   "source": []
  }
 ],
 "metadata": {
  "kernelspec": {
   "display_name": "Python 3 (ipykernel)",
   "language": "python",
   "name": "python3"
  },
  "language_info": {
   "codemirror_mode": {
    "name": "ipython",
    "version": 3
   },
   "file_extension": ".py",
   "mimetype": "text/x-python",
   "name": "python",
   "nbconvert_exporter": "python",
   "pygments_lexer": "ipython3",
   "version": "3.9.13"
  }
 },
 "nbformat": 4,
 "nbformat_minor": 5
}
