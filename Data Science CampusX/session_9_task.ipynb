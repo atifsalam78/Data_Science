{
 "cells": [
  {
   "cell_type": "markdown",
   "metadata": {
    "id": "BCleRtX43caS"
   },
   "source": [
    "### `Problem-1:` Class inheritence\n",
    "\n",
    "Create a **Bus** child class that inherits from the Vehicle class. The default fare charge of any vehicle is seating capacity * 100. If Vehicle is Bus instance, we need to add an extra 10% on full fare as a maintenance charge. So total fare for bus instance will become the final amount = total fare + 10% of the total fare.\n",
    "\n",
    "Note: The bus seating capacity is 50. so the final fare amount should be 5500. You need to override the fare() method of a Vehicle class in Bus class."
   ]
  },
  {
   "cell_type": "code",
   "execution_count": 2,
   "metadata": {
    "colab": {
     "base_uri": "https://localhost:8080/"
    },
    "id": "6jVFCXKz3YZI",
    "outputId": "a8649209-08e2-4f60-a914-74a914dd697e"
   },
   "outputs": [],
   "source": [
    "# Write code here\n",
    "\n",
    "class Vehicle:\n",
    "    \n",
    "    def __init__(self, seating_capacity):\n",
    "        self.seating_capacity = seating_capacity              \n",
    "        \n",
    "    def fare(self):\n",
    "        total_fare = self.seating_capacity * 100\n",
    "        return total_fare\n",
    "\n",
    "class Bus(Vehicle):\n",
    "    \n",
    "    def fare(self):\n",
    "        total_fare = self.seating_capacity * 100\n",
    "        total_fare = total_fare + ((total_fare *10)/100)\n",
    "        return total_fare    "
   ]
  },
  {
   "cell_type": "code",
   "execution_count": 3,
   "metadata": {},
   "outputs": [
    {
     "name": "stdout",
     "output_type": "stream",
     "text": [
      "5500.0\n",
      "50\n"
     ]
    }
   ],
   "source": [
    "v = Vehicle(50)\n",
    "b = Bus(50)\n",
    "print(b.fare())\n",
    "print(b.seating_capacity)"
   ]
  },
  {
   "cell_type": "markdown",
   "metadata": {
    "id": "KBbGNTtQ47mJ"
   },
   "source": [
    "### `Problem-2:` Class Inheritence\n",
    "\n",
    "Create a Bus class that inherits from the Vehicle class. Give the capacity argument of *Bus.seating_capacity()* a default value of 50.\n",
    "\n",
    "Use the following code for your parent Vehicle class."
   ]
  },
  {
   "cell_type": "code",
   "execution_count": 4,
   "metadata": {
    "id": "MwOnYE_14M-r"
   },
   "outputs": [],
   "source": [
    "class Vehicle:\n",
    "    \n",
    "    def __init__(self,seating_capacity):\n",
    "        self.seating_capacity = seating_capacity\n",
    "        \n",
    "    def fare(self):\n",
    "        vehicle_total_fare = self.seating_capacity * 100\n",
    "        return vehicle_total_fare\n",
    "        \n",
    "        \n",
    "class Bus(Vehicle):\n",
    "    \n",
    "    def __init__(self, bus_seating_capacity=50):\n",
    "        self.bus_seating_capacity = bus_seating_capacity\n",
    "        \n",
    "    def fare(self):\n",
    "        bus_total_fare = self.bus_seating_capacity * 100\n",
    "        bus_total_fare = bus_total_fare + ((bus_total_fare*10)/100)\n",
    "        return bus_total_fare"
   ]
  },
  {
   "cell_type": "code",
   "execution_count": 5,
   "metadata": {
    "id": "Py5Gr0ip5OBB"
   },
   "outputs": [
    {
     "data": {
      "text/plain": [
       "5500.0"
      ]
     },
     "execution_count": 5,
     "metadata": {},
     "output_type": "execute_result"
    }
   ],
   "source": [
    "v = Vehicle(100)\n",
    "b = Bus()\n",
    "b.fare()"
   ]
  },
  {
   "cell_type": "markdown",
   "metadata": {
    "id": "ExIxsv4y-oEd"
   },
   "source": [
    "### `Problem-3:` Write a program that has a class Point. Define another class Location which has two objects (Location & Destination) of class Point. Also define a function in Location that prints the reflection of Destination on the x axis."
   ]
  },
  {
   "cell_type": "code",
   "execution_count": 2,
   "metadata": {
    "id": "yT2QtzQp5VAB"
   },
   "outputs": [
    {
     "data": {
      "text/plain": [
       "'(4, -5)'"
      ]
     },
     "execution_count": 2,
     "metadata": {},
     "output_type": "execute_result"
    }
   ],
   "source": [
    "# First Method\n",
    "class Point:\n",
    "    \n",
    "    def __init__(self, x, y):\n",
    "        self.x_cord = x\n",
    "        self.y_cord = y\n",
    "        \n",
    "class Location:\n",
    "    \n",
    "    def __init__(self, location, destination):\n",
    "        self.location = location\n",
    "        self.destination = destination\n",
    "        self.reflected_y = -self.destination.y_cord\n",
    "    \n",
    "    def reflect_on_x_axis(self):\n",
    "        return \"({}, {})\".format(self.destination.x_cord, self.reflected_y)\n",
    "\n",
    "loc = Point(2,3)\n",
    "des = Point(4,5)\n",
    "l = Location(loc, des)\n",
    "l.reflect_on_x_axis()\n"
   ]
  },
  {
   "cell_type": "code",
   "execution_count": 31,
   "metadata": {},
   "outputs": [
    {
     "name": "stdout",
     "output_type": "stream",
     "text": [
      "Reflection of destination: (4, -5)\n"
     ]
    }
   ],
   "source": [
    "# Second Method\n",
    "class Point:\n",
    "    def __init__(self, x, y):\n",
    "        self.x = x\n",
    "        self.y = y\n",
    "\n",
    "class Location:\n",
    "    def __init__(self, location_x, location_y, destination_x, destination_y):\n",
    "        self.location = Point(location_x, location_y)\n",
    "        self.destination = Point(destination_x, destination_y)\n",
    "\n",
    "    def reflect_on_x_axis(self):\n",
    "        reflected_y = -self.destination.y\n",
    "        reflected_point = Point(self.destination.x, reflected_y)\n",
    "        print(f\"Reflection of destination: ({reflected_point.x}, {reflected_point.y})\")\n",
    "\n",
    "\n",
    "# Example usage\n",
    "location = Location(2, 3, 4, 5)\n",
    "location.reflect_on_x_axis()\n"
   ]
  },
  {
   "cell_type": "markdown",
   "metadata": {
    "id": "OcQhJvXVALgp"
   },
   "source": [
    "### `Problem-4:` Write a program that has an abstract class Polygon. Derive two classes Rectangle and Triamgle from Polygon and write methods to get the details of their dimensions and hence calculate the area."
   ]
  },
  {
   "cell_type": "code",
   "execution_count": 16,
   "metadata": {
    "id": "9IMrtdUH__eA"
   },
   "outputs": [
    {
     "name": "stdout",
     "output_type": "stream",
     "text": [
      "Area of a rectangle: 32.00\n",
      "Area of a triangle: 16.00\n"
     ]
    }
   ],
   "source": [
    "from abc import ABC, abstractmethod\n",
    "\n",
    "class Polygon(ABC):\n",
    "    \n",
    "    @abstractmethod\n",
    "    def calculate_area(self):\n",
    "        pass\n",
    "\n",
    "class Rectangle(Polygon):\n",
    "    \n",
    "    def __init__(self, length, width):\n",
    "        self.length = length\n",
    "        self.width = width\n",
    "    \n",
    "    def calculate_area(self):\n",
    "        print(\"Area of a rectangle: {:.2f}\".format(self.length * self.width))\n",
    "\n",
    "class Triangle(Polygon):\n",
    "    \n",
    "    def __init__(self, base, height):\n",
    "        self.base = base\n",
    "        self.height = height\n",
    "    \n",
    "    def calculate_area(self):\n",
    "        print(\"Area of a triangle: {:.2f}\".format((self.base * self.height)/2))\n",
    "        \n",
    "# obj = Polygon() # Can't create object of abstract class\n",
    "rec = Rectangle(8,4)\n",
    "rec.calculate_area()\n",
    "tr = Triangle(8,4)\n",
    "tr.calculate_area()\n",
    "obj.calculate_area()"
   ]
  },
  {
   "cell_type": "markdown",
   "metadata": {
    "id": "sEsGEqOHCSWG"
   },
   "source": [
    "### `Problem-5:` Write a program with class Bill. The users have the option to pay the bill either by cheque or by cash. Use the inheritance to model this situation."
   ]
  },
  {
   "cell_type": "code",
   "execution_count": 30,
   "metadata": {
    "id": "l0WFyP2PB3nf"
   },
   "outputs": [
    {
     "name": "stdout",
     "output_type": "stream",
     "text": [
      "Cash received, balance amount to pay Rs.2\n"
     ]
    }
   ],
   "source": [
    "class Bill:\n",
    "    \n",
    "    def __init__(self, amount_to_pay, amount_paid):\n",
    "        self.amount_to_pay = amount_to_pay\n",
    "        self.amount_paid = amount_paid\n",
    "        self.amount_to_pay = self.amount_to_pay - self.amount_paid\n",
    "    \n",
    "class Cheque(Bill):\n",
    "    \n",
    "    def payment(self):       \n",
    "        print(\"Cheque received, balance amount to pay Rs.{}\".format(self.amount_to_pay))\n",
    "\n",
    "class Cash(Bill):\n",
    "    \n",
    "    def payment(self):\n",
    "        print(\"Cash received, balance amount to pay Rs.{}\".format(self.amount_to_pay))\n",
    "        \n",
    "# b = Bill(5000,4999)\n",
    "# ch = Cheque(4999,5000)\n",
    "# ch.payment()\n",
    "ca = Cash(5000,4998)\n",
    "ca.payment()"
   ]
  },
  {
   "cell_type": "markdown",
   "metadata": {
    "id": "v1M5Yh9ZZO0z"
   },
   "source": [
    "###`Q-6:` FlexibleDict\n",
    "As of now we are accessing values from dictionary with exact keys. Now we want to amend accessing values functionality. if a dict have key `1` (int) the even if we try to access values by giving `'1'` (1 as str) as key, we should get the same result and vice versa.\n",
    "\n",
    "Write a class `FlexibleDict` upon builtin `dict` class with above required functionality.\n",
    "\n",
    "Hint- `dict[key] => dict.__getitem__(key)`"
   ]
  },
  {
   "cell_type": "markdown",
   "metadata": {
    "id": "uajGeWegbfda"
   },
   "source": [
    "Ex.\n",
    "```\n",
    "fd = FlexibleDict()\n",
    "fd['a'] = 100\n",
    "print(fd['a']) # Like regular dict\n",
    "\n",
    "fd[5] = 500\n",
    "print(fd[5]) # Like regular dict\n",
    "\n",
    "fd[1] = 100\n",
    "print(fd['1']) # actual Key is int but still trying to access through str key.\n",
    "fd['1'] = 100\n",
    "print(fd[1])\n",
    "\n",
    "```\n",
    "`Output:`\n",
    "```\n",
    "100\n",
    "500\n",
    "100\n",
    "100\n",
    "\n",
    "```"
   ]
  },
  {
   "cell_type": "code",
   "execution_count": 3,
   "metadata": {},
   "outputs": [
    {
     "name": "stdout",
     "output_type": "stream",
     "text": [
      "100\n",
      "500\n",
      "100\n",
      "100\n",
      "4\n"
     ]
    },
    {
     "ename": "KeyError",
     "evalue": "5",
     "output_type": "error",
     "traceback": [
      "\u001b[1;31m---------------------------------------------------------------------------\u001b[0m",
      "\u001b[1;31mKeyError\u001b[0m                                  Traceback (most recent call last)",
      "\u001b[1;32m~\\AppData\\Local\\Temp\\ipykernel_3680\\3236959570.py\u001b[0m in \u001b[0;36m<module>\u001b[1;34m\u001b[0m\n\u001b[0;32m     38\u001b[0m \u001b[1;32mdel\u001b[0m\u001b[1;33m(\u001b[0m\u001b[0mfd\u001b[0m\u001b[1;33m[\u001b[0m\u001b[1;36m5\u001b[0m\u001b[1;33m]\u001b[0m\u001b[1;33m)\u001b[0m\u001b[1;33m\u001b[0m\u001b[1;33m\u001b[0m\u001b[0m\n\u001b[0;32m     39\u001b[0m \u001b[1;33m\u001b[0m\u001b[0m\n\u001b[1;32m---> 40\u001b[1;33m \u001b[0mprint\u001b[0m\u001b[1;33m(\u001b[0m\u001b[0mfd\u001b[0m\u001b[1;33m[\u001b[0m\u001b[1;36m5\u001b[0m\u001b[1;33m]\u001b[0m\u001b[1;33m)\u001b[0m\u001b[1;33m\u001b[0m\u001b[1;33m\u001b[0m\u001b[0m\n\u001b[0m",
      "\u001b[1;32m~\\AppData\\Local\\Temp\\ipykernel_3680\\3236959570.py\u001b[0m in \u001b[0;36m__getitem__\u001b[1;34m(self, item)\u001b[0m\n\u001b[0;32m     13\u001b[0m         \u001b[1;32mexcept\u001b[0m \u001b[0mValueError\u001b[0m\u001b[1;33m:\u001b[0m\u001b[1;33m\u001b[0m\u001b[1;33m\u001b[0m\u001b[0m\n\u001b[0;32m     14\u001b[0m             \u001b[1;32mpass\u001b[0m\u001b[1;33m\u001b[0m\u001b[1;33m\u001b[0m\u001b[0m\n\u001b[1;32m---> 15\u001b[1;33m         \u001b[1;32mreturn\u001b[0m \u001b[0mself\u001b[0m\u001b[1;33m.\u001b[0m\u001b[0mflexdict\u001b[0m\u001b[1;33m[\u001b[0m\u001b[0mitem\u001b[0m\u001b[1;33m]\u001b[0m\u001b[1;33m\u001b[0m\u001b[1;33m\u001b[0m\u001b[0m\n\u001b[0m\u001b[0;32m     16\u001b[0m \u001b[1;33m\u001b[0m\u001b[0m\n\u001b[0;32m     17\u001b[0m     \u001b[1;32mdef\u001b[0m \u001b[0m__len__\u001b[0m\u001b[1;33m(\u001b[0m\u001b[0mself\u001b[0m\u001b[1;33m)\u001b[0m\u001b[1;33m:\u001b[0m\u001b[1;33m\u001b[0m\u001b[1;33m\u001b[0m\u001b[0m\n",
      "\u001b[1;31mKeyError\u001b[0m: 5"
     ]
    }
   ],
   "source": [
    "class FlexibleDict:\n",
    "    \n",
    "    def __init__(self):\n",
    "        self.flexdict = {}   \n",
    "    \n",
    "    def __setitem__(self, key, value):\n",
    "        self.flexdict[key] = value\n",
    "        \n",
    "    def __getitem__(self, item):\n",
    "        try:\n",
    "            if not isinstance (item, int):\n",
    "                item = int(item)\n",
    "        except ValueError:\n",
    "            pass\n",
    "        return self.flexdict[item]\n",
    "    \n",
    "    def __len__(self):\n",
    "        return len(self.flexdict)\n",
    "    \n",
    "    def __delitem__(self, key):\n",
    "        del self.flexdict[key]\n",
    "        \n",
    "fd = FlexibleDict()\n",
    "fd['a'] = 100\n",
    "print(fd['a']) # Like regular dict\n",
    "\n",
    "fd[5] = 500\n",
    "print(fd[5]) # Like regular dict\n",
    "\n",
    "fd[1] = 100\n",
    "print(fd['1']) # actual Key is int but still trying to access through str key.\n",
    "\n",
    "fd['1'] = 100\n",
    "print(fd[1])\n",
    "\n",
    "print(len(fd))\n",
    "\n",
    "del(fd[5])\n",
    "\n",
    "print(fd[5])"
   ]
  },
  {
   "cell_type": "code",
   "execution_count": 71,
   "metadata": {
    "id": "OHLbOtCxZ2nw"
   },
   "outputs": [
    {
     "name": "stdout",
     "output_type": "stream",
     "text": [
      "Atif Male Karachi 75230 Sindh\n",
      "Faisal Male Karachi 54879 Punjab\n"
     ]
    }
   ],
   "source": [
    "# Aggregation: Customer has a Address (Has-A-Relationship) - One class owns the other class\n",
    "# At the time of creating main class object send owned class object to other class object as input\n",
    "# We can not use private variable of the class that we own use with getter/setter method.\n",
    "\n",
    "class Customer:\n",
    "    \n",
    "    def __init__(self, name, gender, address):\n",
    "        self.name = name\n",
    "        self.gender = gender\n",
    "        self.address = address\n",
    "        \n",
    "    def print_address(self):\n",
    "        print(self.name, self.gender, self.address.get_city(), self.address.zip_code, self.address.state)\n",
    "        \n",
    "    def edit_profile(self, new_name, new_city, new_zip_code, new_state):\n",
    "        self.name = new_name\n",
    "        self.address.edit_address(new_city, new_zip_code, new_state)        \n",
    "    \n",
    "        \n",
    "class Address:\n",
    "    \n",
    "    def __init__(self, city, zip_code, state):\n",
    "        self.__city = city\n",
    "        self.zip_code = zip_code\n",
    "        self.state = state\n",
    "    \n",
    "    def edit_address(self, new_city, new_zip_code, new_state):\n",
    "        self.city = new_city\n",
    "        self.zip_code = new_zip_code\n",
    "        self.state = new_state\n",
    "    \n",
    "    def get_city(self):\n",
    "        return self.__city\n",
    "        \n",
    "\n",
    "add1 = Address(\"Karachi\", 75230, \"Sindh\")\n",
    "cust = Customer(\"Atif\", \"Male\", add1)\n",
    "cust.print_address()\n",
    "\n",
    "cust.edit_profile(\"Faisal\",\"Lahore\", 54879, \"Punjab\")\n",
    "cust.print_address()\n"
   ]
  },
  {
   "cell_type": "code",
   "execution_count": 73,
   "metadata": {
    "id": "7NM8r__dmeMf"
   },
   "outputs": [
    {
     "name": "stdout",
     "output_type": "stream",
     "text": [
      " Atif\n",
      "Login\n",
      "Enrolled into the course\n"
     ]
    }
   ],
   "source": [
    "# Inheritance: Biggest benift of inheritance is code reusability \n",
    "# Parent class can't access child class\n",
    "# What get inherited?\n",
    "# 1.) Constructor\n",
    "# 2.) Non- Private Attributes\n",
    "# 3. Non-Private Methods\n",
    "\n",
    "\n",
    "class User:\n",
    "    \n",
    "    def __init__(self):\n",
    "        self.name = \" Atif\"\n",
    "        \n",
    "    def login(self):\n",
    "        print(\"Login\")\n",
    "        \n",
    "class Student(User):\n",
    "    \n",
    "    def enroll(self):\n",
    "        print(\"Enrolled into the course\")\n",
    "\n",
    "u = User()\n",
    "s = Student()\n",
    "print(s.name)\n",
    "s.login()\n",
    "s.enroll()\n"
   ]
  },
  {
   "cell_type": "code",
   "execution_count": null,
   "metadata": {
    "id": "waHSud8Ymkz-"
   },
   "outputs": [],
   "source": [
    "# Concept No. 1 - When child class doesn't have constructor then parent class's constructor will be executed\n",
    "class Phone:\n",
    "    \n",
    "    def __init__(self,price, brand, camera):\n",
    "        print(\"Inside Phone Constructor\")\n",
    "        self.price = price\n",
    "        self.brand = brand\n",
    "        self.camera = camera\n",
    "        \n",
    "    def buy(self):\n",
    "        print(\"Buying a Phone\")\n",
    "        \n",
    "class SmartPhone(Phone):\n",
    "    pass\n",
    "\n",
    "sp = SmartPhone(25000,\"Samsung\", 13)\n",
    "sp.buy()"
   ]
  },
  {
   "cell_type": "code",
   "execution_count": null,
   "metadata": {},
   "outputs": [],
   "source": [
    "# Concept No. 2 - When child class have it's own constructor then parent class's constructor will not be executed\n",
    "class Phone:\n",
    "    \n",
    "    def __init__(self, price, brand, camera):\n",
    "        print(\"Inside phone constructor\")\n",
    "        self.price = price\n",
    "        self. brand = brand\n",
    "        self.camera = camera\n",
    "        \n",
    "    def buy(self):\n",
    "        print(\"Buying a phone\")\n",
    "        \n",
    "class SmartPhone(Phone):\n",
    "    \n",
    "    def __init__(self, os, ram):\n",
    "        self.os = os\n",
    "        self.ram = ram\n",
    "        print(\"Inside smartphone constructor\")\n",
    "    \n",
    "    def buy(self):\n",
    "        prinT(\"Buying a smartphone\")\n",
    "        \n",
    "s = SmartPhone(\"Android\", 32)     "
   ]
  },
  {
   "cell_type": "code",
   "execution_count": null,
   "metadata": {},
   "outputs": [],
   "source": [
    "# Concept No. 3 - Child class object access all members of parent class but can't access private attributed and methods\n",
    "# of the parent class\n",
    "\n",
    "class Phone:\n",
    "    \n",
    "    def __init__(self, price, brand, camera):\n",
    "        self.__price = price\n",
    "        self.brand = brand\n",
    "        self.camera = camera\n",
    "        \n",
    "    def __show_price(self):\n",
    "        return self.__price\n",
    "    \n",
    "class SmartPhone(Phone):\n",
    "    \n",
    "    def check(self):\n",
    "        print(self.__price)\n",
    "        \n",
    "s = SmartPhone(27000, \"Realme\", 13)\n",
    "s.check()"
   ]
  },
  {
   "cell_type": "code",
   "execution_count": null,
   "metadata": {},
   "outputs": [],
   "source": [
    "class Parent:\n",
    "    \n",
    "    def __init__(self, num):\n",
    "        self.__num = num\n",
    "        \n",
    "    def get_num(self):\n",
    "        return self.__num\n",
    "    \n",
    "class Child(Parent):\n",
    "    \n",
    "    def show(self):\n",
    "        print(\"This is the child class\")\n",
    "        \n",
    "son = Child(100)\n",
    "print(son.get_num())\n",
    "son.show()"
   ]
  },
  {
   "cell_type": "code",
   "execution_count": null,
   "metadata": {},
   "outputs": [],
   "source": [
    "class Parent:\n",
    "    \n",
    "    def __init__(self, num):\n",
    "        self.__num = num\n",
    "        \n",
    "    def get_num(self):\n",
    "        return self.__num\n",
    "    \n",
    "class Child(Parent):\n",
    "    \n",
    "    def __init__(self, val, num):\n",
    "        self.__val = val\n",
    "        \n",
    "    def get_val(self):\n",
    "        return self.__val\n",
    "    \n",
    "son = Child(100, 10)\n",
    "print(\"Parent Num: {}\".format(son.get_num()))\n",
    "print(\"Child Val: {}\".format(son.get_val()))    "
   ]
  },
  {
   "cell_type": "code",
   "execution_count": null,
   "metadata": {},
   "outputs": [],
   "source": [
    "class A:\n",
    "    \n",
    "    def __init__(self):\n",
    "        self.var1 = 100\n",
    "        \n",
    "    def display1(self, var1):\n",
    "        print(\"Class A : {}\".format(self.var1))\n",
    "        \n",
    "class B(A):\n",
    "    \n",
    "    def display2(self, var1):\n",
    "        print(\"Class B : {}\".format(self.var1))\n",
    "        \n",
    "obj = B()\n",
    "obj.display1(200)"
   ]
  },
  {
   "cell_type": "code",
   "execution_count": null,
   "metadata": {},
   "outputs": [],
   "source": [
    "# Concept No. 4- Method Overriding - When child class and parent class have same methods then child class's method will be executed.\n",
    "\n",
    "class Phone:\n",
    "    \n",
    "    def __init__(self, price, brand, camera):\n",
    "        print(\"Inside the phone constructor\")\n",
    "        self.price = price\n",
    "        self.brand = brand\n",
    "        self.camera = camera\n",
    "        \n",
    "    def buy(self):\n",
    "        print(\"Buying a phone\")\n",
    "        \n",
    "class SmartPhone(Phone):\n",
    "    \n",
    "    def buy(self):\n",
    "        print(\"Buying a smartphone\")\n",
    "        \n",
    "s = SmartPhone(27000,\"Nokia\", 13)\n",
    "s.buy()"
   ]
  },
  {
   "cell_type": "code",
   "execution_count": null,
   "metadata": {},
   "outputs": [],
   "source": [
    "# Super() is a keyword use to invoke parent's mathods and always written inside the child class, and no need of self.\n",
    "# Super() can not use outside the class\n",
    "# Super() can't access variables\n",
    "\n",
    "class Phone:\n",
    "    \n",
    "    def __init__(self, price, brand, camera):\n",
    "        print(\"Inside the phone constructor\")\n",
    "        self.price = price\n",
    "        self.brand = brand\n",
    "        self.camera = camera\n",
    "        \n",
    "    def buy(self):\n",
    "        print(\"Buying a phone\")\n",
    "        \n",
    "class SmartPhone(Phone):\n",
    "    \n",
    "    def buy(self):\n",
    "        print(\"Buying and smartphone\")\n",
    "        super().buy()\n",
    "        \n",
    "s = SmartPhone(27000, \"Apple\", 13)\n",
    "s.buy()"
   ]
  },
  {
   "cell_type": "code",
   "execution_count": null,
   "metadata": {},
   "outputs": [],
   "source": [
    "class Phone:\n",
    "    \n",
    "    def __init__(self, price, brand, camera):\n",
    "        print(\"Inside phone constructor\")\n",
    "        self.__price = price\n",
    "        self.brand = brand\n",
    "        self.camera = camera\n",
    "    \n",
    "    def show_price(self):\n",
    "        return self.__price\n",
    "        \n",
    "    def buy(self):\n",
    "        print(\"Buying an phone\")\n",
    "        \n",
    "class SmartPhone(Phone):\n",
    "    \n",
    "    def __init__(self, price, brand, camera, os, ram):\n",
    "        print(\"Inside smartphone constructor\")\n",
    "        super().__init__(price, brand, camera)\n",
    "        self.os = os\n",
    "        self.ram = ram\n",
    "        print(\"Inside smartphone constructor\")\n",
    "    \n",
    "s = SmartPhone(27000,\"Samsung\",13,\"Android\",2)\n",
    "print(s.os)\n",
    "print(s.brand)"
   ]
  },
  {
   "cell_type": "code",
   "execution_count": null,
   "metadata": {},
   "outputs": [],
   "source": [
    "class Phone:\n",
    "    \n",
    "    def __init__(self, price, brand, camera):\n",
    "        print(\"Inside the phone constructor\")\n",
    "        self.__price = price\n",
    "        self.brand = brand\n",
    "        self.camera = camera\n",
    "       \n",
    "    def buy(self):\n",
    "        print(\"Buying phone\")\n",
    "        \n",
    "class SmartPhone(Phone):\n",
    "    \n",
    "    def buy(self):\n",
    "        print(\"Buying a smartphone\")\n",
    "        print(super().brand)\n",
    "        \n",
    "s = SmartPhone(27000, 'Infinix', 13)\n",
    "s.buy()"
   ]
  },
  {
   "cell_type": "code",
   "execution_count": null,
   "metadata": {},
   "outputs": [],
   "source": [
    "class Parent:\n",
    "    \n",
    "    def __init__(self, num):\n",
    "        self.__num = num\n",
    "    \n",
    "    def get_num(self):\n",
    "        return self.__num\n",
    "    \n",
    "class Child(Parent):\n",
    "    \n",
    "    def __init__(self, num, val):\n",
    "        super().__init__(num)\n",
    "        self.__val = val\n",
    "    \n",
    "    def get_val(self):\n",
    "        return self.__val\n",
    "    \n",
    "son = Child(100,200)\n",
    "print(son.get_num())\n",
    "print(son.get_val())"
   ]
  },
  {
   "cell_type": "code",
   "execution_count": null,
   "metadata": {},
   "outputs": [],
   "source": [
    "class Parent:\n",
    "    \n",
    "    def __init__(self):\n",
    "        self.num = 100\n",
    "    \n",
    "class Child(Parent):\n",
    "    \n",
    "    def __init__(self):\n",
    "        super().__init__()\n",
    "        self.var = 200\n",
    "    \n",
    "    def show(self):\n",
    "        print(self.num)\n",
    "        print(self.var)\n",
    "\n",
    "son = Child()\n",
    "son.show()\n",
    "        "
   ]
  },
  {
   "cell_type": "code",
   "execution_count": null,
   "metadata": {},
   "outputs": [],
   "source": [
    "class Parent:\n",
    "    \n",
    "    def __init__(self):\n",
    "        self.__num = 100\n",
    "        \n",
    "    def show(self):\n",
    "        print(\"Parent: \",self.__num)\n",
    "        \n",
    "class Child(Parent):\n",
    "    \n",
    "    def __init__(self):\n",
    "        super().__init__()\n",
    "        self.__var = 10\n",
    "    \n",
    "    def show(self):\n",
    "        print(\"Child: \",self.__var)\n",
    "        \n",
    "son = Child()\n",
    "son.show()\n",
    "        \n",
    "    "
   ]
  },
  {
   "cell_type": "code",
   "execution_count": null,
   "metadata": {},
   "outputs": [],
   "source": [
    "# Single Inheritance\n",
    "\n",
    "class Parent:\n",
    "    \n",
    "    def __init__(self, price, brand, camera):\n",
    "        print(\"Inside phone constructor\")\n",
    "        self.price = price\n",
    "        self.brand = brand\n",
    "        self.camera = camera\n",
    "    \n",
    "    def buy(self):\n",
    "        print(\"Buying a phone\")\n",
    "        \n",
    "class SmartPhone(Parent):\n",
    "    pass\n",
    "\n",
    "s = SmartPhone(2000, \"Apple\", 13).buy()   "
   ]
  },
  {
   "cell_type": "code",
   "execution_count": null,
   "metadata": {},
   "outputs": [],
   "source": [
    "# Multilevel Inheritance\n",
    "\n",
    "class Product:\n",
    "    \n",
    "    def review(self):\n",
    "        print(\"Product customer review\")\n",
    "        \n",
    "class Phone(Product):\n",
    "    def __init__(self, price, brand, camera):\n",
    "        print(\"Inside phone constructor\")\n",
    "        self.price = price\n",
    "        self.brand = brand\n",
    "        self.camera = camera\n",
    "        \n",
    "    def buy(self):\n",
    "        print(\"Buying a phone\")\n",
    "        \n",
    "class SmartPhone(Phone):\n",
    "    pass\n",
    "\n",
    "s = SmartPhone(2000,\"Samsung\", 1)\n",
    "s.buy()\n",
    "s.review()"
   ]
  },
  {
   "cell_type": "code",
   "execution_count": 17,
   "metadata": {},
   "outputs": [
    {
     "name": "stdout",
     "output_type": "stream",
     "text": [
      "Inside the phone constructor\n",
      "Buying a phone\n",
      "Inside the phone constructor\n",
      "Buying a phone\n"
     ]
    }
   ],
   "source": [
    "# Hierarchical Inheritance\n",
    "\n",
    "class Phone:\n",
    "    def __init__(self, price, brand , camera):\n",
    "        print(\"Inside the phone constructor\")\n",
    "        self.price = price\n",
    "        self.brand = brand\n",
    "        self.camera = camera\n",
    "        \n",
    "    def buy(self):\n",
    "        print(\"Buying a phone\")\n",
    "        \n",
    "class SmartPhone(Phone):\n",
    "    pass\n",
    "\n",
    "class FeaturePhone(Phone):\n",
    "    pass\n",
    "\n",
    "s = SmartPhone(200,\"Nokia\",5).buy()\n",
    "f = FeaturePhone(1000,\"Samsung\", 13).buy()"
   ]
  },
  {
   "cell_type": "code",
   "execution_count": 10,
   "metadata": {},
   "outputs": [
    {
     "name": "stdout",
     "output_type": "stream",
     "text": [
      "Inside the phone constructor\n",
      "Customer review inside phone\n",
      "Buying a phone\n"
     ]
    }
   ],
   "source": [
    "# Multiple Inheritance\n",
    "\n",
    "class Phone:\n",
    "    def __init__(self, price, brand, camera):\n",
    "        print(\"Inside the phone constructor\")\n",
    "        self.price = price\n",
    "        self.brand = brand\n",
    "        self.camera = camera\n",
    "        \n",
    "    def buy(self):\n",
    "        print(\"Buying a phone\")\n",
    "        \n",
    "    \n",
    "class Product:    \n",
    "    \n",
    "    def review(self):\n",
    "        print(\"Customer review\")\n",
    "        \n",
    "class SmartPhone(Phone, Product):\n",
    "    pass\n",
    "\n",
    "s = SmartPhone(2000,\"Apple\",13)\n",
    "s.review()\n",
    "s.buy()\n"
   ]
  },
  {
   "cell_type": "code",
   "execution_count": null,
   "metadata": {},
   "outputs": [],
   "source": [
    "# The Diamond Problem\n",
    "\n",
    "class Phone:\n",
    "    \n",
    "    def __init__(self, price, brand, camera):\n",
    "        print(\"Inside the phone constructor\")\n",
    "        self.price = price\n",
    "        self.brand = brand\n",
    "        self.camera = camera\n",
    "        \n",
    "    def buy(self):\n",
    "        print(\"Buying a phone\")\n",
    "        \n",
    "class Product:\n",
    "    \n",
    "    def buy(self):\n",
    "        print(\"Product buy method\")\n",
    "\n",
    "# MRO - Method Resolution Order\n",
    "class SmartPhone(Product, Phone):\n",
    "    pass\n",
    "\n",
    "s = SmartPhone(2000,\"Realme\", 8)\n",
    "s.buy()\n",
    "    "
   ]
  },
  {
   "cell_type": "code",
   "execution_count": null,
   "metadata": {},
   "outputs": [],
   "source": [
    "class A:\n",
    "    \n",
    "    def m1(self):\n",
    "        return 20\n",
    "\n",
    "class B(A):\n",
    "    \n",
    "    def m1(self):\n",
    "        return 30\n",
    "    def m2(self):\n",
    "        return 40\n",
    "\n",
    "class C(B):\n",
    "    \n",
    "    def m2(self):\n",
    "        return 20\n",
    "    \n",
    "obj1 = A()\n",
    "obj2 = B()\n",
    "obj3 = C()\n",
    "\n",
    "print(obj1.m1() + obj3.m1() + obj3.m2())"
   ]
  },
  {
   "cell_type": "code",
   "execution_count": null,
   "metadata": {},
   "outputs": [],
   "source": [
    "class A:\n",
    "    \n",
    "    def m1(self):\n",
    "        return 20\n",
    "    \n",
    "class B(A):\n",
    "    \n",
    "    def m1(self):\n",
    "        val = super().m1() + 30\n",
    "        return val\n",
    "class C(B):\n",
    "    \n",
    "    def m1(self):\n",
    "        val = self.m1() + 20\n",
    "        return val\n",
    "    \n",
    "obj = C()\n",
    "print(obj.m1()) # Error - Maximum recursion depth exceeded"
   ]
  },
  {
   "cell_type": "code",
   "execution_count": 5,
   "metadata": {},
   "outputs": [],
   "source": [
    "# Abstraction\n",
    "\n",
    "from abc import ABC, abstractmethod\n",
    "class BankingApp(ABC):\n",
    "    \n",
    "    def database(self):\n",
    "        print(\"Connected to the database\")\n",
    "        \n",
    "    @abstractmethod\n",
    "    def security(self):\n",
    "        pass\n",
    "\n",
    "class MobileApp(BankingApp):\n",
    "    \n",
    "    def mobile_login(self):\n",
    "        print(\"Login to mobile app\")\n",
    "    \n",
    "    def security(self):\n",
    "        print(\"Mobile app secured\")"
   ]
  },
  {
   "cell_type": "code",
   "execution_count": 9,
   "metadata": {},
   "outputs": [
    {
     "name": "stdout",
     "output_type": "stream",
     "text": [
      "Connected to the database\n",
      "Login to mobile app\n",
      "Mobile app secured\n"
     ]
    }
   ],
   "source": [
    "m = MobileApp()\n",
    "m.database()\n",
    "m.mobile_login()\n",
    "m.security()"
   ]
  },
  {
   "cell_type": "code",
   "execution_count": null,
   "metadata": {},
   "outputs": [],
   "source": []
  }
 ],
 "metadata": {
  "colab": {
   "collapsed_sections": [
    "BCleRtX43caS",
    "KBbGNTtQ47mJ",
    "ExIxsv4y-oEd",
    "OcQhJvXVALgp",
    "sEsGEqOHCSWG",
    "v1M5Yh9ZZO0z"
   ],
   "provenance": []
  },
  "kernelspec": {
   "display_name": "Python 3 (ipykernel)",
   "language": "python",
   "name": "python3"
  },
  "language_info": {
   "codemirror_mode": {
    "name": "ipython",
    "version": 3
   },
   "file_extension": ".py",
   "mimetype": "text/x-python",
   "name": "python",
   "nbconvert_exporter": "python",
   "pygments_lexer": "ipython3",
   "version": "3.9.13"
  }
 },
 "nbformat": 4,
 "nbformat_minor": 1
}
