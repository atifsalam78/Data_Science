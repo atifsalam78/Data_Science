{
 "cells": [
  {
   "cell_type": "markdown",
   "metadata": {
    "id": "w6RlOAXV2PWh"
   },
   "source": [
    "### `Problem 1`: Write a program that will give you in hand monthly salary after deduction on CTC - HRA(10%), DA(5%), PF(3%) and taxes deduction as below:\n",
    "\n",
    "> Salary(Lakhs) : Tax(%)\n",
    "\n",
    "*   Below 5 : 0%\n",
    "*   5-10 : 10%\n",
    "*   10-20 : 20%\n",
    "*   aboove 20 : 30%"
   ]
  },
  {
   "cell_type": "code",
   "execution_count": 2,
   "metadata": {
    "id": "7tMHvKYO2etI"
   },
   "outputs": [
    {
     "name": "stdout",
     "output_type": "stream",
     "text": [
      "Enter your per month salary: 150_000\n",
      "Your in hand monthly salry is 123000.0\n"
     ]
    }
   ],
   "source": [
    "# Write code here\n",
    "gross_salary = int(input(\"Enter your per month salary: \"))\n",
    "ctc = 5000\n",
    "hra = (gross_salary * 0.1)\n",
    "da = (gross_salary * 0.05)\n",
    "pf = (gross_salary * 0.03)\n",
    "\n",
    "if gross_salary <= 500000:\n",
    "  net_salary = gross_salary - (hra+da+pf)\n",
    "\n",
    "elif gross_salary > 5000000 or gross_salary <= 1000000:\n",
    "  net_salary = (gross_salary - (hra+da+pf)*0.1)\n",
    "\n",
    "elif gross_salary > 10000000 or gross_salary <= 2000000:\n",
    "  net_salary = (gross_salary - (hra+da+pf)*0.2)\n",
    "\n",
    "elif gross_salary > 20000000:\n",
    "  net_salary = (gross_salary - (hra+da+pf)*0.3)\n",
    "\n",
    "\n",
    "print(\"Your in hand monthly salry is {}\".format(net_salary))"
   ]
  },
  {
   "cell_type": "markdown",
   "metadata": {
    "id": "tYzCGqwl2hfN"
   },
   "source": [
    "### `Problem 2`: Write a program that take a user input of three angles and will find out whether it can form a triangle or not."
   ]
  },
  {
   "cell_type": "code",
   "execution_count": 4,
   "metadata": {
    "id": "FYEqln-I2kxV"
   },
   "outputs": [
    {
     "name": "stdout",
     "output_type": "stream",
     "text": [
      "Enter first angle: 12\n",
      "Enter second angle: 58\n",
      "Enter third angle: 78\n",
      "No these angles will not form a triangle\n"
     ]
    }
   ],
   "source": [
    "# Write code here\n",
    "angle1 = float(input(\"Enter first angle: \"))\n",
    "angle2 = float(input(\"Enter second angle: \"))\n",
    "angle3 = float(input(\"Enter third angle: \"))\n",
    "\n",
    "triangle = angle1 + angle2 + angle3\n",
    "if triangle == 180:\n",
    "  print(\"Yes these angles form a triangle\")\n",
    "else:\n",
    "  print(\"No these angles will not form a triangle\")"
   ]
  },
  {
   "cell_type": "markdown",
   "metadata": {
    "id": "5vEpPh8C2pE4"
   },
   "source": [
    "### `Problem 3`: Write a program that will take user input of cost price and selling price and determines whether its a loss or a profit."
   ]
  },
  {
   "cell_type": "code",
   "execution_count": 9,
   "metadata": {
    "id": "jDwBXlkO2sfl"
   },
   "outputs": [
    {
     "name": "stdout",
     "output_type": "stream",
     "text": [
      "Enter cost price: 50\n",
      "Enter selling price: 45\n",
      "You got -5.0 loss\n"
     ]
    }
   ],
   "source": [
    "# Write code here\n",
    "cost_price = float(input(\"Enter cost price: \"))\n",
    "selling_price = float(input(\"Enter selling price: \"))\n",
    "\n",
    "profit_loss = selling_price - cost_price\n",
    "\n",
    "if profit_loss >= cost_price:\n",
    "  print(\"You made {} profit\".format(profit_loss))\n",
    "elif profit_loss < cost_price:\n",
    "  print(\"You got {} loss\".format(profit_loss))"
   ]
  },
  {
   "cell_type": "markdown",
   "metadata": {
    "id": "J_FG_cJW2ugT"
   },
   "source": [
    "### `Problem 4`: Write a menu-driven program - \n",
    "1. cm to ft \n",
    "2. km to miles \n",
    "3. USD to PKR\n",
    "4. exit"
   ]
  },
  {
   "cell_type": "code",
   "execution_count": 12,
   "metadata": {
    "id": "yBHhaCGQ2zpD"
   },
   "outputs": [
    {
     "name": "stdout",
     "output_type": "stream",
     "text": [
      "Enter the value to be convert: 200\n",
      "\n",
      "press 1 for cm to ft\n",
      "press 2 for km to miles\n",
      "press 3 for USD to PKR\n",
      "press 4 for exit\n",
      "1\n",
      "200 cm is equal to 6.561679790026247ft\n"
     ]
    }
   ],
   "source": [
    "# Write code here\n",
    "value = int(input(\"Enter the value to be convert: \"))\n",
    "conversion = input(\"\"\"\n",
    "press 1 for cm to ft\n",
    "press 2 for km to miles\n",
    "press 3 for USD to PKR\n",
    "press 4 for exit\n",
    "\"\"\")\n",
    "\n",
    "if conversion == \"1\":\n",
    "  value_ft = value / 30.48\n",
    "  print(\"{} cm is equal to {}ft\".format(value, value_ft))\n",
    "\n",
    "elif conversion == \"2\":\n",
    "  value_miles = value / 1.609\n",
    "  print(value_miles)\n",
    "\n",
    "elif conversion == \"3\":\n",
    "  value_pkr = value * 285\n",
    "  print(value_pkr)\n",
    "elif conversion == \"4\":\n",
    "  print(\"Exit\")\n",
    "  exit()"
   ]
  },
  {
   "cell_type": "markdown",
   "metadata": {
    "id": "LJJ30_Yw27ZU"
   },
   "source": [
    "### `Problem 5` - Exercise 12: Display Fibonacci series up to 10 terms.\n",
    "\n",
    "*Note: The Fibonacci Sequence is a series of numbers. The next number is found by adding up the two numbers before it. The first two numbers are 0 and 1. For example, 0, 1, 1, 2, 3, 5, 8, 13, 21. The next number in this series above is 13+21 = 34*"
   ]
  },
  {
   "cell_type": "code",
   "execution_count": 30,
   "metadata": {
    "id": "ae_1rpe52-5R"
   },
   "outputs": [
    {
     "name": "stdout",
     "output_type": "stream",
     "text": [
      "Enter the range: 10\n",
      "[0, 1, 1, 2, 3, 5, 8, 13, 21, 34]\n"
     ]
    }
   ],
   "source": [
    "# Write code here\n",
    "list1 = [0,1]\n",
    "upto = int(input(\"Enter the range: \"))\n",
    "for i in range(upto-len(list1)):\n",
    "    a = list1[-1] + list1[-2]\n",
    "    list1.append(a)\n",
    "print(list1)"
   ]
  },
  {
   "cell_type": "markdown",
   "metadata": {
    "id": "pk_I_S4m3PT5"
   },
   "source": [
    "### `Problem 6` - Find the factorial of a given number.\n",
    "\n",
    "Write a program to use the loop to find the factorial of a given number.\n",
    "\n",
    "The factorial (symbol: `!`) means to multiply all whole numbers from the chosen number down to 1.\n",
    "\n",
    "For example: calculate the factorial of 5\n",
    "\n",
    "```bash\n",
    "5! = 5 × 4 × 3 × 2 × 1 = 120\n",
    "```\n",
    "\n",
    "Output: \n",
    "\n",
    "```bash\n",
    "120\n",
    "```"
   ]
  },
  {
   "cell_type": "code",
   "execution_count": 89,
   "metadata": {
    "id": "lzXxHegx3Rkc"
   },
   "outputs": [
    {
     "name": "stdout",
     "output_type": "stream",
     "text": [
      "Enter the number: 6\n",
      "Factorial of 6 is 720\n"
     ]
    }
   ],
   "source": [
    "# Write code here\n",
    "num =  int(input(\"Enter the number: \"))\n",
    "fact = 1\n",
    "for i in range(1,num+1):\n",
    "    fact = fact * i\n",
    "    \n",
    "print(\"Factorial of {} is {}\".format(num, fact))    "
   ]
  },
  {
   "cell_type": "markdown",
   "metadata": {
    "id": "-17IOi-g3UpU"
   },
   "source": [
    "### `Problem 7` - Reverse a given integer number.\n",
    "\n",
    "Example:\n",
    "\n",
    "`Input:`\n",
    "\n",
    "```bash\n",
    "76542\n",
    "```\n",
    "\n",
    "`Output:`\n",
    "\n",
    "```bash\n",
    "24567\n",
    "```"
   ]
  },
  {
   "cell_type": "code",
   "execution_count": 80,
   "metadata": {
    "id": "wJwLpKCr3aVA"
   },
   "outputs": [
    {
     "name": "stdout",
     "output_type": "stream",
     "text": [
      "Enter the number: 76542\n",
      "24567\n"
     ]
    }
   ],
   "source": [
    "# Write code here\n",
    "num = int(input(\"Enter the number: \"))\n",
    "num = str(num)\n",
    "num = int(num[::-1])\n",
    "print(num)"
   ]
  },
  {
   "cell_type": "markdown",
   "metadata": {
    "id": "-t8PJQaY3sHf"
   },
   "source": [
    "### `Problem 8`: Take a user input as integer N. Find out the sum from 1 to N. If any number is divisible by 5, then skip that number. And if the sum is greater than 300, don't need to calculate the sum further more. Print the final result. And don't use for loop to solve this problem.\n",
    "\n",
    "**Example 1:**\n",
    "\n",
    "`Input:`\n",
    "\n",
    "```bash\n",
    "30\n",
    "```\n",
    "\n",
    "`Output:`\n",
    "\n",
    "```bash\n",
    "276\n",
    "```"
   ]
  },
  {
   "cell_type": "code",
   "execution_count": 198,
   "metadata": {
    "id": "GZB6mGMP3ujT"
   },
   "outputs": [
    {
     "name": "stdout",
     "output_type": "stream",
     "text": [
      "Enter the number: 5\n",
      "6\n",
      "7\n",
      "8\n",
      "9\n"
     ]
    }
   ],
   "source": [
    "# Write code here\n",
    "i = int(input(\"Enter the number: \"))\n",
    "while i < 300:    \n",
    "        i += 1        \n",
    "        if i % 5 == 0:\n",
    "            break\n",
    "        print(i)\n",
    "    \n",
    "    "
   ]
  },
  {
   "cell_type": "markdown",
   "metadata": {
    "id": "Q7ggImeA3xm4"
   },
   "source": [
    "### `Problem 9`: Write a program that keeps on accepting a number from the user until the user enters Zero. Display the sum and average of all the numbers."
   ]
  },
  {
   "cell_type": "code",
   "execution_count": 180,
   "metadata": {
    "id": "t_YDSZDe4Kdo"
   },
   "outputs": [
    {
     "name": "stdout",
     "output_type": "stream",
     "text": [
      "Enter the number: 1\n",
      "Enter the number: 2\n",
      "Enter the number: 0\n",
      "3\n"
     ]
    }
   ],
   "source": [
    "# Write code here\n",
    "count = 0\n",
    "while True:    \n",
    "    num = int(input(\"Enter the number: \"))    \n",
    "    count = count + num\n",
    "    if num == 0:\n",
    "        break        \n",
    "print(count)    "
   ]
  },
  {
   "cell_type": "markdown",
   "metadata": {
    "id": "6EhvEMvm4R7s"
   },
   "source": [
    "###`Problem 9`: Write a program which will find all such numbers which are divisible by 7 but are not a multiple of 5, between 2000 and 3200 (both included). The numbers obtained should be printed in a comma-separated sequence on a single line."
   ]
  },
  {
   "cell_type": "code",
   "execution_count": null,
   "metadata": {
    "id": "d6RgP1B34T6c"
   },
   "outputs": [],
   "source": [
    "# Write code here"
   ]
  },
  {
   "cell_type": "markdown",
   "metadata": {
    "id": "tYvmRR-G4Vp4"
   },
   "source": [
    "###`Problem 10`: Write a program, which will find all such numbers between 1000 and 3000 (both included) such that each digit of the number is an even number. The numbers obtained should be printed in a space-separated sequence on a single line.\n",
    "\n"
   ]
  },
  {
   "cell_type": "code",
   "execution_count": null,
   "metadata": {
    "id": "k6Gs1kIf4k19"
   },
   "outputs": [],
   "source": [
    "# Write code here"
   ]
  },
  {
   "cell_type": "markdown",
   "metadata": {
    "id": "GV18IINT4mf5"
   },
   "source": [
    "###`Problem 11`: A robot moves in a plane starting from the original point (0,0). The robot can move toward UP, DOWN, LEFT and RIGHT with a given steps. \n",
    "The trace of robot movement is shown as the following:\n",
    "```\n",
    "UP 5\n",
    "DOWN 3\n",
    "LEFT 3\n",
    "RIGHT 2\n",
    "!\n",
    "```\n",
    "> The numbers after the direction are steps. \n",
    "\n",
    "> `!` means robot stop there.\n",
    "\n",
    "**Please write a program to compute the distance from current position after a sequence of movement and original point.** \n",
    "\n",
    "*If the distance is a float, then just print the nearest integer.*\n",
    "\n",
    "Example:\n",
    "\n",
    "`Input`:\n",
    "```\n",
    "UP 5\n",
    "DOWN 3\n",
    "LEFT 3\n",
    "RIGHT 2\n",
    "!\n",
    "```\n",
    "`Output`:\n",
    "```\n",
    "2\n",
    "```"
   ]
  },
  {
   "cell_type": "code",
   "execution_count": null,
   "metadata": {
    "id": "6UNMC2aR4w5x"
   },
   "outputs": [],
   "source": [
    "# Write code here"
   ]
  },
  {
   "cell_type": "markdown",
   "metadata": {
    "id": "3fsAIAhK5GYY"
   },
   "source": [
    "###`Problem 12`:Write a program to print whether a given number is a prime number or not"
   ]
  },
  {
   "cell_type": "code",
   "execution_count": null,
   "metadata": {
    "id": "j6y91lxy5LZs"
   },
   "outputs": [],
   "source": [
    "# Write code here"
   ]
  },
  {
   "cell_type": "markdown",
   "metadata": {
    "id": "asAbmbK-5NHv"
   },
   "source": [
    "###`Problem 13`:Print all the Armstrong numbers in a given range.\n",
    "Range will be provided by the user<br>\n",
    "Armstrong number is a number that is equal to the sum of cubes of its digits. For example 0, 1, 153, 370, 371 and 407 are the Armstrong numbers."
   ]
  },
  {
   "cell_type": "code",
   "execution_count": null,
   "metadata": {
    "id": "PZuI67pm5jCT"
   },
   "outputs": [],
   "source": [
    "# Write code here"
   ]
  },
  {
   "cell_type": "markdown",
   "metadata": {
    "id": "ClCQZMqT7gK0"
   },
   "source": [
    "###`Problem 14`:Calculate the angle between the hour hand and minute hand.\n",
    "\n",
    "Note: There can be two angles between hands; we need to print a minimum of two. Also, we need to print the floor of the final result angle. For example, if the final angle is 10.61, we need to print 10.\n",
    "\n",
    "Input:<br>\n",
    "H = 9 , M = 0<br>\n",
    "Output:<br>\n",
    "90<br>\n",
    "Explanation:<br>\n",
    "The minimum angle between hour and minute\n",
    "hand when the time is 9 is 90 degress."
   ]
  },
  {
   "cell_type": "code",
   "execution_count": null,
   "metadata": {
    "id": "tNBTCZML7jy_"
   },
   "outputs": [],
   "source": [
    "# Write code here"
   ]
  },
  {
   "cell_type": "markdown",
   "metadata": {
    "id": "GwacF9Co72Qc"
   },
   "source": [
    "###`Problem 15`:Given two rectangles, find if the given two rectangles overlap or not. A rectangle is denoted by providing the x and y coordinates of two points: the left top corner and the right bottom corner of the rectangle. Two rectangles sharing a side are considered overlapping. (L1 and R1 are the extreme points of the first rectangle and L2 and R2 are the extreme points of the second rectangle).\n",
    "\n",
    "Note: It may be assumed that the rectangles are parallel to the coordinate axis.\n",
    "\n",
    "<img src='https://www.geeksforgeeks.org/wp-content/uploads/rectanglesOverlap.png' width='300' height='200'>"
   ]
  },
  {
   "cell_type": "code",
   "execution_count": null,
   "metadata": {
    "id": "6rrw_lpH78Rs"
   },
   "outputs": [],
   "source": [
    "# Write code here"
   ]
  }
 ],
 "metadata": {
  "colab": {
   "provenance": []
  },
  "kernelspec": {
   "display_name": "Python 3 (ipykernel)",
   "language": "python",
   "name": "python3"
  },
  "language_info": {
   "codemirror_mode": {
    "name": "ipython",
    "version": 3
   },
   "file_extension": ".py",
   "mimetype": "text/x-python",
   "name": "python",
   "nbconvert_exporter": "python",
   "pygments_lexer": "ipython3",
   "version": "3.9.13"
  }
 },
 "nbformat": 4,
 "nbformat_minor": 1
}
