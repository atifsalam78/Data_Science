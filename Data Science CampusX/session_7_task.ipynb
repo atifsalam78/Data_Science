{
 "cells": [
  {
   "cell_type": "markdown",
   "metadata": {
    "id": "FyUJ3PRAsPr4"
   },
   "source": [
    "##`Q-1:` Rectangle Class\n",
    "1. Write a Rectangle class in Python language, allowing you to build a rectangle with length and width attributes.\n",
    "\n",
    "2. Create a Perimeter() method to calculate the perimeter of the rectangle and a Area() method to calculate the area of ​​the rectangle.\n",
    "\n",
    "3. Create a method display() that display the length, width, perimeter and area of an object created using an instantiation on rectangle class."
   ]
  },
  {
   "cell_type": "markdown",
   "metadata": {
    "id": "GxUtOqJfssFK"
   },
   "source": [
    "Eg.\n",
    "After making above classes and methods, on executing below code:-\n",
    "```\n",
    "my_rectangle = Rectangle(3 , 4)\n",
    "my_rectangle.display()\n",
    "```\n",
    "\n",
    "`Output:`\n",
    "```\n",
    "The length of rectangle is:  3\n",
    "The width of rectangle is:  4\n",
    "The perimeter of rectangle is:  14\n",
    "The area of rectangle is:  12\n",
    "```\n"
   ]
  },
  {
   "cell_type": "code",
   "execution_count": 35,
   "metadata": {
    "id": "92_QT-Uj6NBg"
   },
   "outputs": [
    {
     "name": "stdout",
     "output_type": "stream",
     "text": [
      "The length of rectangle is: 3\n",
      "The width of rectangle is: 4\n",
      "The perimeter of rectangle is: 14\n",
      "The area of rectangle is: 12\n"
     ]
    }
   ],
   "source": [
    "# write your code here\n",
    "\n",
    "    # Constructor is a special magic method, which has super power i.e we don't need to call explicitly.\n",
    "    # it execute automatically at the time of object creation.\n",
    "    # To write configuration related code which we do not want to give control to the user.\n",
    "    # We can't change the name in Python.\n",
    "    \n",
    "    \n",
    "    # whatever the things (i.e. methods and variables) inside the class is not allowed to access each other.\n",
    "    # only and only object can access.\n",
    "    # this restriction resolved by the Self\n",
    "    # Self is nothing but current object of the class\n",
    "    # self and object is pointing to the same memory location\n",
    "    # self in just convention we can change the name according to our need.\n",
    "    \n",
    "    # Function is written inside the class is call method.\n",
    "    # Function is written outside the class is call function.\n",
    "\n",
    "class Rectangle:   \n",
    "    \n",
    "    def __init__(self, length, width):\n",
    "        self.length = length\n",
    "        self.width = width\n",
    "        self.perimeter_rectangle()\n",
    "        self.area_rectangle()\n",
    "        \n",
    "    def perimeter_rectangle(self):\n",
    "        \"\"\"Create method to calculate perimeter of the rectangle\"\"\"\n",
    "        self.peri = 2*(self.length + self.width)\n",
    "        \n",
    "    def area_rectangle(self):\n",
    "        \"\"\"Create method to calculate area of the rectangle\"\"\"\n",
    "        self.area = self.length * self.width\n",
    "        \n",
    "    \n",
    "    def display(self):\n",
    "        \"\"\"Create method to display\"\"\"\n",
    "        \n",
    "        print(\"The length of rectangle is: {}\".format(self.length))\n",
    "        print(\"The width of rectangle is: {}\".format(self.width))\n",
    "        print(\"The perimeter of rectangle is: {}\".format(self.peri))\n",
    "        print(\"The area of rectangle is: {}\".format(self.area))\n",
    "        \n",
    "        \n",
    "p = Rectangle(3,4)       \n",
    "p.display()"
   ]
  },
  {
   "cell_type": "markdown",
   "metadata": {
    "id": "r_GxrS0Vrdom"
   },
   "source": [
    "##`Q-2: Bank Class`\n",
    "\n",
    "1. Create a Python class called `BankAccount` which represents a bank account, having as attributes: `accountNumber` (numeric type), `name` (name of the account owner as string type), `balance`.\n",
    "2. Create a constructor with parameters: `accountNumber, name, balance`.\n",
    "3. Create a `Deposit()` method which manages the deposit actions.\n",
    "4. Create a `Withdrawal()` method  which manages withdrawals actions.\n",
    "5. Create an `bankFees()` method to apply the bank fees with a percentage of 5% of the balance account.\n",
    "6. Create a `display()` method to display account details.\n",
    "Give the complete code for the  BankAccount class."
   ]
  },
  {
   "cell_type": "markdown",
   "metadata": {
    "id": "qvVkOUJgvTV_"
   },
   "source": [
    "Eg.\n",
    "After making above classes and methods, on executing below code:-\n",
    "```\n",
    "newAccount = BankAccount(2178514584, \"Mandy\" , 2800)\n",
    "\n",
    "newAccount.Withdrawal(700)\n",
    "\n",
    "newAccount.Deposit(1000)\n",
    "\n",
    "newAccount.display()\n",
    "```\n",
    "\n",
    "`Output:`\n",
    "```\n",
    "Account Number :  2178514584\n",
    "Account Name :  Mandy\n",
    "Account Balance :  3100 ₹\n",
    "```"
   ]
  },
  {
   "cell_type": "code",
   "execution_count": 1,
   "metadata": {
    "id": "fUQOmQyA6YDR"
   },
   "outputs": [
    {
     "name": "stdout",
     "output_type": "stream",
     "text": [
      "Rs. 1000 deposited in your account, current balance is Rs. 2000\n",
      "Rs. 400 withdrawn from your account, current balance is Rs. 1600\n",
      "Account Number: 2784\n",
      "Account Name: Atif\n",
      "Account Balance: Rs. 1600\n"
     ]
    }
   ],
   "source": [
    "# write your code here\n",
    "class BankAccount:\n",
    "    \n",
    "    def __init__(self, account_number, name, balance):\n",
    "        self.account_number = account_number\n",
    "        self.name = name\n",
    "        self.balance = balance\n",
    "        \n",
    "    def deposit(self, deposit_amount):\n",
    "        self.balance = self.balance + deposit_amount\n",
    "        print(\"Rs. {} deposited in your account, current balance is Rs. {}\".format(deposit_amount, self.balance))\n",
    "        \n",
    "    def withdrawal(self, withdraw_amount):\n",
    "        self.balance = self.balance - withdraw_amount\n",
    "        print(\"Rs. {} withdrawn from your account, current balance is Rs. {}\".format(withdraw_amount, self.balance))\n",
    "    \n",
    "    def bankFees(self):\n",
    "        pass\n",
    "    \n",
    "    def display(self):\n",
    "        print(\"Account Number: {}\".format(self.account_number))\n",
    "        print(\"Account Name: {}\".format(self.name))\n",
    "        print(\"Account Balance: Rs. {}\".format(self.balance))\n",
    "        \n",
    "    \n",
    "    \n",
    "obj = BankAccount(2784, \"Atif\", 1000)\n",
    "obj.deposit(1000)\n",
    "obj.withdrawal(400)\n",
    "obj.display()"
   ]
  },
  {
   "cell_type": "markdown",
   "metadata": {
    "id": "QovcQAZTrgGU"
   },
   "source": [
    "##`Q-3:Computation class`\n",
    "\n",
    "1. Create a `Computation` class with a default constructor (without parameters) allowing to perform various calculations on integers numbers.\n",
    "2. Create a method called `Factorial()` which allows to calculate the factorial of an integer n. Integer n as parameter for this method\n",
    "\n",
    "3. Create a method called `naturalSum()` allowing to calculate the sum of the first n integers 1 + 2 + 3 + .. + n. Integer n as parameter for this method.\n",
    "\n",
    "4. Create a method called `testPrime()` in  the Calculation class to test the primality of a given integer n, n is Prime or Not? Integer n as parameter for this method.\n",
    "\n",
    "5. Create  a method called `testPrims()` allowing to test if two numbers are prime between them. Two integers are prime to one another if they have only `1` as their common divisor. Eg. 4 and 9 are prime to each other.\n",
    "\n",
    "5. Create a `tableMult()` method which creates and displays the multiplication table of a given integer. Then create an `allTablesMult()` method to display all the integer multiplication tables 1, 2, 3, ..., 9.\n",
    "\n",
    "6. Create a static `listDiv()` method that gets all the divisors of a given integer on new list called  Ldiv. Create another `listDivPrim()` method that gets all the prime divisors of a given integer."
   ]
  },
  {
   "cell_type": "code",
   "execution_count": 1,
   "metadata": {
    "id": "YEkPH70l6Z-o"
   },
   "outputs": [
    {
     "name": "stdout",
     "output_type": "stream",
     "text": [
      "2 is prime number\n"
     ]
    }
   ],
   "source": [
    "# write your code here\n",
    "class Computation:\n",
    "    \n",
    "    def __init__(self):\n",
    "        self.number = \"\"\n",
    "        \n",
    "    def factorial(self, number):\n",
    "        fact = 1\n",
    "        for i in range(1,number+1):\n",
    "            fact = fact * i\n",
    "        print(fact)\n",
    "    \n",
    "    def naturalSum(self, number):\n",
    "        count = 0\n",
    "        for i in range(number+1):\n",
    "            count = count + i\n",
    "        print(count)\n",
    "        \n",
    "    def testPrime(self, number):\n",
    "        if number > 1:\n",
    "            for j in range(2,number):\n",
    "                if number % j == 0:\n",
    "                    print(number,\"is not prime number\")\n",
    "                    break\n",
    "            else:\n",
    "                print(number,\"is prime number\")\n",
    "        \n",
    "    \n",
    "    def testPrims(self,number):\n",
    "        pass\n",
    "    \n",
    "    def tableMult(self, number):\n",
    "        count = 0\n",
    "        for i in range(1,11):\n",
    "            count = number * i \n",
    "            print(\"{} x {} = {}\".format(number, i, count))                    \n",
    "    \n",
    "    def allTablesMult(self):\n",
    "        count = 0\n",
    "        i = 1\n",
    "        while i < 11:\n",
    "            print(\"Table of {}\".format(i))\n",
    "            for j in range(1,11):\n",
    "                count = i * j            \n",
    "                print(\"{} x {} = {}\".format(i, j, count))\n",
    "            i += 1\n",
    "            \n",
    "    @staticmethod            \n",
    "    def listDiv(number):\n",
    "        l = []\n",
    "        for i in range(1,number+1):\n",
    "            if number % i == 0:\n",
    "                l.append(i)\n",
    "        return l\n",
    "        \n",
    "        \n",
    "            \n",
    "com = Computation()\n",
    "# com.factorial(7)\n",
    "# com.naturalSum(5)\n",
    "# com.tableMult(5)\n",
    "# com.allTablesMult()\n",
    "com.testPrime(2)\n",
    "# Computation.listDiv(28)\n"
   ]
  },
  {
   "cell_type": "code",
   "execution_count": 83,
   "metadata": {},
   "outputs": [
    {
     "name": "stdout",
     "output_type": "stream",
     "text": [
      "4\n",
      "5\n",
      "6\n",
      "7\n",
      "8\n",
      "9\n",
      "10\n"
     ]
    }
   ],
   "source": [
    "# Create a method called testPrims() allowing to test if two numbers are prime between them.\n",
    "# Two integers are prime to one another if they have only 1 as their common divisor. Eg. 4 and 9 are prime to each other.\n",
    "\n",
    "def testPrims(num1, num2):    \n",
    "#     lDiv1 = []\n",
    "#     lDiv2 = []\n",
    "    for i in range(num1, num2+1):\n",
    "        if num1 % i != 1:\n",
    "            print(i)\n",
    "testPrims(4, 10)\n",
    "   "
   ]
  },
  {
   "cell_type": "code",
   "execution_count": 23,
   "metadata": {},
   "outputs": [],
   "source": [
    "def allTablesMult():\n",
    "        count = 0\n",
    "        i = 1\n",
    "        while i < 11:\n",
    "#         for i in range(1,11):\n",
    "            print(\"Table of {}\".format(i))\n",
    "            for j in range(1,11):\n",
    "                count = i * j            \n",
    "                print(\"{} x {} = {}\".format(i, j, count))\n",
    "            i += 1"
   ]
  },
  {
   "cell_type": "code",
   "execution_count": 24,
   "metadata": {},
   "outputs": [
    {
     "name": "stdout",
     "output_type": "stream",
     "text": [
      "Table of 1\n",
      "1 x 1 = 1\n",
      "1 x 2 = 2\n",
      "1 x 3 = 3\n",
      "1 x 4 = 4\n",
      "1 x 5 = 5\n",
      "1 x 6 = 6\n",
      "1 x 7 = 7\n",
      "1 x 8 = 8\n",
      "1 x 9 = 9\n",
      "1 x 10 = 10\n",
      "Table of 2\n",
      "2 x 1 = 2\n",
      "2 x 2 = 4\n",
      "2 x 3 = 6\n",
      "2 x 4 = 8\n",
      "2 x 5 = 10\n",
      "2 x 6 = 12\n",
      "2 x 7 = 14\n",
      "2 x 8 = 16\n",
      "2 x 9 = 18\n",
      "2 x 10 = 20\n",
      "Table of 3\n",
      "3 x 1 = 3\n",
      "3 x 2 = 6\n",
      "3 x 3 = 9\n",
      "3 x 4 = 12\n",
      "3 x 5 = 15\n",
      "3 x 6 = 18\n",
      "3 x 7 = 21\n",
      "3 x 8 = 24\n",
      "3 x 9 = 27\n",
      "3 x 10 = 30\n",
      "Table of 4\n",
      "4 x 1 = 4\n",
      "4 x 2 = 8\n",
      "4 x 3 = 12\n",
      "4 x 4 = 16\n",
      "4 x 5 = 20\n",
      "4 x 6 = 24\n",
      "4 x 7 = 28\n",
      "4 x 8 = 32\n",
      "4 x 9 = 36\n",
      "4 x 10 = 40\n",
      "Table of 5\n",
      "5 x 1 = 5\n",
      "5 x 2 = 10\n",
      "5 x 3 = 15\n",
      "5 x 4 = 20\n",
      "5 x 5 = 25\n",
      "5 x 6 = 30\n",
      "5 x 7 = 35\n",
      "5 x 8 = 40\n",
      "5 x 9 = 45\n",
      "5 x 10 = 50\n",
      "Table of 6\n",
      "6 x 1 = 6\n",
      "6 x 2 = 12\n",
      "6 x 3 = 18\n",
      "6 x 4 = 24\n",
      "6 x 5 = 30\n",
      "6 x 6 = 36\n",
      "6 x 7 = 42\n",
      "6 x 8 = 48\n",
      "6 x 9 = 54\n",
      "6 x 10 = 60\n",
      "Table of 7\n",
      "7 x 1 = 7\n",
      "7 x 2 = 14\n",
      "7 x 3 = 21\n",
      "7 x 4 = 28\n",
      "7 x 5 = 35\n",
      "7 x 6 = 42\n",
      "7 x 7 = 49\n",
      "7 x 8 = 56\n",
      "7 x 9 = 63\n",
      "7 x 10 = 70\n",
      "Table of 8\n",
      "8 x 1 = 8\n",
      "8 x 2 = 16\n",
      "8 x 3 = 24\n",
      "8 x 4 = 32\n",
      "8 x 5 = 40\n",
      "8 x 6 = 48\n",
      "8 x 7 = 56\n",
      "8 x 8 = 64\n",
      "8 x 9 = 72\n",
      "8 x 10 = 80\n",
      "Table of 9\n",
      "9 x 1 = 9\n",
      "9 x 2 = 18\n",
      "9 x 3 = 27\n",
      "9 x 4 = 36\n",
      "9 x 5 = 45\n",
      "9 x 6 = 54\n",
      "9 x 7 = 63\n",
      "9 x 8 = 72\n",
      "9 x 9 = 81\n",
      "9 x 10 = 90\n",
      "Table of 10\n",
      "10 x 1 = 10\n",
      "10 x 2 = 20\n",
      "10 x 3 = 30\n",
      "10 x 4 = 40\n",
      "10 x 5 = 50\n",
      "10 x 6 = 60\n",
      "10 x 7 = 70\n",
      "10 x 8 = 80\n",
      "10 x 9 = 90\n",
      "10 x 10 = 100\n"
     ]
    }
   ],
   "source": [
    "allTablesMult()"
   ]
  },
  {
   "cell_type": "markdown",
   "metadata": {
    "id": "0yn23_oEriXa"
   },
   "source": [
    "##`Q-4`: Build flashcard using class in Python.\n",
    "\n",
    "Build a flashcard using class in python. A flashcard is a card having information on both sides, which can be used as an aid in memoization. Flashcards usually have a question on one side and an answer on the other.\n",
    "\n",
    "**Example 1:**\n",
    "\n",
    "Approach:\n",
    "\n",
    "- Create a class named FlashCard.\n",
    "- Initialize dictionary fruits using __init__() method. Here you have to define fruit name as key and it's color as value. E.g., {\"Banana\": \"yellow\", \"Strawberries\": \"pink\"}\n",
    "- Now randomly choose a pair from fruits by using _random_ module and store the key in variable _fruit_ and _value_ in variable color.\n",
    "- Now prompt the user to answer the color of the randomly chosen fruit.\n",
    "- If correct print correct else print wrong.\n",
    "\n",
    "Output:\n",
    "```bash\n",
    "welcome to fruit quiz\n",
    "What is the color of Strawberries\n",
    "pink\n",
    "Correct answer\n",
    "Enter 0, if you want to play again: 0\n",
    "What is the color of watermelon\n",
    "green\n",
    "Correct answer\n",
    "Enter 0, if you want to play again: 1\n",
    "```"
   ]
  },
  {
   "cell_type": "code",
   "execution_count": 3,
   "metadata": {
    "id": "vCrUF6VU6l6w"
   },
   "outputs": [
    {
     "name": "stdout",
     "output_type": "stream",
     "text": [
      "What is the color of Apple? red\n",
      "Correct answer!\n",
      "Enter '0' if you want to play again: 0\n",
      "What is the color of Watermelon? green\n",
      "Correct answer!\n",
      "Enter '0' if you want to play again: 1\n"
     ]
    }
   ],
   "source": [
    "# write your code here\n",
    "import random\n",
    "class FlashCard:\n",
    "    \n",
    "    def __init__(self):\n",
    "        self.fruits = {\"Banana\":\"yellow\", \"Strawberries\":\"pink\", \"Apple\":\"red\",\"Orange\":\"orange\", \"Watermelon\":\"green\"}       \n",
    "    \n",
    "    def play(self):\n",
    "        cont = 0\n",
    "        while cont == 0:\n",
    "            fruit = random.choice(list(self.fruits))\n",
    "            color = input(\"What is the color of {}? \".format(fruit))\n",
    "            if color == self.fruits[fruit]:\n",
    "                print(\"Correct answer!\")            \n",
    "            \n",
    "            else:\n",
    "                print(\"wrong answer!\")\n",
    "                \n",
    "            cont = int(input(\"Enter '0' if you want to play again: \"))\n",
    "        \n",
    "\n",
    "obj = FlashCard()\n",
    "obj.play()"
   ]
  },
  {
   "cell_type": "markdown",
   "metadata": {
    "id": "GN2r0jbRewYr"
   },
   "source": [
    "## `Q-5:` Problem 5 based on OOP Python.\n",
    "\n",
    "TechWorld, a technology training center, wants to allocate courses for instructors. An instructor is identified by name, technology skills, experience and average feedback. An instructor is allocated a course, if he/she satisfies the below two conditions:\n",
    "- eligibility criteria:\n",
    "    - if experience is more than 3 years, average feedback should be 4.5 or more\n",
    "    - if experience is 3 years or less, average feedback should be 4 or more\n",
    "- he/she should posses the technology skill for the course\n",
    "\n",
    "Identify the class name and attributes to represent instructors. Write a Python program to implement the class chosen with its attributes and methods.\n",
    "\n",
    "**Note:**\n",
    "- Consider all instance variables to be private and methods to be public.\n",
    "- An instructor may have multiple technology skills, so consider instance variable, technology_skill to be a list.\n",
    "- *check_eligibility()*: Return true if eligibility criteria is satisfied by the instructor. Else, return false\n",
    "- *allocate_course(technology)*: Return true if the course which requires the given technology can be allocated to the instructor. Else, return false.\n",
    "\n",
    "Represent a few objects of the class, initialize instance variables using setter methods, invoke\n",
    "appropriate methods and test your program."
   ]
  },
  {
   "cell_type": "code",
   "execution_count": 183,
   "metadata": {
    "id": "pdMFuVFnlvKL"
   },
   "outputs": [],
   "source": [
    "# write your code here\n",
    "class TechWorld:\n",
    "    def __init__(self):        \n",
    "        self.__technolog_skill = []\n",
    "        self.__instructor_name = \"\"\n",
    "        self.__experience = 0\n",
    "        self.__feedback = 0\n",
    "        \n",
    "    def set_values(self):\n",
    "        self.__instructor_name = input(\"Instructor Name: \")        \n",
    "        cont = \"\"\n",
    "        while cont != \"n\":\n",
    "            self.technology = input(\"Enter technology: \")\n",
    "            self.__technolog_skill.append(self.technology)\n",
    "            cont = input(\"Do you want to add more technology Y/N: \")            \n",
    "            \n",
    "        self.__experience = float(input(\"Enter experience in years: \"))\n",
    "        \n",
    "        for i in self.__technolog_skill:\n",
    "            feedback = int(input(\"\"\"\n",
    "            Enter 1 for worst\n",
    "            Enter 2 for average\n",
    "            Enter 3 for normal\n",
    "            Enter 4 for good\n",
    "            Enter 5 for excellent\n",
    "            about {}: \"\"\".format(i)))\n",
    "            \n",
    "            self.__feedback  = self.__feedback + feedback         \n",
    "            \n",
    "        self.average_feedback = self.__feedback / len(self.__technolog_skill)\n",
    "          \n",
    "    def get_course(self):\n",
    "        return self.__technolog_skill\n",
    "    \n",
    "    def check_eligibility(self):                \n",
    "        if self.__experience > 3 and self.average_feedback >= 4.5:\n",
    "            return True\n",
    "        \n",
    "        elif self.__experience <= 3 and self.average_feedback < 4.5:\n",
    "            return False\n",
    "    \n",
    "    def allocate_course(self):\n",
    "        if self.check_eligibility():                         \n",
    "            return True\n",
    "        else:            \n",
    "            return False  \n",
    "    \n",
    "obj = TechWorld()"
   ]
  },
  {
   "cell_type": "code",
   "execution_count": 179,
   "metadata": {},
   "outputs": [
    {
     "name": "stdout",
     "output_type": "stream",
     "text": [
      "Instructor Name: atif salam\n",
      "Enter technology: python\n",
      "Do you want to add more technology Y/N: y\n",
      "Enter technology: data science\n",
      "Do you want to add more technology Y/N: y\n",
      "Enter technology: machine leraning\n",
      "Do you want to add more technology Y/N: y\n",
      "Enter technology: sql\n",
      "Do you want to add more technology Y/N: n\n",
      "Enter experience in years: 4\n",
      "\n",
      "            Enter 1 for worst\n",
      "            Enter 2 for average\n",
      "            Enter 3 for normal\n",
      "            Enter 4 for good\n",
      "            Enter 5 for excellent\n",
      "            about python: 4\n",
      "\n",
      "            Enter 1 for worst\n",
      "            Enter 2 for average\n",
      "            Enter 3 for normal\n",
      "            Enter 4 for good\n",
      "            Enter 5 for excellent\n",
      "            about data science: 3\n",
      "\n",
      "            Enter 1 for worst\n",
      "            Enter 2 for average\n",
      "            Enter 3 for normal\n",
      "            Enter 4 for good\n",
      "            Enter 5 for excellent\n",
      "            about machine leraning: 4\n",
      "\n",
      "            Enter 1 for worst\n",
      "            Enter 2 for average\n",
      "            Enter 3 for normal\n",
      "            Enter 4 for good\n",
      "            Enter 5 for excellent\n",
      "            about sql: 2\n"
     ]
    }
   ],
   "source": [
    "obj.set_values()"
   ]
  },
  {
   "cell_type": "code",
   "execution_count": 180,
   "metadata": {},
   "outputs": [
    {
     "data": {
      "text/plain": [
       "['python', 'data science', 'machine leraning', 'sql']"
      ]
     },
     "execution_count": 180,
     "metadata": {},
     "output_type": "execute_result"
    }
   ],
   "source": [
    "obj.get_course()"
   ]
  },
  {
   "cell_type": "code",
   "execution_count": 181,
   "metadata": {},
   "outputs": [
    {
     "data": {
      "text/plain": [
       "False"
      ]
     },
     "execution_count": 181,
     "metadata": {},
     "output_type": "execute_result"
    }
   ],
   "source": [
    "obj.allocate_course()"
   ]
  },
  {
   "cell_type": "code",
   "execution_count": null,
   "metadata": {},
   "outputs": [],
   "source": []
  }
 ],
 "metadata": {
  "colab": {
   "provenance": []
  },
  "kernelspec": {
   "display_name": "Python 3 (ipykernel)",
   "language": "python",
   "name": "python3"
  },
  "language_info": {
   "codemirror_mode": {
    "name": "ipython",
    "version": 3
   },
   "file_extension": ".py",
   "mimetype": "text/x-python",
   "name": "python",
   "nbconvert_exporter": "python",
   "pygments_lexer": "ipython3",
   "version": "3.9.13"
  }
 },
 "nbformat": 4,
 "nbformat_minor": 1
}
