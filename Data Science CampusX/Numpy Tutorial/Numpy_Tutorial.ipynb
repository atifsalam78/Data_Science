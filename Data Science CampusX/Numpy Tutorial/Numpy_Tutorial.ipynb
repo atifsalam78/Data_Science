{
 "cells": [
  {
   "cell_type": "markdown",
   "id": "6a5ca731-a6a5-4eda-9bd7-0c4d9e20b2ea",
   "metadata": {},
   "source": [
    "# Numpy Fundamentals"
   ]
  },
  {
   "cell_type": "markdown",
   "id": "88cc90c3",
   "metadata": {},
   "source": [
    "# What is Numpy\n",
    "\n",
    "* Numpy stands for `Numerical` `Python`.\n",
    "* Numpy is the fundamental package for scientific computing in Python.\n",
    "* Numpy is an open source `Python` library used to working with `array`.\n",
    "* Numpy is partially written in `Python`, but most of the parts written in `C` or `C++` for fast computation .\n",
    "* Numpy is creared in `2005` by `Travis Oliphant`.\n",
    "* It also has function for working in domain of `linear algebra`, `fourier transform` and `matrices`.\n",
    "* Numpy arrays are `Homogeneous` unlike lists are `Hetrogeneous`.\n",
    "* The source code for NumPy is located at this github repository https://github.com/numpy/numpy."
   ]
  },
  {
   "cell_type": "markdown",
   "id": "4f644433",
   "metadata": {},
   "source": [
    "### Use of Numpy\n",
    "\n",
    "* In Python we have list but they are slow, becuase lists are not directly store in the memory only it's reference stored in memory.\n",
    "* While Numpy arrays stored at one continious place in memory.\n",
    "* This behavior is called `locality of reference` in computer science.\n",
    "* The array object in Python is called `ndarray` it provides lots of fuction which make working with `ndarray` is very easy.\n",
    "* Arrays are widely used in the field of `Data Science` where speed and resources are very important."
   ]
  },
  {
   "cell_type": "markdown",
   "id": "4469e303-1e43-4cf0-b331-a827faf37ab4",
   "metadata": {},
   "source": [
    "# Creating an Array"
   ]
  },
  {
   "cell_type": "code",
   "execution_count": 1,
   "id": "93f5ec7b",
   "metadata": {},
   "outputs": [],
   "source": [
    "import numpy as np"
   ]
  },
  {
   "cell_type": "code",
   "execution_count": 2,
   "id": "705860a6",
   "metadata": {},
   "outputs": [
    {
     "name": "stdout",
     "output_type": "stream",
     "text": [
      "[1 2 3 4]\n"
     ]
    }
   ],
   "source": [
    "arr = np.array([1,2,3,4])\n",
    "print(arr)"
   ]
  },
  {
   "cell_type": "code",
   "execution_count": 3,
   "id": "6ff37a02",
   "metadata": {},
   "outputs": [
    {
     "name": "stdout",
     "output_type": "stream",
     "text": [
      "1.21.5\n"
     ]
    }
   ],
   "source": [
    "print(np.__version__)"
   ]
  },
  {
   "cell_type": "code",
   "execution_count": 4,
   "id": "52e478ca",
   "metadata": {},
   "outputs": [
    {
     "name": "stdout",
     "output_type": "stream",
     "text": [
      "[1 2 3 4]\n",
      "<class 'numpy.ndarray'>\n"
     ]
    }
   ],
   "source": [
    "arr = np.array([1,2,3,4])\n",
    "print(arr)\n",
    "print(type(arr))"
   ]
  },
  {
   "cell_type": "markdown",
   "id": "87acbeca",
   "metadata": {},
   "source": [
    "* Use a tuple to create a Numpy array\n",
    "* we can pass any type of array type object to `array()` method and it will converted to `ndarray`.\n"
   ]
  },
  {
   "cell_type": "code",
   "execution_count": 5,
   "id": "94481a4d",
   "metadata": {},
   "outputs": [
    {
     "name": "stdout",
     "output_type": "stream",
     "text": [
      "[1 2 3 4 5]\n",
      "<class 'numpy.ndarray'>\n"
     ]
    }
   ],
   "source": [
    "tup_arr = np.array((1,2,3,4,5))\n",
    "print(tup_arr)\n",
    "print(type(tup_arr))"
   ]
  },
  {
   "cell_type": "code",
   "execution_count": 6,
   "id": "55495b26-3c8c-4efc-8558-ad4c9ee55290",
   "metadata": {},
   "outputs": [
    {
     "data": {
      "text/plain": [
       "array([1, 3, 5, 7, 9])"
      ]
     },
     "execution_count": 6,
     "metadata": {},
     "output_type": "execute_result"
    }
   ],
   "source": [
    "arr = np.arange(1, 11, 2) # Same as range function in Python.\n",
    "arr"
   ]
  },
  {
   "cell_type": "code",
   "execution_count": 7,
   "id": "f55b0382-f95c-4a75-befa-5f5747371fa6",
   "metadata": {},
   "outputs": [
    {
     "data": {
      "text/plain": [
       "array([[ 1,  2,  3,  4,  5],\n",
       "       [ 6,  7,  8,  9, 10]])"
      ]
     },
     "execution_count": 7,
     "metadata": {},
     "output_type": "execute_result"
    }
   ],
   "source": [
    "arr = np.arange(1, 11).reshape(2, 5) # reshape convert one aray into another shape\n",
    "arr\n",
    "# It will work when product of two number should be equal to the numbers that present in the array"
   ]
  },
  {
   "cell_type": "code",
   "execution_count": 8,
   "id": "b7fc3810-4bb5-4cac-85bc-c9ec6c3847cc",
   "metadata": {},
   "outputs": [],
   "source": [
    "# arr = np.arange(1, 13).reshape(5, 5)\n",
    "# arr\n",
    "# This will through error"
   ]
  },
  {
   "cell_type": "code",
   "execution_count": 9,
   "id": "34ea8160-56b2-4f5d-bbed-179ffd620373",
   "metadata": {},
   "outputs": [
    {
     "data": {
      "text/plain": [
       "array([[ 0,  1],\n",
       "       [ 2,  3],\n",
       "       [ 4,  5],\n",
       "       [ 6,  7],\n",
       "       [ 8,  9],\n",
       "       [10, 11],\n",
       "       [12, 13],\n",
       "       [14, 15]])"
      ]
     },
     "execution_count": 9,
     "metadata": {},
     "output_type": "execute_result"
    }
   ],
   "source": [
    "arr = np.arange(16).reshape(8,2)\n",
    "arr"
   ]
  },
  {
   "cell_type": "code",
   "execution_count": 10,
   "id": "0020e6d9-cb8c-4628-a14a-5d2067c3b665",
   "metadata": {},
   "outputs": [
    {
     "data": {
      "text/plain": [
       "array([1., 2., 3., 4.])"
      ]
     },
     "execution_count": 10,
     "metadata": {},
     "output_type": "execute_result"
    }
   ],
   "source": [
    "arr = np.array([1,2,3,4], dtype=float) # This a type conversion\n",
    "arr"
   ]
  },
  {
   "cell_type": "code",
   "execution_count": 11,
   "id": "47a14616-2e06-41ea-90d3-34d332695390",
   "metadata": {},
   "outputs": [
    {
     "data": {
      "text/plain": [
       "array([ True,  True,  True,  True])"
      ]
     },
     "execution_count": 11,
     "metadata": {},
     "output_type": "execute_result"
    }
   ],
   "source": [
    "arr = np.array([1,2,3,4], dtype=bool) # This a type conversion\n",
    "arr"
   ]
  },
  {
   "cell_type": "code",
   "execution_count": 12,
   "id": "18b28f8f-f4f4-4a79-bad6-2675fe0ed7f5",
   "metadata": {},
   "outputs": [
    {
     "data": {
      "text/plain": [
       "array([1.+0.j, 2.+0.j, 3.+0.j, 4.+0.j])"
      ]
     },
     "execution_count": 12,
     "metadata": {},
     "output_type": "execute_result"
    }
   ],
   "source": [
    "arr = np.array([1,2,3,4], dtype=complex) # This a type conversion\n",
    "arr"
   ]
  },
  {
   "cell_type": "code",
   "execution_count": 13,
   "id": "aea54ac2-853d-40fa-a47d-bcc0a81038e0",
   "metadata": {},
   "outputs": [
    {
     "data": {
      "text/plain": [
       "array([[1., 1., 1., 1.],\n",
       "       [1., 1., 1., 1.],\n",
       "       [1., 1., 1., 1.]])"
      ]
     },
     "execution_count": 13,
     "metadata": {},
     "output_type": "execute_result"
    }
   ],
   "source": [
    "np.ones((3,4)) # By default numpy array elemsnts are float"
   ]
  },
  {
   "cell_type": "code",
   "execution_count": 14,
   "id": "4bf9aef9-3089-4d80-96ac-40a7585b439e",
   "metadata": {},
   "outputs": [
    {
     "data": {
      "text/plain": [
       "array([[0., 0., 0., 0.],\n",
       "       [0., 0., 0., 0.],\n",
       "       [0., 0., 0., 0.]])"
      ]
     },
     "execution_count": 14,
     "metadata": {},
     "output_type": "execute_result"
    }
   ],
   "source": [
    "np.zeros((3,4))"
   ]
  },
  {
   "cell_type": "code",
   "execution_count": 15,
   "id": "0c2754e2-128a-4bbe-b256-b8dabf57ec77",
   "metadata": {},
   "outputs": [
    {
     "data": {
      "text/plain": [
       "array([[0.15366495, 0.07797812, 0.53122692, 0.66288169],\n",
       "       [0.1883758 , 0.91996651, 0.32236377, 0.94106944],\n",
       "       [0.86492024, 0.8000769 , 0.97021215, 0.79824574]])"
      ]
     },
     "execution_count": 15,
     "metadata": {},
     "output_type": "execute_result"
    }
   ],
   "source": [
    "np.random.random((3,4))"
   ]
  },
  {
   "cell_type": "code",
   "execution_count": 16,
   "id": "dd617757-4c80-40cb-b072-ba009c0473cd",
   "metadata": {},
   "outputs": [
    {
     "data": {
      "text/plain": [
       "array([-10.        ,  -7.77777778,  -5.55555556,  -3.33333333,\n",
       "        -1.11111111,   1.11111111,   3.33333333,   5.55555556,\n",
       "         7.77777778,  10.        ])"
      ]
     },
     "execution_count": 16,
     "metadata": {},
     "output_type": "execute_result"
    }
   ],
   "source": [
    "# Linear Space\n",
    "np.linspace(-10, 10, 10) # (Lower_range, upper_range, number_of_items)\n",
    "# generate equally distanced points in a given range or we can say\n",
    "# generate linearly separable point in a given range"
   ]
  },
  {
   "cell_type": "code",
   "execution_count": 17,
   "id": "13c82b45-ac09-4bc1-bb71-c2a87e473dd7",
   "metadata": {},
   "outputs": [
    {
     "data": {
      "text/plain": [
       "array([-10,  -8,  -6,  -4,  -2,   1,   3,   5,   7,  10])"
      ]
     },
     "execution_count": 17,
     "metadata": {},
     "output_type": "execute_result"
    }
   ],
   "source": [
    "np.linspace(-10, 10, 10, dtype=int) # Can be change data type of elements"
   ]
  },
  {
   "cell_type": "code",
   "execution_count": 18,
   "id": "d7a33d67-25ce-4689-9712-853c1066d4aa",
   "metadata": {},
   "outputs": [
    {
     "data": {
      "text/plain": [
       "array([[1., 0., 0.],\n",
       "       [0., 1., 0.],\n",
       "       [0., 0., 1.]])"
      ]
     },
     "execution_count": 18,
     "metadata": {},
     "output_type": "execute_result"
    }
   ],
   "source": [
    "np.identity(3)"
   ]
  },
  {
   "cell_type": "markdown",
   "id": "259c1efb-3e25-4ed5-854b-f32db687fa38",
   "metadata": {},
   "source": [
    "# Array Attributes"
   ]
  },
  {
   "cell_type": "code",
   "execution_count": 19,
   "id": "7e48304b-d1bd-491f-a439-d8a42f275fe6",
   "metadata": {},
   "outputs": [],
   "source": [
    "a1 = np.arange(10)\n",
    "a2 = np.arange(12, dtype=float).reshape(3,4)\n",
    "a3 = np.arange(8).reshape(2,2,2)"
   ]
  },
  {
   "cell_type": "markdown",
   "id": "6cfe75fb-86fc-473a-a3e1-bf7ab1612d7b",
   "metadata": {},
   "source": [
    "#### ndim"
   ]
  },
  {
   "cell_type": "code",
   "execution_count": 20,
   "id": "82682ca6-8628-4fb8-bb86-0c31810b9bd3",
   "metadata": {},
   "outputs": [
    {
     "name": "stdout",
     "output_type": "stream",
     "text": [
      "1\n",
      "2\n",
      "3\n",
      "[[ 0.  1.  2.  3.]\n",
      " [ 4.  5.  6.  7.]\n",
      " [ 8.  9. 10. 11.]]\n"
     ]
    }
   ],
   "source": [
    "print(a1.ndim)\n",
    "print(a2.ndim)\n",
    "print(a3.ndim)\n",
    "print(a2)"
   ]
  },
  {
   "cell_type": "code",
   "execution_count": 21,
   "id": "e59f968d-fce8-48d3-838a-b2bee1259120",
   "metadata": {},
   "outputs": [],
   "source": [
    "zero_d_arr = np.array(1)\n",
    "one_d_arr = np.arange(10)\n",
    "two_d_arr = np.arange(1,11).reshape(2,5)\n",
    "three_d_arr= np.arange(8).reshape(2,2,2)"
   ]
  },
  {
   "cell_type": "code",
   "execution_count": 22,
   "id": "0df94f79",
   "metadata": {},
   "outputs": [
    {
     "name": "stdout",
     "output_type": "stream",
     "text": [
      "Dimension of 0-D Array: 0\n",
      "Dimension of 1-D Array: 1\n",
      "Dimension of 2-D Array: 2\n",
      "Dimension of 3-D Array: 3\n"
     ]
    }
   ],
   "source": [
    "print(f\"Dimension of 0-D Array: {zero_d_arr.ndim}\")\n",
    "print(f\"Dimension of 1-D Array: {one_d_arr.ndim}\")\n",
    "print(f\"Dimension of 2-D Array: {two_d_arr.ndim}\")\n",
    "print(f\"Dimension of 3-D Array: {three_d_arr.ndim}\")"
   ]
  },
  {
   "cell_type": "code",
   "execution_count": 23,
   "id": "6c7f224b",
   "metadata": {},
   "outputs": [
    {
     "name": "stdout",
     "output_type": "stream",
     "text": [
      "[[[ 1  2  3]\n",
      "  [ 4  5  6]]\n",
      "\n",
      " [[ 7  8  9]\n",
      "  [10 11 12]]]\n",
      "3\n"
     ]
    }
   ],
   "source": [
    "three_d_arr = np.array([   [[1,2,3],[4,5,6]],   [[7,8,9],[10,11,12]]   ])\n",
    "print(three_d_arr)\n",
    "print(three_d_arr.ndim)"
   ]
  },
  {
   "cell_type": "markdown",
   "id": "676ed7bb-1571-4fa0-ab31-e28c826c583a",
   "metadata": {},
   "source": [
    "#### shape"
   ]
  },
  {
   "cell_type": "code",
   "execution_count": 24,
   "id": "d1a7aec0-98ea-46c0-88a5-864fcac10ec4",
   "metadata": {},
   "outputs": [
    {
     "name": "stdout",
     "output_type": "stream",
     "text": [
      "(10,)\n",
      "(3, 4)\n",
      "(2, 2, 2)\n"
     ]
    }
   ],
   "source": [
    "print(a1.shape)\n",
    "print(a2.shape)\n",
    "print(a3.shape) # (No. of 2-D arrays, No. of rows, No. of columns)"
   ]
  },
  {
   "cell_type": "markdown",
   "id": "d74ae03a-d928-4541-b87a-8950092ef268",
   "metadata": {},
   "source": [
    "#### size"
   ]
  },
  {
   "cell_type": "code",
   "execution_count": 25,
   "id": "1931d39d-fe38-46b9-9a8a-beba4296a9bd",
   "metadata": {},
   "outputs": [
    {
     "name": "stdout",
     "output_type": "stream",
     "text": [
      "10\n",
      "12\n",
      "8\n"
     ]
    }
   ],
   "source": [
    "print(a1.size)\n",
    "print(a2.size)\n",
    "print(a3.size)"
   ]
  },
  {
   "cell_type": "markdown",
   "id": "edf96cf3-5d75-4a25-9f2e-cca64512b462",
   "metadata": {},
   "source": [
    "#### itemsize"
   ]
  },
  {
   "cell_type": "code",
   "execution_count": 26,
   "id": "3a158344-70af-409a-9c49-c76ec3ddbb77",
   "metadata": {},
   "outputs": [
    {
     "name": "stdout",
     "output_type": "stream",
     "text": [
      "4\n",
      "8\n",
      "4\n"
     ]
    }
   ],
   "source": [
    "# By default use int64\n",
    "# int32 = 4 bytes\n",
    "# int64 = 8 bytes\n",
    "print(a1.itemsize)\n",
    "print(a2.itemsize)\n",
    "print(a3.itemsize)"
   ]
  },
  {
   "cell_type": "markdown",
   "id": "7f77dd47-a87b-4aad-b507-41fc2327d773",
   "metadata": {},
   "source": [
    "#### dtype"
   ]
  },
  {
   "cell_type": "code",
   "execution_count": 27,
   "id": "c2657309-764b-4c07-981b-3ccd2e2035e6",
   "metadata": {},
   "outputs": [
    {
     "name": "stdout",
     "output_type": "stream",
     "text": [
      "int32\n",
      "float64\n",
      "int32\n"
     ]
    }
   ],
   "source": [
    "print(a1.dtype)\n",
    "print(a2.dtype)\n",
    "print(a3.dtype)"
   ]
  },
  {
   "cell_type": "markdown",
   "id": "7ce3cd50-b1e0-41ee-9480-43f1e3acf0d9",
   "metadata": {},
   "source": [
    "# Changing Data Types"
   ]
  },
  {
   "cell_type": "markdown",
   "id": "2314797d-77ba-4ded-9f0b-f0e098c1ef5d",
   "metadata": {},
   "source": [
    "#### astype"
   ]
  },
  {
   "cell_type": "code",
   "execution_count": 28,
   "id": "024c53fe-0965-403a-ae1f-19ed56145694",
   "metadata": {},
   "outputs": [
    {
     "data": {
      "text/plain": [
       "dtype('int32')"
      ]
     },
     "execution_count": 28,
     "metadata": {},
     "output_type": "execute_result"
    }
   ],
   "source": [
    "a3.dtype"
   ]
  },
  {
   "cell_type": "code",
   "execution_count": 29,
   "id": "27f75833-c7e1-4718-bd14-ecacc3dd3b18",
   "metadata": {},
   "outputs": [
    {
     "data": {
      "text/plain": [
       "array([[[0, 1],\n",
       "        [2, 3]],\n",
       "\n",
       "       [[4, 5],\n",
       "        [6, 7]]], dtype=int64)"
      ]
     },
     "execution_count": 29,
     "metadata": {},
     "output_type": "execute_result"
    }
   ],
   "source": [
    "a3.astype(np.int64) # Used for memory optimization"
   ]
  },
  {
   "cell_type": "markdown",
   "id": "ef5bbf19-f0ea-4c4e-b836-8cc58442c36e",
   "metadata": {},
   "source": [
    "# Array Operations"
   ]
  },
  {
   "cell_type": "code",
   "execution_count": 30,
   "id": "8b806607-181b-4c49-8f2e-97089c3d43fa",
   "metadata": {},
   "outputs": [],
   "source": [
    "a2 = np.arange(12).reshape(3,4)\n",
    "a3 = np.arange(12,24).reshape(3,4)"
   ]
  },
  {
   "cell_type": "code",
   "execution_count": 31,
   "id": "eea5cc0f-75f6-44e8-b482-560a2d6418da",
   "metadata": {},
   "outputs": [
    {
     "data": {
      "text/plain": [
       "array([[  0,   1,   4,   9],\n",
       "       [ 16,  25,  36,  49],\n",
       "       [ 64,  81, 100, 121]], dtype=int32)"
      ]
     },
     "execution_count": 31,
     "metadata": {},
     "output_type": "execute_result"
    }
   ],
   "source": [
    "# Scalar Operations\n",
    "a2 * 2 # whereas 2 is scalar\n",
    "a2 + 2\n",
    "a2 - 2\n",
    "a2 / 2\n",
    "a2**2\n",
    "# Arithmetic"
   ]
  },
  {
   "cell_type": "code",
   "execution_count": 32,
   "id": "d6c616a5-b2f3-4f9e-94f6-0cade4128d1e",
   "metadata": {},
   "outputs": [
    {
     "name": "stdout",
     "output_type": "stream",
     "text": [
      "[[ 0  1  2  3]\n",
      " [ 4  5  6  7]\n",
      " [ 8  9 10 11]]\n",
      "[[False False False False]\n",
      " [False  True  True  True]\n",
      " [ True  True  True  True]]\n"
     ]
    }
   ],
   "source": [
    "# Relational operators\n",
    "print(a2)\n",
    "print(a2 >= 5) # Itemwise comparision"
   ]
  },
  {
   "cell_type": "code",
   "execution_count": 33,
   "id": "6c8c7797-69d7-4bf8-8600-ddf27f84b343",
   "metadata": {},
   "outputs": [
    {
     "name": "stdout",
     "output_type": "stream",
     "text": [
      "[[ 0  1  2  3]\n",
      " [ 4  5  6  7]\n",
      " [ 8  9 10 11]] \n",
      "\n",
      "[[12 13 14 15]\n",
      " [16 17 18 19]\n",
      " [20 21 22 23]] \n",
      "\n",
      "[[12 14 16 18]\n",
      " [20 22 24 26]\n",
      " [28 30 32 34]]\n"
     ]
    }
   ],
   "source": [
    "# Vector Operations\n",
    "# Shape msut be same\n",
    "\n",
    "print(a2, \"\\n\")\n",
    "print(a3, \"\\n\")\n",
    "print(a2 + a3)"
   ]
  },
  {
   "cell_type": "markdown",
   "id": "e9dff1c9-da25-4c08-8e7f-36fbcb0fee60",
   "metadata": {},
   "source": [
    "# Array Functions"
   ]
  },
  {
   "cell_type": "code",
   "execution_count": 34,
   "id": "4f493a14-2ec1-4f67-ac82-8c6975d998c2",
   "metadata": {},
   "outputs": [
    {
     "name": "stdout",
     "output_type": "stream",
     "text": [
      "[[73. 18. 96.]\n",
      " [13. 71. 81.]\n",
      " [50. 10.  1.]]\n"
     ]
    }
   ],
   "source": [
    "a1 = np.random.random((3,3))\n",
    "a1 = np.round(a1*100)\n",
    "print(a1)"
   ]
  },
  {
   "cell_type": "code",
   "execution_count": 35,
   "id": "26dea91b-aff4-4907-9920-29334d637d1f",
   "metadata": {},
   "outputs": [
    {
     "data": {
      "text/plain": [
       "96.0"
      ]
     },
     "execution_count": 35,
     "metadata": {},
     "output_type": "execute_result"
    }
   ],
   "source": [
    "# max/min/sum/prod\n",
    "np.max(a1)"
   ]
  },
  {
   "cell_type": "code",
   "execution_count": 36,
   "id": "a6371daa-5462-4b09-afbb-e19cebf00f53",
   "metadata": {},
   "outputs": [
    {
     "data": {
      "text/plain": [
       "array([96., 81., 50.])"
      ]
     },
     "execution_count": 36,
     "metadata": {},
     "output_type": "execute_result"
    }
   ],
   "source": [
    "# 0 -> Column\n",
    "# 1 -> row\n",
    "np.max(a1, axis=1) # gives maximum of each row"
   ]
  },
  {
   "cell_type": "code",
   "execution_count": 37,
   "id": "3b2b5cd4-2585-4540-97ca-ab43eb95023b",
   "metadata": {},
   "outputs": [
    {
     "data": {
      "text/plain": [
       "array([73., 71., 96.])"
      ]
     },
     "execution_count": 37,
     "metadata": {},
     "output_type": "execute_result"
    }
   ],
   "source": [
    "np.max(a1, axis=0) # gives maximum of each column"
   ]
  },
  {
   "cell_type": "code",
   "execution_count": 38,
   "id": "4bd656d3-e6ce-4563-ac51-cc897b40cd5b",
   "metadata": {},
   "outputs": [
    {
     "data": {
      "text/plain": [
       "1.0"
      ]
     },
     "execution_count": 38,
     "metadata": {},
     "output_type": "execute_result"
    }
   ],
   "source": [
    "np.min(a1)"
   ]
  },
  {
   "cell_type": "code",
   "execution_count": 39,
   "id": "b5e47e7c-23eb-45be-aa02-7cc3f958ef74",
   "metadata": {},
   "outputs": [
    {
     "data": {
      "text/plain": [
       "413.0"
      ]
     },
     "execution_count": 39,
     "metadata": {},
     "output_type": "execute_result"
    }
   ],
   "source": [
    "np.sum(a1)"
   ]
  },
  {
   "cell_type": "code",
   "execution_count": 40,
   "id": "ec87dea7-a7ee-4d43-b1c0-a1049a797d0f",
   "metadata": {},
   "outputs": [
    {
     "data": {
      "text/plain": [
       "4715451936000.0"
      ]
     },
     "execution_count": 40,
     "metadata": {},
     "output_type": "execute_result"
    }
   ],
   "source": [
    "np.prod(a1)"
   ]
  },
  {
   "cell_type": "code",
   "execution_count": 41,
   "id": "d00a6ede-a71a-4925-b9b9-749fcb194b22",
   "metadata": {},
   "outputs": [
    {
     "data": {
      "text/plain": [
       "45.888888888888886"
      ]
     },
     "execution_count": 41,
     "metadata": {},
     "output_type": "execute_result"
    }
   ],
   "source": [
    "# mean/median/std/var\n",
    "np.mean(a1)"
   ]
  },
  {
   "cell_type": "code",
   "execution_count": 42,
   "id": "4ca3e005-915a-488a-91aa-8841cb51c62c",
   "metadata": {},
   "outputs": [
    {
     "data": {
      "text/plain": [
       "array([62.33333333, 55.        , 20.33333333])"
      ]
     },
     "execution_count": 42,
     "metadata": {},
     "output_type": "execute_result"
    }
   ],
   "source": [
    "np.mean(a1, axis=1)"
   ]
  },
  {
   "cell_type": "code",
   "execution_count": 43,
   "id": "691fb978-1a7f-4ba0-8bb7-ff78a43e0e3f",
   "metadata": {},
   "outputs": [
    {
     "data": {
      "text/plain": [
       "50.0"
      ]
     },
     "execution_count": 43,
     "metadata": {},
     "output_type": "execute_result"
    }
   ],
   "source": [
    "np.median(a1)"
   ]
  },
  {
   "cell_type": "code",
   "execution_count": 44,
   "id": "cb11bdb5-b2ac-4d99-b705-c19312f5c869",
   "metadata": {},
   "outputs": [
    {
     "data": {
      "text/plain": [
       "33.81138678822875"
      ]
     },
     "execution_count": 44,
     "metadata": {},
     "output_type": "execute_result"
    }
   ],
   "source": [
    "np.std(a1)"
   ]
  },
  {
   "cell_type": "code",
   "execution_count": 45,
   "id": "4cab1491-f358-4905-89b0-614018cb6759",
   "metadata": {},
   "outputs": [
    {
     "data": {
      "text/plain": [
       "1143.20987654321"
      ]
     },
     "execution_count": 45,
     "metadata": {},
     "output_type": "execute_result"
    }
   ],
   "source": [
    "np.var(a1)"
   ]
  },
  {
   "cell_type": "code",
   "execution_count": 46,
   "id": "0a85fdf8-8ea5-4f48-bcad-59346e93e647",
   "metadata": {},
   "outputs": [
    {
     "data": {
      "text/plain": [
       "array([[-0.67677196, -0.75098725,  0.98358775],\n",
       "       [ 0.42016704,  0.95105465, -0.62988799],\n",
       "       [-0.26237485, -0.54402111,  0.84147098]])"
      ]
     },
     "execution_count": 46,
     "metadata": {},
     "output_type": "execute_result"
    }
   ],
   "source": [
    "# Trignometric Fucntions\n",
    "\n",
    "np.sin(a1)"
   ]
  },
  {
   "cell_type": "code",
   "execution_count": 47,
   "id": "e17f4dee-ccea-4597-b963-0bfa95754a1f",
   "metadata": {},
   "outputs": [
    {
     "data": {
      "text/plain": [
       "array([[-0.73619272,  0.66031671, -0.18043045],\n",
       "       [ 0.90744678, -0.30902273,  0.77668598],\n",
       "       [ 0.96496603, -0.83907153,  0.54030231]])"
      ]
     },
     "execution_count": 47,
     "metadata": {},
     "output_type": "execute_result"
    }
   ],
   "source": [
    "np.cos(a1)"
   ]
  },
  {
   "cell_type": "code",
   "execution_count": 48,
   "id": "a6893605-ecd4-4b7b-840a-9b0a9d6d82be",
   "metadata": {},
   "outputs": [
    {
     "data": {
      "text/plain": [
       "array([[ 0.9192864 , -1.13731371, -5.45134011],\n",
       "       [ 0.46302113, -3.0776204 , -0.81099442],\n",
       "       [-0.27190061,  0.64836083,  1.55740772]])"
      ]
     },
     "execution_count": 48,
     "metadata": {},
     "output_type": "execute_result"
    }
   ],
   "source": [
    "np.tan(a1)"
   ]
  },
  {
   "cell_type": "code",
   "execution_count": 49,
   "id": "ca207775-6d11-43db-8a6e-3907a001b838",
   "metadata": {},
   "outputs": [],
   "source": [
    "# dot product\n",
    "a2 = np.arange(12).reshape(3,4)\n",
    "a3 = np.arange(12,24).reshape(4,3)"
   ]
  },
  {
   "cell_type": "markdown",
   "id": "e6ac9613-d448-40e0-b529-f04bd03a3316",
   "metadata": {},
   "source": [
    "* `(3, 4)` `(4, 3)` first array column must be equal to second array row\n",
    "* And the result would be first array row x second array column\n"
   ]
  },
  {
   "cell_type": "code",
   "execution_count": 50,
   "id": "0b27293c-7814-43ea-aa55-185e5a594369",
   "metadata": {},
   "outputs": [
    {
     "data": {
      "text/plain": [
       "array([[114, 120, 126],\n",
       "       [378, 400, 422],\n",
       "       [642, 680, 718]])"
      ]
     },
     "execution_count": 50,
     "metadata": {},
     "output_type": "execute_result"
    }
   ],
   "source": [
    "np.dot(a2, a3)"
   ]
  },
  {
   "cell_type": "code",
   "execution_count": 51,
   "id": "ffe5545d-4f01-4b00-8599-efba884be1d9",
   "metadata": {},
   "outputs": [
    {
     "data": {
      "text/plain": [
       "array([[4.29045944, 2.89037176, 4.56434819],\n",
       "       [2.56494936, 4.26267988, 4.39444915],\n",
       "       [3.91202301, 2.30258509, 0.        ]])"
      ]
     },
     "execution_count": 51,
     "metadata": {},
     "output_type": "execute_result"
    }
   ],
   "source": [
    "# log / exponents\n",
    "np.log(a1)"
   ]
  },
  {
   "cell_type": "code",
   "execution_count": 52,
   "id": "6b71cc32-6344-465f-bae5-1205dc949934",
   "metadata": {},
   "outputs": [
    {
     "data": {
      "text/plain": [
       "array([[5.05239363e+31, 6.56599691e+07, 4.92345829e+41],\n",
       "       [4.42413392e+05, 6.83767123e+30, 1.50609731e+35],\n",
       "       [5.18470553e+21, 2.20264658e+04, 2.71828183e+00]])"
      ]
     },
     "execution_count": 52,
     "metadata": {},
     "output_type": "execute_result"
    }
   ],
   "source": [
    "np.exp(a1)"
   ]
  },
  {
   "cell_type": "code",
   "execution_count": 53,
   "id": "9641545c-4e13-41b0-a54d-c2e893359052",
   "metadata": {},
   "outputs": [
    {
     "data": {
      "text/plain": [
       "array([[39.33202357, 60.34415887, 44.18429507],\n",
       "       [38.98373798, 43.59453489, 78.39581259]])"
      ]
     },
     "execution_count": 53,
     "metadata": {},
     "output_type": "execute_result"
    }
   ],
   "source": [
    "# round/floor/ceil\n",
    "np.random.random((2,3))*100"
   ]
  },
  {
   "cell_type": "code",
   "execution_count": 54,
   "id": "1f2891d9-1c1f-4417-9d9f-e1adcc51adb4",
   "metadata": {},
   "outputs": [
    {
     "data": {
      "text/plain": [
       "array([[96., 57., 97.],\n",
       "       [68., 89., 47.]])"
      ]
     },
     "execution_count": 54,
     "metadata": {},
     "output_type": "execute_result"
    }
   ],
   "source": [
    "np.round(np.random.random((2,3))*100)"
   ]
  },
  {
   "cell_type": "code",
   "execution_count": 55,
   "id": "6732542f-dff9-4865-b7f8-e02d5b4a4a21",
   "metadata": {},
   "outputs": [
    {
     "data": {
      "text/plain": [
       "array([[49., 85.,  9.],\n",
       "       [ 6., 20., 82.]])"
      ]
     },
     "execution_count": 55,
     "metadata": {},
     "output_type": "execute_result"
    }
   ],
   "source": [
    "np.floor(np.random.random((2,3))*100)"
   ]
  },
  {
   "cell_type": "code",
   "execution_count": 56,
   "id": "f31edbc5-6ad1-4204-bed2-e040771aa9da",
   "metadata": {},
   "outputs": [
    {
     "data": {
      "text/plain": [
       "array([[74., 21., 43.],\n",
       "       [97., 82., 97.]])"
      ]
     },
     "execution_count": 56,
     "metadata": {},
     "output_type": "execute_result"
    }
   ],
   "source": [
    "np.ceil(np.random.random((2,3))*100)"
   ]
  },
  {
   "cell_type": "markdown",
   "id": "d0740db5",
   "metadata": {},
   "source": [
    "### Dimension"
   ]
  },
  {
   "cell_type": "markdown",
   "id": "ff83382f",
   "metadata": {},
   "source": [
    "#### 0-D Array (Scalars)\n",
    "* 0-D arrays, or Scalars, are the elements in an array. Each value in an array is a 0-D array.\n"
   ]
  },
  {
   "cell_type": "code",
   "execution_count": 57,
   "id": "db5bdcb4",
   "metadata": {},
   "outputs": [
    {
     "name": "stdout",
     "output_type": "stream",
     "text": [
      "255\n"
     ]
    }
   ],
   "source": [
    "zero_d_arr = np.array(255)\n",
    "print(zero_d_arr)"
   ]
  },
  {
   "cell_type": "markdown",
   "id": "36573504",
   "metadata": {},
   "source": [
    "#### 1-D Array\n",
    "* An array that has 0-D arrays as its elements is called uni-dimensional or 1-D array.\n",
    "* These are the most common and basic arrays."
   ]
  },
  {
   "cell_type": "code",
   "execution_count": 58,
   "id": "a59aabbf",
   "metadata": {},
   "outputs": [
    {
     "name": "stdout",
     "output_type": "stream",
     "text": [
      "[1 2 3 4 5]\n"
     ]
    }
   ],
   "source": [
    "one_d_arr = np.array([1,2,3,4,5])\n",
    "print(one_d_arr)"
   ]
  },
  {
   "cell_type": "markdown",
   "id": "92f34546",
   "metadata": {},
   "source": [
    "#### 2-D Array (Matrix or 2nd Order Tensor)\n",
    "\n",
    "* These are often used to represent matrix or 2nd order tensors."
   ]
  },
  {
   "cell_type": "code",
   "execution_count": 59,
   "id": "809f6556",
   "metadata": {},
   "outputs": [
    {
     "name": "stdout",
     "output_type": "stream",
     "text": [
      "[[1 2 3]\n",
      " [4 5 6]]\n"
     ]
    }
   ],
   "source": [
    "two_d_arr = np.array([[1,2,3], [4,5,6]])\n",
    "print(two_d_arr)"
   ]
  },
  {
   "cell_type": "markdown",
   "id": "851595fe",
   "metadata": {},
   "source": [
    "#### 3-D Array (Matrices or 3rd Order Tensor)\n",
    "* An array that has 2-D arrays (matrices) as its elements is called 3-D array.\n",
    "* These are often used to represent a 3rd order tensor.\n",
    "* 3-D arrays has two 2-D arrays."
   ]
  },
  {
   "cell_type": "markdown",
   "id": "e7c3f92f",
   "metadata": {},
   "source": [
    "#### Higher Dimension Array\n",
    "* An array can have any number of dimensions.\n",
    "* When the array is created, you can define the number of dimensions by using the ndmin argument."
   ]
  },
  {
   "cell_type": "code",
   "execution_count": 60,
   "id": "0fb7ca70",
   "metadata": {},
   "outputs": [
    {
     "name": "stdout",
     "output_type": "stream",
     "text": [
      "[[[[[1 2 3 4 5]]]]]\n",
      "Dimension of Array: 5\n"
     ]
    }
   ],
   "source": [
    "higher_d_arr = np.array([1,2,3,4,5], ndmin = 5)\n",
    "print(higher_d_arr)\n",
    "print(f\"Dimension of Array: {higher_d_arr.ndim}\")"
   ]
  },
  {
   "cell_type": "markdown",
   "id": "7d9993ee",
   "metadata": {},
   "source": [
    "### Numpy Array Indexing"
   ]
  },
  {
   "cell_type": "markdown",
   "id": "67f1a161",
   "metadata": {},
   "source": [
    "#### Access 1-D Array"
   ]
  },
  {
   "cell_type": "code",
   "execution_count": 61,
   "id": "45fce903",
   "metadata": {},
   "outputs": [
    {
     "name": "stdout",
     "output_type": "stream",
     "text": [
      "3\n",
      "1\n"
     ]
    }
   ],
   "source": [
    "arr = np.array([1,2,3,4,5])\n",
    "print(arr[2])\n",
    "print(arr[0])"
   ]
  },
  {
   "cell_type": "markdown",
   "id": "5b2e3519",
   "metadata": {},
   "source": [
    "#### Access 2-D Array"
   ]
  },
  {
   "cell_type": "code",
   "execution_count": 62,
   "id": "53f83706",
   "metadata": {},
   "outputs": [
    {
     "name": "stdout",
     "output_type": "stream",
     "text": [
      "[[1 2 3]\n",
      " [4 5 6]]\n"
     ]
    }
   ],
   "source": [
    "arr = np.array([[1,2,3],[4,5,6]])\n",
    "print(arr)"
   ]
  },
  {
   "cell_type": "code",
   "execution_count": 63,
   "id": "61bc8229",
   "metadata": {},
   "outputs": [
    {
     "name": "stdout",
     "output_type": "stream",
     "text": [
      "second element of 1st row: 2\n"
     ]
    }
   ],
   "source": [
    "print(f\"second element of 1st row: {arr[0,1]}\")"
   ]
  },
  {
   "cell_type": "code",
   "execution_count": 64,
   "id": "a0451088",
   "metadata": {},
   "outputs": [
    {
     "name": "stdout",
     "output_type": "stream",
     "text": [
      "first element of 1st row: 1\n"
     ]
    }
   ],
   "source": [
    "print(f\"first element of 1st row: {arr[0,0]}\")"
   ]
  },
  {
   "cell_type": "code",
   "execution_count": 65,
   "id": "af91e88d",
   "metadata": {},
   "outputs": [
    {
     "name": "stdout",
     "output_type": "stream",
     "text": [
      "sixth element of 2nd row: 6\n"
     ]
    }
   ],
   "source": [
    "print(f\"sixth element of 2nd row: {arr[1,2]}\")"
   ]
  },
  {
   "cell_type": "code",
   "execution_count": 66,
   "id": "744c745f",
   "metadata": {},
   "outputs": [
    {
     "name": "stdout",
     "output_type": "stream",
     "text": [
      "Fifth element of 2nd row: 5\n"
     ]
    }
   ],
   "source": [
    "print(f\"Fifth element of 2nd row: {arr[1,1]}\")"
   ]
  },
  {
   "cell_type": "markdown",
   "id": "51876024",
   "metadata": {},
   "source": [
    "#### Access 3-D Array"
   ]
  },
  {
   "cell_type": "code",
   "execution_count": 67,
   "id": "508ceb68",
   "metadata": {},
   "outputs": [
    {
     "name": "stdout",
     "output_type": "stream",
     "text": [
      "[[[ 1  2  3]\n",
      "  [ 4  5  6]]\n",
      "\n",
      " [[ 7  8  9]\n",
      "  [10 11 12]]]\n"
     ]
    }
   ],
   "source": [
    "three_d_array = np.array([[[1,2,3],[4,5,6]], [[7,8,9],[10,11,12]]])\n",
    "print(three_d_array)"
   ]
  },
  {
   "cell_type": "code",
   "execution_count": 68,
   "id": "5182911d",
   "metadata": {},
   "outputs": [
    {
     "name": "stdout",
     "output_type": "stream",
     "text": [
      "[[1 2 3]\n",
      " [4 5 6]]\n"
     ]
    }
   ],
   "source": [
    "print(three_d_array[0]) \n",
    "# The first number represents the first dimension, which contains two arrays:"
   ]
  },
  {
   "cell_type": "code",
   "execution_count": 69,
   "id": "ffdf71d4",
   "metadata": {},
   "outputs": [
    {
     "name": "stdout",
     "output_type": "stream",
     "text": [
      "[4 5 6]\n"
     ]
    }
   ],
   "source": [
    "print(three_d_array[0,1])\n",
    "# The second number represents the second dimension, which also contains two arrays:\n",
    "# Since we selected 1, we are left with the second array:"
   ]
  },
  {
   "cell_type": "code",
   "execution_count": 70,
   "id": "1b5bccdc",
   "metadata": {},
   "outputs": [
    {
     "name": "stdout",
     "output_type": "stream",
     "text": [
      "6\n"
     ]
    }
   ],
   "source": [
    "print(three_d_array[0, 1, 2])\n",
    "# The third number represents the third dimension, which contains three values:\n",
    "# Since we selected 2, we end up with the third value:"
   ]
  },
  {
   "cell_type": "code",
   "execution_count": 71,
   "id": "bde7f33f",
   "metadata": {},
   "outputs": [
    {
     "name": "stdout",
     "output_type": "stream",
     "text": [
      "[[ 7  8  9]\n",
      " [10 11 12]]\n"
     ]
    }
   ],
   "source": [
    "print(three_d_array[1])"
   ]
  },
  {
   "cell_type": "code",
   "execution_count": 72,
   "id": "1523e2ac",
   "metadata": {},
   "outputs": [
    {
     "name": "stdout",
     "output_type": "stream",
     "text": [
      "[7 8 9]\n"
     ]
    }
   ],
   "source": [
    "print(three_d_array[1,0])"
   ]
  },
  {
   "cell_type": "code",
   "execution_count": 73,
   "id": "fd166aec",
   "metadata": {},
   "outputs": [
    {
     "name": "stdout",
     "output_type": "stream",
     "text": [
      "8\n"
     ]
    }
   ],
   "source": [
    "print(three_d_array[1,0,1])"
   ]
  },
  {
   "cell_type": "code",
   "execution_count": 74,
   "id": "bbdfd0be",
   "metadata": {},
   "outputs": [
    {
     "name": "stdout",
     "output_type": "stream",
     "text": [
      "[[[ 1  2  3]\n",
      "  [ 4  5  6]]\n",
      "\n",
      " [[ 7  8  9]\n",
      "  [10 11 12]]]\n"
     ]
    }
   ],
   "source": [
    "print(three_d_array)"
   ]
  },
  {
   "cell_type": "code",
   "execution_count": 75,
   "id": "9bcd8a1d",
   "metadata": {},
   "outputs": [
    {
     "name": "stdout",
     "output_type": "stream",
     "text": [
      "12\n"
     ]
    }
   ],
   "source": [
    "print(three_d_array[1,1,2])"
   ]
  },
  {
   "cell_type": "code",
   "execution_count": 76,
   "id": "016288fd",
   "metadata": {},
   "outputs": [
    {
     "name": "stdout",
     "output_type": "stream",
     "text": [
      "7\n"
     ]
    }
   ],
   "source": [
    "print(three_d_array[1,0,0])"
   ]
  },
  {
   "cell_type": "markdown",
   "id": "0436c170",
   "metadata": {},
   "source": [
    "#### Negative Indexing"
   ]
  },
  {
   "cell_type": "code",
   "execution_count": 77,
   "id": "ca7311ec",
   "metadata": {},
   "outputs": [
    {
     "name": "stdout",
     "output_type": "stream",
     "text": [
      "The last element of an array: 10\n"
     ]
    }
   ],
   "source": [
    "arr = np.array([[1,2,3,4,5],[6,7,8,9,10]])\n",
    "print(f\"The last element of an array: {arr[1,-1]}\")"
   ]
  },
  {
   "cell_type": "markdown",
   "id": "31a380ea",
   "metadata": {},
   "source": [
    "# NumPy Array Slicing"
   ]
  },
  {
   "cell_type": "markdown",
   "id": "2c350ece",
   "metadata": {},
   "source": [
    "* Slicing means taking elements from one given index to another given index.\n",
    "* Syntax:\n",
    "    [start:end:step]\n",
    "* Default value of `start` is `0` if did not define.\n",
    "* Default value of `end` is `length` of the array.\n",
    "* If we define value in `end` it is excluded and will give result `n-1`. (`n` means length of the array).\n",
    "* Default value of `step` is `1` if did not define.\n",
    "* When requirement is for particular `column` we requried all `rows`.\n",
    "* When requirement is for particular `row` we required all `columns`.\n"
   ]
  },
  {
   "cell_type": "code",
   "execution_count": 78,
   "id": "03c05832",
   "metadata": {},
   "outputs": [
    {
     "name": "stdout",
     "output_type": "stream",
     "text": [
      "[2 3 4 5 6 7 8 9]\n"
     ]
    }
   ],
   "source": [
    "arr = np.array([1, 2, 3, 4, 5, 6, 7, 8, 9, 10])\n",
    "print(arr[1:9])"
   ]
  },
  {
   "cell_type": "code",
   "execution_count": 79,
   "id": "69ca220d",
   "metadata": {},
   "outputs": [
    {
     "name": "stdout",
     "output_type": "stream",
     "text": [
      "[ 5  6  7  8  9 10]\n"
     ]
    }
   ],
   "source": [
    "print(arr[4:])"
   ]
  },
  {
   "cell_type": "code",
   "execution_count": 80,
   "id": "47349d33",
   "metadata": {},
   "outputs": [
    {
     "name": "stdout",
     "output_type": "stream",
     "text": [
      "[1 2 3 4]\n"
     ]
    }
   ],
   "source": [
    "print(arr[:4])"
   ]
  },
  {
   "cell_type": "markdown",
   "id": "81d86c05",
   "metadata": {},
   "source": [
    "#### Negative Slicing"
   ]
  },
  {
   "cell_type": "code",
   "execution_count": 81,
   "id": "09f672a2",
   "metadata": {},
   "outputs": [
    {
     "name": "stdout",
     "output_type": "stream",
     "text": [
      "[8 9]\n"
     ]
    }
   ],
   "source": [
    "arr = np.array([1, 2, 3, 4, 5, 6, 7, 8, 9, 10])\n",
    "print(arr[-3:-1])\n",
    "# According to reule start value must be less than end value.\n",
    "# In above example -3 < -1."
   ]
  },
  {
   "cell_type": "code",
   "execution_count": 82,
   "id": "559f53d7",
   "metadata": {},
   "outputs": [
    {
     "name": "stdout",
     "output_type": "stream",
     "text": [
      "[]\n"
     ]
    }
   ],
   "source": [
    "print(arr[-1:-3])\n",
    "# Result is empty array because start value is greater than end value."
   ]
  },
  {
   "cell_type": "code",
   "execution_count": 83,
   "id": "fc08f302",
   "metadata": {},
   "outputs": [
    {
     "name": "stdout",
     "output_type": "stream",
     "text": [
      "[2 3 4 5]\n"
     ]
    }
   ],
   "source": [
    "print(arr[1:5:1])"
   ]
  },
  {
   "cell_type": "code",
   "execution_count": 84,
   "id": "9126cad9",
   "metadata": {},
   "outputs": [
    {
     "name": "stdout",
     "output_type": "stream",
     "text": [
      "[2 4]\n"
     ]
    }
   ],
   "source": [
    "print(arr[1:5:2])"
   ]
  },
  {
   "cell_type": "code",
   "execution_count": 85,
   "id": "9e6b7b3b",
   "metadata": {},
   "outputs": [
    {
     "name": "stdout",
     "output_type": "stream",
     "text": [
      "[1 3 5 7 9]\n"
     ]
    }
   ],
   "source": [
    "print(arr[::2])"
   ]
  },
  {
   "cell_type": "markdown",
   "id": "be38d9e1",
   "metadata": {},
   "source": [
    "#### Slicing 2-D Arrays"
   ]
  },
  {
   "cell_type": "code",
   "execution_count": 86,
   "id": "aa66f6a7",
   "metadata": {},
   "outputs": [
    {
     "name": "stdout",
     "output_type": "stream",
     "text": [
      "[7 8 9]\n"
     ]
    }
   ],
   "source": [
    "# From the second element, slice elements from index 1 to index 4 (not included):\n",
    "arr = np.array([[1, 2, 3, 4, 5], [6, 7, 8, 9, 10]])\n",
    "print(arr[1, 1:4])"
   ]
  },
  {
   "cell_type": "code",
   "execution_count": 87,
   "id": "e8db97ca",
   "metadata": {},
   "outputs": [
    {
     "name": "stdout",
     "output_type": "stream",
     "text": [
      "[[ 1  2  3  4  5]\n",
      " [ 6  7  8  9 10]]\n",
      "[3 8]\n"
     ]
    }
   ],
   "source": [
    "# From both elements, return index 2:\n",
    "arr = np.array([[1, 2, 3, 4, 5], [6, 7, 8, 9, 10]])\n",
    "print(arr)\n",
    "print(arr[0:2, 2])"
   ]
  },
  {
   "cell_type": "code",
   "execution_count": 88,
   "id": "5d591690",
   "metadata": {},
   "outputs": [
    {
     "name": "stdout",
     "output_type": "stream",
     "text": [
      "[[ 1  2  3  4  5]\n",
      " [ 6  7  8  9 10]]\n"
     ]
    }
   ],
   "source": [
    "# From both elements, slice index 1 to index 4 (not included), \n",
    "# this will return a 2-D array:\n",
    "arr = np.array([[1, 2, 3, 4, 5], [6, 7, 8, 9, 10]])\n",
    "print(arr)"
   ]
  },
  {
   "cell_type": "code",
   "execution_count": 89,
   "id": "14cc0c34",
   "metadata": {},
   "outputs": [
    {
     "name": "stdout",
     "output_type": "stream",
     "text": [
      "[[2 3 4]\n",
      " [7 8 9]]\n"
     ]
    }
   ],
   "source": [
    "print(arr[0:2, 1:4])"
   ]
  },
  {
   "cell_type": "code",
   "execution_count": 90,
   "id": "4ebb80cd",
   "metadata": {},
   "outputs": [
    {
     "name": "stdout",
     "output_type": "stream",
     "text": [
      "[[ 1  2  3  4  5]\n",
      " [ 6  7  8  9 10]]\n"
     ]
    }
   ],
   "source": [
    "arr = np.array([[1, 2, 3, 4, 5], [6, 7, 8, 9, 10]])\n",
    "print(arr)"
   ]
  },
  {
   "cell_type": "code",
   "execution_count": 91,
   "id": "2423a303",
   "metadata": {},
   "outputs": [
    {
     "name": "stdout",
     "output_type": "stream",
     "text": [
      "[[3 4]\n",
      " [8 9]]\n"
     ]
    }
   ],
   "source": [
    "print(arr[:,2:4])"
   ]
  },
  {
   "cell_type": "code",
   "execution_count": 92,
   "id": "7d056672",
   "metadata": {},
   "outputs": [
    {
     "name": "stdout",
     "output_type": "stream",
     "text": [
      "[[ 9 10]\n",
      " [14 15]]\n"
     ]
    }
   ],
   "source": [
    "arr = np.array([[1, 2, 3, 4, 5], [6, 7, 8, 9, 10], [11, 12, 13, 14, 15]])\n",
    "print(arr[1:, 3:])"
   ]
  },
  {
   "cell_type": "code",
   "execution_count": 93,
   "id": "e21151f6",
   "metadata": {},
   "outputs": [
    {
     "name": "stdout",
     "output_type": "stream",
     "text": [
      "[[ 1  2  3  4  5]\n",
      " [ 6  7  8  9 10]\n",
      " [11 12 13 14 15]]\n"
     ]
    }
   ],
   "source": [
    "arr = np.array([[1, 2, 3, 4, 5], [6, 7, 8, 9, 10], [11, 12, 13, 14, 15]])\n",
    "print(arr)"
   ]
  },
  {
   "cell_type": "code",
   "execution_count": 94,
   "id": "dd9578eb",
   "metadata": {},
   "outputs": [
    {
     "name": "stdout",
     "output_type": "stream",
     "text": [
      "[[ 1  5]\n",
      " [11 15]]\n"
     ]
    }
   ],
   "source": [
    "print(arr[::2, ::4])"
   ]
  },
  {
   "cell_type": "code",
   "execution_count": 95,
   "id": "6a36bf9c",
   "metadata": {},
   "outputs": [
    {
     "name": "stdout",
     "output_type": "stream",
     "text": [
      "[[ 1  2  3  4  5]\n",
      " [ 6  7  8  9 10]\n",
      " [11 12 13 14 15]]\n"
     ]
    }
   ],
   "source": [
    "arr = np.array([[1, 2, 3, 4, 5], [6, 7, 8, 9, 10], [11, 12, 13, 14, 15]])\n",
    "print(arr)"
   ]
  },
  {
   "cell_type": "code",
   "execution_count": 96,
   "id": "3b68c3de",
   "metadata": {},
   "outputs": [
    {
     "name": "stdout",
     "output_type": "stream",
     "text": [
      "[[ 2  4]\n",
      " [12 14]]\n"
     ]
    }
   ],
   "source": [
    "print(arr[::2,1:4:2])"
   ]
  },
  {
   "cell_type": "code",
   "execution_count": 97,
   "id": "ec7f21b0",
   "metadata": {},
   "outputs": [
    {
     "name": "stdout",
     "output_type": "stream",
     "text": [
      "[ 6 10]\n"
     ]
    }
   ],
   "source": [
    "print(arr[1,0::4])"
   ]
  },
  {
   "cell_type": "code",
   "execution_count": 98,
   "id": "e4b97ec7-493f-499e-a600-890cb290564d",
   "metadata": {},
   "outputs": [
    {
     "name": "stdout",
     "output_type": "stream",
     "text": [
      "[[ 3  4  5]\n",
      " [ 8  9 10]]\n"
     ]
    }
   ],
   "source": [
    "print(arr[0:2, 2::])"
   ]
  },
  {
   "cell_type": "code",
   "execution_count": 99,
   "id": "51c544d8-4e9e-4be0-8af5-ba6e079a992a",
   "metadata": {},
   "outputs": [
    {
     "name": "stdout",
     "output_type": "stream",
     "text": [
      "[[ 3  5]\n",
      " [ 8 10]]\n"
     ]
    }
   ],
   "source": [
    "print(arr[0:2, 2::2])"
   ]
  },
  {
   "cell_type": "markdown",
   "id": "4b2c6f20",
   "metadata": {},
   "source": [
    "#### Slicing 3-D Arrays"
   ]
  },
  {
   "cell_type": "code",
   "execution_count": 100,
   "id": "93adef50",
   "metadata": {},
   "outputs": [
    {
     "name": "stdout",
     "output_type": "stream",
     "text": [
      "[[[ 0  1  2]\n",
      "  [ 3  4  5]\n",
      "  [ 6  7  8]]\n",
      "\n",
      " [[ 9 10 11]\n",
      "  [12 13 14]\n",
      "  [15 16 17]]\n",
      "\n",
      " [[18 19 20]\n",
      "  [21 22 23]\n",
      "  [24 25 26]]]\n"
     ]
    }
   ],
   "source": [
    "arr = np.arange(27).reshape(3,3,3)\n",
    "print(arr)"
   ]
  },
  {
   "cell_type": "code",
   "execution_count": 101,
   "id": "05604952",
   "metadata": {},
   "outputs": [
    {
     "name": "stdout",
     "output_type": "stream",
     "text": [
      "[[ 9 10 11]\n",
      " [12 13 14]\n",
      " [15 16 17]]\n"
     ]
    }
   ],
   "source": [
    "# From the second element, slice elements from index 1 to index 4 (not included):\n",
    "print(arr[1])"
   ]
  },
  {
   "cell_type": "code",
   "execution_count": 102,
   "id": "56eeb772-4e1d-46be-ad0f-e9d7dc1b97d4",
   "metadata": {},
   "outputs": [
    {
     "name": "stdout",
     "output_type": "stream",
     "text": [
      "[[[ 0  1  2]\n",
      "  [ 3  4  5]\n",
      "  [ 6  7  8]]\n",
      "\n",
      " [[18 19 20]\n",
      "  [21 22 23]\n",
      "  [24 25 26]]]\n"
     ]
    }
   ],
   "source": [
    "print(arr[::2])"
   ]
  },
  {
   "cell_type": "code",
   "execution_count": 103,
   "id": "92a0087e-bccf-4846-aa66-7e046e2f406a",
   "metadata": {},
   "outputs": [
    {
     "name": "stdout",
     "output_type": "stream",
     "text": [
      "[3 4 5]\n"
     ]
    }
   ],
   "source": [
    "print(arr[0,1])"
   ]
  },
  {
   "cell_type": "code",
   "execution_count": 104,
   "id": "e5a81ac6-a2bf-456f-a08f-c18ff54b6c10",
   "metadata": {},
   "outputs": [
    {
     "name": "stdout",
     "output_type": "stream",
     "text": [
      "[[[ 0  1  2]\n",
      "  [ 3  4  5]\n",
      "  [ 6  7  8]]\n",
      "\n",
      " [[ 9 10 11]\n",
      "  [12 13 14]\n",
      "  [15 16 17]]\n",
      "\n",
      " [[18 19 20]\n",
      "  [21 22 23]\n",
      "  [24 25 26]]]\n"
     ]
    }
   ],
   "source": [
    "print(arr)"
   ]
  },
  {
   "cell_type": "code",
   "execution_count": 105,
   "id": "ffc11eef-2f53-4831-9795-8e3f8a2a4f3a",
   "metadata": {},
   "outputs": [
    {
     "name": "stdout",
     "output_type": "stream",
     "text": [
      "[10 13 16]\n"
     ]
    }
   ],
   "source": [
    "print(arr[1,::,1])"
   ]
  },
  {
   "cell_type": "code",
   "execution_count": 106,
   "id": "430615e8-4b79-4d69-a252-bbc11771452a",
   "metadata": {},
   "outputs": [
    {
     "name": "stdout",
     "output_type": "stream",
     "text": [
      "[[22 23]\n",
      " [25 26]]\n"
     ]
    }
   ],
   "source": [
    "print(arr[2,1:,1:])"
   ]
  },
  {
   "cell_type": "code",
   "execution_count": 107,
   "id": "862d1e8c-d64a-45ef-9ae9-4df7b2565056",
   "metadata": {},
   "outputs": [
    {
     "name": "stdout",
     "output_type": "stream",
     "text": [
      "[[[ 0  1  2]\n",
      "  [ 3  4  5]\n",
      "  [ 6  7  8]]\n",
      "\n",
      " [[ 9 10 11]\n",
      "  [12 13 14]\n",
      "  [15 16 17]]\n",
      "\n",
      " [[18 19 20]\n",
      "  [21 22 23]\n",
      "  [24 25 26]]]\n"
     ]
    }
   ],
   "source": [
    "print(arr)"
   ]
  },
  {
   "cell_type": "code",
   "execution_count": 108,
   "id": "c826da25-b2d1-4775-ac78-e60a330dac47",
   "metadata": {},
   "outputs": [
    {
     "name": "stdout",
     "output_type": "stream",
     "text": [
      "[[ 0  2]\n",
      " [18 20]]\n"
     ]
    }
   ],
   "source": [
    "print(arr[0::2, 0, ::2])"
   ]
  },
  {
   "cell_type": "markdown",
   "id": "8655a53a-cb72-4d6b-bfce-46dce08fdbab",
   "metadata": {},
   "source": [
    "# Iterating"
   ]
  },
  {
   "cell_type": "code",
   "execution_count": 109,
   "id": "9e839873-53e5-47d8-9855-e3d524349902",
   "metadata": {},
   "outputs": [],
   "source": [
    "one_d_array = np.arange(10).reshape(10)\n",
    "two_d_array = np.arange(12).reshape(3,4)\n",
    "three_d_array = np.arange(27).reshape(3,3,3)"
   ]
  },
  {
   "cell_type": "code",
   "execution_count": 110,
   "id": "c17d7970-8d9f-4a42-9f52-05c318c63dc2",
   "metadata": {},
   "outputs": [
    {
     "name": "stdout",
     "output_type": "stream",
     "text": [
      "0\n",
      "1\n",
      "2\n",
      "3\n",
      "4\n",
      "5\n",
      "6\n",
      "7\n",
      "8\n",
      "9\n"
     ]
    }
   ],
   "source": [
    "# This will fetch all elements from 1-D array\n",
    "for i in one_d_array:\n",
    "    print(i)"
   ]
  },
  {
   "cell_type": "code",
   "execution_count": 111,
   "id": "fdbe1216-6429-4cf2-95b3-a8009c6ed385",
   "metadata": {},
   "outputs": [
    {
     "name": "stdout",
     "output_type": "stream",
     "text": [
      "[0 1 2 3]\n",
      "[4 5 6 7]\n",
      "[ 8  9 10 11]\n"
     ]
    }
   ],
   "source": [
    "# This will fetch one row at a time\n",
    "for i in two_d_array:\n",
    "    print(i)"
   ]
  },
  {
   "cell_type": "code",
   "execution_count": 112,
   "id": "626bcf8b-92a4-48b9-92b9-cabbf44a1a24",
   "metadata": {},
   "outputs": [
    {
     "name": "stdout",
     "output_type": "stream",
     "text": [
      "[[0 1 2]\n",
      " [3 4 5]\n",
      " [6 7 8]]\n",
      "[[ 9 10 11]\n",
      " [12 13 14]\n",
      " [15 16 17]]\n",
      "[[18 19 20]\n",
      " [21 22 23]\n",
      " [24 25 26]]\n"
     ]
    }
   ],
   "source": [
    "# This will fetch one 2-D array at a time.\n",
    "for i in three_d_array:\n",
    "    print(i)"
   ]
  },
  {
   "cell_type": "code",
   "execution_count": 113,
   "id": "ac1a580c-d7df-4310-9250-40a71d81193e",
   "metadata": {},
   "outputs": [
    {
     "name": "stdout",
     "output_type": "stream",
     "text": [
      "0, 1, 2, 3, 4, 5, 6, 7, 8, 9, 10, 11, 12, 13, 14, 15, 16, 17, 18, 19, 20, 21, 22, 23, 24, 25, 26, "
     ]
    }
   ],
   "source": [
    "# This will fetch all the items in the array\n",
    "# nditer convert 3-D array into 1-D array and then fetch all the elements in the array.\n",
    "# This syntax will use for any dimension array.\n",
    "for i in np.nditer(three_d_array):\n",
    "    print(i, end=\", \")"
   ]
  },
  {
   "cell_type": "markdown",
   "id": "b2a69b09-be5e-408a-a244-c723e424a4fa",
   "metadata": {},
   "source": [
    "# Reshaping\n",
    "* This is a temporary operation.\n",
    "* Whenever we see output it's means it is temporary"
   ]
  },
  {
   "cell_type": "markdown",
   "id": "7848b9ca-3836-41d8-b8e5-b42ebf31e635",
   "metadata": {},
   "source": [
    "#### reshape()"
   ]
  },
  {
   "cell_type": "markdown",
   "id": "e6cbf250-f66e-42c3-873d-f5a1a9e76b69",
   "metadata": {},
   "source": [
    "#### transpose()"
   ]
  },
  {
   "cell_type": "code",
   "execution_count": 114,
   "id": "89dc96cf-563b-4eac-8f8d-70ec72312b5d",
   "metadata": {},
   "outputs": [
    {
     "name": "stdout",
     "output_type": "stream",
     "text": [
      "[[ 0  1  2  3]\n",
      " [ 4  5  6  7]\n",
      " [ 8  9 10 11]] \n",
      "\n",
      "[[ 0  4  8]\n",
      " [ 1  5  9]\n",
      " [ 2  6 10]\n",
      " [ 3  7 11]]\n"
     ]
    }
   ],
   "source": [
    "print(two_d_array,\"\\n\")\n",
    "\n",
    "print(np.transpose(two_d_array))"
   ]
  },
  {
   "cell_type": "code",
   "execution_count": 115,
   "id": "aa7ff738-08c7-4e4d-ad3f-6f0fc1b14019",
   "metadata": {},
   "outputs": [
    {
     "data": {
      "text/plain": [
       "array([[ 0,  4,  8],\n",
       "       [ 1,  5,  9],\n",
       "       [ 2,  6, 10],\n",
       "       [ 3,  7, 11]])"
      ]
     },
     "execution_count": 115,
     "metadata": {},
     "output_type": "execute_result"
    }
   ],
   "source": [
    "two_d_array.T # This is shortest way"
   ]
  },
  {
   "cell_type": "markdown",
   "id": "0fa46b73-f723-4e08-9a11-7d19adc17e70",
   "metadata": {},
   "source": [
    "#### ravel()"
   ]
  },
  {
   "cell_type": "code",
   "execution_count": 116,
   "id": "fb07952b-e5a8-4384-9e2f-48c19eed5543",
   "metadata": {},
   "outputs": [
    {
     "name": "stdout",
     "output_type": "stream",
     "text": [
      "[[ 0  1  2  3]\n",
      " [ 4  5  6  7]\n",
      " [ 8  9 10 11]]\n"
     ]
    },
    {
     "data": {
      "text/plain": [
       "array([ 0,  1,  2,  3,  4,  5,  6,  7,  8,  9, 10, 11])"
      ]
     },
     "execution_count": 116,
     "metadata": {},
     "output_type": "execute_result"
    }
   ],
   "source": [
    "# This will convert any dimension array into 1-D array\n",
    "print(two_d_array)\n",
    "two_d_array.ravel()"
   ]
  },
  {
   "cell_type": "code",
   "execution_count": 117,
   "id": "d7fe2edd-3190-4609-ba23-6243e10b6e7b",
   "metadata": {},
   "outputs": [
    {
     "data": {
      "text/plain": [
       "array([ 0,  1,  2,  3,  4,  5,  6,  7,  8,  9, 10, 11, 12, 13, 14, 15, 16,\n",
       "       17, 18, 19, 20, 21, 22, 23, 24, 25, 26])"
      ]
     },
     "execution_count": 117,
     "metadata": {},
     "output_type": "execute_result"
    }
   ],
   "source": [
    "three_d_array.ravel()"
   ]
  },
  {
   "cell_type": "markdown",
   "id": "84388260-c805-4695-97e8-f1cc6f356afe",
   "metadata": {},
   "source": [
    " # Stacking\n",
    " * This is to be used for join two arrays.\n",
    " * The shape of the arrays must be the same.\n",
    " * Any number of arrays.\n",
    " * This could be horizontal.\n",
    "     *  If we have 2 arrays `[ 2 x 2 ]` `[ 2 x 2 ]` it will convert into `[ 2 x 4 ]`\n",
    " * This could be vertical.\n",
    "     * If we have 2 arrays `[ 2 x 2 ]` `[ 2 x 2 ]` it will convert into `[ 4 x 2 ]`\n",
    "  "
   ]
  },
  {
   "cell_type": "markdown",
   "id": "7a1f839f-2c2a-4252-b3a0-ae4b771c6946",
   "metadata": {},
   "source": [
    "#### Horizontal Stacking"
   ]
  },
  {
   "cell_type": "code",
   "execution_count": 118,
   "id": "490e2aaf-7400-45af-8f10-e4ec2e7cb913",
   "metadata": {},
   "outputs": [],
   "source": [
    "a4 = np.arange(12).reshape(3,4)\n",
    "a5 = np.arange(12, 24).reshape(3,4)"
   ]
  },
  {
   "cell_type": "code",
   "execution_count": 119,
   "id": "b01f7f3d-e5bd-4427-b443-781dd535a20f",
   "metadata": {},
   "outputs": [
    {
     "data": {
      "text/plain": [
       "array([[ 0,  1,  2,  3, 12, 13, 14, 15],\n",
       "       [ 4,  5,  6,  7, 16, 17, 18, 19],\n",
       "       [ 8,  9, 10, 11, 20, 21, 22, 23]])"
      ]
     },
     "execution_count": 119,
     "metadata": {},
     "output_type": "execute_result"
    }
   ],
   "source": [
    "np.hstack((a4, a5))"
   ]
  },
  {
   "cell_type": "code",
   "execution_count": 120,
   "id": "00012e13-7866-4585-a85f-048ad749277b",
   "metadata": {},
   "outputs": [
    {
     "data": {
      "text/plain": [
       "array([[ 0,  1,  2,  3, 12, 13, 14, 15,  0,  1,  2,  3],\n",
       "       [ 4,  5,  6,  7, 16, 17, 18, 19,  4,  5,  6,  7],\n",
       "       [ 8,  9, 10, 11, 20, 21, 22, 23,  8,  9, 10, 11]])"
      ]
     },
     "execution_count": 120,
     "metadata": {},
     "output_type": "execute_result"
    }
   ],
   "source": [
    "np.hstack((a4, a5, two_d_array))"
   ]
  },
  {
   "cell_type": "code",
   "execution_count": 121,
   "id": "4789378b-51e9-44a7-9a5e-dc100327055a",
   "metadata": {},
   "outputs": [
    {
     "data": {
      "text/plain": [
       "array([[ 0,  1,  2,  3, 12, 13, 14, 15,  0,  1,  2,  3],\n",
       "       [ 4,  5,  6,  7, 16, 17, 18, 19,  4,  5,  6,  7],\n",
       "       [ 8,  9, 10, 11, 20, 21, 22, 23,  8,  9, 10, 11]])"
      ]
     },
     "execution_count": 121,
     "metadata": {},
     "output_type": "execute_result"
    }
   ],
   "source": [
    "np.hstack((a4, a5, two_d_array))"
   ]
  },
  {
   "cell_type": "markdown",
   "id": "894108c7-dbc7-45e9-b291-7deff1af0f1b",
   "metadata": {},
   "source": [
    "#### Vertical Stacking"
   ]
  },
  {
   "cell_type": "code",
   "execution_count": 122,
   "id": "2959367d-19dd-4da7-a4df-94a2ec86fb5c",
   "metadata": {},
   "outputs": [
    {
     "data": {
      "text/plain": [
       "array([[ 0,  1,  2,  3],\n",
       "       [ 4,  5,  6,  7],\n",
       "       [ 8,  9, 10, 11],\n",
       "       [12, 13, 14, 15],\n",
       "       [16, 17, 18, 19],\n",
       "       [20, 21, 22, 23]])"
      ]
     },
     "execution_count": 122,
     "metadata": {},
     "output_type": "execute_result"
    }
   ],
   "source": [
    "np.vstack((a4, a5))"
   ]
  },
  {
   "cell_type": "markdown",
   "id": "9f83713a-faed-40c6-b5a9-bec104db5bd0",
   "metadata": {},
   "source": [
    "# Splitting\n",
    "* This is just an opposite of `stacking`.\n",
    "* It has to be equal division. \n"
   ]
  },
  {
   "cell_type": "markdown",
   "id": "c55836ca-f5dc-4933-b16c-c9e5dcc05d8f",
   "metadata": {},
   "source": [
    "#### Horizontal Spliting"
   ]
  },
  {
   "cell_type": "code",
   "execution_count": 123,
   "id": "4b7c4df0-c954-4515-a7da-e8c8898c2ab8",
   "metadata": {},
   "outputs": [
    {
     "data": {
      "text/plain": [
       "array([[ 0,  1,  2,  3],\n",
       "       [ 4,  5,  6,  7],\n",
       "       [ 8,  9, 10, 11]])"
      ]
     },
     "execution_count": 123,
     "metadata": {},
     "output_type": "execute_result"
    }
   ],
   "source": [
    "two_d_array"
   ]
  },
  {
   "cell_type": "code",
   "execution_count": 124,
   "id": "c51af20f-e1c8-4ec5-86b4-5080df578a2c",
   "metadata": {},
   "outputs": [
    {
     "data": {
      "text/plain": [
       "[array([[0, 1],\n",
       "        [4, 5],\n",
       "        [8, 9]]),\n",
       " array([[ 2,  3],\n",
       "        [ 6,  7],\n",
       "        [10, 11]])]"
      ]
     },
     "execution_count": 124,
     "metadata": {},
     "output_type": "execute_result"
    }
   ],
   "source": [
    "np.hsplit(two_d_array, 2)"
   ]
  },
  {
   "cell_type": "code",
   "execution_count": 125,
   "id": "c045d2aa-996b-4cf5-ae3b-2ba00763dc18",
   "metadata": {},
   "outputs": [
    {
     "data": {
      "text/plain": [
       "[array([[0],\n",
       "        [4],\n",
       "        [8]]),\n",
       " array([[1],\n",
       "        [5],\n",
       "        [9]]),\n",
       " array([[ 2],\n",
       "        [ 6],\n",
       "        [10]]),\n",
       " array([[ 3],\n",
       "        [ 7],\n",
       "        [11]])]"
      ]
     },
     "execution_count": 125,
     "metadata": {},
     "output_type": "execute_result"
    }
   ],
   "source": [
    "np.hsplit(two_d_array, 4)"
   ]
  },
  {
   "cell_type": "code",
   "execution_count": 126,
   "id": "a1227a60-070a-45b5-99d8-a791cf811f53",
   "metadata": {},
   "outputs": [],
   "source": [
    "# np.hsplit(two_d_array, 5) # This would be error"
   ]
  },
  {
   "cell_type": "markdown",
   "id": "27ded894-eae5-425e-861f-86db706179f3",
   "metadata": {},
   "source": [
    "#### Vertical Spliting"
   ]
  },
  {
   "cell_type": "code",
   "execution_count": 127,
   "id": "6a9bf5d2-9c52-4a69-aab5-59833c35d8c6",
   "metadata": {},
   "outputs": [
    {
     "data": {
      "text/plain": [
       "array([[ 0,  1,  2,  3],\n",
       "       [ 4,  5,  6,  7],\n",
       "       [ 8,  9, 10, 11]])"
      ]
     },
     "execution_count": 127,
     "metadata": {},
     "output_type": "execute_result"
    }
   ],
   "source": [
    "two_d_array"
   ]
  },
  {
   "cell_type": "code",
   "execution_count": 128,
   "id": "c35ddcda-82e4-48be-b098-81b3d27fde3a",
   "metadata": {},
   "outputs": [
    {
     "data": {
      "text/plain": [
       "[array([[0, 1, 2, 3]]), array([[4, 5, 6, 7]]), array([[ 8,  9, 10, 11]])]"
      ]
     },
     "execution_count": 128,
     "metadata": {},
     "output_type": "execute_result"
    }
   ],
   "source": [
    "np.vsplit(two_d_array, 3)"
   ]
  },
  {
   "cell_type": "code",
   "execution_count": 129,
   "id": "d5ac9500-dff4-4685-960f-ae128dd7df65",
   "metadata": {},
   "outputs": [],
   "source": [
    "# np.vsplit(two_d_array, 2) # This would be error"
   ]
  },
  {
   "cell_type": "markdown",
   "id": "3b0296cc",
   "metadata": {},
   "source": [
    "# NumPy Array Copy vs View"
   ]
  },
  {
   "cell_type": "markdown",
   "id": "25b39086",
   "metadata": {},
   "source": [
    " * The main difference between a copy and a view of an array is that the copy is a new array, and the view is just a view of the original array.\n",
    " * The copy owns the data and any changes made to the copy will not affect original array, and any changes made to the original array will not affect the copy.\n",
    " * The view does not own the data and any changes made to the view will affect the original array, and any changes made to the original array will affect the view."
   ]
  },
  {
   "cell_type": "code",
   "execution_count": 130,
   "id": "5f2aa401",
   "metadata": {},
   "outputs": [
    {
     "name": "stdout",
     "output_type": "stream",
     "text": [
      "[42  2  3  4  5]\n",
      "[1 2 3 4 5]\n"
     ]
    }
   ],
   "source": [
    "import numpy as np\n",
    "\n",
    "arr = np.array([1, 2, 3, 4, 5])\n",
    "x = arr.copy()\n",
    "arr[0] = 42\n",
    "\n",
    "print(arr)\n",
    "print(x)"
   ]
  },
  {
   "cell_type": "code",
   "execution_count": 131,
   "id": "037593ad",
   "metadata": {},
   "outputs": [
    {
     "name": "stdout",
     "output_type": "stream",
     "text": [
      "[42  2  3  4  5]\n",
      "[42  2  3  4  5]\n"
     ]
    }
   ],
   "source": [
    "import numpy as np\n",
    "\n",
    "arr = np.array([1, 2, 3, 4, 5])\n",
    "x = arr.view()\n",
    "arr[0] = 42\n",
    "\n",
    "print(arr)\n",
    "print(x)"
   ]
  },
  {
   "cell_type": "code",
   "execution_count": 132,
   "id": "090ad607",
   "metadata": {},
   "outputs": [
    {
     "name": "stdout",
     "output_type": "stream",
     "text": [
      "None\n",
      "[1 2 3 4 5]\n"
     ]
    }
   ],
   "source": [
    "# Print the value of the base attribute to check if an array owns it's data or not:\n",
    "import numpy as np\n",
    "\n",
    "arr = np.array([1, 2, 3, 4, 5])\n",
    "\n",
    "x = arr.copy()\n",
    "y = arr.view()\n",
    "\n",
    "print(x.base)\n",
    "print(y.base)"
   ]
  },
  {
   "cell_type": "code",
   "execution_count": null,
   "id": "49114b1c",
   "metadata": {},
   "outputs": [],
   "source": []
  },
  {
   "cell_type": "markdown",
   "id": "dbc887a1-1efd-484f-a082-3616da9c852b",
   "metadata": {},
   "source": [
    "# Extra Advance Spice"
   ]
  },
  {
   "cell_type": "markdown",
   "id": "7f2cf05b-f4d2-4567-9942-d519fd3937dc",
   "metadata": {},
   "source": [
    "#### unravel_index\n",
    "The `numpy.unravel_index` function in NumPy is used to convert a flat index or indices into an array of shape `shape` into a tuple of coordinate arrays. In simpler terms, it helps you find the multi-dimensional indices corresponding to a given flat index in a multi-dimensional array.\n",
    "\n",
    "Here is the basic syntax:\n",
    "\n",
    "```Python\n",
    "numpy.unravel_index(indices, shape, order='C')\n",
    "```\n",
    "- `indices`: An integer or array of integers representing the flat index or indices to be converted.\n",
    "- `shape`: The shape of the array.\n",
    "- `order`: Specifies whether to index the array using C-style (row-major) or Fortran-style (column-major) indexing. The default is 'C'.\n",
    "\n",
    "Let's look at a simple example:\n",
    "\n",
    "In this example, the array has a shape of (3, 4, 5), and we want to find the indices corresponding to the flat index 17. The output will be:\n",
    "\n",
    "```\n",
    "Indices: (0, 3, 2)\n",
    "```\n",
    "\n",
    "This means that the element at the flat index 17 in an array of shape (3, 4, 5) corresponds to the element at position (0, 3, 2). The order of the indices corresponds to the dimensions of the array.\n",
    "\n",
    "This function is particularly useful when working with flattened indices, such as when you're dealing with a 1D representation of a multi-dimensional array."
   ]
  },
  {
   "cell_type": "code",
   "execution_count": 133,
   "id": "0c17d984-7e19-4838-9dde-1213b7e97374",
   "metadata": {},
   "outputs": [
    {
     "name": "stdout",
     "output_type": "stream",
     "text": [
      "Indices: (0, 3, 2)\n"
     ]
    }
   ],
   "source": [
    "import numpy as np\n",
    "\n",
    "shape = (3, 4, 5)\n",
    "flat_index = 17\n",
    "\n",
    "indices = np.unravel_index(flat_index, shape)\n",
    "\n",
    "print(\"Indices:\", indices)"
   ]
  },
  {
   "cell_type": "markdown",
   "id": "fae0a259-1a9c-4858-beba-9fe351b9d3f8",
   "metadata": {},
   "source": [
    "#### linalg.norm"
   ]
  },
  {
   "cell_type": "markdown",
   "id": "d5979cd0-4e1d-4fbf-9459-266b20777df6",
   "metadata": {},
   "source": [
    "`numpy.linalg.norm` is a function in NumPy that computes one of several types of matrix norms or vector norms. It is a part of the NumPy linear algebra module (`numpy.linalg`).\n",
    "\n",
    "Here is the basic syntax:\n",
    "\n",
    "```python\n",
    "numpy.linalg.norm(x, ord=None, axis=None, keepdims=False)\n",
    "```\n",
    "\n",
    "- `x`: The input array (can be a vector or matrix).\n",
    "- `ord`: The order of the norm. It can be one of the following:\n",
    "  - For vectors:\n",
    "    - `ord=None` or `'fro'`: Frobenius norm (default if `x` is a matrix).\n",
    "    - `ord=1`: L1 norm (sum of absolute values).\n",
    "    - `ord=2`: L2 norm (Euclidean norm).\n",
    "    - `ord=np.inf`: Infinity norm (maximum absolute value).\n",
    "    - `ord=-np.inf`: Negative infinity norm (minimum absolute value).\n",
    "  - For matrices, additional norms are available.\n",
    "- `axis`: If specified, it computes the norm along the specified axis or axes of the array.\n",
    "- `keepdims`: If True, the result will broadcast correctly against the input array.\n",
    "\n",
    "Here are a few examples:\n",
    "\n",
    "```python\n",
    "import numpy as np\n",
    "\n",
    "# Example 1: L2 norm of a vector\n",
    "v = np.array([3, 4])\n",
    "l2_norm = np.linalg.norm(v)\n",
    "print(\"L2 Norm:\", l2_norm)\n",
    "\n",
    "# Example 2: Frobenius norm of a matrix\n",
    "A = np.array([[1, 2], [3, 4]])\n",
    "frobenius_norm = np.linalg.norm(A)\n",
    "print(\"Frobenius Norm:\", frobenius_norm)\n",
    "\n",
    "# Example 3: L1 norm along a specific axis\n",
    "B = np.array([[1, -2, 3], [4, 5, -6]])\n",
    "l1_norm_along_axis = np.linalg.norm(B, ord=1, axis=1)\n",
    "print(\"L1 Norm along axis 1:\", l1_norm_along_axis)\n",
    "```\n",
    "\n",
    "In the first example, it calculates the L2 norm of a vector. In the second example, it calculates the Frobenius norm of a matrix. In the third example, it computes the L1 norm along axis 1 for a matrix.\n",
    "\n",
    "These norms are essential in various mathematical and statistical applications, providing a measure of the size or magnitude of vectors or matrices."
   ]
  },
  {
   "cell_type": "code",
   "execution_count": 134,
   "id": "c4c248a9-a196-41b8-a5e3-ae0f06e82179",
   "metadata": {},
   "outputs": [
    {
     "name": "stdout",
     "output_type": "stream",
     "text": [
      "L2 Norm: 5.0\n",
      "Frobenius Norm: 5.477225575051661\n",
      "L1 Norm along axis 1: [ 6. 15.]\n"
     ]
    }
   ],
   "source": [
    "import numpy as np\n",
    "\n",
    "# Example 1: L2 norm of a vector\n",
    "v = np.array([3, 4])\n",
    "l2_norm = np.linalg.norm(v)\n",
    "print(\"L2 Norm:\", l2_norm)\n",
    "\n",
    "# Example 2: Frobenius norm of a matrix\n",
    "A = np.array([[1, 2], [3, 4]])\n",
    "frobenius_norm = np.linalg.norm(A)\n",
    "print(\"Frobenius Norm:\", frobenius_norm)\n",
    "\n",
    "# Example 3: L1 norm along a specific axis\n",
    "B = np.array([[1, -2, 3], [4, 5, -6]])\n",
    "l1_norm_along_axis = np.linalg.norm(B, ord=1, axis=1)\n",
    "print(\"L1 Norm along axis 1:\", l1_norm_along_axis)\n"
   ]
  },
  {
   "cell_type": "markdown",
   "id": "9ad286af-24e2-41ee-ad00-a26bb888d118",
   "metadata": {},
   "source": [
    "#### exp"
   ]
  },
  {
   "cell_type": "markdown",
   "id": "79f2225b-d639-4094-bc70-1fa63c0feb81",
   "metadata": {},
   "source": [
    "`numpy.exp` is a NumPy function that calculates the exponential of each element in an input array. The exponential function is commonly used in mathematical and scientific computations. The formula for the exponential function is \\(e^x\\), where \\(e\\) is Euler's number (approximately 2.71828), and \\(x\\) is the input value.\n",
    "\n",
    "Here's the basic syntax of `numpy.exp`:\n",
    "\n",
    "```python\n",
    "numpy.exp(x, /, out=None, *, where=True, casting='same_kind', order='K', dtype=None, subok=True[, signature, extobj])\n",
    "```\n",
    "\n",
    "- `x`: The input array.\n",
    "- `out`: If provided, the result will be placed in this array. It must have the same shape as the input. If not provided or `None`, a new array is created.\n",
    "- `where`: A boolean array of the same shape as `x`, determining where to calculate the result.\n",
    "- `dtype`: The desired data-type for the array. If not given, infer the data type from the input data.\n",
    "\n",
    "Here's a simple example:\n",
    "\n",
    "```python\n",
    "import numpy as np\n",
    "\n",
    "x = np.array([1.0, 2.0, 3.0])\n",
    "\n",
    "# Calculate the exponential of each element\n",
    "exp_values = np.exp(x)\n",
    "\n",
    "print(\"Original Array:\")\n",
    "print(x)\n",
    "print(\"\\nExponential Values:\")\n",
    "print(exp_values)\n",
    "```\n",
    "\n",
    "In this example, `np.exp(x)` returns a new array where each element is the exponential of the corresponding element in the original array `x`. The output will be:\n",
    "\n",
    "```\n",
    "Original Array:\n",
    "[1. 2. 3.]\n",
    "\n",
    "Exponential Values:\n",
    "[ 2.71828183  7.3890561  20.08553692]\n",
    "```\n",
    "\n",
    "The `numpy.exp` function is particularly useful in various mathematical and statistical applications where exponential transformations are needed."
   ]
  },
  {
   "cell_type": "markdown",
   "id": "ecdad57d-62a9-48d2-a27f-4fb0bb149b15",
   "metadata": {},
   "source": [
    "# Advance Numpy"
   ]
  },
  {
   "cell_type": "markdown",
   "id": "5bef4969-b2dc-40f8-ad04-09c7f04ff379",
   "metadata": {},
   "source": [
    "## Numpy Array vs Pyhton List"
   ]
  },
  {
   "cell_type": "markdown",
   "id": "08c638a9-3730-4ebd-8c20-ed8b76e81994",
   "metadata": {},
   "source": [
    "### Speed"
   ]
  },
  {
   "cell_type": "code",
   "execution_count": 135,
   "id": "a9f44ad6-9c17-4c78-8913-18533b1a291e",
   "metadata": {},
   "outputs": [
    {
     "name": "stdout",
     "output_type": "stream",
     "text": [
      "5.713846206665039\n"
     ]
    }
   ],
   "source": [
    "a = [i for i in range(10000000)]\n",
    "b = [i for i in range(10000000, 20000000)]\n",
    "c = []\n",
    "import time\n",
    "start = time.time()\n",
    "\n",
    "for i in range(len(a)):\n",
    "    c.append(a[i] + b[i])\n",
    "print(time.time()-start)"
   ]
  },
  {
   "cell_type": "code",
   "execution_count": 136,
   "id": "07af8ea7-d9ab-442e-a4ca-eb22730e6ef4",
   "metadata": {},
   "outputs": [
    {
     "name": "stdout",
     "output_type": "stream",
     "text": [
      "0.17889189720153809\n"
     ]
    }
   ],
   "source": [
    "import numpy as np\n",
    "\n",
    "a = np.arange(10000000)\n",
    "b = np.arange(10000000, 20000000)\n",
    "import time\n",
    "start = time.time()\n",
    "c = a + b\n",
    "print(time.time()-start)"
   ]
  },
  {
   "cell_type": "code",
   "execution_count": 137,
   "id": "4fafbc65-ea6b-4dc2-a282-65494e301008",
   "metadata": {},
   "outputs": [
    {
     "data": {
      "text/plain": [
       "81.19999999999999"
      ]
     },
     "execution_count": 137,
     "metadata": {},
     "output_type": "execute_result"
    }
   ],
   "source": [
    "4.06/0.05"
   ]
  },
  {
   "cell_type": "markdown",
   "id": "ed24593e-90d3-439a-947b-14ec135fb288",
   "metadata": {},
   "source": [
    "### Memory"
   ]
  },
  {
   "cell_type": "code",
   "execution_count": 138,
   "id": "201457cc-52e3-481c-ab53-eb4ee1317efe",
   "metadata": {},
   "outputs": [
    {
     "name": "stdout",
     "output_type": "stream",
     "text": [
      "Memory occupied by Python list 89095160 bytes in memory\n"
     ]
    }
   ],
   "source": [
    "a = [i for i in range(10000000)]\n",
    "import sys\n",
    "\n",
    "print(\"Memory occupied by Python list {} bytes in memory\".format(sys.getsizeof(a)))\n"
   ]
  },
  {
   "cell_type": "code",
   "execution_count": 139,
   "id": "3852cb06-f585-4d73-a95c-5dc8fa848acd",
   "metadata": {},
   "outputs": [
    {
     "name": "stdout",
     "output_type": "stream",
     "text": [
      "Memory occupied by Numpy Array 40000104 bytes in memory\n"
     ]
    }
   ],
   "source": [
    "a = np.arange(10000000)\n",
    "import sys\n",
    "\n",
    "print(\"Memory occupied by Numpy Array {} bytes in memory\".format(sys.getsizeof(a)))"
   ]
  },
  {
   "cell_type": "markdown",
   "id": "2d1a32ea-ce6f-433d-903d-df83f66f880e",
   "metadata": {},
   "source": [
    "# Advance Indexing"
   ]
  },
  {
   "cell_type": "markdown",
   "id": "a0bc8ce0-849e-45e8-a64c-035738e71265",
   "metadata": {},
   "source": [
    "### Fancing Indexing"
   ]
  },
  {
   "cell_type": "code",
   "execution_count": 153,
   "id": "51d8b023-a7a5-4717-87fc-9ed8b3eb42db",
   "metadata": {},
   "outputs": [
    {
     "data": {
      "text/plain": [
       "array([[ 0,  1,  2,  3],\n",
       "       [ 4,  5,  6,  7],\n",
       "       [ 8,  9, 10, 11],\n",
       "       [12, 13, 14, 15],\n",
       "       [16, 17, 18, 19],\n",
       "       [20, 21, 22, 23]])"
      ]
     },
     "execution_count": 153,
     "metadata": {},
     "output_type": "execute_result"
    }
   ],
   "source": [
    "a = np.arange(24).reshape(6,4)\n",
    "a"
   ]
  },
  {
   "cell_type": "code",
   "execution_count": 154,
   "id": "daf1b433-dc8f-494c-a3d8-46e963eced1d",
   "metadata": {},
   "outputs": [
    {
     "data": {
      "text/plain": [
       "array([[ 0,  1,  2,  3],\n",
       "       [ 8,  9, 10, 11],\n",
       "       [12, 13, 14, 15],\n",
       "       [20, 21, 22, 23]])"
      ]
     },
     "execution_count": 154,
     "metadata": {},
     "output_type": "execute_result"
    }
   ],
   "source": [
    "a[[0,2,3,5]]"
   ]
  },
  {
   "cell_type": "code",
   "execution_count": 155,
   "id": "7c46618f-f192-41a6-b245-30b2a50a7954",
   "metadata": {},
   "outputs": [
    {
     "data": {
      "text/plain": [
       "array([[ 0,  2,  3],\n",
       "       [ 4,  6,  7],\n",
       "       [ 8, 10, 11],\n",
       "       [12, 14, 15],\n",
       "       [16, 18, 19],\n",
       "       [20, 22, 23]])"
      ]
     },
     "execution_count": 155,
     "metadata": {},
     "output_type": "execute_result"
    }
   ],
   "source": [
    "a[:,[0,2,3]]"
   ]
  },
  {
   "cell_type": "code",
   "execution_count": 158,
   "id": "954e20c5",
   "metadata": {},
   "outputs": [
    {
     "data": {
      "text/plain": [
       "array([0, 6])"
      ]
     },
     "execution_count": 158,
     "metadata": {},
     "output_type": "execute_result"
    }
   ],
   "source": [
    "a[[0,1],[0,2]]"
   ]
  },
  {
   "cell_type": "markdown",
   "id": "ff175ea9-f85e-4fef-9fa9-14ca4a9f73d3",
   "metadata": {},
   "source": [
    "### Boolean Indexing\n",
    "* Filtering the data based on given condition"
   ]
  },
  {
   "cell_type": "code",
   "execution_count": 143,
   "id": "29fcbc1e-978a-4c6a-9d68-06abee186139",
   "metadata": {},
   "outputs": [
    {
     "data": {
      "text/plain": [
       "array([[66, 31, 84,  4],\n",
       "       [46, 36, 88, 50],\n",
       "       [51, 93, 99, 70],\n",
       "       [52, 75, 88, 72],\n",
       "       [51, 82, 82, 40],\n",
       "       [95, 13, 48, 60]])"
      ]
     },
     "execution_count": 143,
     "metadata": {},
     "output_type": "execute_result"
    }
   ],
   "source": [
    "a = np.random.randint(1, 100, 24).reshape(6,4)\n",
    "a"
   ]
  },
  {
   "cell_type": "code",
   "execution_count": 144,
   "id": "ea87cfb0-59e7-4c9f-838b-68bd23f3678a",
   "metadata": {},
   "outputs": [
    {
     "data": {
      "text/plain": [
       "array([[ True, False,  True, False],\n",
       "       [False, False,  True, False],\n",
       "       [ True,  True,  True,  True],\n",
       "       [ True,  True,  True,  True],\n",
       "       [ True,  True,  True, False],\n",
       "       [ True, False, False,  True]])"
      ]
     },
     "execution_count": 144,
     "metadata": {},
     "output_type": "execute_result"
    }
   ],
   "source": [
    "# Find all numbers greater than 50\n",
    "a > 50\n",
    "# Result would be boolean array"
   ]
  },
  {
   "cell_type": "code",
   "execution_count": 145,
   "id": "59856835-3d8a-43ef-9dff-f41f0511668c",
   "metadata": {},
   "outputs": [
    {
     "data": {
      "text/plain": [
       "array([66, 84, 88, 51, 93, 99, 70, 52, 75, 88, 72, 51, 82, 82, 95, 60])"
      ]
     },
     "execution_count": 145,
     "metadata": {},
     "output_type": "execute_result"
    }
   ],
   "source": [
    "a[a>50]"
   ]
  },
  {
   "cell_type": "code",
   "execution_count": 146,
   "id": "d263b9fe-f258-4a55-9b9d-7c52829488c6",
   "metadata": {},
   "outputs": [
    {
     "data": {
      "text/plain": [
       "array([66, 84,  4, 46, 36, 88, 50, 70, 52, 88, 72, 82, 82, 40, 48, 60])"
      ]
     },
     "execution_count": 146,
     "metadata": {},
     "output_type": "execute_result"
    }
   ],
   "source": [
    "# Find out even numbers\n",
    "a[a%2==0]"
   ]
  },
  {
   "cell_type": "code",
   "execution_count": 147,
   "id": "40f98f24-24a9-4b65-9565-140dbece9bd1",
   "metadata": {},
   "outputs": [
    {
     "data": {
      "text/plain": [
       "array([66, 84, 88, 70, 52, 88, 72, 82, 82, 60])"
      ]
     },
     "execution_count": 147,
     "metadata": {},
     "output_type": "execute_result"
    }
   ],
   "source": [
    "# find all numbers greater than 50 and are even\n",
    "\n",
    "a[(a>50) & (a % 2 == 0)] # Use bitwise operator '&' instead of logical operator 'and'"
   ]
  },
  {
   "cell_type": "code",
   "execution_count": 148,
   "id": "9f7c3a73-d66c-4e14-86d6-25d157bda6d6",
   "metadata": {},
   "outputs": [
    {
     "data": {
      "text/plain": [
       "array([66, 31,  4, 46, 36, 88, 50, 51, 93, 99, 52, 75, 88, 72, 51, 82, 82,\n",
       "       40, 95, 13, 48, 60])"
      ]
     },
     "execution_count": 148,
     "metadata": {},
     "output_type": "execute_result"
    }
   ],
   "source": [
    "# find all number not divisible by 7\n",
    "a[~(a % 7 == 0)] # Use bitwise operator '~' instead of 'Not'"
   ]
  },
  {
   "cell_type": "markdown",
   "id": "b7a34487-34df-4f8a-b9aa-2629217b20f5",
   "metadata": {},
   "source": [
    "# Broadcasting"
   ]
  },
  {
   "cell_type": "code",
   "execution_count": null,
   "id": "d8e546dc-16c8-4138-b806-55c768bc5e37",
   "metadata": {},
   "outputs": [],
   "source": []
  }
 ],
 "metadata": {
  "kernelspec": {
   "display_name": "Python 3 (ipykernel)",
   "language": "python",
   "name": "python3"
  },
  "language_info": {
   "codemirror_mode": {
    "name": "ipython",
    "version": 3
   },
   "file_extension": ".py",
   "mimetype": "text/x-python",
   "name": "python",
   "nbconvert_exporter": "python",
   "pygments_lexer": "ipython3",
   "version": "3.9.13"
  }
 },
 "nbformat": 4,
 "nbformat_minor": 5
}
