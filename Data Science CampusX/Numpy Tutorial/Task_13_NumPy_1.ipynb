{
 "cells": [
  {
   "cell_type": "markdown",
   "metadata": {
    "id": "6WdKdPGx-tnY"
   },
   "source": [
    "**Note: In Data Science googling is a very important skill. If you find some difficulties to solve the problem, google it and try to find some clues to solve.**"
   ]
  },
  {
   "cell_type": "code",
   "execution_count": 1,
   "metadata": {
    "id": "-J4F1ysN4mLk"
   },
   "outputs": [],
   "source": [
    "import numpy as np"
   ]
  },
  {
   "cell_type": "markdown",
   "metadata": {
    "id": "a_K8IH-C6HDK"
   },
   "source": [
    "###`Q-1` Create a null vector of size 10 but the fifth value which is 1.\n",
    "\n"
   ]
  },
  {
   "cell_type": "code",
   "execution_count": 2,
   "metadata": {
    "id": "sTF03KsZ6QUI"
   },
   "outputs": [
    {
     "data": {
      "text/plain": [
       "array([0., 0., 0., 0., 1., 0., 0., 0., 0., 0.])"
      ]
     },
     "execution_count": 2,
     "metadata": {},
     "output_type": "execute_result"
    }
   ],
   "source": [
    "#Code here\n",
    "nul_vector = np.zeros(10)\n",
    "nul_vector[4] = 1\n",
    "nul_vector"
   ]
  },
  {
   "cell_type": "markdown",
   "metadata": {
    "id": "TEiG25rS6S1i"
   },
   "source": [
    "###`Q-2` Ask user to input two numbers a, b. Write a program to generate a random array of shape (a, b) and print the array and avg of the array."
   ]
  },
  {
   "cell_type": "code",
   "execution_count": 3,
   "metadata": {
    "id": "ihwn4oOH6Vh7"
   },
   "outputs": [
    {
     "name": "stdout",
     "output_type": "stream",
     "text": [
      "Enter first number: 5\n",
      "Enter second number: 2\n",
      "[0.84535443 0.94615659 0.47929066 0.16189003 0.53061288 0.36918382\n",
      " 0.85756137 0.13863125 0.46380473 0.12902386]\n",
      "Average: 0.4921509612271181\n",
      "Average: 0.4921509612271181\n"
     ]
    }
   ],
   "source": [
    "#Code here\n",
    "a = int(input(\"Enter first number: \"))\n",
    "b = int(input(\"Enter second number: \"))\n",
    "rand_array = np.random.random(a*b)\n",
    "print(rand_array, end=\"\\n\")\n",
    "print(f\"Average: {np.average(rand_array)}\")\n",
    "print(f\"Average: {rand_array.mean()}\")          "
   ]
  },
  {
   "cell_type": "markdown",
   "metadata": {
    "id": "2iEeybS06ZSq"
   },
   "source": [
    "###`Q-3`Write a function to create a 2d array with 1 on the border and 0 inside. Take 2-D array shape as (a,b) as parameter to function.\n",
    "\n",
    "Eg.-\n",
    "```\n",
    "[[1,1,1,1],\n",
    "[1,0,0,1],\n",
    "[1,0,0,1],\n",
    "[1,1,1,1]]\n",
    "```"
   ]
  },
  {
   "cell_type": "code",
   "execution_count": 4,
   "metadata": {
    "id": "gEKndkDU6ZSs"
   },
   "outputs": [
    {
     "name": "stdout",
     "output_type": "stream",
     "text": [
      "[[1 1 1 1 1 1]\n",
      " [1 0 0 0 0 1]\n",
      " [1 0 0 0 0 1]\n",
      " [1 0 0 0 0 1]\n",
      " [1 1 1 1 1 1]]\n"
     ]
    }
   ],
   "source": [
    "#Code here\n",
    "def border_array(a, b):\n",
    "    arr = np.zeros(a*b, dtype=int).reshape(a,b)\n",
    "    arr[0, :] = 1\n",
    "    arr[-1, :] = 1\n",
    "    arr[:, 0] = 1\n",
    "    arr[:, -1] = 1\n",
    "    print(arr)\n",
    "    \n",
    "border_array(5,6)\n"
   ]
  },
  {
   "cell_type": "markdown",
   "metadata": {
    "id": "QRJicQ8j6ZlE"
   },
   "source": [
    "###`Q-4` Create a vector of size 10 with values ranging from 0 to 1, both excluded.\n"
   ]
  },
  {
   "cell_type": "code",
   "execution_count": 5,
   "metadata": {
    "id": "eC4XLhDq6ZlF"
   },
   "outputs": [
    {
     "name": "stdout",
     "output_type": "stream",
     "text": [
      "[0.09090909 0.18181818 0.27272727 0.36363636 0.45454545 0.54545455\n",
      " 0.63636364 0.72727273 0.81818182 0.90909091]\n"
     ]
    }
   ],
   "source": [
    "#Code here\n",
    "# vector = np.linspace(0, 1, 12)\n",
    "vector = np.linspace(0, 1, 12)[1:-1]\n",
    "\n",
    "print(vector)"
   ]
  },
  {
   "cell_type": "markdown",
   "metadata": {
    "id": "vb4jK4yQ6Zs2"
   },
   "source": [
    "###`Q-5` Can you create a identity mattrix of shape (3,4). If yes write code for it."
   ]
  },
  {
   "cell_type": "code",
   "execution_count": 6,
   "metadata": {
    "id": "DTV_AbMS6Zs4"
   },
   "outputs": [],
   "source": [
    "#Code here\n",
    "# id_mat = np.eye(3)\n",
    "# print(res)"
   ]
  },
  {
   "cell_type": "markdown",
   "metadata": {
    "id": "QtjAFm5PEntK"
   },
   "source": [
    "###`Q-6:` Create a 5x5 matrix with row values ranging from 0 to 4."
   ]
  },
  {
   "cell_type": "code",
   "execution_count": 7,
   "metadata": {
    "id": "z2WGxRjvEuRS"
   },
   "outputs": [
    {
     "name": "stdout",
     "output_type": "stream",
     "text": [
      "[[0 1 2 3 4]\n",
      " [0 1 2 3 4]\n",
      " [0 1 2 3 4]\n",
      " [0 1 2 3 4]\n",
      " [0 1 2 3 4]]\n"
     ]
    }
   ],
   "source": [
    "#Code here\n",
    "mat = np.ones(25, dtype=int). reshape(5,5)\n",
    "mat[:] = np.arange(0,5)\n",
    "print(mat)"
   ]
  },
  {
   "cell_type": "markdown",
   "metadata": {
    "id": "KPpvxKjVHnyx"
   },
   "source": [
    "###`Q-7:`  Consider a random integer (in range 1 to 100) vector with shape `(10,2)` representing coordinates, and coordinates of a point as array is given. Create an array of distance of each point in the random vectros from the given point. Distance array should be interger type.\n",
    "\n",
    "```\n",
    "point = np.array([2,3])\n",
    "```\n"
   ]
  },
  {
   "cell_type": "code",
   "execution_count": 8,
   "metadata": {
    "id": "X7KGnWLNIM6f"
   },
   "outputs": [
    {
     "name": "stdout",
     "output_type": "stream",
     "text": [
      "[2 3]\n",
      "[[ 1 85]\n",
      " [64 35]\n",
      " [15 22]\n",
      " [99 37]\n",
      " [77 63]\n",
      " [77 13]\n",
      " [17  1]\n",
      " [15 47]\n",
      " [46  5]\n",
      " [89 84]]\n",
      "[ 82  69  23 102  96  75  15  45  44 118]\n"
     ]
    }
   ],
   "source": [
    "#code here\n",
    "point = np.array([2,3])\n",
    "rand_cord = np.random.randint(1, 101, size=(10,2))\n",
    "\n",
    "# Calculate the Euclidean distance for each point in the random vector from the given point\n",
    "distance = np.linalg.norm(rand_cord - point, axis=1)\n",
    "\n",
    "# Convert distances to integers\n",
    "distance = distance.astype(int)\n",
    "\n",
    "print(point)\n",
    "print(rand_cord)\n",
    "print(distance)"
   ]
  },
  {
   "cell_type": "markdown",
   "metadata": {
    "id": "tajOFJlCDwTr"
   },
   "source": [
    "###`Q-8:` Consider a (6,7,8) shape array, what is the index (x,y,z) of the 100th element?"
   ]
  },
  {
   "cell_type": "code",
   "execution_count": 9,
   "metadata": {
    "id": "qH4oxvs0D3Ra"
   },
   "outputs": [
    {
     "name": "stdout",
     "output_type": "stream",
     "text": [
      "Index Tuple (x, y, z): (1, 5, 3)\n"
     ]
    }
   ],
   "source": [
    "#Code here\n",
    "import numpy as np\n",
    "\n",
    "# Create a numpy array with shape (6, 7, 8)\n",
    "array_shape = (6, 7, 8)\n",
    "array_size = np.prod(array_shape)\n",
    "\n",
    "flat_index = 99  # Note that Python uses 0-based indexing, so the 100th element has index 99\n",
    "\n",
    "# Find the index tuple (x, y, z) for the given flat index\n",
    "index_tuple = np.unravel_index(flat_index, array_shape)\n",
    "\n",
    "print(\"Index Tuple (x, y, z):\", index_tuple)\n"
   ]
  },
  {
   "cell_type": "markdown",
   "metadata": {
    "id": "9LxBAbT2Pw33"
   },
   "source": [
    "### `Q-9:` Arrays\n",
    "\n",
    "You are given a space separated list of numbers. Your task is to print a reversed NumPy array with the element type float.\n",
    "\n"
   ]
  },
  {
   "cell_type": "markdown",
   "metadata": {
    "id": "JJpqVms2Nq7L"
   },
   "source": [
    "**Input Format:**\n",
    "\n",
    "A single line of input containing space separated numbers.\n",
    "\n",
    "**Output Format:**\n",
    "\n",
    "Print the reverse NumPy array with type float.\n",
    "\n",
    "**Example 1:**\n",
    "\n",
    "Input:\n",
    "\n",
    "```bash\n",
    "1 2 3 4 -8 -10\n",
    "```\n",
    "\n",
    "Output:\n",
    "\n",
    "```bash\n",
    "[-10.  -8.   4.   3.   2.   1.]\n",
    "```"
   ]
  },
  {
   "cell_type": "code",
   "execution_count": 10,
   "metadata": {
    "id": "7iQyg6ChNl3j"
   },
   "outputs": [
    {
     "name": "stdout",
     "output_type": "stream",
     "text": [
      "[-10.  -8.   4.   3.   2.   1.]\n"
     ]
    }
   ],
   "source": [
    "#Code here\n",
    "given = [1, 2, 3, 4, -8, -10]\n",
    "rev_array = np.array(given, dtype=float)\n",
    "print(rev_array[-1::-1])"
   ]
  },
  {
   "cell_type": "markdown",
   "metadata": {
    "id": "TPxD7jM8Sjz9"
   },
   "source": [
    "### `Q-10:` Elements count\n",
    "\n",
    "Count the number of elements of a numpy array.\n",
    "\n"
   ]
  },
  {
   "cell_type": "markdown",
   "metadata": {
    "id": "oHTiTz_jNkAU"
   },
   "source": [
    "**Example 1:**\n",
    "\n",
    "Input:\n",
    "```bash\n",
    "np.array([])\n",
    "```\n",
    "\n",
    "Output:\n",
    "```bash\n",
    "elements_count :  0\n",
    "```\n",
    "\n",
    "**Example 2:**\n",
    "\n",
    "Input:\n",
    "```bash\n",
    "np.array([1, 2])\n",
    "```\n",
    "\n",
    "Output:\n",
    "```bash\n",
    "elements_count :  2\n",
    "```"
   ]
  },
  {
   "cell_type": "code",
   "execution_count": 11,
   "metadata": {
    "id": "RG0H2I-TNeGN"
   },
   "outputs": [
    {
     "name": "stdout",
     "output_type": "stream",
     "text": [
      "elements_count: 5\n"
     ]
    }
   ],
   "source": [
    "#Code here\n",
    "arr = np.array([1, 2, 3, 4, 5])\n",
    "print(f\"elements_count: {arr.size}\")"
   ]
  },
  {
   "cell_type": "markdown",
   "metadata": {
    "id": "pwgPz-3l5ic5"
   },
   "source": [
    "### `Q-11:` Softmax function\n",
    "\n",
    "Create a Python function to calculate the Softmax of the given numpy 1D array. The function only accepts the numpy 1D array, otherwise raise error.\n",
    "\n",
    "$$\\Large \\sigma(\\vec z)_i = \\frac{e^{z_i}}{\\sum_{j=i}^{K}{e^{z_j}}}$$\n",
    "\n",
    "https://en.wikipedia.org/wiki/Softmax_function\n",
    "\n"
   ]
  },
  {
   "cell_type": "markdown",
   "metadata": {
    "id": "eZ3WJt6UM1ul"
   },
   "source": [
    "**Example 1:**\n",
    "\n",
    "Input:\n",
    "```bash\n",
    "[86.03331084 37.7285648  48.64908087 87.16563062 38.40852563 37.20006318]\n",
    "```\n",
    "\n",
    "Output:\n",
    "```bash\n",
    "[2.43733249e-01, 2.56112115e-22, 1.41628284e-17, 7.56266751e-01,\n",
    "       5.05514197e-22, 1.50974911e-22]\n",
    "```\n",
    "\n",
    "**Example 2:**\n",
    "\n",
    "Input:\n",
    "```bash\n",
    "[33.17344305 45.61961654 82.05405781 80.9647098  68.82830233 91.52064278]\n",
    "```\n",
    "\n",
    "Output:\n",
    "```bash\n",
    "[4.57181035e-26, 1.16249923e-20, 7.73872596e-05, 2.60358426e-05,\n",
    "       1.39571531e-10, 9.99896577e-01]\n",
    "```"
   ]
  },
  {
   "cell_type": "code",
   "execution_count": 12,
   "metadata": {
    "id": "VNzj05lkNaNi"
   },
   "outputs": [
    {
     "name": "stdout",
     "output_type": "stream",
     "text": [
      "Input Array:\n",
      "[86.03331084 37.7285648  48.64908087 87.16563062 38.40852563 37.20006318]\n",
      "\n",
      "Softmax Result:\n",
      "[2.43733248e-01 2.56112114e-22 1.41628283e-17 7.56266752e-01\n",
      " 5.05514197e-22 1.50974911e-22]\n"
     ]
    }
   ],
   "source": [
    "#Code here\n",
    "import numpy as np\n",
    "\n",
    "def softmax(x):\n",
    "    # Check if the input is a 1D array\n",
    "    if len(x.shape) != 1:\n",
    "        raise ValueError(\"Input must be a 1D array.\")\n",
    "\n",
    "    # Calculate the exponential of each element\n",
    "    exp_x = np.exp(x - np.max(x))  # Subtracting the maximum for numerical stability\n",
    "\n",
    "    # Calculate the softmax probabilities\n",
    "    softmax_values = exp_x / np.sum(exp_x)\n",
    "\n",
    "    return softmax_values\n",
    "\n",
    "# Example usage:\n",
    "input_array = np.array([86.03331084, 37.7285648,  48.64908087, 87.16563062, 38.40852563, 37.20006318])\n",
    "\n",
    "result = softmax(input_array)\n",
    "\n",
    "print(\"Input Array:\")\n",
    "print(input_array)\n",
    "print(\"\\nSoftmax Result:\")\n",
    "print(result)\n"
   ]
  },
  {
   "cell_type": "markdown",
   "metadata": {
    "id": "k4JWSwWu_HXg"
   },
   "source": [
    "### `Q-12:` Vertical stack\n",
    "\n",
    "Write a python function that accepts infinite number of numpy arrays and do the vertical stack to them. Then return that new array as result. The function only accepts the numpy array, otherwise raise error.\n",
    "\n"
   ]
  },
  {
   "cell_type": "markdown",
   "metadata": {
    "id": "XhhV3mraNAWr"
   },
   "source": [
    "**Example 1:**\n",
    "\n",
    "Input:\n",
    "```bash\n",
    "a= [[0 1 2 3 4]\n",
    " [5 6 7 8 9]]\n",
    "\n",
    "b= [[1 1 1 1 1]\n",
    " [1 1 1 1 1]]\n",
    "```\n",
    "\n",
    "Output:\n",
    "\n",
    "```bash\n",
    "[[0 1 2 3 4]\n",
    " [5 6 7 8 9]\n",
    " [1 1 1 1 1]\n",
    " [1 1 1 1 1]]\n",
    "```\n",
    "\n",
    "**Example 2:**\n",
    "\n",
    "Input:\n",
    "```bash\n",
    "a= [[0 1 2 3 4]\n",
    " [5 6 7 8 9]]\n",
    "\n",
    "b= [[1 1 1 1 1]\n",
    " [1 1 1 1 1]]\n",
    "\n",
    "c= [[0.10117373 0.1677244  0.73764059 0.83166097 0.48985695]\n",
    " [0.44581567 0.13502419 0.55692335 0.16479622 0.61193593]]\n",
    "```\n",
    "\n",
    "Output:\n",
    "```bash\n",
    "[[0.         1.         2.         3.         4.        ]\n",
    " [5.         6.         7.         8.         9.        ]\n",
    " [1.         1.         1.         1.         1.        ]\n",
    " [1.         1.         1.         1.         1.        ]\n",
    " [0.10117373 0.1677244  0.73764059 0.83166097 0.48985695]\n",
    " [0.44581567 0.13502419 0.55692335 0.16479622 0.61193593]]\n",
    "```"
   ]
  },
  {
   "cell_type": "code",
   "execution_count": 13,
   "metadata": {},
   "outputs": [
    {
     "name": "stdout",
     "output_type": "stream",
     "text": [
      "All arguments must be numpy arrays\n"
     ]
    }
   ],
   "source": [
    "#Coder here\n",
    "import numpy as np\n",
    "def vertical_stacking(*arrays):    \n",
    "    if any(not isinstance(arr, np.ndarray) for arr in arrays):\n",
    "        # The `if any(...)` construct is used to check if at least one element in the iterable provided to `any()` is `True`. \n",
    "        raise ValueError(\"All arguments must be numpy arrays\")\n",
    "                         \n",
    "    result = np.vstack((arrays))\n",
    "    print(result)\n",
    "\n",
    "arr1 = np.arange(1,11).reshape(2,5)\n",
    "arr2 = np.arange(11,21).reshape(2,5)\n",
    "arr3 = np.arange(21,31).reshape(2,5)\n",
    "\n",
    "arr4 = [1, 2, 3, 4]\n",
    "arr5 = [5, 6, 7, 8]\n",
    "arr6 = [9, 10, 11, 12]\n",
    "\n",
    "a = np.array([[0, 1, 2, 3, 4],[5, 6, 7, 8, 9]])\n",
    "\n",
    "b = np.array([[1, 1, 1, 1, 1], [1, 1, 1, 1, 1]])\n",
    "\n",
    "c = np.array([[0.10117373, 0.1677244,  0.73764059, 0.83166097, 0.48985695],\n",
    " [0.44581567, 0.13502419, 0.55692335, 0.16479622, 0.61193593]])\n",
    "\n",
    "try:\n",
    "#     vertical_stacking(arr1, arr2, arr3)\n",
    "    vertical_stacking(arr4, arr5, arr6)\n",
    "#     vertical_stacking(a, b, c)\n",
    "except ValueError as e:\n",
    "    print(e)\n"
   ]
  },
  {
   "cell_type": "code",
   "execution_count": 14,
   "metadata": {},
   "outputs": [
    {
     "name": "stdout",
     "output_type": "stream",
     "text": [
      "Must be integer\n"
     ]
    }
   ],
   "source": [
    "# Just for understanding not the part of assignment\n",
    "a = 2\n",
    "b = 2.5\n",
    "c = 3\n",
    "lst1 = [2, 2.5, 3]\n",
    "lst2 = [1, 2, 3]\n",
    "lst3 = [\"1\", \"2\", \"3\"]\n",
    "\n",
    "try:\n",
    "    if any(not isinstance(num, int) for num in lst1):\n",
    "        raise ValueError(\"Must be integer\")\n",
    "    print(\"No error\")\n",
    "        \n",
    "except ValueError as e:\n",
    "    print(e)\n",
    "\n"
   ]
  },
  {
   "cell_type": "markdown",
   "metadata": {
    "id": "3mk8T6CuC2DP"
   },
   "source": [
    "### `Q-13:` Dates\n",
    "\n",
    "Create a python function named **date_array** that accepts two dates as string format and returns a numpy array of dates between those 2 dates. The function only accept 2 strings, otherwise raise error. The date format should be like this only: `2022-12-6`. The end date should be included and for simplicity, choose dates from a same year.\n",
    "\n"
   ]
  },
  {
   "cell_type": "markdown",
   "metadata": {
    "id": "E3IgjnTTNFEk"
   },
   "source": [
    "**Example 1:**\n",
    "\n",
    "Input:\n",
    "```bash\n",
    "date_array(start = '2020-09-15', end = '2020-09-25')\n",
    "```\n",
    "\n",
    "Output:\n",
    "```bash\n",
    "['2020-09-15', '2020-09-16', '2020-09-17', '2020-09-18',\n",
    " '2020-09-19', '2020-09-20', '2020-09-21', '2020-09-22',\n",
    " '2020-09-23', '2020-09-24', '2020-09-25']\n",
    "```\n",
    "\n",
    "**Example 2:**\n",
    "\n",
    "Input:\n",
    "```bash\n",
    "date_array(start = '2022-12-01', end = '2022-12-06')\n",
    "```\n",
    "\n",
    "Output:\n",
    "```bash\n",
    "['2022-12-01', '2022-12-02', '2022-12-03', '2022-12-04', '2022-12-05', '2022-12-06']\n",
    "```\n",
    "\n",
    "**Example 3:**\n",
    "\n",
    "Input:\n",
    "```bash\n",
    "date_array(start = '2020-11-25', end = '2020-11-30')\n",
    "```\n",
    "\n",
    "Output:\n",
    "```bash\n",
    "['2020-11-25', '2020-11-26', '2020-11-27', '2020-11-28',\n",
    " '2020-11-29', '2020-11-30']\n",
    "```"
   ]
  },
  {
   "cell_type": "code",
   "execution_count": 15,
   "metadata": {
    "id": "Yj5PBfQQNTnL"
   },
   "outputs": [
    {
     "name": "stdout",
     "output_type": "stream",
     "text": [
      "['2020-11-25' '2020-11-26' '2020-11-27' '2020-11-28' '2020-11-29'\n",
      " '2020-11-30']\n"
     ]
    }
   ],
   "source": [
    "#Code here\n",
    "import numpy as np\n",
    "def date_array(start_date, end_date):\n",
    "    \n",
    "    end = np.datetime64(end_date) + np.timedelta64(1, \"D\") # To make end date include\n",
    "    arr = np.arange(start_date, end, dtype=\"datetime64[D]\")\n",
    "    print(arr)\n",
    "\n",
    "date_array('2020-11-25', '2020-11-30')\n"
   ]
  },
  {
   "cell_type": "markdown",
   "metadata": {
    "id": "bcEp0wTWQijK"
   },
   "source": [
    "###`Q-14:` Subtract the mean of each row from a matrix."
   ]
  },
  {
   "cell_type": "code",
   "execution_count": 16,
   "metadata": {
    "id": "rpILVGcgQzMo"
   },
   "outputs": [
    {
     "name": "stdout",
     "output_type": "stream",
     "text": [
      "Original Array\n",
      "[[0.73667832 0.85387892 0.91012262 0.33171461]\n",
      " [0.17574551 0.02946556 0.79896454 0.51943665]\n",
      " [0.5378227  0.94335726 0.01032489 0.31082225]] \n",
      "\n",
      "Subtracted Array from row mean\n",
      "[-0.0285797  -0.14578031 -0.202024    0.37638401]\n",
      "[ 0.20515756  0.3514375  -0.41806147 -0.13853359]\n",
      "[-0.08724092 -0.49277549  0.44025689  0.13975953]\n"
     ]
    }
   ],
   "source": [
    "#code here\n",
    "arr = np.random.random((3,4))\n",
    "print(\"Original Array\")\n",
    "print(arr, \"\\n\")\n",
    "print(\"Subtracted Array from row mean\")\n",
    "for i in range(len(arr)):\n",
    "    row_mean = arr[i].mean()  \n",
    "    result = row_mean - arr[i]\n",
    "    print(result)   \n",
    "  "
   ]
  },
  {
   "cell_type": "markdown",
   "metadata": {
    "id": "A-dMVlPPSBTT"
   },
   "source": [
    "###`Q-15:` Swap column-1 of array with column-2 in the array."
   ]
  },
  {
   "cell_type": "code",
   "execution_count": 17,
   "metadata": {
    "id": "3RtngM9-Q6S7"
   },
   "outputs": [
    {
     "name": "stdout",
     "output_type": "stream",
     "text": [
      "[[ 0  1]\n",
      " [ 2  3]\n",
      " [ 4  5]\n",
      " [ 6  8]\n",
      " [ 9 10]] \n",
      "\n",
      "[[ 1  0]\n",
      " [ 3  2]\n",
      " [ 5  4]\n",
      " [ 8  6]\n",
      " [10  9]]\n"
     ]
    }
   ],
   "source": [
    "#Code here\n",
    "arr = np.array([0,1,2,3,4,5,6,8,9,10]).reshape(5,2)\n",
    "print(arr, \"\\n\")\n",
    "\n",
    "result = np.concatenate((arr[0:, 1:], arr[0:, :1]), axis=1)\n",
    "print(result)"
   ]
  },
  {
   "cell_type": "code",
   "execution_count": 18,
   "metadata": {
    "id": "ueoMV_LlSnGU"
   },
   "outputs": [
    {
     "name": "stdout",
     "output_type": "stream",
     "text": [
      "[[3 1 2]\n",
      " [6 4 5]\n",
      " [9 7 8]]\n"
     ]
    }
   ],
   "source": [
    "arr = np.array([[1,2,3,], [4,5,6], [7,8,9]])\n",
    "\n",
    "x = arr[:, 0:1].copy()\n",
    "y = arr[:, 1:2].copy()\n",
    "z = arr[:, 2:3].copy()\n",
    "\n",
    "arr[:, 0:1] = z\n",
    "arr[:, 1:2] = x\n",
    "arr[:, 2:3] = y\n",
    "print(arr)"
   ]
  },
  {
   "cell_type": "code",
   "execution_count": 19,
   "metadata": {},
   "outputs": [
    {
     "name": "stdout",
     "output_type": "stream",
     "text": [
      "[[2 1 3]\n",
      " [5 4 6]\n",
      " [8 7 9]]\n"
     ]
    }
   ],
   "source": [
    "arr = np.array([[1,2,3,], \n",
    "                [4,5,6], \n",
    "                [7,8,9]])\n",
    "\n",
    "arr[:, [0,1]] = arr[:, [1,0]]\n",
    "print(arr)"
   ]
  },
  {
   "cell_type": "code",
   "execution_count": 20,
   "metadata": {},
   "outputs": [
    {
     "name": "stdout",
     "output_type": "stream",
     "text": [
      "Original Array:\n",
      "[[1 2 3]\n",
      " [4 5 6]\n",
      " [7 8 9]]\n",
      "\n",
      "Array after swapping columns:\n",
      "[[2 1 3]\n",
      " [5 4 6]\n",
      " [8 7 9]]\n"
     ]
    }
   ],
   "source": [
    "import numpy as np\n",
    "\n",
    "# Create a sample 2D array\n",
    "original_array = np.array([[1, 2, 3],\n",
    "                           [4, 5, 6],\n",
    "                           [7, 8, 9]])\n",
    "\n",
    "# Print the original array for debugging\n",
    "print(\"Original Array:\")\n",
    "print(original_array)\n",
    "\n",
    "# Column names to swap\n",
    "column1_name = 1\n",
    "column2_name = 2\n",
    "\n",
    "# Check if the column names exist in the first row\n",
    "if column1_name not in original_array[0] or column2_name not in original_array[0]:\n",
    "    print(f\"Error: One or both of the column names ({column1_name}, {column2_name}) not found.\")\n",
    "else:\n",
    "    # Find the indices of the columns\n",
    "    column1_index = np.where(original_array[0] == column1_name)[0][0]\n",
    "    column2_index = np.where(original_array[0] == column2_name)[0][0]\n",
    "\n",
    "    # Swap columns\n",
    "    original_array[:, [column1_index, column2_index]] = original_array[:, [column2_index, column1_index]]\n",
    "\n",
    "    # Print the result\n",
    "    print(\"\\nArray after swapping columns:\")\n",
    "    print(original_array)\n",
    "\n"
   ]
  },
  {
   "cell_type": "markdown",
   "metadata": {
    "id": "cB4VMexvS6Zi"
   },
   "source": [
    "###`Q-16:` Replace odd elements in arrays with -1."
   ]
  },
  {
   "cell_type": "code",
   "execution_count": 21,
   "metadata": {
    "id": "Bt83nXEVS5O4"
   },
   "outputs": [
    {
     "name": "stdout",
     "output_type": "stream",
     "text": [
      "[-1  2 -1  4 -1  6]\n"
     ]
    }
   ],
   "source": [
    "#Code here\n",
    "arr = np.array([1,2,3,4,5,6])\n",
    "for ind, val in np.ndenumerate(arr):\n",
    "    if val % 2 != 0:\n",
    "        arr[ind] = -1\n",
    "print(arr)"
   ]
  },
  {
   "cell_type": "code",
   "execution_count": 22,
   "metadata": {
    "id": "1ZlvMaXLVyoW"
   },
   "outputs": [
    {
     "name": "stdout",
     "output_type": "stream",
     "text": [
      "Original Array\n",
      "[[0 1 2 3 4]\n",
      " [5 6 7 8 9]]\n",
      "\n",
      "Changed Array\n",
      "[[ 0 -1  2 -1  4]\n",
      " [-1  6 -1  8 -1]]\n"
     ]
    }
   ],
   "source": [
    "arr = np.arange(10).reshape(2,5)\n",
    "print(\"Original Array\")\n",
    "print(arr)\n",
    "for ind, val in np.ndenumerate(arr):\n",
    "    if val % 2 != 0:\n",
    "        arr[ind] = -1\n",
    "        \n",
    "print(\"\\nChanged Array\")\n",
    "print(arr)\n"
   ]
  },
  {
   "cell_type": "code",
   "execution_count": 23,
   "metadata": {},
   "outputs": [
    {
     "name": "stdout",
     "output_type": "stream",
     "text": [
      "[[[-1  2 -1]\n",
      "  [ 4 -1  6]]\n",
      "\n",
      " [[-1  8 -1]\n",
      "  [10 -1 12]]]\n"
     ]
    }
   ],
   "source": [
    "arr = np.array([[[1,2,3],[4,5,6]], [[7,8,9], [10,11,12]]])\n",
    "for ind, val in np.ndenumerate(arr):\n",
    "    if val % 2 != 0:\n",
    "        arr[ind] = -1\n",
    "print(arr)"
   ]
  },
  {
   "cell_type": "markdown",
   "metadata": {
    "id": "kf_qvmBxWIT_"
   },
   "source": [
    "###`Q-17:` Given two arrays of same shape make an array of max out of two arrays. (Numpy way)\n",
    "```\n",
    "a=np.array([6,3,1,5,8])\n",
    "b=np.array([3,2,1,7,2])\n",
    "\n",
    "Result-> [6 3 1 7 8]\n",
    "```"
   ]
  },
  {
   "cell_type": "code",
   "execution_count": 24,
   "metadata": {
    "id": "TB9ZvF-EZSfu"
   },
   "outputs": [
    {
     "name": "stdout",
     "output_type": "stream",
     "text": [
      "[8 7]\n"
     ]
    }
   ],
   "source": [
    "#Code here\n",
    "a = np.array([6,3,1,5,8])\n",
    "b = np.array([3,2,1,7,2])\n",
    "result = np.array([np.max(a), np.max(b)])\n",
    "print(result)"
   ]
  },
  {
   "cell_type": "code",
   "execution_count": null,
   "metadata": {
    "id": "D7ad-A6jZzCL"
   },
   "outputs": [],
   "source": []
  },
  {
   "cell_type": "markdown",
   "metadata": {
    "id": "iOQLUIeGc3zA"
   },
   "source": [
    "###`Q-18` Answer below asked questions on given array:\n",
    "1. Fetch Every alternate column of the array\n",
    "2. Normalise the given array\n",
    "\n",
    "https://en.wikipedia.org/wiki/Normalization_(statistics)\n",
    "\n",
    "There are different form of normalisation for this question use below formula.\n",
    "\n",
    "$$\\large X_{normalized} = \\frac{X - X_{min}}{X_{max} - X_{min}}$$\n",
    "\n",
    "```python\n",
    "arr1=np.random.randint(low=1, high=10000, size=40).reshape(8,5)\n",
    "```\n"
   ]
  },
  {
   "cell_type": "code",
   "execution_count": 25,
   "metadata": {
    "colab": {
     "base_uri": "https://localhost:8080/"
    },
    "id": "vjSm18k3d_1p",
    "outputId": "83d23b61-d2ae-41bc-e91e-0e0722667521"
   },
   "outputs": [
    {
     "data": {
      "text/plain": [
       "array([[2653, 9693, 9562, 4439, 6870],\n",
       "       [5304, 8615, 5906, 1764, 4819],\n",
       "       [3383,  597, 7603, 3147, 2339],\n",
       "       [5294, 6264, 5649, 5287, 3668],\n",
       "       [ 639, 9320, 3578,  310, 7241],\n",
       "       [1100, 4203, 6790, 6944, 8023],\n",
       "       [8183, 5592, 7268, 6703,  776],\n",
       "       [6334, 6607, 2912, 6063, 6490]])"
      ]
     },
     "execution_count": 25,
     "metadata": {},
     "output_type": "execute_result"
    }
   ],
   "source": [
    "# Given\n",
    "arr1=np.random.randint(low=1, high=10000, size=40).reshape(8,5)\n",
    "arr1"
   ]
  },
  {
   "cell_type": "code",
   "execution_count": 26,
   "metadata": {
    "id": "d7u8DB47eBfQ"
   },
   "outputs": [
    {
     "name": "stdout",
     "output_type": "stream",
     "text": [
      "Original Array\n",
      "[[6073 5312 1846 4888 6019]\n",
      " [6518 1518 9302 4667 9806]\n",
      " [ 516 7276 8077 1322 3255]\n",
      " [9218 1681  123 3082  935]\n",
      " [6519 1136 2440 8757 1606]\n",
      " [3228 2783 7113 2720 8373]\n",
      " [1612 7856 9891 8843   37]\n",
      " [5001 1213 7059 4950 3558]]\n",
      "\n",
      "Normalized Array\n",
      "[[0.61254313 0.53531561 0.18358027 0.4922874  0.60706312]\n",
      " [0.65770246 0.1502943  0.94022732 0.46985996 0.99137406]\n",
      " [0.0486097  0.73462553 0.81591232 0.1304039  0.32656789]\n",
      " [0.93170286 0.1668358  0.00872742 0.30901157 0.09113051]\n",
      " [0.65780394 0.11152831 0.24386036 0.88491983 0.15922468]\n",
      " [0.32382789 0.27866856 0.71808403 0.27227522 0.84595088]\n",
      " [0.15983357 0.79348488 1.         0.89364725 0.        ]\n",
      " [0.50375482 0.1193424  0.71260402 0.49857926 0.35731683]]\n"
     ]
    }
   ],
   "source": [
    "#Code here\n",
    "arr1 = np.random.randint(low=1, high=10000, size=40).reshape(8,5)\n",
    "numerator = arr1 - np.min(arr1)\n",
    "denominator = np.max(arr1) - np.min(arr1)\n",
    "\n",
    "norm_array = numerator / denominator\n",
    "\n",
    "print(\"Original Array\")\n",
    "print(arr1)\n",
    "\n",
    "print(\"\\nNormalized Array\")\n",
    "print(norm_array)"
   ]
  },
  {
   "cell_type": "markdown",
   "metadata": {
    "id": "jCzsVEKLgGNo"
   },
   "source": [
    "###`Q-19:` Write a function which will accept 2 arguments.\n",
    "First: A 1D numpy array arr\n",
    "\n",
    "Second: An integer n {Please make sure n<=len(arr)}\n",
    "\n",
    "Output: The output should be the nth largest item out of the array\n",
    "```\n",
    "# Example1 : arr=(12,34,40,7,1,0) and n=3, the output should be 12\n",
    "# Example2 : arr=(12,34,40,7,1,0) and n=1, the output should be 40\n",
    "```"
   ]
  },
  {
   "cell_type": "code",
   "execution_count": 27,
   "metadata": {
    "id": "J4AzkDk7gXSG"
   },
   "outputs": [
    {
     "name": "stdout",
     "output_type": "stream",
     "text": [
      "34\n"
     ]
    }
   ],
   "source": [
    "#Code here\n",
    "import numpy as np\n",
    "def largest_item(array, number):\n",
    "    \n",
    "    if isinstance(array, np.ndarray) and number <= len(array):\n",
    "        array.sort()\n",
    "        print(array[-number])\n",
    "    else:\n",
    "        raise ValueError (\"Only numpy array and number should be less than length of an array!\")\n",
    "    \n",
    "arr = np.array([12,34,40,7,1,0])\n",
    "arr1 = [12,34,40,7,1,0]\n",
    "\n",
    "try:\n",
    "    largest_item(arr, 2)\n",
    "except ValueError as e:\n",
    "    print(e)"
   ]
  },
  {
   "cell_type": "markdown",
   "metadata": {
    "id": "ja0xPCgjhBsg"
   },
   "source": [
    "###`Q-20:` Create the following pattern without hardcoding. Use only numpy functions and the below input array a.\n",
    "```\n",
    "# Input: a = np.array([1,2,3])\n",
    "# Output: array([1, 1, 1, 2, 2, 2, 3, 3, 3, 1, 2, 3, 1, 2, 3, 1, 2, 3])\n",
    "```"
   ]
  },
  {
   "cell_type": "code",
   "execution_count": 34,
   "metadata": {
    "id": "CndS8TTNhG0F"
   },
   "outputs": [
    {
     "name": "stdout",
     "output_type": "stream",
     "text": [
      "1\n",
      "2\n",
      "3\n"
     ]
    }
   ],
   "source": [
    "#code here\n",
    "\n",
    "a = np.array([1,2,3])\n",
    "len_array = len(a)\n",
    "for i in np.nditer(a):\n",
    "    print(i)"
   ]
  },
  {
   "cell_type": "code",
   "execution_count": null,
   "metadata": {},
   "outputs": [],
   "source": []
  }
 ],
 "metadata": {
  "colab": {
   "provenance": []
  },
  "kernelspec": {
   "display_name": "Python 3 (ipykernel)",
   "language": "python",
   "name": "python3"
  },
  "language_info": {
   "codemirror_mode": {
    "name": "ipython",
    "version": 3
   },
   "file_extension": ".py",
   "mimetype": "text/x-python",
   "name": "python",
   "nbconvert_exporter": "python",
   "pygments_lexer": "ipython3",
   "version": "3.9.13"
  }
 },
 "nbformat": 4,
 "nbformat_minor": 4
}
