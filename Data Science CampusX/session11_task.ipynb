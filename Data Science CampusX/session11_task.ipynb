{
 "cells": [
  {
   "cell_type": "markdown",
   "metadata": {
    "id": "ajVfqio_GinI"
   },
   "source": [
    "## Exception Handling\n"
   ]
  },
  {
   "cell_type": "markdown",
   "metadata": {
    "id": "0qnQkJtnGozz"
   },
   "source": [
    "###`Q-1`: You are given a function definition. There might be several issues on execution of this function. You are asked to do exception handling for diffrent errors that this function goes in to `without altering this function`. And print error text."
   ]
  },
  {
   "cell_type": "markdown",
   "metadata": {
    "id": "2no_EB2fGyGq"
   },
   "source": [
    "Function parameters `l -> list, s -> could be anything`\n",
    "````````\n",
    "def function(l: list, s, **args):\n",
    "    try:\n",
    "        last_element = l[-1] \n",
    "    \n",
    "        l[int(s)]=10 \n",
    "        any_element = l[int(s)+10] \n",
    "        l[s]=10 \n",
    "    \n",
    "        res = sum(l) \n",
    "    \n",
    "        p = args['p']\n",
    "        # print(p)\n",
    "        return res/last_element * p + any_element \n",
    "            \n",
    "\n",
    "Check for different function calls:-\n",
    "\n",
    "function([1,2,1], 12)\n",
    "function([1,2,1]*9, '1-2')\n",
    "function([1,'2',1]*9, 12)\n",
    "function([1,'2',1]*9, 12)\n",
    "function([1,2,0]*9, 12  )\n",
    "function([1,2,1]*9, 12, p=None)\n",
    "function([1,2,0]*9, 12, p=10)\n",
    "\n",
    "``````````````````````````"
   ]
  },
  {
   "cell_type": "code",
   "execution_count": 83,
   "metadata": {
    "id": "VoaL4_9eGjFU"
   },
   "outputs": [
    {
     "name": "stdout",
     "output_type": "stream",
     "text": [
      "list assignment index out of range\n",
      "invalid literal for int() with base 10: '1-2'\n",
      "unsupported operand type(s) for +: 'int' and 'str'\n",
      "unsupported operand type(s) for +: 'int' and 'str'\n",
      "Unable to found key 'p'\n",
      "unsupported operand type(s) for *: 'float' and 'NoneType'\n",
      "can't perform division by zero\n"
     ]
    }
   ],
   "source": [
    "# Write code here\n",
    "def function(l: list, s, **args):\n",
    "    try:\n",
    "        last_element = l[-1] # List reverese indexing\n",
    "    \n",
    "        l[int(s)]=10 # List index value update\n",
    "        any_element = l[int(s)+10] # value retreive throug list indexing after increment of 10\n",
    "        l[s]=10 # List index value update\n",
    "    \n",
    "        res = sum(l) # Sum all values of list \"l\" and store in \"res\"\n",
    "    \n",
    "        p = args['p'] # Trying to retreive value from key and dictionary named \"args\"\n",
    "        # print(p)\n",
    "        return res/last_element * p + any_element \n",
    "    # Mathematical Calculation: first \"res\" divide by \"last_element\" than multiply by \"p\" and in last add with \"any_element\"\n",
    "    except IndexError as ie:\n",
    "        print(ie)\n",
    "    except ValueError as ve:\n",
    "        print(ve)\n",
    "    except TypeError as te:\n",
    "        print(te)\n",
    "    except KeyError as ke:\n",
    "        print(\"Unable to found key\",ke)\n",
    "        \n",
    "    except ZeroDivisionError as zde:\n",
    "        print(\"can't perform\",zde)\n",
    "        \n",
    "\n",
    "# Check for different function calls:-\n",
    "\n",
    "function([1,2,1], 12)\n",
    "function([1,2,1]*9, '1-2')\n",
    "function([1,'2',1]*9, 12)\n",
    "function([1,'2',1]*9, 12)\n",
    "function([1,2,0]*9, 12  )\n",
    "function([1,2,1]*9, 12, p=None)\n",
    "function([1,2,0]*9, 12, p=10)"
   ]
  },
  {
   "cell_type": "markdown",
   "metadata": {
    "id": "HuLMy2fVG9sL"
   },
   "source": [
    "###`Q-2:` You are given a code snippet. There might be several issues on execution of this code. You are asked to do exception handling for diffrent errors, condition is what ever happens we need to execute last line printing correct result of `sum of elements`.\n",
    "\n",
    "List have elemnts as any no of  `key-pair dict with key as list index and value as any integer`, `integers` and `numeric-strings`. There is always only one element in the dict.\n",
    "\n",
    "\n",
    "```\n",
    "l = [{0:2},2,3,4,'5', {5:10}]\n",
    "# For calculating sum of above list\n",
    "s=0\n",
    "for i in range(len(l)):\n",
    "    #You can Edit code from here\n",
    "    s += l[i].get(i)\n",
    "    s += l[i]\n",
    "    s += int(l[i])\n",
    "\n",
    "\n",
    "print(s)\n",
    "```"
   ]
  },
  {
   "cell_type": "code",
   "execution_count": 129,
   "metadata": {
    "id": "pEP8JU0qHAf8"
   },
   "outputs": [
    {
     "name": "stdout",
     "output_type": "stream",
     "text": [
      "unsupported operand type(s) for +=: 'int' and 'dict'\n",
      "'int' object has no attribute 'get'\n",
      "'int' object has no attribute 'get'\n",
      "'int' object has no attribute 'get'\n",
      "'str' object has no attribute 'get'\n",
      "unsupported operand type(s) for +=: 'int' and 'dict'\n",
      "Sum of elements = 12\n"
     ]
    }
   ],
   "source": [
    "# Write code here\n",
    "l = [{0:2},2,3,4,'5', {5:10}]\n",
    "# For calculating sum of above list\n",
    "s=0\n",
    "\n",
    "for i in range(len(l)):\n",
    "    try:\n",
    "        #You can Edit code from here\n",
    "    \n",
    "        s += l[i].get(i)  \n",
    "        s += l[i]\n",
    "        s += int(l[i])\n",
    "    except AttributeError as ae:\n",
    "        print(ae)\n",
    "    except TypeError as te:\n",
    "        print(te)\n",
    "    \n",
    "print(\"Sum of elements =\",s)"
   ]
  },
  {
   "cell_type": "markdown",
   "metadata": {
    "id": "ohE2fDTXHIan"
   },
   "source": [
    "### `Q-3:`: File Handling with Exception handling\n",
    "\n",
    "Write a program that opens a text file and write data to it as \"Hello, Good Morning!!!\". Handle exceptions that can be generated during the I/O operations. Do not show the success message on the main exception handling block (write inside the else block)."
   ]
  },
  {
   "cell_type": "code",
   "execution_count": 170,
   "metadata": {
    "id": "iOeiWrcIHPlY"
   },
   "outputs": [
    {
     "name": "stdout",
     "output_type": "stream",
     "text": [
      "Sorry the file \"output025.txt\" does not exist!\n"
     ]
    }
   ],
   "source": [
    "# write code here\n",
    "\n",
    "def write_file(file_name):\n",
    "    if file_name:\n",
    "        try:\n",
    "            with open(file_name, \"r+\") as f:\n",
    "                f.write(\"Hello, Good Morning!!!\\n\")\n",
    "                file_read = f.readline()\n",
    "                \n",
    "        except IOError as e:            \n",
    "            print('''Sorry the file \"{}\" does not exist!'''.format(file_name))\n",
    "            \n",
    "        else:            \n",
    "            print('''The file \"{}\" IO operation successfully'''.format(file_name))\n",
    "            print(file_read)\n",
    "\n",
    "        \n",
    "write_file(\"output025.txt\")"
   ]
  },
  {
   "cell_type": "markdown",
   "metadata": {
    "id": "ru8g8-_bHTUf"
   },
   "source": [
    "### `Q-4`: Number game program.\n",
    "\n",
    "Write a number game program. Ask the user to enter a number. If the number is greater than number to be guessed, raise a **ValueTooLarge** exception. If the value is smaller the number to be guessed the, raise a **ValueTooSmall** exception and prompt the user to enter again. Quit the program only when the user enters the correct number. Also raise **GuessError** if user guess a number less than 1."
   ]
  },
  {
   "cell_type": "code",
   "execution_count": null,
   "metadata": {
    "id": "QftlN5LJHZSX"
   },
   "outputs": [],
   "source": [
    "# Write code here\n",
    "class ValueTooLarge(Exception):\n",
    "    pass\n",
    "\n",
    "class ValueTooSmall(Exception):\n",
    "    pass\n",
    "\n",
    "class GuessError(Exception):\n",
    "    pass\n",
    "\n",
    "\n",
    "flag = True\n",
    "while flag == True: \n",
    "    try:\n",
    "        number_to_be_guess = 100\n",
    "        guess_number = int(input(\"Guess the number: \"))\n",
    "\n",
    "        if guess_number > number_to_be_guess:\n",
    "            raise ValueTooLarge\n",
    "\n",
    "        elif guess_number > 1 and guess_number < number_to_be_guess:\n",
    "            raise ValueTooSmall\n",
    "            guess_number = int(input(\"Guess the number: \"))    \n",
    "            \n",
    "        elif guess_number == 1:\n",
    "            raise GuessError\n",
    "        \n",
    "        elif guess_number == number_to_be_guess:\n",
    "                print(\"Guess Right\")\n",
    "                flag = False              \n",
    "            \n",
    "    except ValueTooLarge:\n",
    "        print(\"Number is too large from number to be guessed\")\n",
    "    except ValueTooSmall:\n",
    "        print(\"Number is too small from number to be guessed\")\n",
    "    except GuessError:\n",
    "        print(\"Number is less than 1\")"
   ]
  },
  {
   "cell_type": "markdown",
   "metadata": {
    "id": "ZsGI_40fHcsd"
   },
   "source": [
    "### `Q-5:` Cast vote\n",
    "\n",
    "Write a program that validate name and age as entered by the user to determine whether the person can cast vote or not. To handle the age, create **InvalidAge** exception and for name, create **InvalidName** exception. The name will be invalid when the string will be empty or name has only one word.\n",
    "\n",
    "Example 1:\n",
    "\n",
    "Input:\n",
    "\n",
    "```bash\n",
    "Enter the name:               goransh singh\n",
    "Enter the age: 25\n",
    "```\n",
    "\n",
    "Output:\n",
    "\n",
    "```bash\n",
    "Goransh Singh  Congratulation !!! You can vote.\n",
    "```"
   ]
  },
  {
   "cell_type": "code",
   "execution_count": 233,
   "metadata": {
    "id": "OHL3UiS4Hi3U"
   },
   "outputs": [
    {
     "name": "stdout",
     "output_type": "stream",
     "text": [
      "Enter the name: \n",
      "Enter the age: \n",
      "invalid literal for int() with base 10: ''\n"
     ]
    }
   ],
   "source": [
    "# Write code here\n",
    "\n",
    "class InvalidName(Exception):\n",
    "    pass\n",
    "\n",
    "class InvalidAge(Exception):\n",
    "    pass\n",
    "\n",
    "try:\n",
    "    user_name = input(\"Enter the name: \")\n",
    "    user_age = int(input(\"Enter the age: \"))\n",
    "\n",
    "    if user_age < 18:\n",
    "        raise InvalidAge\n",
    "        \n",
    "    elif len(user_name) <= 1:        \n",
    "        raise InvalidName\n",
    "\n",
    "except InvalidAge:\n",
    "    print(\"Invalid Age\")    \n",
    "\n",
    "except InvalidName:\n",
    "    print(\"Invalid Name\")\n",
    "    \n",
    "except ValueError as e:\n",
    "    print(e)\n",
    "\n",
    "else:\n",
    "    print(\"{} congratulation !!! You can vote\".format(user_name))\n",
    "    "
   ]
  },
  {
   "cell_type": "markdown",
   "metadata": {
    "id": "SCvs0QjgHlOG"
   },
   "source": [
    "### `Q-6`: Write a python function which infinitely prints natural numbers in a single line. Raise the **StopIteration** exception after displaying first 20 numnbers to exit from the program."
   ]
  },
  {
   "cell_type": "code",
   "execution_count": 274,
   "metadata": {
    "id": "Lc5ilNgNHoSx"
   },
   "outputs": [
    {
     "name": "stdout",
     "output_type": "stream",
     "text": [
      "1 2 3 4 5 6 7 8 9 10 11 12 13 14 15 16 17 18 19 20 \n"
     ]
    }
   ],
   "source": [
    "# Write code here\n",
    "def natural_numbers():\n",
    "    i = 1\n",
    "    try:\n",
    "        while True:\n",
    "            if i <= 20:\n",
    "                print(i, end=\" \")\n",
    "                i += 1\n",
    "            else:\n",
    "                raise StopIteration\n",
    "    except StopIteration as si:\n",
    "        print(si)\n",
    "        \n",
    "natural_numbers()      "
   ]
  },
  {
   "cell_type": "code",
   "execution_count": null,
   "metadata": {},
   "outputs": [],
   "source": []
  }
 ],
 "metadata": {
  "colab": {
   "provenance": []
  },
  "kernelspec": {
   "display_name": "Python 3 (ipykernel)",
   "language": "python",
   "name": "python3"
  },
  "language_info": {
   "codemirror_mode": {
    "name": "ipython",
    "version": 3
   },
   "file_extension": ".py",
   "mimetype": "text/x-python",
   "name": "python",
   "nbconvert_exporter": "python",
   "pygments_lexer": "ipython3",
   "version": "3.9.13"
  }
 },
 "nbformat": 4,
 "nbformat_minor": 1
}
