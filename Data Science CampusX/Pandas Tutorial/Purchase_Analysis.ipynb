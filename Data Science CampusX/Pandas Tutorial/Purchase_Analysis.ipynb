{
 "cells": [
  {
   "cell_type": "code",
   "execution_count": 1,
   "id": "242e4082",
   "metadata": {},
   "outputs": [],
   "source": [
    "import pandas as pd\n",
    "import numpy as np\n",
    "import matplotlib.pyplot as plt"
   ]
  },
  {
   "cell_type": "code",
   "execution_count": 2,
   "id": "bd31b24b",
   "metadata": {},
   "outputs": [],
   "source": [
    "purchase = pd.read_excel(\"Purchase.xlsx\")"
   ]
  },
  {
   "cell_type": "code",
   "execution_count": 3,
   "id": "33eacc95",
   "metadata": {},
   "outputs": [],
   "source": [
    "purchase[\"year\"] = purchase[\"Podate\"].dt.year"
   ]
  },
  {
   "cell_type": "code",
   "execution_count": 4,
   "id": "e1b823ec",
   "metadata": {},
   "outputs": [],
   "source": [
    "purchase[\"month\"] = purchase[\"Podate\"].dt.month"
   ]
  },
  {
   "cell_type": "code",
   "execution_count": 5,
   "id": "4ede4b35",
   "metadata": {},
   "outputs": [],
   "source": [
    "purchase[\"month_name\"] = purchase[\"Podate\"].dt.month_name(locale=\"English\")"
   ]
  },
  {
   "cell_type": "code",
   "execution_count": 6,
   "id": "f9e12999",
   "metadata": {},
   "outputs": [],
   "source": [
    "purchase = purchase[[\"EBS PO\", \"Podate\", \"year\", \"month\",\"month_name\", \"Po lineno\", \"Po status\", \"PO Cancel\", \"Vendor Name\",\n",
    "          \"Class\", \"Main Class\", \"Categories\", \"Itemcode\", \"Itemname\", \"Unit\", \"Unit Price\",\n",
    "          \"Total\", \"Order Qty.\", \"RCV Qty.\"]]"
   ]
  },
  {
   "cell_type": "code",
   "execution_count": 7,
   "id": "23382515",
   "metadata": {},
   "outputs": [],
   "source": [
    "purchase[\"PO Cancel\"] = purchase[\"PO Cancel\"].fillna(\"No\").copy()"
   ]
  },
  {
   "cell_type": "code",
   "execution_count": 8,
   "id": "793873c7",
   "metadata": {},
   "outputs": [],
   "source": [
    "purchase = purchase[purchase[\"PO Cancel\"]== \"No\"]"
   ]
  },
  {
   "cell_type": "code",
   "execution_count": 9,
   "id": "e6f19bfd",
   "metadata": {},
   "outputs": [
    {
     "data": {
      "text/plain": [
       "(68133, 19)"
      ]
     },
     "execution_count": 9,
     "metadata": {},
     "output_type": "execute_result"
    }
   ],
   "source": [
    "purchase.shape"
   ]
  },
  {
   "cell_type": "code",
   "execution_count": 10,
   "id": "4fc7753c",
   "metadata": {},
   "outputs": [],
   "source": [
    "purchase[\"RCV Qty.\"] = purchase[\"RCV Qty.\"].fillna(0).copy()"
   ]
  },
  {
   "cell_type": "code",
   "execution_count": 11,
   "id": "921b610b",
   "metadata": {},
   "outputs": [],
   "source": [
    "purchase = purchase[purchase[\"RCV Qty.\"] > 0]"
   ]
  },
  {
   "cell_type": "code",
   "execution_count": 12,
   "id": "36548af0",
   "metadata": {},
   "outputs": [],
   "source": [
    "purchase[\"Receiving Total\"] = purchase[\"RCV Qty.\"].mul(purchase[\"Unit Price\"]).copy()"
   ]
  },
  {
   "cell_type": "code",
   "execution_count": 13,
   "id": "9c7a7074",
   "metadata": {},
   "outputs": [
    {
     "data": {
      "text/plain": [
       "(60314, 20)"
      ]
     },
     "execution_count": 13,
     "metadata": {},
     "output_type": "execute_result"
    }
   ],
   "source": [
    "purchase.shape"
   ]
  },
  {
   "cell_type": "code",
   "execution_count": 14,
   "id": "0fe716da",
   "metadata": {},
   "outputs": [
    {
     "data": {
      "text/html": [
       "<div>\n",
       "<style scoped>\n",
       "    .dataframe tbody tr th:only-of-type {\n",
       "        vertical-align: middle;\n",
       "    }\n",
       "\n",
       "    .dataframe tbody tr th {\n",
       "        vertical-align: top;\n",
       "    }\n",
       "\n",
       "    .dataframe thead th {\n",
       "        text-align: right;\n",
       "    }\n",
       "</style>\n",
       "<table border=\"1\" class=\"dataframe\">\n",
       "  <thead>\n",
       "    <tr style=\"text-align: right;\">\n",
       "      <th></th>\n",
       "      <th>EBS PO</th>\n",
       "      <th>Podate</th>\n",
       "      <th>year</th>\n",
       "      <th>month</th>\n",
       "      <th>month_name</th>\n",
       "      <th>Po lineno</th>\n",
       "      <th>Po status</th>\n",
       "      <th>PO Cancel</th>\n",
       "      <th>Vendor Name</th>\n",
       "      <th>Class</th>\n",
       "      <th>Main Class</th>\n",
       "      <th>Categories</th>\n",
       "      <th>Itemcode</th>\n",
       "      <th>Itemname</th>\n",
       "      <th>Unit</th>\n",
       "      <th>Unit Price</th>\n",
       "      <th>Total</th>\n",
       "      <th>Order Qty.</th>\n",
       "      <th>RCV Qty.</th>\n",
       "      <th>Receiving Total</th>\n",
       "    </tr>\n",
       "  </thead>\n",
       "  <tbody>\n",
       "    <tr>\n",
       "      <th>1</th>\n",
       "      <td>3847</td>\n",
       "      <td>2019-01-24</td>\n",
       "      <td>2019</td>\n",
       "      <td>1</td>\n",
       "      <td>January</td>\n",
       "      <td>1</td>\n",
       "      <td>CLOSED</td>\n",
       "      <td>No</td>\n",
       "      <td>F. G. INDUSTRIAL EQUIPMENTS (PVT.) LTD.</td>\n",
       "      <td>5102</td>\n",
       "      <td>Electrical</td>\n",
       "      <td>Battery</td>\n",
       "      <td>5102-00019-0000</td>\n",
       "      <td>BATTERY CONNECTOR HANDLE GRIP PART NO: 220-00005</td>\n",
       "      <td>Numbers</td>\n",
       "      <td>2000.0</td>\n",
       "      <td>2000.0</td>\n",
       "      <td>1.0</td>\n",
       "      <td>1.0</td>\n",
       "      <td>2000.0</td>\n",
       "    </tr>\n",
       "    <tr>\n",
       "      <th>2</th>\n",
       "      <td>6146</td>\n",
       "      <td>2019-09-25</td>\n",
       "      <td>2019</td>\n",
       "      <td>9</td>\n",
       "      <td>September</td>\n",
       "      <td>2</td>\n",
       "      <td>CLOSED</td>\n",
       "      <td>No</td>\n",
       "      <td>F. G. INDUSTRIAL EQUIPMENTS (PVT.) LTD.</td>\n",
       "      <td>5234</td>\n",
       "      <td>Mechanical</td>\n",
       "      <td>Mechanical Miscellaneous Item</td>\n",
       "      <td>5234-00419-0000</td>\n",
       "      <td>AIR FILTER ELEMENT PRI (PART#: A408446)</td>\n",
       "      <td>Numbers</td>\n",
       "      <td>4500.0</td>\n",
       "      <td>13500.0</td>\n",
       "      <td>3.0</td>\n",
       "      <td>3.0</td>\n",
       "      <td>13500.0</td>\n",
       "    </tr>\n",
       "  </tbody>\n",
       "</table>\n",
       "</div>"
      ],
      "text/plain": [
       "   EBS PO     Podate  year  month month_name  Po lineno Po status PO Cancel  \\\n",
       "1    3847 2019-01-24  2019      1    January          1    CLOSED        No   \n",
       "2    6146 2019-09-25  2019      9  September          2    CLOSED        No   \n",
       "\n",
       "                               Vendor Name  Class  Main Class  \\\n",
       "1  F. G. INDUSTRIAL EQUIPMENTS (PVT.) LTD.   5102  Electrical   \n",
       "2  F. G. INDUSTRIAL EQUIPMENTS (PVT.) LTD.   5234  Mechanical   \n",
       "\n",
       "                      Categories         Itemcode  \\\n",
       "1                        Battery  5102-00019-0000   \n",
       "2  Mechanical Miscellaneous Item  5234-00419-0000   \n",
       "\n",
       "                                           Itemname     Unit  Unit Price  \\\n",
       "1  BATTERY CONNECTOR HANDLE GRIP PART NO: 220-00005  Numbers      2000.0   \n",
       "2           AIR FILTER ELEMENT PRI (PART#: A408446)  Numbers      4500.0   \n",
       "\n",
       "     Total  Order Qty.  RCV Qty.  Receiving Total  \n",
       "1   2000.0         1.0       1.0           2000.0  \n",
       "2  13500.0         3.0       3.0          13500.0  "
      ]
     },
     "execution_count": 14,
     "metadata": {},
     "output_type": "execute_result"
    }
   ],
   "source": [
    "purchase.head(2)"
   ]
  },
  {
   "cell_type": "code",
   "execution_count": 15,
   "id": "a17d4ba1",
   "metadata": {},
   "outputs": [],
   "source": [
    "Jul_22_Jun_23 = purchase[((purchase[\"year\"] == 2022) & (purchase[\"month\"] >= 7)) | ((purchase[\"year\"] == 2023) & (purchase[\"month\"] < 7))]\n",
    "Jul_22_Jun_23 = Jul_22_Jun_23[(Jul_22_Jun_23[\"Main Class\"] != \"Primary Packaging Materials\") & (Jul_22_Jun_23[\"Main Class\"] != \"Raw Materials\") & (Jul_22_Jun_23[\"Main Class\"] != \"Secondry Packaging Materials\")]"
   ]
  },
  {
   "cell_type": "code",
   "execution_count": 16,
   "id": "9356f44e",
   "metadata": {},
   "outputs": [],
   "source": [
    "Jul_23_Dec_23 = purchase[(purchase[\"year\"] == 2023) & (purchase[\"month\"] >= 7)]\n",
    "Jul_23_Dec_23 = Jul_23_Dec_23[(Jul_23_Dec_23[\"Main Class\"] != \"Primary Packaging Materials\") & (Jul_23_Dec_23[\"Main Class\"] != \"Raw Materials\") & (Jul_23_Dec_23[\"Main Class\"] != \"Secondry Packaging Materials\")]"
   ]
  },
  {
   "cell_type": "markdown",
   "id": "789340e7",
   "metadata": {},
   "source": [
    "# Category Wise Spend"
   ]
  },
  {
   "cell_type": "code",
   "execution_count": 17,
   "id": "49ff4812",
   "metadata": {},
   "outputs": [
    {
     "data": {
      "text/plain": [
       "Main Class\n",
       "Auto Spares / Accessories                  3,327,355.05\n",
       "Electrical                                 8,044,505.92\n",
       "Furniture and Fixture                         38,850.00\n",
       "General Consumable                        47,157,986.48\n",
       "General Non-Inventory Materials              636,409.67\n",
       "HVAC / Air Conditioning                    8,155,141.00\n",
       "House Keeping                              2,728,573.09\n",
       "Kitchen / Canteen                         34,421,173.24\n",
       "Mechanical                                10,343,151.45\n",
       "Other Assets                               2,521,200.00\n",
       "Plant, Machinery, Moulds and Equipments   11,923,947.03\n",
       "Plumbering and Sanitory                    2,359,552.00\n",
       "Quality Control Consumables                6,597,052.00\n",
       "Sales and Promotion                        3,990,406.10\n",
       "Stationery                                 2,452,904.45\n",
       "Name: Receiving Total, dtype: float64"
      ]
     },
     "execution_count": 17,
     "metadata": {},
     "output_type": "execute_result"
    }
   ],
   "source": [
    "pd.set_option('display.float_format', '{:,.2f}'.format)\n",
    "cat_Jul_22_Jun_23 = Jul_22_Jun_23.groupby(\"Main Class\")[\"Receiving Total\"].sum()\n",
    "cat_Jul_22_Jun_23"
   ]
  },
  {
   "cell_type": "code",
   "execution_count": 18,
   "id": "f0a75c0d",
   "metadata": {},
   "outputs": [
    {
     "data": {
      "image/png": "[encoded data removed]",
      "text/plain": [
       "<Figure size 640x480 with 1 Axes>"
      ]
     },
     "metadata": {},
     "output_type": "display_data"
    }
   ],
   "source": [
    "cat_Jul_22_Jun_23.plot.barh()\n",
    "plt.show()"
   ]
  },
  {
   "cell_type": "code",
   "execution_count": 19,
   "id": "a210f3fd",
   "metadata": {},
   "outputs": [
    {
     "data": {
      "text/plain": [
       "Main Class\n",
       "Auto Spares / Accessories                  1,489,001.83\n",
       "Electrical                                95,055,365.11\n",
       "Furniture and Fixture                        512,000.00\n",
       "General Consumable                        30,235,916.60\n",
       "General Non-Inventory Materials              331,713.33\n",
       "HVAC / Air Conditioning                    3,806,494.00\n",
       "House Keeping                              1,554,272.97\n",
       "Kitchen / Canteen                         14,356,945.10\n",
       "Mechanical                                 3,285,439.20\n",
       "Other Assets                                   2,300.00\n",
       "Plant, Machinery, Moulds and Equipments      950,450.00\n",
       "Plumbering and Sanitory                      545,424.50\n",
       "Quality Control Consumables                3,804,125.15\n",
       "Sales and Promotion                        1,622,998.10\n",
       "Stationery                                 1,557,599.20\n",
       "Name: Receiving Total, dtype: float64"
      ]
     },
     "execution_count": 19,
     "metadata": {},
     "output_type": "execute_result"
    }
   ],
   "source": [
    "pd.set_option('display.float_format', '{:,.2f}'.format)\n",
    "cat_Jul_23_Dec_23 = Jul_23_Dec_23.groupby(\"Main Class\")[\"Receiving Total\"].sum()\n",
    "cat_Jul_23_Dec_23"
   ]
  },
  {
   "cell_type": "code",
   "execution_count": 20,
   "id": "dfa25195",
   "metadata": {},
   "outputs": [
    {
     "data": {
      "image/png": "[encoded data removed]",
      "text/plain": [
       "<Figure size 640x480 with 1 Axes>"
      ]
     },
     "metadata": {},
     "output_type": "display_data"
    }
   ],
   "source": [
    "cat_Jul_23_Dec_23.plot.barh()\n",
    "plt.show()"
   ]
  },
  {
   "cell_type": "markdown",
   "id": "0bc02c4d",
   "metadata": {},
   "source": [
    "# Supplier Wise Spend"
   ]
  },
  {
   "cell_type": "code",
   "execution_count": 21,
   "id": "9f231b3d",
   "metadata": {},
   "outputs": [
    {
     "data": {
      "text/plain": [
       "Main Class                 Vendor Name                              \n",
       "Auto Spares / Accessories  DEFENCE BATTERY                               1,600.00\n",
       "                           F. G. INDUSTRIAL EQUIPMENTS (PVT.) LTD.       5,000.00\n",
       "                           HONDA SHAHRAH-E-FAISAL & DEFENCE WORKSHOP   516,223.60\n",
       "                           HONDA SOUTH (PVT) LTD.                       97,690.96\n",
       "                           NATIONAL OIL TRADERS                        399,809.28\n",
       "                                                                          ...    \n",
       "Stationery                 M. A. PRINTERS                              277,277.50\n",
       "                           MUHAMMAD RAZA -CASH PURCHASES                14,500.00\n",
       "                           Muhammad Raza                                39,400.00\n",
       "                           PAPER N PLUS                                160,000.00\n",
       "                           S. R. MARKETING                              92,470.00\n",
       "Name: Receiving Total, Length: 247, dtype: float64"
      ]
     },
     "execution_count": 21,
     "metadata": {},
     "output_type": "execute_result"
    }
   ],
   "source": [
    "sup_Jul_22_Jun_23 = Jul_22_Jun_23.groupby([\"Main Class\", \"Vendor Name\"])[\"Receiving Total\"].sum()\n",
    "sup_Jul_22_Jun_23"
   ]
  },
  {
   "cell_type": "code",
   "execution_count": 22,
   "id": "afcedb76",
   "metadata": {},
   "outputs": [],
   "source": [
    "sup_Jul_23_Dec_23 = Jul_23_Dec_23.groupby([\"Main Class\", \"Vendor Name\"])[\"Receiving Total\"].sum()\n",
    "sup_Jul_23_Dec_23.to_csv(\"check.csv\")"
   ]
  },
  {
   "cell_type": "markdown",
   "id": "daed433a",
   "metadata": {},
   "source": [
    "# Open Requisitions"
   ]
  },
  {
   "cell_type": "code",
   "execution_count": 2,
   "id": "bcd10aea",
   "metadata": {},
   "outputs": [],
   "source": [
    "# df = pd.read_csv(\"prs_check(new).csv\", encoding=\"latin1\")\n",
    "df = pd.read_excel(\"Open Requisitions.xlsx\")"
   ]
  },
  {
   "cell_type": "code",
   "execution_count": 3,
   "id": "9d3e34a9",
   "metadata": {},
   "outputs": [],
   "source": [
    "df[\"PR Date\"] = pd.to_datetime(df[\"PR Date\"])"
   ]
  },
  {
   "cell_type": "code",
   "execution_count": 4,
   "id": "eef9bc42",
   "metadata": {},
   "outputs": [],
   "source": [
    "df[\"Delivery Date\"] = pd.to_datetime(df[\"Delivery Date\"])"
   ]
  },
  {
   "cell_type": "code",
   "execution_count": 5,
   "id": "61383efe",
   "metadata": {},
   "outputs": [],
   "source": [
    "df[\"PR Year\"] = df[\"PR Date\"].dt.year"
   ]
  },
  {
   "cell_type": "code",
   "execution_count": 6,
   "id": "8376c37b",
   "metadata": {},
   "outputs": [],
   "source": [
    "df[\"PR Month\"] = df[\"PR Date\"].dt.month"
   ]
  },
  {
   "cell_type": "code",
   "execution_count": 7,
   "id": "638828e3",
   "metadata": {},
   "outputs": [],
   "source": [
    "df[\"PR Day\"] = df[\"PR Date\"].dt.day"
   ]
  },
  {
   "cell_type": "code",
   "execution_count": 8,
   "id": "ed35286c",
   "metadata": {},
   "outputs": [],
   "source": [
    "df[\"Buyer\"] = df[\"Buyer\"].fillna(\"Not Assigned\")"
   ]
  },
  {
   "cell_type": "code",
   "execution_count": 9,
   "id": "06a03901",
   "metadata": {},
   "outputs": [],
   "source": [
    "df[\"Department\"] = df[\"Department\"].fillna(\"not available\")"
   ]
  },
  {
   "cell_type": "code",
   "execution_count": 10,
   "id": "fe129e02",
   "metadata": {},
   "outputs": [],
   "source": [
    "open_req = df[df[\"PR Year\"] == 2024]"
   ]
  },
  {
   "cell_type": "code",
   "execution_count": 11,
   "id": "c41bc01a",
   "metadata": {},
   "outputs": [],
   "source": [
    "open_req.to_csv(\"open_req_2024.csv\", index=False)"
   ]
  },
  {
   "cell_type": "markdown",
   "id": "fcaf4725",
   "metadata": {},
   "source": [
    "# Purchase Analysis (Receiving Report)"
   ]
  },
  {
   "cell_type": "code",
   "execution_count": 55,
   "id": "38c2449d",
   "metadata": {},
   "outputs": [],
   "source": [
    "import pandas as pd"
   ]
  },
  {
   "cell_type": "code",
   "execution_count": 56,
   "id": "ca303c36",
   "metadata": {},
   "outputs": [],
   "source": [
    "recv = pd.read_excel(\"Item_Receiving.xlsx\")"
   ]
  },
  {
   "cell_type": "code",
   "execution_count": 91,
   "id": "1fcc409d",
   "metadata": {},
   "outputs": [],
   "source": [
    "df = recv.copy()"
   ]
  },
  {
   "cell_type": "code",
   "execution_count": 94,
   "id": "a85b19a3",
   "metadata": {},
   "outputs": [],
   "source": [
    "df.drop(df.iloc[0:9].index, inplace=True)"
   ]
  },
  {
   "cell_type": "code",
   "execution_count": 100,
   "id": "65902eb6",
   "metadata": {},
   "outputs": [],
   "source": [
    "new_header = df.iloc[0]"
   ]
  },
  {
   "cell_type": "code",
   "execution_count": 101,
   "id": "787897b4",
   "metadata": {},
   "outputs": [],
   "source": [
    "df = df[2:]"
   ]
  },
  {
   "cell_type": "code",
   "execution_count": 102,
   "id": "77685d24",
   "metadata": {},
   "outputs": [],
   "source": [
    "df.columns = new_header"
   ]
  },
  {
   "cell_type": "code",
   "execution_count": 112,
   "id": "11eac43a",
   "metadata": {},
   "outputs": [
    {
     "name": "stderr",
     "output_type": "stream",
     "text": [
      "C:\\Users\\atif\\AppData\\Local\\Temp\\ipykernel_2392\\3559274485.py:1: SettingWithCopyWarning: \n",
      "A value is trying to be set on a copy of a slice from a DataFrame\n",
      "\n",
      "See the caveats in the documentation: https://pandas.pydata.org/pandas-docs/stable/user_guide/indexing.html#returning-a-view-versus-a-copy\n",
      "  df.drop(df.iloc[83:87].index, inplace=True)\n"
     ]
    }
   ],
   "source": [
    "df.drop(df.iloc[83:87].index, inplace=True)"
   ]
  },
  {
   "cell_type": "code",
   "execution_count": 131,
   "id": "c236b052",
   "metadata": {},
   "outputs": [
    {
     "name": "stderr",
     "output_type": "stream",
     "text": [
      "C:\\Users\\atif\\AppData\\Local\\Temp\\ipykernel_2392\\857342026.py:1: SettingWithCopyWarning: \n",
      "A value is trying to be set on a copy of a slice from a DataFrame\n",
      "\n",
      "See the caveats in the documentation: https://pandas.pydata.org/pandas-docs/stable/user_guide/indexing.html#returning-a-view-versus-a-copy\n",
      "  df.drop(df.iloc[101:108].index, inplace=True)\n"
     ]
    }
   ],
   "source": [
    "df.drop(df.iloc[101:108].index, inplace=True)"
   ]
  },
  {
   "cell_type": "code",
   "execution_count": 140,
   "id": "79fa692f",
   "metadata": {},
   "outputs": [
    {
     "name": "stderr",
     "output_type": "stream",
     "text": [
      "C:\\Users\\atif\\AppData\\Local\\Temp\\ipykernel_2392\\1418537463.py:1: SettingWithCopyWarning: \n",
      "A value is trying to be set on a copy of a slice from a DataFrame\n",
      "\n",
      "See the caveats in the documentation: https://pandas.pydata.org/pandas-docs/stable/user_guide/indexing.html#returning-a-view-versus-a-copy\n",
      "  df.drop(df.iloc[126:133].index, inplace=True)\n"
     ]
    }
   ],
   "source": [
    "df.drop(df.iloc[126:133].index, inplace=True)"
   ]
  },
  {
   "cell_type": "code",
   "execution_count": 141,
   "id": "a61aeb3e",
   "metadata": {},
   "outputs": [],
   "source": [
    "df.to_csv(\"check.csv\")"
   ]
  },
  {
   "cell_type": "code",
   "execution_count": 156,
   "id": "c87df14b",
   "metadata": {},
   "outputs": [
    {
     "data": {
      "text/html": [
       "<div>\n",
       "<style scoped>\n",
       "    .dataframe tbody tr th:only-of-type {\n",
       "        vertical-align: middle;\n",
       "    }\n",
       "\n",
       "    .dataframe tbody tr th {\n",
       "        vertical-align: top;\n",
       "    }\n",
       "\n",
       "    .dataframe thead th {\n",
       "        text-align: right;\n",
       "    }\n",
       "</style>\n",
       "<table border=\"1\" class=\"dataframe\">\n",
       "  <thead>\n",
       "    <tr style=\"text-align: right;\">\n",
       "      <th>9</th>\n",
       "      <th>Sr</th>\n",
       "      <th>Item Code</th>\n",
       "      <th>Item Name</th>\n",
       "      <th>Supplier / Department</th>\n",
       "      <th>PO No.</th>\n",
       "      <th>DC Number</th>\n",
       "      <th>MRR No.</th>\n",
       "      <th>Shipment No.</th>\n",
       "      <th>Lot No.</th>\n",
       "      <th>Potency</th>\n",
       "      <th>Requested Date</th>\n",
       "      <th>Receiving Date</th>\n",
       "      <th>Quantity</th>\n",
       "      <th>UOM</th>\n",
       "      <th>Sample Date</th>\n",
       "      <th>Release Status</th>\n",
       "      <th>Rel / Rej / Hold Date</th>\n",
       "      <th>Manufacturer</th>\n",
       "    </tr>\n",
       "  </thead>\n",
       "  <tbody>\n",
       "    <tr>\n",
       "      <th>282</th>\n",
       "      <td>NaN</td>\n",
       "      <td>NaN</td>\n",
       "      <td>NaN</td>\n",
       "      <td>NaN</td>\n",
       "      <td>NaN</td>\n",
       "      <td>NaN</td>\n",
       "      <td>NaN</td>\n",
       "      <td>NaN</td>\n",
       "      <td>NaN</td>\n",
       "      <td>NaN</td>\n",
       "      <td>NaN</td>\n",
       "      <td>NaN</td>\n",
       "      <td>NaN</td>\n",
       "      <td>NaN</td>\n",
       "      <td>NaN</td>\n",
       "      <td>NaN</td>\n",
       "      <td>NaN</td>\n",
       "      <td>NaN</td>\n",
       "    </tr>\n",
       "    <tr>\n",
       "      <th>283</th>\n",
       "      <td>Computer Equipment / Accessories</td>\n",
       "      <td>NaN</td>\n",
       "      <td>NaN</td>\n",
       "      <td>NaN</td>\n",
       "      <td>NaN</td>\n",
       "      <td>NaN</td>\n",
       "      <td>NaN</td>\n",
       "      <td>NaN</td>\n",
       "      <td>NaN</td>\n",
       "      <td>NaN</td>\n",
       "      <td>NaN</td>\n",
       "      <td>NaN</td>\n",
       "      <td>NaN</td>\n",
       "      <td>NaN</td>\n",
       "      <td>NaN</td>\n",
       "      <td>NaN</td>\n",
       "      <td>NaN</td>\n",
       "      <td>NaN</td>\n",
       "    </tr>\n",
       "    <tr>\n",
       "      <th>285</th>\n",
       "      <td>No</td>\n",
       "      <td>NaN</td>\n",
       "      <td>NaN</td>\n",
       "      <td>NaN</td>\n",
       "      <td>NaN</td>\n",
       "      <td>NaN</td>\n",
       "      <td>NaN</td>\n",
       "      <td>NaN</td>\n",
       "      <td>NaN</td>\n",
       "      <td>Factor</td>\n",
       "      <td>NaN</td>\n",
       "      <td>NaN</td>\n",
       "      <td>Received</td>\n",
       "      <td>NaN</td>\n",
       "      <td>NaN</td>\n",
       "      <td>NaN</td>\n",
       "      <td>NaN</td>\n",
       "      <td>NaN</td>\n",
       "    </tr>\n",
       "    <tr>\n",
       "      <th>334</th>\n",
       "      <td>NaN</td>\n",
       "      <td>NaN</td>\n",
       "      <td>NaN</td>\n",
       "      <td>NaN</td>\n",
       "      <td>NaN</td>\n",
       "      <td>NaN</td>\n",
       "      <td>NaN</td>\n",
       "      <td>NaN</td>\n",
       "      <td>NaN</td>\n",
       "      <td>NaN</td>\n",
       "      <td>NaN</td>\n",
       "      <td>NaN</td>\n",
       "      <td>NaN</td>\n",
       "      <td>NaN</td>\n",
       "      <td>NaN</td>\n",
       "      <td>NaN</td>\n",
       "      <td>NaN</td>\n",
       "      <td>NaN</td>\n",
       "    </tr>\n",
       "    <tr>\n",
       "      <th>335</th>\n",
       "      <td>General Consumable</td>\n",
       "      <td>NaN</td>\n",
       "      <td>NaN</td>\n",
       "      <td>NaN</td>\n",
       "      <td>NaN</td>\n",
       "      <td>NaN</td>\n",
       "      <td>NaN</td>\n",
       "      <td>NaN</td>\n",
       "      <td>NaN</td>\n",
       "      <td>NaN</td>\n",
       "      <td>NaN</td>\n",
       "      <td>NaN</td>\n",
       "      <td>NaN</td>\n",
       "      <td>NaN</td>\n",
       "      <td>NaN</td>\n",
       "      <td>NaN</td>\n",
       "      <td>NaN</td>\n",
       "      <td>NaN</td>\n",
       "    </tr>\n",
       "    <tr>\n",
       "      <th>...</th>\n",
       "      <td>...</td>\n",
       "      <td>...</td>\n",
       "      <td>...</td>\n",
       "      <td>...</td>\n",
       "      <td>...</td>\n",
       "      <td>...</td>\n",
       "      <td>...</td>\n",
       "      <td>...</td>\n",
       "      <td>...</td>\n",
       "      <td>...</td>\n",
       "      <td>...</td>\n",
       "      <td>...</td>\n",
       "      <td>...</td>\n",
       "      <td>...</td>\n",
       "      <td>...</td>\n",
       "      <td>...</td>\n",
       "      <td>...</td>\n",
       "      <td>...</td>\n",
       "    </tr>\n",
       "    <tr>\n",
       "      <th>9212</th>\n",
       "      <td>Packing Material</td>\n",
       "      <td>NaN</td>\n",
       "      <td>NaN</td>\n",
       "      <td>NaN</td>\n",
       "      <td>NaN</td>\n",
       "      <td>NaN</td>\n",
       "      <td>NaN</td>\n",
       "      <td>NaN</td>\n",
       "      <td>NaN</td>\n",
       "      <td>NaN</td>\n",
       "      <td>NaN</td>\n",
       "      <td>NaN</td>\n",
       "      <td>NaN</td>\n",
       "      <td>NaN</td>\n",
       "      <td>NaN</td>\n",
       "      <td>NaN</td>\n",
       "      <td>NaN</td>\n",
       "      <td>NaN</td>\n",
       "    </tr>\n",
       "    <tr>\n",
       "      <th>9214</th>\n",
       "      <td>No</td>\n",
       "      <td>NaN</td>\n",
       "      <td>NaN</td>\n",
       "      <td>NaN</td>\n",
       "      <td>NaN</td>\n",
       "      <td>NaN</td>\n",
       "      <td>NaN</td>\n",
       "      <td>NaN</td>\n",
       "      <td>NaN</td>\n",
       "      <td>Factor</td>\n",
       "      <td>NaN</td>\n",
       "      <td>NaN</td>\n",
       "      <td>Received</td>\n",
       "      <td>NaN</td>\n",
       "      <td>NaN</td>\n",
       "      <td>NaN</td>\n",
       "      <td>NaN</td>\n",
       "      <td>NaN</td>\n",
       "    </tr>\n",
       "    <tr>\n",
       "      <th>10868</th>\n",
       "      <td>NaN</td>\n",
       "      <td>NaN</td>\n",
       "      <td>NaN</td>\n",
       "      <td>NaN</td>\n",
       "      <td>NaN</td>\n",
       "      <td>NaN</td>\n",
       "      <td>NaN</td>\n",
       "      <td>NaN</td>\n",
       "      <td>NaN</td>\n",
       "      <td>NaN</td>\n",
       "      <td>NaN</td>\n",
       "      <td>NaN</td>\n",
       "      <td>NaN</td>\n",
       "      <td>NaN</td>\n",
       "      <td>NaN</td>\n",
       "      <td>NaN</td>\n",
       "      <td>NaN</td>\n",
       "      <td>NaN</td>\n",
       "    </tr>\n",
       "    <tr>\n",
       "      <th>10869</th>\n",
       "      <td>Raw Material</td>\n",
       "      <td>NaN</td>\n",
       "      <td>NaN</td>\n",
       "      <td>NaN</td>\n",
       "      <td>NaN</td>\n",
       "      <td>NaN</td>\n",
       "      <td>NaN</td>\n",
       "      <td>NaN</td>\n",
       "      <td>NaN</td>\n",
       "      <td>NaN</td>\n",
       "      <td>NaN</td>\n",
       "      <td>NaN</td>\n",
       "      <td>NaN</td>\n",
       "      <td>NaN</td>\n",
       "      <td>NaN</td>\n",
       "      <td>NaN</td>\n",
       "      <td>NaN</td>\n",
       "      <td>NaN</td>\n",
       "    </tr>\n",
       "    <tr>\n",
       "      <th>10871</th>\n",
       "      <td>No</td>\n",
       "      <td>NaN</td>\n",
       "      <td>NaN</td>\n",
       "      <td>NaN</td>\n",
       "      <td>NaN</td>\n",
       "      <td>NaN</td>\n",
       "      <td>NaN</td>\n",
       "      <td>NaN</td>\n",
       "      <td>NaN</td>\n",
       "      <td>Factor</td>\n",
       "      <td>NaN</td>\n",
       "      <td>NaN</td>\n",
       "      <td>Received</td>\n",
       "      <td>NaN</td>\n",
       "      <td>NaN</td>\n",
       "      <td>NaN</td>\n",
       "      <td>NaN</td>\n",
       "      <td>NaN</td>\n",
       "    </tr>\n",
       "  </tbody>\n",
       "</table>\n",
       "<p>72 rows × 18 columns</p>\n",
       "</div>"
      ],
      "text/plain": [
       "9                                    Sr Item Code Item Name  \\\n",
       "282                                 NaN       NaN       NaN   \n",
       "283    Computer Equipment / Accessories       NaN       NaN   \n",
       "285                                  No       NaN       NaN   \n",
       "334                                 NaN       NaN       NaN   \n",
       "335                  General Consumable       NaN       NaN   \n",
       "...                                 ...       ...       ...   \n",
       "9212                   Packing Material       NaN       NaN   \n",
       "9214                                 No       NaN       NaN   \n",
       "10868                               NaN       NaN       NaN   \n",
       "10869                      Raw Material       NaN       NaN   \n",
       "10871                                No       NaN       NaN   \n",
       "\n",
       "9     Supplier / Department PO No. DC Number MRR No. Shipment No. Lot No.  \\\n",
       "282                     NaN    NaN       NaN     NaN          NaN     NaN   \n",
       "283                     NaN    NaN       NaN     NaN          NaN     NaN   \n",
       "285                     NaN    NaN       NaN     NaN          NaN     NaN   \n",
       "334                     NaN    NaN       NaN     NaN          NaN     NaN   \n",
       "335                     NaN    NaN       NaN     NaN          NaN     NaN   \n",
       "...                     ...    ...       ...     ...          ...     ...   \n",
       "9212                    NaN    NaN       NaN     NaN          NaN     NaN   \n",
       "9214                    NaN    NaN       NaN     NaN          NaN     NaN   \n",
       "10868                   NaN    NaN       NaN     NaN          NaN     NaN   \n",
       "10869                   NaN    NaN       NaN     NaN          NaN     NaN   \n",
       "10871                   NaN    NaN       NaN     NaN          NaN     NaN   \n",
       "\n",
       "9     Potency Requested Date Receiving Date Quantity   UOM Sample Date  \\\n",
       "282       NaN            NaN            NaN       NaN  NaN         NaN   \n",
       "283       NaN            NaN            NaN       NaN  NaN         NaN   \n",
       "285    Factor            NaN            NaN  Received  NaN         NaN   \n",
       "334       NaN            NaN            NaN       NaN  NaN         NaN   \n",
       "335       NaN            NaN            NaN       NaN  NaN         NaN   \n",
       "...       ...            ...            ...       ...  ...         ...   \n",
       "9212      NaN            NaN            NaN       NaN  NaN         NaN   \n",
       "9214   Factor            NaN            NaN  Received  NaN         NaN   \n",
       "10868     NaN            NaN            NaN       NaN  NaN         NaN   \n",
       "10869     NaN            NaN            NaN       NaN  NaN         NaN   \n",
       "10871  Factor            NaN            NaN  Received  NaN         NaN   \n",
       "\n",
       "9     Release Status Rel / Rej / Hold Date Manufacturer  \n",
       "282              NaN                   NaN          NaN  \n",
       "283              NaN                   NaN          NaN  \n",
       "285              NaN                   NaN          NaN  \n",
       "334              NaN                   NaN          NaN  \n",
       "335              NaN                   NaN          NaN  \n",
       "...              ...                   ...          ...  \n",
       "9212             NaN                   NaN          NaN  \n",
       "9214             NaN                   NaN          NaN  \n",
       "10868            NaN                   NaN          NaN  \n",
       "10869            NaN                   NaN          NaN  \n",
       "10871            NaN                   NaN          NaN  \n",
       "\n",
       "[72 rows x 18 columns]"
      ]
     },
     "execution_count": 156,
     "metadata": {},
     "output_type": "execute_result"
    }
   ],
   "source": [
    "df[df[\"Item Code\"].isnull()]"
   ]
  },
  {
   "cell_type": "code",
   "execution_count": 157,
   "id": "38b9367c",
   "metadata": {},
   "outputs": [
    {
     "name": "stderr",
     "output_type": "stream",
     "text": [
      "C:\\Users\\atif\\AppData\\Local\\Temp\\ipykernel_2392\\4211676418.py:1: SettingWithCopyWarning: \n",
      "A value is trying to be set on a copy of a slice from a DataFrame\n",
      "\n",
      "See the caveats in the documentation: https://pandas.pydata.org/pandas-docs/stable/user_guide/indexing.html#returning-a-view-versus-a-copy\n",
      "  df.drop(df[df[\"Item Code\"].isnull()].index, inplace=True)\n"
     ]
    }
   ],
   "source": [
    "df.drop(df[df[\"Item Code\"].isnull()].index, inplace=True)"
   ]
  },
  {
   "cell_type": "code",
   "execution_count": 158,
   "id": "c9c4b49f",
   "metadata": {},
   "outputs": [
    {
     "data": {
      "text/html": [
       "<div>\n",
       "<style scoped>\n",
       "    .dataframe tbody tr th:only-of-type {\n",
       "        vertical-align: middle;\n",
       "    }\n",
       "\n",
       "    .dataframe tbody tr th {\n",
       "        vertical-align: top;\n",
       "    }\n",
       "\n",
       "    .dataframe thead th {\n",
       "        text-align: right;\n",
       "    }\n",
       "</style>\n",
       "<table border=\"1\" class=\"dataframe\">\n",
       "  <thead>\n",
       "    <tr style=\"text-align: right;\">\n",
       "      <th>9</th>\n",
       "      <th>Sr</th>\n",
       "      <th>Item Code</th>\n",
       "      <th>Item Name</th>\n",
       "      <th>Supplier / Department</th>\n",
       "      <th>PO No.</th>\n",
       "      <th>DC Number</th>\n",
       "      <th>MRR No.</th>\n",
       "      <th>Shipment No.</th>\n",
       "      <th>Lot No.</th>\n",
       "      <th>Potency</th>\n",
       "      <th>Requested Date</th>\n",
       "      <th>Receiving Date</th>\n",
       "      <th>Quantity</th>\n",
       "      <th>UOM</th>\n",
       "      <th>Sample Date</th>\n",
       "      <th>Release Status</th>\n",
       "      <th>Rel / Rej / Hold Date</th>\n",
       "      <th>Manufacturer</th>\n",
       "    </tr>\n",
       "  </thead>\n",
       "  <tbody>\n",
       "    <tr>\n",
       "      <th>11</th>\n",
       "      <td>1</td>\n",
       "      <td>1308-00748-1002</td>\n",
       "      <td>CARTON RYXON 1gm INJECTION C/P - (ND) - R2 - L...</td>\n",
       "      <td>METIER IMPRESSIONS (PVT) LTD.</td>\n",
       "      <td>15542</td>\n",
       "      <td>22230495</td>\n",
       "      <td>546</td>\n",
       "      <td>NaN</td>\n",
       "      <td>12327</td>\n",
       "      <td>-</td>\n",
       "      <td>2022-12-15 00:00:00</td>\n",
       "      <td>2023-01-11 00:00:00</td>\n",
       "      <td>45600</td>\n",
       "      <td>Numbers</td>\n",
       "      <td>2023-01-12 00:00:00</td>\n",
       "      <td>Released</td>\n",
       "      <td>2023-01-27 00:00:00</td>\n",
       "      <td>NaN</td>\n",
       "    </tr>\n",
       "    <tr>\n",
       "      <th>12</th>\n",
       "      <td>2</td>\n",
       "      <td>1307-00297-2010</td>\n",
       "      <td>STICKER RYXON 1gm INJECTION C/P - (Export) - (...</td>\n",
       "      <td>SWS (PVT) LIMITED</td>\n",
       "      <td>14787</td>\n",
       "      <td>5842</td>\n",
       "      <td>547</td>\n",
       "      <td>NaN</td>\n",
       "      <td>12460</td>\n",
       "      <td>-</td>\n",
       "      <td>2022-06-30 00:00:00</td>\n",
       "      <td>2023-01-30 00:00:00</td>\n",
       "      <td>60500</td>\n",
       "      <td>Numbers</td>\n",
       "      <td>2023-02-01 00:00:00</td>\n",
       "      <td>Released</td>\n",
       "      <td>2023-02-16 00:00:00</td>\n",
       "      <td>NaN</td>\n",
       "    </tr>\n",
       "    <tr>\n",
       "      <th>13</th>\n",
       "      <td>3</td>\n",
       "      <td>1307-00298-2010</td>\n",
       "      <td>STICKER RYXON 1gm I.M. INJECTION C/P - (Export...</td>\n",
       "      <td>SWS (PVT) LIMITED</td>\n",
       "      <td>14787</td>\n",
       "      <td>5842</td>\n",
       "      <td>548</td>\n",
       "      <td>NaN</td>\n",
       "      <td>12461</td>\n",
       "      <td>-</td>\n",
       "      <td>2022-06-30 00:00:00</td>\n",
       "      <td>2023-01-30 00:00:00</td>\n",
       "      <td>44000</td>\n",
       "      <td>Numbers</td>\n",
       "      <td>2023-02-01 00:00:00</td>\n",
       "      <td>Released</td>\n",
       "      <td>2023-02-16 00:00:00</td>\n",
       "      <td>NaN</td>\n",
       "    </tr>\n",
       "    <tr>\n",
       "      <th>14</th>\n",
       "      <td>4</td>\n",
       "      <td>1111-00001-1001</td>\n",
       "      <td>RUBBER STOPPER BROMO BUTYL GREY 20mm - Common ...</td>\n",
       "      <td>ANHUI HUAFENG PHARMACEUTICAL RUBBER CO. LTD.</td>\n",
       "      <td>14409</td>\n",
       "      <td>HF2212222</td>\n",
       "      <td>549</td>\n",
       "      <td>121.1</td>\n",
       "      <td>12463</td>\n",
       "      <td>-</td>\n",
       "      <td>2022-07-14 00:00:00</td>\n",
       "      <td>2023-01-30 00:00:00</td>\n",
       "      <td>1500000</td>\n",
       "      <td>Numbers</td>\n",
       "      <td>2023-01-31 00:00:00</td>\n",
       "      <td>Released</td>\n",
       "      <td>2023-02-01 00:00:00</td>\n",
       "      <td>NaN</td>\n",
       "    </tr>\n",
       "    <tr>\n",
       "      <th>15</th>\n",
       "      <td>5</td>\n",
       "      <td>1110-00004-1001</td>\n",
       "      <td>MOULDED CLEAR GLASS VIAL 15ml - Common Material</td>\n",
       "      <td>SHANDONG PHARMACEUTICAL GLASS CO., LTD.</td>\n",
       "      <td>13488</td>\n",
       "      <td>BPL20220002</td>\n",
       "      <td>550</td>\n",
       "      <td>123.1</td>\n",
       "      <td>12500</td>\n",
       "      <td>-</td>\n",
       "      <td>2022-04-05 00:00:00</td>\n",
       "      <td>2023-02-03 00:00:00</td>\n",
       "      <td>653400</td>\n",
       "      <td>Numbers</td>\n",
       "      <td>2023-02-06 00:00:00</td>\n",
       "      <td>Released</td>\n",
       "      <td>2023-02-06 00:00:00</td>\n",
       "      <td>NaN</td>\n",
       "    </tr>\n",
       "    <tr>\n",
       "      <th>...</th>\n",
       "      <td>...</td>\n",
       "      <td>...</td>\n",
       "      <td>...</td>\n",
       "      <td>...</td>\n",
       "      <td>...</td>\n",
       "      <td>...</td>\n",
       "      <td>...</td>\n",
       "      <td>...</td>\n",
       "      <td>...</td>\n",
       "      <td>...</td>\n",
       "      <td>...</td>\n",
       "      <td>...</td>\n",
       "      <td>...</td>\n",
       "      <td>...</td>\n",
       "      <td>...</td>\n",
       "      <td>...</td>\n",
       "      <td>...</td>\n",
       "      <td>...</td>\n",
       "    </tr>\n",
       "    <tr>\n",
       "      <th>11325</th>\n",
       "      <td>454</td>\n",
       "      <td>1001-00021-0000</td>\n",
       "      <td>DICLOFENAC SODIUM</td>\n",
       "      <td>AMOLI ORGANICS PVT. LTD.</td>\n",
       "      <td>16040</td>\n",
       "      <td>3231030669</td>\n",
       "      <td>13992</td>\n",
       "      <td>1249.5</td>\n",
       "      <td>14409</td>\n",
       "      <td>-</td>\n",
       "      <td>2023-04-05 00:00:00</td>\n",
       "      <td>2024-02-03 00:00:00</td>\n",
       "      <td>800</td>\n",
       "      <td>Kilogram</td>\n",
       "      <td>NaN</td>\n",
       "      <td>Receiving Quarantine Lot</td>\n",
       "      <td>NaN</td>\n",
       "      <td>AMOLI ORGANICS PVT. LTD.</td>\n",
       "    </tr>\n",
       "    <tr>\n",
       "      <th>11326</th>\n",
       "      <td>455</td>\n",
       "      <td>1001-00021-0000</td>\n",
       "      <td>DICLOFENAC SODIUM</td>\n",
       "      <td>AMOLI ORGANICS PVT. LTD.</td>\n",
       "      <td>16040</td>\n",
       "      <td>3231030669</td>\n",
       "      <td>13993</td>\n",
       "      <td>1249.2</td>\n",
       "      <td>14410</td>\n",
       "      <td>-</td>\n",
       "      <td>2023-04-05 00:00:00</td>\n",
       "      <td>2024-02-03 00:00:00</td>\n",
       "      <td>1050</td>\n",
       "      <td>Kilogram</td>\n",
       "      <td>NaN</td>\n",
       "      <td>Receiving Quarantine Lot</td>\n",
       "      <td>NaN</td>\n",
       "      <td>AMOLI ORGANICS PVT. LTD.</td>\n",
       "    </tr>\n",
       "    <tr>\n",
       "      <th>11327</th>\n",
       "      <td>456</td>\n",
       "      <td>1001-00021-0000</td>\n",
       "      <td>DICLOFENAC SODIUM</td>\n",
       "      <td>AMOLI ORGANICS PVT. LTD.</td>\n",
       "      <td>16040</td>\n",
       "      <td>3231030669</td>\n",
       "      <td>13994</td>\n",
       "      <td>1249.3</td>\n",
       "      <td>14411</td>\n",
       "      <td>-</td>\n",
       "      <td>2023-04-05 00:00:00</td>\n",
       "      <td>2024-02-03 00:00:00</td>\n",
       "      <td>1075</td>\n",
       "      <td>Kilogram</td>\n",
       "      <td>NaN</td>\n",
       "      <td>Receiving Quarantine Lot</td>\n",
       "      <td>NaN</td>\n",
       "      <td>AMOLI ORGANICS PVT. LTD.</td>\n",
       "    </tr>\n",
       "    <tr>\n",
       "      <th>11328</th>\n",
       "      <td>457</td>\n",
       "      <td>1001-00021-0000</td>\n",
       "      <td>DICLOFENAC SODIUM</td>\n",
       "      <td>AMOLI ORGANICS PVT. LTD.</td>\n",
       "      <td>16040</td>\n",
       "      <td>3231030669</td>\n",
       "      <td>13995</td>\n",
       "      <td>1249.4</td>\n",
       "      <td>14412</td>\n",
       "      <td>-</td>\n",
       "      <td>2023-04-05 00:00:00</td>\n",
       "      <td>2024-02-03 00:00:00</td>\n",
       "      <td>1075</td>\n",
       "      <td>Kilogram</td>\n",
       "      <td>NaN</td>\n",
       "      <td>Receiving Quarantine Lot</td>\n",
       "      <td>NaN</td>\n",
       "      <td>AMOLI ORGANICS PVT. LTD.</td>\n",
       "    </tr>\n",
       "    <tr>\n",
       "      <th>11329</th>\n",
       "      <td>458</td>\n",
       "      <td>1001-00071-0000</td>\n",
       "      <td>P.V.P. IODINE</td>\n",
       "      <td>BASF Hong Kong Limited</td>\n",
       "      <td>15674</td>\n",
       "      <td>NaN</td>\n",
       "      <td>13996</td>\n",
       "      <td>1272.1</td>\n",
       "      <td>14413</td>\n",
       "      <td>-</td>\n",
       "      <td>2023-02-20 00:00:00</td>\n",
       "      <td>2024-02-03 00:00:00</td>\n",
       "      <td>3500</td>\n",
       "      <td>Kilogram</td>\n",
       "      <td>NaN</td>\n",
       "      <td>Receiving Quarantine Lot</td>\n",
       "      <td>NaN</td>\n",
       "      <td>BASF Corporation</td>\n",
       "    </tr>\n",
       "  </tbody>\n",
       "</table>\n",
       "<p>11229 rows × 18 columns</p>\n",
       "</div>"
      ],
      "text/plain": [
       "9       Sr        Item Code  \\\n",
       "11       1  1308-00748-1002   \n",
       "12       2  1307-00297-2010   \n",
       "13       3  1307-00298-2010   \n",
       "14       4  1111-00001-1001   \n",
       "15       5  1110-00004-1001   \n",
       "...    ...              ...   \n",
       "11325  454  1001-00021-0000   \n",
       "11326  455  1001-00021-0000   \n",
       "11327  456  1001-00021-0000   \n",
       "11328  457  1001-00021-0000   \n",
       "11329  458  1001-00071-0000   \n",
       "\n",
       "9                                              Item Name  \\\n",
       "11     CARTON RYXON 1gm INJECTION C/P - (ND) - R2 - L...   \n",
       "12     STICKER RYXON 1gm INJECTION C/P - (Export) - (...   \n",
       "13     STICKER RYXON 1gm I.M. INJECTION C/P - (Export...   \n",
       "14     RUBBER STOPPER BROMO BUTYL GREY 20mm - Common ...   \n",
       "15       MOULDED CLEAR GLASS VIAL 15ml - Common Material   \n",
       "...                                                  ...   \n",
       "11325                                  DICLOFENAC SODIUM   \n",
       "11326                                  DICLOFENAC SODIUM   \n",
       "11327                                  DICLOFENAC SODIUM   \n",
       "11328                                  DICLOFENAC SODIUM   \n",
       "11329                                      P.V.P. IODINE   \n",
       "\n",
       "9                             Supplier / Department PO No.    DC Number  \\\n",
       "11                    METIER IMPRESSIONS (PVT) LTD.  15542     22230495   \n",
       "12                                SWS (PVT) LIMITED  14787         5842   \n",
       "13                                SWS (PVT) LIMITED  14787         5842   \n",
       "14     ANHUI HUAFENG PHARMACEUTICAL RUBBER CO. LTD.  14409    HF2212222   \n",
       "15          SHANDONG PHARMACEUTICAL GLASS CO., LTD.  13488  BPL20220002   \n",
       "...                                             ...    ...          ...   \n",
       "11325                      AMOLI ORGANICS PVT. LTD.  16040   3231030669   \n",
       "11326                      AMOLI ORGANICS PVT. LTD.  16040   3231030669   \n",
       "11327                      AMOLI ORGANICS PVT. LTD.  16040   3231030669   \n",
       "11328                      AMOLI ORGANICS PVT. LTD.  16040   3231030669   \n",
       "11329                        BASF Hong Kong Limited  15674          NaN   \n",
       "\n",
       "9     MRR No. Shipment No. Lot No. Potency       Requested Date  \\\n",
       "11        546          NaN   12327       -  2022-12-15 00:00:00   \n",
       "12        547          NaN   12460       -  2022-06-30 00:00:00   \n",
       "13        548          NaN   12461       -  2022-06-30 00:00:00   \n",
       "14        549        121.1   12463       -  2022-07-14 00:00:00   \n",
       "15        550        123.1   12500       -  2022-04-05 00:00:00   \n",
       "...       ...          ...     ...     ...                  ...   \n",
       "11325   13992       1249.5   14409       -  2023-04-05 00:00:00   \n",
       "11326   13993       1249.2   14410       -  2023-04-05 00:00:00   \n",
       "11327   13994       1249.3   14411       -  2023-04-05 00:00:00   \n",
       "11328   13995       1249.4   14412       -  2023-04-05 00:00:00   \n",
       "11329   13996       1272.1   14413       -  2023-02-20 00:00:00   \n",
       "\n",
       "9           Receiving Date Quantity        UOM          Sample Date  \\\n",
       "11     2023-01-11 00:00:00     45600   Numbers  2023-01-12 00:00:00   \n",
       "12     2023-01-30 00:00:00     60500   Numbers  2023-02-01 00:00:00   \n",
       "13     2023-01-30 00:00:00     44000   Numbers  2023-02-01 00:00:00   \n",
       "14     2023-01-30 00:00:00   1500000   Numbers  2023-01-31 00:00:00   \n",
       "15     2023-02-03 00:00:00    653400   Numbers  2023-02-06 00:00:00   \n",
       "...                    ...       ...       ...                  ...   \n",
       "11325  2024-02-03 00:00:00       800  Kilogram                  NaN   \n",
       "11326  2024-02-03 00:00:00      1050  Kilogram                  NaN   \n",
       "11327  2024-02-03 00:00:00      1075  Kilogram                  NaN   \n",
       "11328  2024-02-03 00:00:00      1075  Kilogram                  NaN   \n",
       "11329  2024-02-03 00:00:00      3500  Kilogram                  NaN   \n",
       "\n",
       "9                Release Status Rel / Rej / Hold Date  \\\n",
       "11                     Released   2023-01-27 00:00:00   \n",
       "12                     Released   2023-02-16 00:00:00   \n",
       "13                     Released   2023-02-16 00:00:00   \n",
       "14                     Released   2023-02-01 00:00:00   \n",
       "15                     Released   2023-02-06 00:00:00   \n",
       "...                         ...                   ...   \n",
       "11325  Receiving Quarantine Lot                   NaN   \n",
       "11326  Receiving Quarantine Lot                   NaN   \n",
       "11327  Receiving Quarantine Lot                   NaN   \n",
       "11328  Receiving Quarantine Lot                   NaN   \n",
       "11329  Receiving Quarantine Lot                   NaN   \n",
       "\n",
       "9                  Manufacturer  \n",
       "11                          NaN  \n",
       "12                          NaN  \n",
       "13                          NaN  \n",
       "14                          NaN  \n",
       "15                          NaN  \n",
       "...                         ...  \n",
       "11325  AMOLI ORGANICS PVT. LTD.  \n",
       "11326  AMOLI ORGANICS PVT. LTD.  \n",
       "11327  AMOLI ORGANICS PVT. LTD.  \n",
       "11328  AMOLI ORGANICS PVT. LTD.  \n",
       "11329          BASF Corporation  \n",
       "\n",
       "[11229 rows x 18 columns]"
      ]
     },
     "execution_count": 158,
     "metadata": {},
     "output_type": "execute_result"
    }
   ],
   "source": [
    "df"
   ]
  },
  {
   "cell_type": "code",
   "execution_count": null,
   "id": "4699e3d2",
   "metadata": {},
   "outputs": [],
   "source": []
  }
 ],
 "metadata": {
  "kernelspec": {
   "display_name": "Python 3 (ipykernel)",
   "language": "python",
   "name": "python3"
  },
  "language_info": {
   "codemirror_mode": {
    "name": "ipython",
    "version": 3
   },
   "file_extension": ".py",
   "mimetype": "text/x-python",
   "name": "python",
   "nbconvert_exporter": "python",
   "pygments_lexer": "ipython3",
   "version": "3.9.13"
  }
 },
 "nbformat": 4,
 "nbformat_minor": 5
}
