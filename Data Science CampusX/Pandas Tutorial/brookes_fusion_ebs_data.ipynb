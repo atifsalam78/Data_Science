{
 "cells": [
  {
   "cell_type": "code",
   "execution_count": 1,
   "id": "21d7c5fd",
   "metadata": {},
   "outputs": [],
   "source": [
    "import pandas as pd\n",
    "import numpy as np"
   ]
  },
  {
   "cell_type": "code",
   "execution_count": 2,
   "id": "304de341",
   "metadata": {},
   "outputs": [
    {
     "name": "stderr",
     "output_type": "stream",
     "text": [
      "C:\\Users\\atif\\AppData\\Local\\Temp\\ipykernel_17420\\2230461352.py:1: DtypeWarning: Columns (8,17,47,61) have mixed types. Specify dtype option on import or set low_memory=False.\n",
      "  fusion = pd.read_csv(\"fusion.csv\", encoding=\"latin1\")\n"
     ]
    }
   ],
   "source": [
    "fusion = pd.read_csv(\"fusion.csv\", encoding=\"latin1\")\n",
    "ebs = pd.read_csv(\"ebs.csv\", encoding=\"latin1\")"
   ]
  },
  {
   "cell_type": "code",
   "execution_count": 4,
   "id": "f53822b2",
   "metadata": {},
   "outputs": [
    {
     "data": {
      "text/plain": [
       "0        1102\n",
       "1        1001\n",
       "2        1105\n",
       "3        1114\n",
       "4        1114\n",
       "         ... \n",
       "74995    6401\n",
       "74996    5234\n",
       "74997    5234\n",
       "74998    5234\n",
       "74999    3005\n",
       "Name: class, Length: 75000, dtype: object"
      ]
     },
     "execution_count": 4,
     "metadata": {},
     "output_type": "execute_result"
    }
   ],
   "source": [
    "fusion[\"class\"] = fusion[\"Item code\"].str.extract(r'(\\d{4})')"
   ]
  },
  {
   "cell_type": "code",
   "execution_count": 5,
   "id": "b0c7475e",
   "metadata": {},
   "outputs": [],
   "source": [
    "fusion_services = fusion[(fusion[\"class\"] >= \"3000\") & (fusion[\"class\"] < \"4000\")]"
   ]
  },
  {
   "cell_type": "code",
   "execution_count": 7,
   "id": "1ac037bc",
   "metadata": {},
   "outputs": [
    {
     "name": "stderr",
     "output_type": "stream",
     "text": [
      "C:\\Users\\atif\\AppData\\Local\\Temp\\ipykernel_17420\\286655375.py:1: SettingWithCopyWarning: \n",
      "A value is trying to be set on a copy of a slice from a DataFrame.\n",
      "Try using .loc[row_indexer,col_indexer] = value instead\n",
      "\n",
      "See the caveats in the documentation: https://pandas.pydata.org/pandas-docs/stable/user_guide/indexing.html#returning-a-view-versus-a-copy\n",
      "  fusion_services[\"PO Creation Date\"] = pd.to_datetime(fusion_services[\"PO Creation Date\"]).copy()\n",
      "C:\\Users\\atif\\AppData\\Local\\Temp\\ipykernel_17420\\286655375.py:2: SettingWithCopyWarning: \n",
      "A value is trying to be set on a copy of a slice from a DataFrame.\n",
      "Try using .loc[row_indexer,col_indexer] = value instead\n",
      "\n",
      "See the caveats in the documentation: https://pandas.pydata.org/pandas-docs/stable/user_guide/indexing.html#returning-a-view-versus-a-copy\n",
      "  fusion_services[\"PO Submit Date\"] = pd.to_datetime(fusion_services[\"PO Submit Date\"]).copy()\n",
      "C:\\Users\\atif\\AppData\\Local\\Temp\\ipykernel_17420\\286655375.py:3: SettingWithCopyWarning: \n",
      "A value is trying to be set on a copy of a slice from a DataFrame.\n",
      "Try using .loc[row_indexer,col_indexer] = value instead\n",
      "\n",
      "See the caveats in the documentation: https://pandas.pydata.org/pandas-docs/stable/user_guide/indexing.html#returning-a-view-versus-a-copy\n",
      "  fusion_services[\"PO Report Date\"] = pd.to_datetime(fusion_services[\"PO Report Date\"]).copy()\n",
      "C:\\Users\\atif\\AppData\\Local\\Temp\\ipykernel_17420\\286655375.py:4: SettingWithCopyWarning: \n",
      "A value is trying to be set on a copy of a slice from a DataFrame.\n",
      "Try using .loc[row_indexer,col_indexer] = value instead\n",
      "\n",
      "See the caveats in the documentation: https://pandas.pydata.org/pandas-docs/stable/user_guide/indexing.html#returning-a-view-versus-a-copy\n",
      "  fusion_services[\"Requested Delivery Date\"] = pd.to_datetime(fusion_services[\"Requested Delivery Date\"]).copy()\n",
      "C:\\Users\\atif\\AppData\\Local\\Temp\\ipykernel_17420\\286655375.py:5: SettingWithCopyWarning: \n",
      "A value is trying to be set on a copy of a slice from a DataFrame.\n",
      "Try using .loc[row_indexer,col_indexer] = value instead\n",
      "\n",
      "See the caveats in the documentation: https://pandas.pydata.org/pandas-docs/stable/user_guide/indexing.html#returning-a-view-versus-a-copy\n",
      "  fusion_services[\"Promised Delivery Date\"] = pd.to_datetime(fusion_services[\"Promised Delivery Date\"]).copy()\n"
     ]
    }
   ],
   "source": [
    "fusion_services[\"PO Creation Date\"] = pd.to_datetime(fusion_services[\"PO Creation Date\"]).copy()\n",
    "fusion_services[\"PO Submit Date\"] = pd.to_datetime(fusion_services[\"PO Submit Date\"]).copy()\n",
    "fusion_services[\"PO Report Date\"] = pd.to_datetime(fusion_services[\"PO Report Date\"]).copy()\n",
    "fusion_services[\"Requested Delivery Date\"] = pd.to_datetime(fusion_services[\"Requested Delivery Date\"]).copy()\n",
    "fusion_services[\"Promised Delivery Date\"] = pd.to_datetime(fusion_services[\"Promised Delivery Date\"]).copy()"
   ]
  },
  {
   "cell_type": "code",
   "execution_count": 8,
   "id": "ad7f5bec",
   "metadata": {},
   "outputs": [],
   "source": [
    "# date_columns = [\"PO Creation Date\", \"PO Submit Date\", \"PO Report Date\", \"Requested Delivery Date\", \"Promised Delivery Date\"]\n",
    "# fusion[date_columns] = fusion[date_columns].apply(pd.to_datetime)"
   ]
  },
  {
   "cell_type": "code",
   "execution_count": 10,
   "id": "91b8dba2",
   "metadata": {},
   "outputs": [
    {
     "name": "stdout",
     "output_type": "stream",
     "text": [
      "   date_col1  date_col2  date_col3  date_col4\n",
      "0 2023-01-01 2023-01-15 2023-01-31 2023-02-28\n",
      "1 2023-02-01 2023-02-15 2023-02-28 2023-03-31\n",
      "2 2023-03-01 2023-03-15 2023-03-31 2023-04-30\n"
     ]
    }
   ],
   "source": [
    "import pandas as pd\n",
    "\n",
    "# Create a sample DataFrame\n",
    "data = {'date_col1': ['2023-01-01', '2023-02-01', '2023-03-01'],\n",
    "        'date_col2': ['2023-01-15', '2023-02-15', '2023-03-15'],\n",
    "        'date_col3': ['2023-01-31', '2023-02-28', '2023-03-31'],\n",
    "        'date_col4': ['2023-02-28', '2023-03-31', '2023-04-30']}\n",
    "\n",
    "df = pd.DataFrame(data)\n",
    "\n",
    "# Convert the date columns to datetime\n",
    "date_columns = ['date_col1', 'date_col2', 'date_col3', 'date_col4']\n",
    "df[date_columns] = df[date_columns].apply(pd.to_datetime)\n",
    "\n",
    "# Display the DataFrame with datetime columns\n",
    "print(df)\n"
   ]
  },
  {
   "cell_type": "markdown",
   "id": "ca78c7c2",
   "metadata": {},
   "source": [
    "# Dated: 30-12-2023"
   ]
  },
  {
   "cell_type": "code",
   "execution_count": 12,
   "id": "0b6a0d3c",
   "metadata": {},
   "outputs": [],
   "source": [
    "import pandas as pd\n",
    "import numpy as np"
   ]
  },
  {
   "cell_type": "code",
   "execution_count": 13,
   "id": "082c6018",
   "metadata": {},
   "outputs": [],
   "source": [
    "services = pd.read_csv(\"Opening Purchase Order 29Dec2023 1235PM.csv\", encoding=\"latin1\", parse_dates=[\"Creation Date\"])"
   ]
  },
  {
   "cell_type": "code",
   "execution_count": 14,
   "id": "74f8511c",
   "metadata": {},
   "outputs": [],
   "source": [
    "services = services.rename(columns={\"Segment1\": \"PO\"}).astype(\"object\")\n",
    "df = services.copy()"
   ]
  },
  {
   "cell_type": "code",
   "execution_count": 15,
   "id": "290c4cb9",
   "metadata": {},
   "outputs": [],
   "source": [
    "services[\"Balance Quantity\"] = services[\"Quantity\"].sub(services[\"Received Quantity\"]).copy()"
   ]
  },
  {
   "cell_type": "code",
   "execution_count": 16,
   "id": "5dca509b",
   "metadata": {},
   "outputs": [],
   "source": [
    "services[[\"Rate\", \"Quantity\", \"Received Quantity\", \"Invoice Quantity\", \"Invoice Amount\", \"Unit Price\"]] = services[[\"Rate\", \"Quantity\", \"Received Quantity\", \"Invoice Quantity\", \"Invoice Amount\", \"Unit Price\"]].astype(\"float\")"
   ]
  },
  {
   "cell_type": "code",
   "execution_count": 17,
   "id": "846eaeae",
   "metadata": {},
   "outputs": [],
   "source": [
    "services[\"Creation Date\"] = pd.to_datetime(services[\"Creation Date\"])\n",
    "services[\"Rate Date\"] = pd.to_datetime(services[\"Rate Date\"])\n",
    "services[\"Promised Date\"] = pd.to_datetime(services[\"Promised Date\"])\n",
    "services[\"Need By Date\"] = pd.to_datetime(services[\"Need By Date\"])"
   ]
  },
  {
   "cell_type": "code",
   "execution_count": 18,
   "id": "0811e72e",
   "metadata": {},
   "outputs": [],
   "source": [
    "zero_ord_qty = services[services[\"Quantity\"] == 0]"
   ]
  },
  {
   "cell_type": "code",
   "execution_count": 19,
   "id": "cd43c22e",
   "metadata": {},
   "outputs": [],
   "source": [
    "services = services[services[\"Quantity\"] > 0]"
   ]
  },
  {
   "cell_type": "code",
   "execution_count": 20,
   "id": "0cac0567",
   "metadata": {},
   "outputs": [],
   "source": [
    "services[\"Received Quantity %\"] = (services[\"Received Quantity\"].div(services[\"Quantity\"])).mul(100).copy()"
   ]
  },
  {
   "cell_type": "code",
   "execution_count": 21,
   "id": "edb058fd",
   "metadata": {},
   "outputs": [],
   "source": [
    "services = services[['Document Status', 'Line Status', 'Business Unit', 'PO', 'Created By',\n",
    "       'Creation Date', 'Vendor Name', 'Vendor Site Code', 'Ship To Location',\n",
    "       'Bill To Location', 'Term Name', 'Currency Code', 'Rate Type',\n",
    "       'Rate Date', 'Rate', 'DFF By Pass', 'DFF Purchasing For',\n",
    "       'DFF Directors Purchase', 'Attribute Category', 'DFF Remarks Or Indent',\n",
    "       'Line Num', 'Quantity', 'Received Quantity', 'Balance Quantity', 'Received Quantity %', 'Received Amount',\n",
    "       'Invoice Quantity', 'Invoice Amount', 'Unit Price', 'Line Item',\n",
    "       'Item Description', 'UOM', 'Requisition Number', 'Promised Date',\n",
    "       'Need By Date', 'Tax Name', 'Line Attribute Category',\n",
    "       'DFF Manufacturer', 'DFF Item Spec', 'DFF Department',\n",
    "       'DFF Line Remarks', 'Item Type', 'Requester', 'Dist Attribute Category',\n",
    "       'DFF Requisition Type', 'DFF Asset location', 'DFF Project',\n",
    "       'DFF Remarks', 'DFF Related Asset Tag Number', 'DFF Department.1',\n",
    "       'GCC Account']]"
   ]
  },
  {
   "cell_type": "code",
   "execution_count": 22,
   "id": "456a3756",
   "metadata": {},
   "outputs": [],
   "source": [
    "greater_100 = services[services[\"Received Quantity %\"] >= 100]"
   ]
  },
  {
   "cell_type": "code",
   "execution_count": 23,
   "id": "f7bf55d4",
   "metadata": {},
   "outputs": [],
   "source": [
    "received_no_invoice = greater_100[greater_100[\"Invoice Quantity\"] == 0]"
   ]
  },
  {
   "cell_type": "code",
   "execution_count": 24,
   "id": "7be19cb6",
   "metadata": {},
   "outputs": [],
   "source": [
    "received_yes_invoice = greater_100[greater_100[\"Invoice Quantity\"] > 0]"
   ]
  },
  {
   "cell_type": "code",
   "execution_count": 25,
   "id": "d4542686",
   "metadata": {},
   "outputs": [],
   "source": [
    "services = services[services[\"Received Quantity %\"] < 100]"
   ]
  },
  {
   "cell_type": "code",
   "execution_count": 26,
   "id": "570ba937",
   "metadata": {},
   "outputs": [],
   "source": [
    "canceled = services[services[\"Document Status\"] == \"CANCELED\"]"
   ]
  },
  {
   "cell_type": "code",
   "execution_count": 27,
   "id": "fb1c79c2",
   "metadata": {},
   "outputs": [],
   "source": [
    "services = services[services[\"Document Status\"] != \"CANCELED\"]"
   ]
  },
  {
   "cell_type": "code",
   "execution_count": 28,
   "id": "88490232",
   "metadata": {},
   "outputs": [],
   "source": [
    "not_required = services[(services[\"Document Status\"] == \"WITHDRAWN\") | (services[\"Document Status\"] == \"REJECTED\") | (services[\"Document Status\"] == \"INCOMPLETE\")]"
   ]
  },
  {
   "cell_type": "code",
   "execution_count": 29,
   "id": "bd5f337e",
   "metadata": {},
   "outputs": [],
   "source": [
    "services = services[(services[\"Document Status\"] != \"WITHDRAWN\") | (services[\"Document Status\"] != \"REJECTED\") | (services[\"Document Status\"] != \"INCOMPLETE\")]"
   ]
  },
  {
   "cell_type": "code",
   "execution_count": 30,
   "id": "34c7b7dc",
   "metadata": {},
   "outputs": [],
   "source": [
    "services = services[services[\"Document Status\"] != \"PENDING APPROVAL\"]"
   ]
  },
  {
   "cell_type": "code",
   "execution_count": 31,
   "id": "580b88c3",
   "metadata": {},
   "outputs": [],
   "source": [
    "open_services = services[(services[\"Document Status\"] == \"OPEN\") & (services[\"Line Status\"] == \"OPEN\")]"
   ]
  },
  {
   "cell_type": "code",
   "execution_count": 32,
   "id": "6f8b485b",
   "metadata": {},
   "outputs": [],
   "source": [
    "open_but_closed_invoiced = services[(services[\"Document Status\"] == \"OPEN\") \n",
    "                                        & (services[\"Line Status\"] != \"OPEN\") \n",
    "                                        & (services[\"Invoice Quantity\"] > 0)]"
   ]
  },
  {
   "cell_type": "code",
   "execution_count": 33,
   "id": "855302da",
   "metadata": {},
   "outputs": [],
   "source": [
    "open_but_closed_not_invoiced = services[(services[\"Document Status\"] == \"OPEN\") \n",
    "                                        & (services[\"Line Status\"] != \"OPEN\") \n",
    "                                        & (services[\"Invoice Quantity\"] == 0)]"
   ]
  },
  {
   "cell_type": "code",
   "execution_count": 34,
   "id": "0e3db69e",
   "metadata": {},
   "outputs": [],
   "source": [
    "open_open_recv_invoiced = open_services[(open_services[\"Received Quantity %\"] > 0) & (open_services[\"Invoice Quantity\"] == open_services[\"Received Quantity\"])]"
   ]
  },
  {
   "cell_type": "code",
   "execution_count": 35,
   "id": "73550726",
   "metadata": {},
   "outputs": [],
   "source": [
    "# open_services[\"Balance Quantity\"] = open_services[\"Quantity\"].sub(open_services[\"Received Quantity\"]).copy()"
   ]
  },
  {
   "cell_type": "code",
   "execution_count": 36,
   "id": "4e0b3319",
   "metadata": {},
   "outputs": [],
   "source": [
    "# df.to_csv(\"Services\", index=False)\n",
    "# open_services.to_csv(\"Open\", index=False)\n",
    "# zero_ord_qty.to_csv(\"Zero_ord_qty\", index=False)\n",
    "# greater_100.to_csv(\"Greater 100\", index=False)\n",
    "# received_no_invoice.to_csv(\"Rcvd_no_inv\", index=False)\n",
    "# received_yes_invoice.to_csv(\"Rcvd_yes_inv\", index=False)\n",
    "# canceled.to_csv(\"Canceled\", index=False)\n",
    "# not_required.to_csv(\"Not_required\", index=False)\n",
    "# open_but_closed_invoiced.to_csv(\"Open_close_inv\", index=False)\n",
    "# open_but_closed_not_invoiced.to_csv(\"Op_close_no_inv\", index=False)\n",
    "# open_open_recv_invoiced.to_csv(\"op_op_recv_inv\", index=False)"
   ]
  },
  {
   "cell_type": "markdown",
   "id": "bb761169",
   "metadata": {},
   "source": [
    "# Write in excel sheets"
   ]
  },
  {
   "cell_type": "code",
   "execution_count": 37,
   "id": "e5e282e8",
   "metadata": {},
   "outputs": [],
   "source": [
    "excel_file = \"output_file.xlsx\"\n",
    "with pd.ExcelWriter(excel_file, engine=\"xlsxwriter\") as writer:\n",
    "    df.to_excel(writer, sheet_name=\"Services\", index=False)\n",
    "    open_services.to_excel(writer, sheet_name=\"Open\", index=False)\n",
    "    zero_ord_qty.to_excel(writer, sheet_name=\"Zero_ord_qty\", index=False)\n",
    "    greater_100.to_excel(writer, sheet_name=\"Greater 100\", index=False)\n",
    "    received_no_invoice.to_excel(writer, sheet_name=\"Rcvd_no_inv\", index=False)\n",
    "    received_yes_invoice.to_excel(writer, sheet_name=\"Rcvd_yes_inv\", index=False)\n",
    "    canceled.to_excel(writer, sheet_name=\"Canceled\", index=False)\n",
    "    not_required.to_excel(writer, sheet_name=\"Not_required\", index=False)\n",
    "    open_but_closed_invoiced.to_excel(writer, sheet_name=\"Open_close_inv\", index=False)\n",
    "    open_but_closed_not_invoiced.to_excel(writer, sheet_name=\"Op_close_no_inv\", index=False)\n",
    "    open_open_recv_invoiced.to_excel(writer, sheet_name=\"op_op_recv_inv\", index=False)"
   ]
  },
  {
   "cell_type": "code",
   "execution_count": null,
   "id": "f4da0f8f",
   "metadata": {},
   "outputs": [],
   "source": []
  }
 ],
 "metadata": {
  "kernelspec": {
   "display_name": "Python 3 (ipykernel)",
   "language": "python",
   "name": "python3"
  },
  "language_info": {
   "codemirror_mode": {
    "name": "ipython",
    "version": 3
   },
   "file_extension": ".py",
   "mimetype": "text/x-python",
   "name": "python",
   "nbconvert_exporter": "python",
   "pygments_lexer": "ipython3",
   "version": "3.9.13"
  }
 },
 "nbformat": 4,
 "nbformat_minor": 5
}
