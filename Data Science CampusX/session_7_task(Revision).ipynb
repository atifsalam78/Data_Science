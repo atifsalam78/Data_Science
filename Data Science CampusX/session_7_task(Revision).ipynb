{
 "cells": [
  {
   "cell_type": "markdown",
   "metadata": {
    "id": "FyUJ3PRAsPr4"
   },
   "source": [
    "##`Q-1:` Rectangle Class\n",
    "1. Write a Rectangle class in Python language, allowing you to build a rectangle with length and width attributes.\n",
    "\n",
    "2. Create a Perimeter() method to calculate the perimeter of the rectangle and a Area() method to calculate the area of ​​the rectangle.\n",
    "\n",
    "3. Create a method display() that display the length, width, perimeter and area of an object created using an instantiation on rectangle class."
   ]
  },
  {
   "cell_type": "markdown",
   "metadata": {
    "id": "GxUtOqJfssFK"
   },
   "source": [
    "Eg.\n",
    "After making above classes and methods, on executing below code:-\n",
    "```\n",
    "my_rectangle = Rectangle(3 , 4)\n",
    "my_rectangle.display()\n",
    "```\n",
    "\n",
    "`Output:`\n",
    "```\n",
    "The length of rectangle is:  3\n",
    "The width of rectangle is:  4\n",
    "The perimeter of rectangle is:  14\n",
    "The area of rectangle is:  12\n",
    "```\n"
   ]
  },
  {
   "cell_type": "code",
   "execution_count": 1,
   "metadata": {
    "id": "92_QT-Uj6NBg"
   },
   "outputs": [
    {
     "name": "stdout",
     "output_type": "stream",
     "text": [
      "The length of reactangle is: 3\n",
      "The width of reactangle is: 4\n",
      "The perimeter of rectangle is 14\n",
      "The area of rectangle is 12\n"
     ]
    }
   ],
   "source": [
    "# write your code here\n",
    "class Rectangle:\n",
    "    \n",
    "    def __init__ (self, length, width):\n",
    "        self.length = length\n",
    "        self.width = width\n",
    "        self.peri = 0\n",
    "        self.area_rectangle = 0   \n",
    "       \n",
    "    def perimeter(self):\n",
    "        self.peri = (2*(self.length + self.width))\n",
    "        return self.peri\n",
    "    \n",
    "    def area(self):\n",
    "        self.area_rectangle = self.length * self.width\n",
    "        return self.area_rectangle\n",
    "    \n",
    "    def display(self):\n",
    "        print(\"The length of reactangle is: {}\".format(self.length))\n",
    "        print(\"The width of reactangle is: {}\".format(self.width))        \n",
    "        print(\"The perimeter of rectangle is {}\".format(self.peri))\n",
    "        print(\"The area of rectangle is {}\".format(self.area_rectangle))\n",
    "\n",
    "my_rectangle = Rectangle(3,4)\n",
    "my_rectangle.perimeter()\n",
    "my_rectangle.area()\n",
    "my_rectangle.display()"
   ]
  },
  {
   "cell_type": "markdown",
   "metadata": {
    "id": "r_GxrS0Vrdom"
   },
   "source": [
    "##`Q-2: Bank Class`\n",
    "\n",
    "1. Create a Python class called `BankAccount` which represents a bank account, having as attributes: `accountNumber` (numeric type), `name` (name of the account owner as string type), `balance`.\n",
    "2. Create a constructor with parameters: `accountNumber, name, balance`.\n",
    "3. Create a `Deposit()` method which manages the deposit actions.\n",
    "4. Create a `Withdrawal()` method  which manages withdrawals actions.\n",
    "5. Create an `bankFees()` method to apply the bank fees with a percentage of 5% of the balance account.\n",
    "6. Create a `display()` method to display account details.\n",
    "Give the complete code for the  BankAccount class."
   ]
  },
  {
   "cell_type": "markdown",
   "metadata": {
    "id": "qvVkOUJgvTV_"
   },
   "source": [
    "Eg.\n",
    "After making above classes and methods, on executing below code:-\n",
    "```\n",
    "newAccount = BankAccount(2178514584, \"Mandy\" , 2800)\n",
    "\n",
    "newAccount.Withdrawal(700)\n",
    "\n",
    "newAccount.Deposit(1000)\n",
    "\n",
    "newAccount.display()\n",
    "```\n",
    "\n",
    "`Output:`\n",
    "```\n",
    "Account Number :  2178514584\n",
    "Account Name :  Mandy\n",
    "Account Balance :  3100 ₹\n",
    "```"
   ]
  },
  {
   "cell_type": "code",
   "execution_count": 2,
   "metadata": {
    "id": "fUQOmQyA6YDR"
   },
   "outputs": [
    {
     "name": "stdout",
     "output_type": "stream",
     "text": [
      "Account Number : 1234\n",
      "Account Name : Atif Salam\n",
      "Account Balance : Rs. 3,100\n"
     ]
    }
   ],
   "source": [
    "# write your code here\n",
    "class BankAccount:\n",
    "    \n",
    "    def __init__(self, accountnumber, name, balance):\n",
    "        self.accountNumber = accountnumber\n",
    "        self.name = name\n",
    "        self.balance = balance\n",
    "        \n",
    "    def deposit(self, user_deposit):        \n",
    "            self.balance = self.balance + user_deposit            \n",
    "\n",
    "    def withdrawal(self, user_withdrawal):        \n",
    "            self.balance = self.balance - user_withdrawal            \n",
    "    \n",
    "    def bankFees(self):\n",
    "        self.balance = self.balance * 0.95       \n",
    "    \n",
    "    def display(self):\n",
    "        print(\"Account Number : {}\".format(self.accountNumber))\n",
    "        print(\"Account Name : {}\".format(self.name))\n",
    "        print(\"Account Balance : Rs. {:,.0f}\".format(self.balance))\n",
    "        \n",
    "    \n",
    "newAccount = BankAccount(1234,\"Atif Salam\", 2800)\n",
    "newAccount.withdrawal(700)\n",
    "newAccount.deposit(1000)\n",
    "newAccount.display()\n",
    "newAccount.bankFees()"
   ]
  },
  {
   "cell_type": "markdown",
   "metadata": {
    "id": "QovcQAZTrgGU"
   },
   "source": [
    "##`Q-3:Computation class`\n",
    "\n",
    "1. Create a `Computation` class with a default constructor (without parameters) allowing to perform various calculations on integers numbers.\n",
    "2. Create a method called `Factorial()` which allows to calculate the factorial of an integer n. Integer n as parameter for this method\n",
    "\n",
    "3. Create a method called `naturalSum()` allowing to calculate the sum of the first n integers 1 + 2 + 3 + .. + n. Integer n as parameter for this method.\n",
    "\n",
    "4. Create a method called `testPrime()` in  the Calculation class to test the primality of a given integer n, n is Prime or Not? Integer n as parameter for this method.\n",
    "\n",
    "5. Create  a method called `testPrims()` allowing to test if two numbers are prime between them. Two integers are prime to one another if they have only `1` as their common divisor. Eg. 4 and 9 are prime to each other.\n",
    "\n",
    "5. Create a `tableMult()` method which creates and displays the multiplication table of a given integer. Then create an `allTablesMult()` method to display all the integer multiplication tables 1, 2, 3, ..., 9.\n",
    "\n",
    "6. Create a static `listDiv()` method that gets all the divisors of a given integer on new list called  Ldiv. Create another `listDivPrim()` method that gets all the prime divisors of a given integer."
   ]
  },
  {
   "cell_type": "code",
   "execution_count": 42,
   "metadata": {
    "id": "YEkPH70l6Z-o"
   },
   "outputs": [],
   "source": [
    "# write your code here\n",
    "class Computation:\n",
    "    \n",
    "    def __init__(self):\n",
    "        self.num1 = 0\n",
    "        self.num2 = 0\n",
    "        \n",
    "    def factorial(self, number):\n",
    "        fact = 1\n",
    "        for i in range(1,number+1):\n",
    "            fact = fact * i\n",
    "        return fact\n",
    "    \n",
    "    def naturalSum(self,number):\n",
    "        sum_number = 0\n",
    "        for i in range(1,number+1):\n",
    "            sum_number = sum_number + i\n",
    "        return sum_number\n",
    "    \n",
    "    def testPrime(self, number):        \n",
    "        if number > 1 :\n",
    "            for i in range(2,number):\n",
    "                if number % i == 0:\n",
    "                    print(\"{} is not a prime number\".format(number))\n",
    "                    break\n",
    "            else:\n",
    "                print(\"{} is a prime number\".format(number))\n",
    "                \n",
    "        if number <= 1:\n",
    "            print(\"{} is not a prime number\".format(number))\n",
    "            \n",
    "    def testComposite(self,number):    \n",
    "        factors = 0    \n",
    "        if number > 1:\n",
    "            for i in range(1,int(number+1)):            \n",
    "                if factors > 4:\n",
    "                    break\n",
    "                elif number % i == 0:\n",
    "                    factors += 1                \n",
    "    \n",
    "        if number <= 1:\n",
    "            print(\"{} is not a prime nor composite\".format(number))\n",
    "        \n",
    "        elif factors <= 2:\n",
    "            print(\"{} is a prime number\".format(number))\n",
    "        \n",
    "        else:\n",
    "            print(\"{} is a composite number\".format(number))\n",
    "            \n",
    "    def testprims(self, number):\n",
    "        pass\n",
    "            \n",
    "    \n",
    "    def tableMult(self, number):\n",
    "        i = 1\n",
    "        while i != 13:\n",
    "            print(\"{} x {} = {}\".format(number,i, number*i))            \n",
    "            i += 1\n",
    "            \n",
    "    def allTablesMult(self):\n",
    "        table = 1\n",
    "        while table != 10:\n",
    "            print(\"******Table of {}******\".format(table))\n",
    "            i = 1\n",
    "            while i != 13:                \n",
    "                print(\"{} x {} = {}\".format(table,i, table*i))\n",
    "                i +=1\n",
    "            table +=1\n",
    "            \n",
    "    def listDiv(self, number):        \n",
    "        Ldiv = []\n",
    "        i = 1\n",
    "        while i != number+1:        \n",
    "            if number % i == 0:\n",
    "                Ldiv.append(i)\n",
    "            i +=1\n",
    "        print(Ldiv)        \n",
    "    \n",
    "    def listDivPrim(self, number):\n",
    "        l = []\n",
    "        i = 1\n",
    "        if number > 1:\n",
    "            while i != number+1:\n",
    "                if number % i == 0:\n",
    "                    l.append(i)\n",
    "                i +=1\n",
    "        print(l)   \n",
    "            \n",
    "            \n",
    "com = Computation()\n",
    "# com.factorial(5)\n",
    "# com.naturalSum(5)\n",
    "# com.testPrime(15)\n",
    "# com.testComposite(15)\n",
    "# com.tableMult(2)\n",
    "# com.allTablesMult()\n",
    "# com.listDiv(10)\n",
    "# com.listDivPrim(2)"
   ]
  },
  {
   "cell_type": "markdown",
   "metadata": {
    "id": "0yn23_oEriXa"
   },
   "source": [
    "##`Q-4`: Build flashcard using class in Python.\n",
    "\n",
    "Build a flashcard using class in python. A flashcard is a card having information on both sides, which can be used as an aid in memoization. Flashcards usually have a question on one side and an answer on the other.\n",
    "\n",
    "**Example 1:**\n",
    "\n",
    "Approach:\n",
    "\n",
    "- Create a class named FlashCard.\n",
    "- Initialize dictionary fruits using __init__() method. Here you have to define fruit name as key and it's color as value. E.g., {\"Banana\": \"yellow\", \"Strawberries\": \"pink\"}\n",
    "- Now randomly choose a pair from fruits by using _random_ module and store the key in variable _fruit_ and _value_ in variable color.\n",
    "- Now prompt the user to answer the color of the randomly chosen fruit.\n",
    "- If correct print correct else print wrong.\n",
    "\n",
    "Output:\n",
    "```bash\n",
    "welcome to fruit quiz\n",
    "What is the color of Strawberries\n",
    "pink\n",
    "Correct answer\n",
    "Enter 0, if you want to play again: 0\n",
    "What is the color of watermelon\n",
    "green\n",
    "Correct answer\n",
    "Enter 0, if you want to play again: 1\n",
    "```"
   ]
  },
  {
   "cell_type": "code",
   "execution_count": 98,
   "metadata": {
    "id": "vCrUF6VU6l6w"
   },
   "outputs": [
    {
     "name": "stdout",
     "output_type": "stream",
     "text": [
      "What is the color of Banana: yellow\n",
      "Correct Answer\n",
      "Do you want to continue (Y/N)y\n",
      "What is the color of Apple: red\n",
      "Correct Answer\n",
      "Do you want to continue (Y/N)n\n"
     ]
    }
   ],
   "source": [
    "# write your code here\n",
    "import random\n",
    "class FlashCard:\n",
    "    \n",
    "    def __init__ (self):\n",
    "        self.fruits ={\"Banana\":\"yellow\", \"Strawberries\":\"pink\", \"Apple\":\"red\",\"Orange\":\"orange\", \"Watermelon\":\"green\"}\n",
    "        \n",
    "                \n",
    "        flag = True\n",
    "        while flag:\n",
    "            self.fruit = random.choice(list(self.fruits))\n",
    "            user_input = input(\"What is the color of {}: \".format(self.fruit))\n",
    "            \n",
    "            if user_input == self.fruits[self.fruit]:\n",
    "                print(\"Correct Answer\")\n",
    "            \n",
    "            else:\n",
    "                print(\"Wrong Answer\")\n",
    "            \n",
    "            self.cont = input(\"Do you want to continue (Y/N)\")\n",
    "            if self.cont == \"N\" or self.cont == \"n\":\n",
    "                flag = False\n",
    "                \n",
    "            \n",
    "        \n",
    "obj = FlashCard()"
   ]
  },
  {
   "cell_type": "markdown",
   "metadata": {
    "id": "GN2r0jbRewYr"
   },
   "source": [
    "## `Q-5:` Problem 5 based on OOP Python.\n",
    "\n",
    "TechWorld, a technology training center, wants to allocate courses for instructors. An instructor is identified by name, technology skills, experience and average feedback. An instructor is allocated a course, if he/she satisfies the below two conditions:\n",
    "- eligibility criteria:\n",
    "    - if experience is more than 3 years, average feedback should be 4.5 or more\n",
    "    - if experience is 3 years or less, average feedback should be 4 or more\n",
    "- he/she should posses the technology skill for the course\n",
    "\n",
    "Identify the class name and attributes to represent instructors. Write a Python program to implement the class chosen with its attributes and methods.\n",
    "\n",
    "**Note:**\n",
    "- Consider all instance variables to be private and methods to be public.\n",
    "- An instructor may have multiple technology skills, so consider instance variable, technology_skill to be a list.\n",
    "- *check_eligibility()*: Return true if eligibility criteria is satisfied by the instructor. Else, return false\n",
    "- *allocate_course(technology)*: Return true if the course which requires the given technology can be allocated to the instructor. Else, return false.\n",
    "\n",
    "Represent a few objects of the class, initialize instance variables using setter methods, invoke\n",
    "appropriate methods and test your program."
   ]
  },
  {
   "cell_type": "code",
   "execution_count": null,
   "metadata": {
    "id": "pdMFuVFnlvKL"
   },
   "outputs": [],
   "source": [
    "# write your code here"
   ]
  }
 ],
 "metadata": {
  "colab": {
   "provenance": []
  },
  "kernelspec": {
   "display_name": "Python 3 (ipykernel)",
   "language": "python",
   "name": "python3"
  },
  "language_info": {
   "codemirror_mode": {
    "name": "ipython",
    "version": 3
   },
   "file_extension": ".py",
   "mimetype": "text/x-python",
   "name": "python",
   "nbconvert_exporter": "python",
   "pygments_lexer": "ipython3",
   "version": "3.9.13"
  }
 },
 "nbformat": 4,
 "nbformat_minor": 1
}
