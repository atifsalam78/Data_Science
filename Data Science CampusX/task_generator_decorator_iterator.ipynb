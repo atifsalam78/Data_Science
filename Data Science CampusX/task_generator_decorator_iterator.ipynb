{
 "cells": [
  {
   "cell_type": "markdown",
   "metadata": {
    "id": "hM8V4LxHKV6x"
   },
   "source": [
    "## Namespace and Scope"
   ]
  },
  {
   "cell_type": "markdown",
   "metadata": {
    "id": "Kl3s2TonKYgY"
   },
   "source": [
    "###`Q1:` Write `Person` Class as given below and then display it's namespace.\n",
    "\n"
   ]
  },
  {
   "cell_type": "markdown",
   "metadata": {
    "id": "grudG97hL83C"
   },
   "source": [
    "```\n",
    "Class Name - Person\n",
    "\n",
    "Attributes:\n",
    "name - public\n",
    "state - public\n",
    "city - private\n",
    "age - private\n",
    "\n",
    "Methods:\n",
    "address - public\n",
    "It give address of the person as \"<name>, <city>, <state>\"\n",
    "```"
   ]
  },
  {
   "cell_type": "code",
   "execution_count": 1,
   "metadata": {
    "colab": {
     "base_uri": "https://localhost:8080/",
     "height": 35
    },
    "id": "BRq-I4jmKX0U",
    "outputId": "e0c0e107-5c71-4830-a2c5-fe59fd9ec29b"
   },
   "outputs": [
    {
     "data": {
      "text/plain": [
       "'<Atif Salam>, <Sindh>, <Karachi>'"
      ]
     },
     "execution_count": 1,
     "metadata": {},
     "output_type": "execute_result"
    }
   ],
   "source": [
    "#Write your code here\n",
    "class Person:\n",
    "    def __init__(self, name, state, city, age):\n",
    "        self.name = name\n",
    "        self.state = state\n",
    "        self.__city = city\n",
    "        self.__age = age\n",
    "    \n",
    "    def get_city(self):\n",
    "        return self.__city\n",
    "\n",
    "    def get_age(self):\n",
    "        return self.__age\n",
    "\n",
    "    def address(self):\n",
    "        return \"<{}>, <{}>, <{}>\".format(self.name, self.state, self.get_city())\n",
    "\n",
    "p1 = Person(\"Atif Salam\", \"Sindh\", \"Karachi\", 45)\n",
    "p1.address()"
   ]
  },
  {
   "cell_type": "markdown",
   "metadata": {
    "id": "NLtOPOXDL_zB"
   },
   "source": [
    "###`Q2:` Write a program to show namespace of object/instance of above(Person) class."
   ]
  },
  {
   "cell_type": "code",
   "execution_count": 2,
   "metadata": {
    "id": "w3fj9tf0MJ3Z"
   },
   "outputs": [
    {
     "name": "stdout",
     "output_type": "stream",
     "text": [
      "name: Atif Salam\n",
      "state: Sindh\n",
      "_Person__city: Karachi\n",
      "_Person__age: 45\n"
     ]
    }
   ],
   "source": [
    "# Write your code here\n",
    "class Person:\n",
    "    def __init__(self, name, state, city, age):\n",
    "        self.name = name\n",
    "        self.state = state\n",
    "        self.__city = city\n",
    "        self.__age = age\n",
    "    \n",
    "    def get_city(self):\n",
    "        return self.__city\n",
    "\n",
    "    def get_age(self):\n",
    "        return self.__age\n",
    "\n",
    "    def address(self):\n",
    "        return \"<{}>, <{}>, <{}>\".format(self.name, self.state, self.get_city())\n",
    "\n",
    "p1 = Person(\"Atif Salam\", \"Sindh\", \"Karachi\", 45)\n",
    "\n",
    "# Access the namespace of the p1 object\n",
    "p1_namespace = p1.__dict__\n",
    "# p1_namespace = vars(p1)\n",
    "\n",
    "# Print the namespace\n",
    "for key, value in p1_namespace.items():\n",
    "    print(f\"{key}: {value}\")"
   ]
  },
  {
   "cell_type": "markdown",
   "metadata": {
    "id": "rRnCZmlUY8sn"
   },
   "source": [
    "###`Q3:` Write a recursive program to to calculate `gcd` and print no. of function calls taken to find the solution.\n",
    "```\n",
    "gcd(5,10) -> result in 5 as gcd and function call 4\n",
    "```"
   ]
  },
  {
   "cell_type": "code",
   "execution_count": 3,
   "metadata": {
    "id": "jYiVzxhUZRln"
   },
   "outputs": [
    {
     "name": "stdout",
     "output_type": "stream",
     "text": [
      "result in 5 as gcd and function call 2\n"
     ]
    }
   ],
   "source": [
    "#Write your code here\n",
    "def recur(a, b, counter = 0):    \n",
    "    if b == 0:\n",
    "        return a, counter\n",
    "    else:\n",
    "        counter += 1\n",
    "        return recur(b, a % b, counter)    \n",
    "    \n",
    "result, counter = recur(5,10)\n",
    "print(f\"result in {result} as gcd and function call {counter}\")"
   ]
  },
  {
   "cell_type": "markdown",
   "metadata": {
    "id": "FbDepR9QNGnh"
   },
   "source": [
    "## Itterator And Generator"
   ]
  },
  {
   "cell_type": "markdown",
   "metadata": {
    "id": "Nj5WaR_4NJTu"
   },
   "source": [
    "###`Q4:` Create MyEnumerate class,\n",
    "Create your own `MyEnumerate` class such that someone can use it instead of enumerate. It will need to return a `tuple` with each iteration, with the first element in the tuple being the `index` (starting with 0) and the second element being the `current element` from the underlying data structure. Trying to use `MyEnumerate` with a noniterable argument will result in an error.\n",
    "\n",
    "```\n",
    "for index, letter in MyEnumerate('abc'):\n",
    "    print(f'{index} : {letter}')\n",
    "```\n",
    "\n",
    "Output:\n",
    "```\n",
    "0 : a\n",
    "1 : b\n",
    "2 : c\n",
    "```"
   ]
  },
  {
   "cell_type": "code",
   "execution_count": 4,
   "metadata": {
    "id": "6zjcm2gxNbfJ"
   },
   "outputs": [],
   "source": [
    "#Write your code here\n",
    "# Written by my self\n",
    "class MyEnumerate:\n",
    "    index = 0\n",
    "    def __init__(self, letter):\n",
    "        \n",
    "        self.letter = letter\n",
    "        \n",
    "    def __iter__(self):\n",
    "        return MyEnumerate_iterator(self)\n",
    "    \n",
    "class MyEnumerate_iterator:  \n",
    "    \n",
    "    def __init__(self, iterable_obj):\n",
    "        self.iterable = iterable_obj        \n",
    "        \n",
    "    def __iter__(self):\n",
    "        return self\n",
    "    \n",
    "    def __next__(self):\n",
    "        if MyEnumerate.index >= len(self.iterable.letter):\n",
    "            raise StopIteration\n",
    "            \n",
    "        result = (MyEnumerate.index, self.iterable.letter[MyEnumerate.index])\n",
    "        MyEnumerate.index += 1\n",
    "        return result"
   ]
  },
  {
   "cell_type": "code",
   "execution_count": 5,
   "metadata": {
    "colab": {
     "base_uri": "https://localhost:8080/"
    },
    "id": "m_gdOG4ANkVN",
    "outputId": "a6da68c5-0b0a-4b34-ba53-06d2217ce1ef"
   },
   "outputs": [
    {
     "name": "stdout",
     "output_type": "stream",
     "text": [
      "0 a\n",
      "1 t\n",
      "2 i\n",
      "3 f\n"
     ]
    }
   ],
   "source": [
    "for index, letter in MyEnumerate(\"atif\"):\n",
    "    print(index, letter)"
   ]
  },
  {
   "cell_type": "code",
   "execution_count": 6,
   "metadata": {},
   "outputs": [
    {
     "name": "stdout",
     "output_type": "stream",
     "text": [
      "0 : 1\n",
      "1 : 2\n",
      "2 : 3\n",
      "3 : 4\n",
      "4 : 5\n"
     ]
    }
   ],
   "source": [
    "# Created from ChatGPT\n",
    "\n",
    "class MyEnumerate:\n",
    "    def __init__(self, iterable):\n",
    "        if not hasattr(iterable, '__iter__'):\n",
    "            raise TypeError(f\"'{type(iterable).__name__}' object is not iterable\")           \n",
    "        \n",
    "        self.iterable = iterable\n",
    "        self.index = 0\n",
    "\n",
    "    def __iter__(self):\n",
    "        return self\n",
    "\n",
    "    def __next__(self):\n",
    "        if self.index >= len(self.iterable):\n",
    "            raise StopIteration\n",
    "\n",
    "        result = (self.index, self.iterable[self.index])\n",
    "        self.index += 1\n",
    "        return result\n",
    "\n",
    "# Example usage:\n",
    "for index, letter in MyEnumerate(\"12345\"):\n",
    "    print(f'{index} : {letter}')\n"
   ]
  },
  {
   "cell_type": "code",
   "execution_count": 7,
   "metadata": {
    "id": "ya--mdHwNxdX"
   },
   "outputs": [],
   "source": [
    "class MyEnumerate:\n",
    "    \n",
    "    def __init__(self, letter):\n",
    "        if not hasattr(letter, \"__iter__\"):\n",
    "            raise TypeError(f\"'{type(letter).__name__}' object is not iterable\")\n",
    "        self.index = 0\n",
    "        self.letter = letter\n",
    "        \n",
    "    def __iter__(self):\n",
    "        return self\n",
    "    \n",
    "    def __next__(self):\n",
    "        if self.index >= len(self.letter):\n",
    "            raise StopIteration\n",
    "                    \n",
    "        result = (self.index, self.letter[self.index])\n",
    "        self.index += 1\n",
    "        return result      \n",
    "        "
   ]
  },
  {
   "cell_type": "code",
   "execution_count": 8,
   "metadata": {},
   "outputs": [
    {
     "name": "stdout",
     "output_type": "stream",
     "text": [
      "0 1\n",
      "1 2\n",
      "2 3\n",
      "3 4\n",
      "4 5\n"
     ]
    }
   ],
   "source": [
    "for ind, val in MyEnumerate(\"12345\"):\n",
    "    print(ind, val)"
   ]
  },
  {
   "cell_type": "markdown",
   "metadata": {
    "id": "U2Ai7rVDOLBw"
   },
   "source": [
    "###`Q5:` Iterate in circle\n",
    "Define a class, `Circle`, that takes two arguments when defined: a sequence and a number. The idea is that the object will then return elements the defined number of times. If the number is greater than the number of elements, then the sequence  repeats as necessary. You can define an another class used as a helper (like I call `CircleIterator`).\n",
    "\n",
    "```\n",
    "c = Circle('abc', 5)\n",
    "d = Circle('abc', 7)\n",
    "print(list(c))\n",
    "print(list(d))\n",
    "```\n",
    "\n",
    "Output\n",
    "```\n",
    "[a, b, c, a, b]\n",
    "[a, b, c, a, b, c, a]\n",
    "```"
   ]
  },
  {
   "cell_type": "markdown",
   "metadata": {},
   "source": [
    "## According to Question"
   ]
  },
  {
   "cell_type": "code",
   "execution_count": 9,
   "metadata": {
    "id": "iwcTy1HyO5hs"
   },
   "outputs": [
    {
     "name": "stdout",
     "output_type": "stream",
     "text": [
      "['a', 'b', 'c', 'a', 'b']\n",
      "['a', 'b', 'c', 'a', 'b', 'c', 'a']\n"
     ]
    }
   ],
   "source": [
    "#Write your code here\n",
    "class Circle:\n",
    "    def __init__(self, sequence, number):\n",
    "        self.sequence = sequence\n",
    "        self.number = number\n",
    "\n",
    "    def __iter__(self):\n",
    "        return CircleIterator(self)\n",
    "        \n",
    "class CircleIterator:\n",
    "    def __init__(self, iterable_obj):\n",
    "        self.iterable = iterable_obj\n",
    "        self.index = 0\n",
    "        self.counter = 0\n",
    "\n",
    "    def __iter__(self):\n",
    "        return self\n",
    "\n",
    "    def __next__(self):\n",
    "        if self.counter >= self.iterable.number:\n",
    "            raise StopIteration\n",
    "        \n",
    "        item = self.iterable.sequence[self.index]\n",
    "        self.index = (self.index + 1) % len(self.iterable.sequence)\n",
    "        self.counter += 1\n",
    "        return item\n",
    "\n",
    "\n",
    "# Example usage:\n",
    "c = Circle('abc', 5)\n",
    "d = Circle('abc', 7)\n",
    "print(list(c))\n",
    "print(list(d))\n",
    "    "
   ]
  },
  {
   "cell_type": "markdown",
   "metadata": {},
   "source": [
    "## Simplified form"
   ]
  },
  {
   "cell_type": "code",
   "execution_count": 10,
   "metadata": {},
   "outputs": [
    {
     "name": "stdout",
     "output_type": "stream",
     "text": [
      "['a', 'b', 'c', 'a', 'b']\n",
      "['a', 'b', 'c', 'a', 'b', 'c', 'a']\n"
     ]
    }
   ],
   "source": [
    "#Write your code here\n",
    "class Circle:\n",
    "    def __init__(self, sequence, number):\n",
    "        self.sequence = sequence\n",
    "        self.number = number\n",
    "        self.index = 0\n",
    "        self.counter = 0\n",
    "        \n",
    "    def __iter__(self):\n",
    "        return self\n",
    "    \n",
    "    def __next__(self):\n",
    "        if self.counter >= self.number:\n",
    "            raise StopIteration\n",
    "                        \n",
    "        result = self.sequence[self.index]\n",
    "        self.index = (self.index + 1) % len(self.sequence)\n",
    "        self.counter += 1\n",
    "        return result\n",
    "\n",
    "    \n",
    "c = Circle(\"abc\", 5)\n",
    "d = Circle(\"abc\", 7)\n",
    "\n",
    "print(list(c))\n",
    "print(list(d))"
   ]
  },
  {
   "cell_type": "markdown",
   "metadata": {},
   "source": [
    "## Through Generators"
   ]
  },
  {
   "cell_type": "code",
   "execution_count": 47,
   "metadata": {},
   "outputs": [
    {
     "name": "stdout",
     "output_type": "stream",
     "text": [
      "['a', 'b', 'c', 'a', 'b']\n"
     ]
    }
   ],
   "source": [
    "def circle(seq, num):\n",
    "    index = 0\n",
    "    for i in range(num):\n",
    "        result = seq[index]\n",
    "        index = (index + 1) % len(seq)        \n",
    "        yield result\n",
    "        \n",
    "lst = []\n",
    "for c in circle(\"abc\", 5):\n",
    "    lst.append(c)\n",
    "print(lst)"
   ]
  },
  {
   "cell_type": "markdown",
   "metadata": {
    "id": "17KyhciKQnAE"
   },
   "source": [
    "###`Q6:` Generator time elapsed\n",
    "Write a generator function whose argument must be iterable. With each iteration, the generator will return a two-element tuple. The first element in the tuple will be an integer indicating how many seconds have passed since the previous iteration. The tuple’s second element will be the next item from the passed argument.\n",
    "\n",
    "Note that the timing should be relative to the previous iteration, not when the\n",
    "generator was first created or invoked. Thus the timing number in the first iteration\n",
    "will be 0\n",
    "\n",
    "```\n",
    "for t in elapsed_since('abcd'):\n",
    "    print(t)\n",
    "    time.sleep(2)\n",
    "```\n",
    "\n",
    "Output:\n",
    "```\n",
    "(0.0, 'a')\n",
    "(2.005651817999933, 'b')\n",
    "(2.0023095009998997, 'c')\n",
    "(2.001949742000079, 'd')\n",
    "```\n",
    "Note: Your output may differ because of diffrent system has different processing configuration."
   ]
  },
  {
   "cell_type": "code",
   "execution_count": 11,
   "metadata": {
    "id": "UkH1tj9zQ-gc"
   },
   "outputs": [
    {
     "name": "stdout",
     "output_type": "stream",
     "text": [
      "(0.0, 'a')\n",
      "(2.008085012435913, 'b')\n",
      "(2.005075216293335, 'c')\n",
      "(2.0042972564697266, 'd')\n"
     ]
    }
   ],
   "source": [
    "#Write yor code\n",
    "import time\n",
    "def elapsed_since(iterable):\n",
    "    import time\n",
    "\n",
    "    start_time = time.time()\n",
    "    for i in range(len(iterable)):        \n",
    "        result = (time.time()-start_time, iterable[i])        \n",
    "        yield result\n",
    "        start_time = time.time()\n",
    "        time.sleep(2)\n",
    "    \n",
    "for t in elapsed_since('abcd'):\n",
    "    print(t)\n",
    "    time.sleep(2)"
   ]
  },
  {
   "cell_type": "markdown",
   "metadata": {
    "id": "fXr3OJxJSC1j"
   },
   "source": [
    "## Decorators"
   ]
  },
  {
   "cell_type": "markdown",
   "metadata": {
    "id": "xSjvwAt-SFhi"
   },
   "source": [
    "###`Q7:` Write a Python program to make a chain of function decorators (bold, italic, underline etc.) on a given function which prints \"hello world\"\n",
    "\n",
    "```\n",
    "def hello():\n",
    "    return \"hello world\"\n",
    "```\n",
    "\n",
    "```\n",
    "bold - wrap string with <b> tag. <b>Str</b>\n",
    "italic - wrap string with <i> tag. <i>Str</i>\n",
    "underline- wrap string with <u> tag. <u>Str</u>\n",
    "```"
   ]
  },
  {
   "cell_type": "code",
   "execution_count": 12,
   "metadata": {
    "id": "prVeZGYlSorr"
   },
   "outputs": [
    {
     "name": "stdout",
     "output_type": "stream",
     "text": [
      "<b><i><u>hello world</u></i></b>\n"
     ]
    }
   ],
   "source": [
    "#Write your code here\n",
    "\n",
    "def bold_decorator(func):\n",
    "    def wrapper():\n",
    "        return f\"<b>{func()}</b>\"\n",
    "    return wrapper\n",
    "\n",
    "def italic_decorator(func):\n",
    "    def wrapper():\n",
    "        return f\"<i>{func()}</i>\"\n",
    "    return wrapper\n",
    "\n",
    "def underline_decorator(func):\n",
    "    def wrapper():\n",
    "        return f\"<u>{func()}</u>\"\n",
    "    return wrapper\n",
    "\n",
    "@bold_decorator\n",
    "@italic_decorator\n",
    "@underline_decorator\n",
    "def hello():\n",
    "    return \"hello world\"\n",
    "\n",
    "result = hello()\n",
    "print(result)"
   ]
  },
  {
   "cell_type": "markdown",
   "metadata": {
    "id": "miKBwPy4TQWa"
   },
   "source": [
    "###`Q8:` Write a decorator called `printer` which causes any decorated function to print their return values. If the return value of a given function is `None`, printer should do nothing.\n",
    "\n"
   ]
  },
  {
   "cell_type": "code",
   "execution_count": 13,
   "metadata": {
    "id": "05s0poRoT9II"
   },
   "outputs": [
    {
     "name": "stdout",
     "output_type": "stream",
     "text": [
      "Hello World!\n",
      "6\n"
     ]
    }
   ],
   "source": [
    "#Write your code here\n",
    "def printer(func):\n",
    "    def wraper(*args):\n",
    "        result = func(*args)\n",
    "        if result != None:\n",
    "            print(result)           \n",
    "    return wraper\n",
    "\n",
    "@printer\n",
    "def addition(a, b):\n",
    "    return a + b\n",
    "\n",
    "@printer\n",
    "def hello():\n",
    "    return \"Hello World!\"\n",
    "\n",
    "@printer\n",
    "def multiply(a, b):\n",
    "    return None\n",
    "\n",
    "hello()\n",
    "addition(2,4)\n",
    "multiply(2,4)\n"
   ]
  },
  {
   "cell_type": "markdown",
   "metadata": {
    "id": "DWJLjPOnURua"
   },
   "source": [
    "###`Q9:` Make a decorator which calls a given function twice. You can assume the functions don't return anything important, but they may take arguments.\n",
    "```\n",
    "#Lets say given function\n",
    "def hello(string):\n",
    "    print(string)\n",
    "\n",
    "#on calling after specified decorator is inplaced\n",
    "hello('hello')\n",
    "```\n",
    "\n",
    "Output:\n",
    "```\n",
    "hello\n",
    "hello\n",
    "```"
   ]
  },
  {
   "cell_type": "code",
   "execution_count": 14,
   "metadata": {
    "id": "e38y0cz7UTdD"
   },
   "outputs": [
    {
     "name": "stdout",
     "output_type": "stream",
     "text": [
      "Hello\n",
      "Hello\n"
     ]
    }
   ],
   "source": [
    "#Write your cod here\n",
    "def twice_deco(func):\n",
    "    def wraper(*args):\n",
    "        func(*args)\n",
    "        func(*args)\n",
    "    return wraper\n",
    "\n",
    "@twice_deco\n",
    "def hello(string):\n",
    "    print(string)\n",
    "    \n",
    "hello(\"Hello\")"
   ]
  },
  {
   "cell_type": "markdown",
   "metadata": {
    "id": "8btcQI9pWi2w"
   },
   "source": [
    "### `Q10:` Write a decorator which doubles the return value of any function. And test that decoratos is working correctly or not using `asert`.\n",
    "\n",
    "```\n",
    "add(2,3) -> result in 10. Without decorator it should be 5.\n",
    "```"
   ]
  },
  {
   "cell_type": "code",
   "execution_count": 15,
   "metadata": {
    "id": "nG6S_zQ9XFb3"
   },
   "outputs": [
    {
     "name": "stdout",
     "output_type": "stream",
     "text": [
      "wrapper Test Passed Successfully\n",
      "wrapper Test Passed Successfully\n"
     ]
    }
   ],
   "source": [
    "# Write your code here\n",
    "def double_deco(func):\n",
    "    def wrapper(*args):\n",
    "        result = func(*args)\n",
    "        return result * 2\n",
    "    return wrapper\n",
    "\n",
    "@double_deco\n",
    "def value(num):\n",
    "    return num\n",
    "\n",
    "@double_deco\n",
    "def addition(*args):\n",
    "    total = 0\n",
    "    for num in args:\n",
    "        total = total + num        \n",
    "    return total\n",
    "\n",
    "value_result = value(5)\n",
    "assert value_result == 10, f\"Expected 10, but got {value_result}\"\n",
    "print(f\"{value.__name__} Test Passed Successfully\")\n",
    "\n",
    "add_result = addition(2,3,3)\n",
    "assert add_result == 16, f\"Expected 16, but got {add_result}\"\n",
    "print(f\"{value.__name__} Test Passed Successfully\")"
   ]
  },
  {
   "cell_type": "markdown",
   "metadata": {},
   "source": [
    "# Iterator"
   ]
  },
  {
   "cell_type": "markdown",
   "metadata": {},
   "source": [
    "## Iteration"
   ]
  },
  {
   "cell_type": "markdown",
   "metadata": {},
   "source": [
    "* Iteration is the process of extracting sequence of items from the object one after another, any time we use loop implicit or explicit to go over group of items this is called iteration."
   ]
  },
  {
   "cell_type": "code",
   "execution_count": 16,
   "metadata": {},
   "outputs": [
    {
     "name": "stdout",
     "output_type": "stream",
     "text": [
      "1\n",
      "2\n",
      "3\n",
      "4\n"
     ]
    }
   ],
   "source": [
    "num = [1, 2, 3, 4]\n",
    "for i in num:\n",
    "    print(i)"
   ]
  },
  {
   "cell_type": "markdown",
   "metadata": {},
   "source": [
    "## Iterator"
   ]
  },
  {
   "cell_type": "markdown",
   "metadata": {},
   "source": [
    "* Through iterator we are able to perform iteration on an object.\n",
    "* The main benifit of an iterator is that a programmer can traverse over sequence of data without loading the entire data in the memory."
   ]
  },
  {
   "cell_type": "code",
   "execution_count": 17,
   "metadata": {},
   "outputs": [
    {
     "name": "stdout",
     "output_type": "stream",
     "text": [
      "800984 Bytes\n",
      "48 Bytes\n"
     ]
    }
   ],
   "source": [
    "import sys\n",
    "\n",
    "lst = [x for x in range(1,100000)]\n",
    "print(sys.getsizeof(lst), \"Bytes\")\n",
    "\n",
    "r = range(1,100000)\n",
    "print(sys.getsizeof(r), \"Bytes\")"
   ]
  },
  {
   "cell_type": "markdown",
   "metadata": {},
   "source": [
    "## Iterable"
   ]
  },
  {
   "cell_type": "markdown",
   "metadata": {},
   "source": [
    "* Iterable is an object through which we can perform iteration.\n",
    "* It generates an iterator when perform `iter()` method on iterable object.\n",
    "\n",
    "### Points to remember\n",
    "\n",
    "* Every iterator is also an iterable.\n",
    "* But not every iterables are iterator."
   ]
  },
  {
   "cell_type": "markdown",
   "metadata": {},
   "source": [
    "### Trick\n",
    "\n",
    "* Every iterable function has `__iter__()`\n",
    "* Every iterator has both `__iter__()` as well as `__next__()` magic method\n"
   ]
  },
  {
   "cell_type": "code",
   "execution_count": 18,
   "metadata": {},
   "outputs": [
    {
     "data": {
      "text/plain": [
       "['__class__',\n",
       " '__class_getitem__',\n",
       " '__contains__',\n",
       " '__delattr__',\n",
       " '__delitem__',\n",
       " '__dir__',\n",
       " '__doc__',\n",
       " '__eq__',\n",
       " '__format__',\n",
       " '__ge__',\n",
       " '__getattribute__',\n",
       " '__getitem__',\n",
       " '__gt__',\n",
       " '__hash__',\n",
       " '__init__',\n",
       " '__init_subclass__',\n",
       " '__ior__',\n",
       " '__iter__',\n",
       " '__le__',\n",
       " '__len__',\n",
       " '__lt__',\n",
       " '__ne__',\n",
       " '__new__',\n",
       " '__or__',\n",
       " '__reduce__',\n",
       " '__reduce_ex__',\n",
       " '__repr__',\n",
       " '__reversed__',\n",
       " '__ror__',\n",
       " '__setattr__',\n",
       " '__setitem__',\n",
       " '__sizeof__',\n",
       " '__str__',\n",
       " '__subclasshook__',\n",
       " 'clear',\n",
       " 'copy',\n",
       " 'fromkeys',\n",
       " 'get',\n",
       " 'items',\n",
       " 'keys',\n",
       " 'pop',\n",
       " 'popitem',\n",
       " 'setdefault',\n",
       " 'update',\n",
       " 'values']"
      ]
     },
     "execution_count": 18,
     "metadata": {},
     "output_type": "execute_result"
    }
   ],
   "source": [
    "a = 2\n",
    "t = (1,2,3,4)\n",
    "s = {1,2,3,4}\n",
    "d = {1:2, 3:4}\n",
    "# for i in a:\n",
    "#     print(i)\n",
    "    \n",
    "dir(d)"
   ]
  },
  {
   "cell_type": "code",
   "execution_count": 19,
   "metadata": {},
   "outputs": [
    {
     "name": "stdout",
     "output_type": "stream",
     "text": [
      "**********************This is an iterable*********************************\n",
      "['__add__', '__class__', '__class_getitem__', '__contains__', '__delattr__', '__delitem__', '__dir__', '__doc__', '__eq__', '__format__', '__ge__', '__getattribute__', '__getitem__', '__gt__', '__hash__', '__iadd__', '__imul__', '__init__', '__init_subclass__', '__iter__', '__le__', '__len__', '__lt__', '__mul__', '__ne__', '__new__', '__reduce__', '__reduce_ex__', '__repr__', '__reversed__', '__rmul__', '__setattr__', '__setitem__', '__sizeof__', '__str__', '__subclasshook__', 'append', 'clear', 'copy', 'count', 'extend', 'index', 'insert', 'pop', 'remove', 'reverse', 'sort']\n",
      "\n",
      "**********************This is an iterator*********************************\n",
      "['__bool__', '__class__', '__contains__', '__delattr__', '__dir__', '__doc__', '__eq__', '__format__', '__ge__', '__getattribute__', '__getitem__', '__gt__', '__hash__', '__init__', '__init_subclass__', '__iter__', '__le__', '__len__', '__lt__', '__ne__', '__new__', '__reduce__', '__reduce_ex__', '__repr__', '__reversed__', '__setattr__', '__sizeof__', '__str__', '__subclasshook__', 'count', 'index', 'start', 'step', 'stop']\n"
     ]
    }
   ],
   "source": [
    "print(\"**********************This is an iterable*********************************\")\n",
    "x = [1, 2, 3, 4] # This is an iterable but not iterator\n",
    "print(dir(x))\n",
    "\n",
    "print(\"\\n**********************This is an iterator*********************************\")\n",
    "iter(x) # This is an iterator and also an iterable\n",
    "print(dir(r))"
   ]
  },
  {
   "cell_type": "markdown",
   "metadata": {},
   "source": [
    "# Confusing Point "
   ]
  },
  {
   "cell_type": "markdown",
   "metadata": {},
   "source": [
    "* We can perform `iter()` only on iterable, becuase when perform `dir()` on an object it has `__iter__()` magic method if not you can't.\n",
    "* When we perform `iter()` on iterable it will return an iterator object.\n",
    "* When we again perform `iter()` on iterator object it will also return an iterator object which not other but it self.\n"
   ]
  },
  {
   "cell_type": "code",
   "execution_count": 20,
   "metadata": {},
   "outputs": [
    {
     "name": "stdout",
     "output_type": "stream",
     "text": [
      "['__add__', '__class__', '__class_getitem__', '__contains__', '__delattr__', '__delitem__', '__dir__', '__doc__', '__eq__', '__format__', '__ge__', '__getattribute__', '__getitem__', '__gt__', '__hash__', '__iadd__', '__imul__', '__init__', '__init_subclass__', '__iter__', '__le__', '__len__', '__lt__', '__mul__', '__ne__', '__new__', '__reduce__', '__reduce_ex__', '__repr__', '__reversed__', '__rmul__', '__setattr__', '__setitem__', '__sizeof__', '__str__', '__subclasshook__', 'append', 'clear', 'copy', 'count', 'extend', 'index', 'insert', 'pop', 'remove', 'reverse', 'sort']\n",
      "2477035916400 An Iterator object 1\n",
      "2477035916400 An Iterator object 2\n"
     ]
    }
   ],
   "source": [
    "num = [1,2,3]\n",
    "print(dir(num))\n",
    "\n",
    "iterator_obj1 = iter(num)\n",
    "print(id(iterator_obj1), \"An Iterator object 1\")\n",
    "\n",
    "iterator_obj2 = iter(iterator_obj1)\n",
    "print(id(iterator_obj2), \"An Iterator object 2\")"
   ]
  },
  {
   "cell_type": "markdown",
   "metadata": {},
   "source": [
    "# How for loop works\n",
    "\n",
    "`num = [1,2,3]`\n",
    "* Step 1:\n",
    "    * Fetch an iterator using `iter()`\n",
    "* Step 2\n",
    "    * call next()\n",
    "    * next(num)\n",
    "    * next(num)\n",
    "    * next(num)\n",
    "* Step 3\n",
    "    * raise Stop Iteration error if item not found\n"
   ]
  },
  {
   "cell_type": "code",
   "execution_count": 21,
   "metadata": {},
   "outputs": [],
   "source": [
    "def myfor_loop(iterable):\n",
    "    \n",
    "    iterator = iter(iterable)\n",
    "    \n",
    "    while True:\n",
    "        try:\n",
    "            print(next(iterator))\n",
    "        except StopIteration:\n",
    "            break"
   ]
  },
  {
   "cell_type": "code",
   "execution_count": 22,
   "metadata": {},
   "outputs": [
    {
     "name": "stdout",
     "output_type": "stream",
     "text": [
      "1\n",
      "2\n",
      "3\n",
      "4\n"
     ]
    }
   ],
   "source": [
    "num = [1, 2, 3, 4]\n",
    "\n",
    "myfor_loop(num)"
   ]
  },
  {
   "cell_type": "markdown",
   "metadata": {},
   "source": [
    "# My Range"
   ]
  },
  {
   "cell_type": "code",
   "execution_count": 23,
   "metadata": {},
   "outputs": [],
   "source": [
    "class my_range:\n",
    "    \n",
    "    def __init__(self, start, end):\n",
    "        self.start = start\n",
    "        self.end = end\n",
    "        \n",
    "    def __iter__(self):\n",
    "        return my_range_iterator(self)"
   ]
  },
  {
   "cell_type": "code",
   "execution_count": 24,
   "metadata": {},
   "outputs": [],
   "source": [
    "class my_range_iterator:\n",
    "    \n",
    "    def __init__(self, iterable_obj):\n",
    "        self.iterable = iterable_obj\n",
    "\n",
    "    def __iter__(self):\n",
    "        return self\n",
    "    \n",
    "    def __next__(self):\n",
    "        if self.iterable.start >= self.iterable.end:\n",
    "            raise StopIteration\n",
    "            \n",
    "        current = self.iterable.start\n",
    "        self.iterable.start += 1\n",
    "        return current"
   ]
  },
  {
   "cell_type": "code",
   "execution_count": 25,
   "metadata": {},
   "outputs": [
    {
     "name": "stdout",
     "output_type": "stream",
     "text": [
      "1\n",
      "2\n",
      "3\n",
      "4\n",
      "5\n",
      "6\n",
      "7\n",
      "8\n",
      "9\n",
      "10\n"
     ]
    }
   ],
   "source": [
    "for i in my_range(1, 11):\n",
    "    print(i)"
   ]
  },
  {
   "cell_type": "markdown",
   "metadata": {},
   "source": [
    "# Generator"
   ]
  },
  {
   "cell_type": "markdown",
   "metadata": {},
   "source": [
    "* Generator is a sample way of creating iterators.\n",
    "* In generator do not have `return` statement but have `yield` statement.\n",
    "* In normal function statement after `return` would not be execute.\n",
    "* In generator function statement after `yield` can be execute.\n",
    "* So there would be multiple `yield` statement in `generator` function.\n",
    "* When we assign generator function into any variable it will return generator object.\n",
    "* `gen = mera_range()` This is not function calling in generator\n",
    "* Function called when we perform `next()` or use loop on generator object.\n",
    "* When we perform `next()` function on any object it will remember what next value/statement to be print or generate.\n",
    "* Generators are most memory efficient.\n",
    "* We can use chaining of generators."
   ]
  },
  {
   "cell_type": "code",
   "execution_count": 26,
   "metadata": {},
   "outputs": [
    {
     "name": "stdout",
     "output_type": "stream",
     "text": [
      "1\n",
      "4\n",
      "9\n",
      "16\n",
      "25\n",
      "36\n",
      "49\n",
      "64\n",
      "81\n",
      "100\n"
     ]
    }
   ],
   "source": [
    "def square(num):\n",
    "    for i in range(1, num+1):\n",
    "        yield i**2\n",
    "        \n",
    "gen = square(10)\n",
    "print(next(gen))\n",
    "print(next(gen))\n",
    "print(next(gen))\n",
    "\n",
    "for i in gen:\n",
    "    print(i)"
   ]
  },
  {
   "cell_type": "markdown",
   "metadata": {},
   "source": [
    "### Create Range Function"
   ]
  },
  {
   "cell_type": "code",
   "execution_count": 27,
   "metadata": {},
   "outputs": [],
   "source": [
    "def mera_range(start, end):\n",
    "    for i in range(start, end):\n",
    "        yield i"
   ]
  },
  {
   "cell_type": "code",
   "execution_count": 28,
   "metadata": {},
   "outputs": [
    {
     "name": "stdout",
     "output_type": "stream",
     "text": [
      "15\n",
      "16\n",
      "17\n",
      "18\n",
      "19\n",
      "20\n",
      "21\n",
      "22\n",
      "23\n",
      "24\n",
      "25\n"
     ]
    }
   ],
   "source": [
    "# gen = mera_range(15,26)\n",
    "for i in mera_range(15,26):\n",
    "    print(i)"
   ]
  },
  {
   "cell_type": "markdown",
   "metadata": {},
   "source": [
    "### Generator Expression"
   ]
  },
  {
   "cell_type": "code",
   "execution_count": 29,
   "metadata": {},
   "outputs": [
    {
     "name": "stdout",
     "output_type": "stream",
     "text": [
      "[1, 4, 9, 16, 25, 36, 49, 64, 81, 100, 121, 144, 169, 196, 225, 256, 289, 324, 361, 400, 441, 484, 529, 576, 625, 676, 729, 784, 841, 900, 961, 1024, 1089, 1156, 1225, 1296, 1369, 1444, 1521, 1600, 1681, 1764, 1849, 1936, 2025, 2116, 2209, 2304, 2401, 2500, 2601, 2704, 2809, 2916, 3025, 3136, 3249, 3364, 3481, 3600, 3721, 3844, 3969, 4096, 4225, 4356, 4489, 4624, 4761, 4900, 5041, 5184, 5329, 5476, 5625, 5776, 5929, 6084, 6241, 6400, 6561, 6724, 6889, 7056, 7225, 7396, 7569, 7744, 7921, 8100, 8281, 8464, 8649, 8836, 9025, 9216, 9409, 9604, 9801, 10000]\n",
      "\n",
      "**************Generator Expression***************\n",
      "\n",
      "1,4,9,16,25,36,49,64,81,100,121,144,169,196,225,256,289,324,361,400,441,484,529,576,625,676,729,784,841,900,961,1024,1089,1156,1225,1296,1369,1444,1521,1600,1681,1764,1849,1936,2025,2116,2209,2304,2401,2500,2601,2704,2809,2916,3025,3136,3249,3364,3481,3600,3721,3844,3969,4096,4225,4356,4489,4624,4761,4900,5041,5184,5329,5476,5625,5776,5929,6084,6241,6400,6561,6724,6889,7056,7225,7396,7569,7744,7921,8100,8281,8464,8649,8836,9025,9216,9409,9604,9801,10000,"
     ]
    }
   ],
   "source": [
    "lst = [x**2 for x in range(1,101)] # List comprehension\n",
    "print(lst)\n",
    "\n",
    "print(\"\\n**************Generator Expression***************\\n\")\n",
    "gen_exp = (x**2 for x in range(1,101))\n",
    "for i in gen_exp:\n",
    "    print(i, end=\",\")"
   ]
  },
  {
   "cell_type": "markdown",
   "metadata": {},
   "source": [
    "### Practical Example"
   ]
  },
  {
   "cell_type": "code",
   "execution_count": null,
   "metadata": {},
   "outputs": [],
   "source": []
  },
  {
   "cell_type": "markdown",
   "metadata": {},
   "source": [
    "### Chaining Generators\n",
    "\n",
    "* Connect generators logically and acheive complex task."
   ]
  },
  {
   "cell_type": "code",
   "execution_count": 30,
   "metadata": {},
   "outputs": [
    {
     "name": "stdout",
     "output_type": "stream",
     "text": [
      "4895\n"
     ]
    }
   ],
   "source": [
    "def fab(num):\n",
    "    x, y = 0, 1\n",
    "    for _ in range(num):\n",
    "        x, y = y, x+y\n",
    "        yield x\n",
    "    \n",
    "def square(nums):\n",
    "    for num in nums:\n",
    "        yield num**2\n",
    "    \n",
    "print(sum(square(fab(10))))"
   ]
  },
  {
   "cell_type": "code",
   "execution_count": null,
   "metadata": {},
   "outputs": [],
   "source": []
  }
 ],
 "metadata": {
  "colab": {
   "provenance": []
  },
  "kernelspec": {
   "display_name": "Python 3 (ipykernel)",
   "language": "python",
   "name": "python3"
  },
  "language_info": {
   "codemirror_mode": {
    "name": "ipython",
    "version": 3
   },
   "file_extension": ".py",
   "mimetype": "text/x-python",
   "name": "python",
   "nbconvert_exporter": "python",
   "pygments_lexer": "ipython3",
   "version": "3.9.13"
  }
 },
 "nbformat": 4,
 "nbformat_minor": 1
}
