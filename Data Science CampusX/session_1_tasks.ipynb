{
 "cells": [
  {
   "cell_type": "markdown",
   "metadata": {
    "id": "A05OG15VqOPF"
   },
   "source": [
    "# Task : Session 1\n",
    "Solve these questions own your own and try to test yourself what you have learned in the session.\n",
    "\n",
    "Happy Learning!"
   ]
  },
  {
   "cell_type": "markdown",
   "metadata": {
    "id": "2doIXf8bqe9_"
   },
   "source": [
    "### Q1 :- Print the given strings as per stated format.\n",
    "\n",
    "**Given strings**: \n",
    "```\n",
    "\"Data\" \"Science\" \"Mentorship\" \"Program\" \n",
    "\"By\" \"CampusX\"\n",
    "```\n",
    "**Output**: \n",
    "``` \n",
    "Data-Science-Mentorship-Program-started-By-CampusX\n",
    "```\n",
    "\n",
    "Concept- [Seperator and End]"
   ]
  },
  {
   "cell_type": "code",
   "execution_count": 1,
   "metadata": {
    "colab": {
     "base_uri": "https://localhost:8080/"
    },
    "id": "-em6d3KErDtp",
    "outputId": "69d65189-b573-4996-f053-4e2784ad2b30"
   },
   "outputs": [
    {
     "name": "stdout",
     "output_type": "stream",
     "text": [
      "Data-Science-Mentorship-Program-By-CampusX\n"
     ]
    }
   ],
   "source": [
    "# Write your code here\n",
    "print(\"Data\",\"Science\",\"Mentorship\",\"Program\",\"By\",\"CampusX\",sep=\"-\")"
   ]
  },
  {
   "cell_type": "markdown",
   "metadata": {
    "id": "1KUpN7ZTrC3_"
   },
   "source": [
    "### Q2:- Write a program that will convert celsius value to fahrenheit."
   ]
  },
  {
   "cell_type": "code",
   "execution_count": 5,
   "metadata": {
    "id": "yxKYhYQiqWfj"
   },
   "outputs": [
    {
     "name": "stdout",
     "output_type": "stream",
     "text": [
      "Enter Celcius: 30\n",
      "Fahrenheit:  86.0\n"
     ]
    }
   ],
   "source": [
    "# Write your code here\n",
    "\n",
    "celcius = int(input(\"Enter Celcius: \"))\n",
    "fahrenheit = (celcius * 9/5) + 32\n",
    "print(\"Fahrenheit: \",fahrenheit)"
   ]
  },
  {
   "cell_type": "markdown",
   "metadata": {
    "id": "RLrOBBJurLB2"
   },
   "source": [
    "### Q3:- Take 2 numbers as input from the user.Write a program to swap the numbers without using any special python syntax."
   ]
  },
  {
   "cell_type": "code",
   "execution_count": 14,
   "metadata": {
    "id": "yPn7if0TrJ4F"
   },
   "outputs": [
    {
     "name": "stdout",
     "output_type": "stream",
     "text": [
      "Enter first number: 1\n",
      "Enter second number: 2\n",
      "2 1\n"
     ]
    }
   ],
   "source": [
    "# Write your code here\n",
    "num1 = int(input(\"Enter first number: \"))\n",
    "num2 = int(input(\"Enter second number: \"))\n",
    "\n",
    "# First Solution\n",
    "# temp = num1\n",
    "# num1 = num2\n",
    "# num2 = temp\n",
    "# print(num1, num2)\n",
    "\n",
    "# Second Solution\n",
    "num1,num2 = num2,num1\n",
    "print(num1, num2)"
   ]
  },
  {
   "cell_type": "markdown",
   "metadata": {
    "id": "waLCP1bjr7ML"
   },
   "source": [
    "### Q4:- Write a program to find the euclidean distance between two coordinates.Take both the coordinates from the user as input."
   ]
  },
  {
   "cell_type": "code",
   "execution_count": 19,
   "metadata": {
    "id": "Pl1Sv-xnrxnH"
   },
   "outputs": [
    {
     "name": "stdout",
     "output_type": "stream",
     "text": [
      "Enter x coordinate: 4\n",
      "Enter y coordinate: 5\n",
      "6.4031242374328485\n"
     ]
    }
   ],
   "source": [
    "# Write your code here\n",
    "x = int(input(\"Enter x coordinate: \"))\n",
    "y = int(input(\"Enter y coordinate: \"))\n",
    "\n",
    "euclidean_distance = (x**2 + y**2)**0.5\n",
    "print(euclidean_distance)              "
   ]
  },
  {
   "cell_type": "markdown",
   "metadata": {
    "id": "VLrhg-FRsHjR"
   },
   "source": [
    "### Q5:- Write a program to find the simple interest when the value of principle,rate of interest and time period is provided by the user.\n"
   ]
  },
  {
   "cell_type": "code",
   "execution_count": 20,
   "metadata": {
    "id": "s40DlReZsTmY"
   },
   "outputs": [
    {
     "name": "stdout",
     "output_type": "stream",
     "text": [
      "Enter principal amount: 200_000\n",
      "Enter interest rate: 10\n",
      "Enter number of years: 5\n",
      "Total Value: 300,000.00\n",
      "Interest Earnes: 100,000.00\n"
     ]
    }
   ],
   "source": [
    "# Write your code here\n",
    "principal_amount = int(input(\"Enter principal amount: \"))\n",
    "interest_rate = float(input(\"Enter interest rate: \"))\n",
    "time_period = int(input(\"Enter number of years: \"))\n",
    "\n",
    "total_value = (principal_amount * (1+((interest_rate/100) * time_period)))\n",
    "\n",
    "simple_interest = (total_value-principal_amount)\n",
    "print(\"Total Value: {:,.2f}\".format(total_value))\n",
    "print(\"Interest Earnes: {:,.2f}\".format(simple_interest))"
   ]
  },
  {
   "cell_type": "markdown",
   "metadata": {
    "id": "LMy0BTUktYKa"
   },
   "source": [
    "### Q6:- Write a program that will tell the number of dogs and chicken are there when the user will provide the value of total heads and legs.\n",
    "\n",
    "For example:\n",
    "Input:\n",
    "heads -> 4\n",
    "legs -> 12\n",
    "<br>\n",
    "Output:\n",
    "dogs -> 2\n",
    "chicken -> 2\n",
    "\n",
    "\n",
    "\n"
   ]
  },
  {
   "cell_type": "code",
   "execution_count": null,
   "metadata": {
    "id": "XSBvJoA4tXaG"
   },
   "outputs": [],
   "source": [
    "# Write your code here"
   ]
  },
  {
   "cell_type": "markdown",
   "metadata": {
    "id": "gJ7C5kZYt4BP"
   },
   "source": [
    "### Q7:- Write a program to find the sum of squares of first n natural numbers where n will be provided by the user."
   ]
  },
  {
   "cell_type": "code",
   "execution_count": 26,
   "metadata": {
    "id": "_tHsmEHzt2nX"
   },
   "outputs": [
    {
     "name": "stdout",
     "output_type": "stream",
     "text": [
      "Enter the range: 100\n",
      "sum of 100 natural numbers is 338350\n"
     ]
    }
   ],
   "source": [
    "# Write your code here\n",
    "n = int(input(\"Enter the range: \"))\n",
    "sum_natural = 0\n",
    "for i in range(1,n+1):    \n",
    "    sum_natural += i**2\n",
    "# print(f\"sum of {n} natural numbers is {sum_natural}\")\n",
    "print(\"sum of {} natural numbers is {}\".format(n, sum_natural))\n"
   ]
  },
  {
   "cell_type": "markdown",
   "metadata": {
    "id": "FHrMM7g-yG1h"
   },
   "source": [
    "### Q8:- Given the first 2 terms of an Arithmetic Series.Find the Nth term of the series. Assume all inputs are provided by the user."
   ]
  },
  {
   "cell_type": "code",
   "execution_count": 28,
   "metadata": {
    "id": "go4_kmZmyVSx"
   },
   "outputs": [
    {
     "name": "stdout",
     "output_type": "stream",
     "text": [
      "Number of terms: 5\n",
      "The first term: 1\n",
      "Common difference: 5\n",
      "The sum of first n terms in an arithmetic sequence is 55.0\n",
      "The nth term of the Arithmetic Series is 21\n"
     ]
    }
   ],
   "source": [
    "# Write your code here\n",
    "n = int(input(\"Number of terms: \"))\n",
    "a = int(input(\"The first term: \"))\n",
    "d = int(input(\"Common difference: \"))\n",
    "sum_seq = (n/2)*(2*a + (n - 1)*d)\n",
    "n_term = a + (n - 1)*d\n",
    "print(\"The sum of first n terms in an arithmetic sequence is {}\".format(sum_seq) )\n",
    "print(\"The nth term of the Arithmetic Series is {}\".format(n_term))"
   ]
  },
  {
   "cell_type": "markdown",
   "metadata": {
    "id": "QgyRX_es1oum"
   },
   "source": [
    "### Q9:- Given 2 fractions, find the sum of those 2 fractions.Take the numerator and denominator values of the fractions from the user."
   ]
  },
  {
   "cell_type": "code",
   "execution_count": 54,
   "metadata": {
    "id": "X05xqFS1yW16"
   },
   "outputs": [
    {
     "name": "stdout",
     "output_type": "stream",
     "text": [
      "Enter the numerator: 1\n",
      "Enter the denominator: 2\n",
      "Enter the numerator: 2\n",
      "Enter the denominator: 3\n",
      "1/2 + 2/3 = 7/6\n",
      "1/2 - 2/3 = -1/6\n",
      "1/2 x 2/3 = 2/6\n"
     ]
    }
   ],
   "source": [
    "# Write your code here\n",
    "num_fract1 = int(input(\"Enter the numerator: \"))\n",
    "deno_fract1 = int(input(\"Enter the denominator: \"))\n",
    "\n",
    "num_fract2 = int(input(\"Enter the numerator: \"))\n",
    "deno_fract2 = int(input(\"Enter the denominator: \"))\n",
    "\n",
    "num_mult = num_fract1 * num_fract2\n",
    "deno_mult = deno_fract1 * deno_fract2\n",
    "\n",
    "sum_fraction = num_fract1*(deno_mult//deno_fract1) + num_fract2*(deno_mult//deno_fract2)\n",
    "minus_fraction = num_fract1*(deno_mult//deno_fract1) - num_fract2*(deno_mult//deno_fract2)\n",
    "\n",
    "print(\"{}/{} + {}/{} = {}/{}\".format(num_fract1, deno_fract1, num_fract2,deno_fract2,sum_fraction,deno_mult))\n",
    "print(\"{}/{} - {}/{} = {}/{}\".format(num_fract1, deno_fract1, num_fract2,deno_fract2,minus_fraction,deno_mult))\n",
    "print(\"{}/{} x {}/{} = {}/{}\".format(num_fract1, deno_fract1, num_fract2,deno_fract2,num_mult,deno_mult))"
   ]
  },
  {
   "cell_type": "code",
   "execution_count": 57,
   "metadata": {},
   "outputs": [
    {
     "name": "stdout",
     "output_type": "stream",
     "text": [
      "Enter the numerator: 1\n",
      "Enter the denominator: 2\n",
      "Enter the numerator: 2\n",
      "Enter the denominator: 3\n",
      "1/2 / 3/2 = 3/4\n"
     ]
    }
   ],
   "source": [
    "num_fract1 = int(input(\"Enter the numerator: \"))\n",
    "deno_fract1 = int(input(\"Enter the denominator: \"))\n",
    "\n",
    "num_fract2 = int(input(\"Enter the numerator: \"))\n",
    "deno_fract2 = int(input(\"Enter the denominator: \"))\n",
    "\n",
    "num_fract2,deno_fract2 = deno_fract2,num_fract2\n",
    "\n",
    "num_mult = num_fract1 * num_fract2\n",
    "deno_mult = deno_fract1 * deno_fract2\n",
    "print(\"{}/{} / {}/{} = {}/{}\".format(num_fract1, deno_fract1, num_fract2,deno_fract2,num_mult,deno_mult))"
   ]
  },
  {
   "cell_type": "markdown",
   "metadata": {
    "id": "eaql38ln13u7"
   },
   "source": [
    "### Q10:- Given the height, width and breadth of a milk tank, you have to find out how many glasses of milk can be obtained? Assume all the inputs are provided by the user.\n",
    "\n",
    "\n",
    "\n",
    "Input:<br>\n",
    "Dimensions of the milk tank<br>\n",
    "H = 20cm, L = 20cm, B = 20cm\n",
    "<br><br>\n",
    "Dimensions of the glass<br>\n",
    "h = 3cm, r = 1cm"
   ]
  },
  {
   "cell_type": "code",
   "execution_count": 46,
   "metadata": {
    "id": "FePZqno74eWv"
   },
   "outputs": [
    {
     "name": "stdout",
     "output_type": "stream",
     "text": [
      "Enter the height of tank in cm: 20\n",
      "Enter the length of tank in cm: 20\n",
      "Enter the breadth of tank in cm: 20\n",
      "Enter the height of glass in cm: 3\n",
      "Enter the radius of glass in cm: 1\n",
      "We can obtain 848.0 number of glasses from the tank\n"
     ]
    }
   ],
   "source": [
    "# Write your code here\n",
    "from math import pi\n",
    "tank_height = float(input(\"Enter the height of tank in cm: \"))\n",
    "tank_length = float(input(\"Enter the length of tank in cm: \"))\n",
    "tank_breadth = float(input(\"Enter the breadth of tank in cm: \"))\n",
    "\n",
    "glass_height = float(input(\"Enter the height of glass in cm: \"))\n",
    "glass_radius = float(input(\"Enter the radius of glass in cm: \"))\n",
    "\n",
    "\n",
    "# Volume of the tank\n",
    "tank_volume = tank_length * tank_breadth * tank_height\n",
    "\n",
    "# Volume of the glass\n",
    "glass_volume = (pi)*(glass_radius**2)*glass_height\n",
    "\n",
    "\n",
    "num_glass = tank_volume // glass_volume\n",
    "\n",
    "print(\"We can obtain {} number of glasses from the tank\".format(num_glass))"
   ]
  }
 ],
 "metadata": {
  "colab": {
   "provenance": []
  },
  "kernelspec": {
   "display_name": "Python 3 (ipykernel)",
   "language": "python",
   "name": "python3"
  },
  "language_info": {
   "codemirror_mode": {
    "name": "ipython",
    "version": 3
   },
   "file_extension": ".py",
   "mimetype": "text/x-python",
   "name": "python",
   "nbconvert_exporter": "python",
   "pygments_lexer": "ipython3",
   "version": "3.9.13"
  }
 },
 "nbformat": 4,
 "nbformat_minor": 1
}
