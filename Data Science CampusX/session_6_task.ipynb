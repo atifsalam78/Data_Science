{
 "cells": [
  {
   "cell_type": "markdown",
   "metadata": {
    "id": "h6dDSW5XGZFi"
   },
   "source": [
    "### **`Problem-1:`** Write a Python function that takes a list and returns a new list with unique elements of the first list.\n",
    "\n",
    "**Exercise 1:**\n",
    "\n",
    "Input:\n",
    "\n",
    "```bash\n",
    "[1,2,3,3,3,3,4,5]\n",
    "```\n",
    "\n",
    "Output:\n",
    "\n",
    "```bash\n",
    "[1, 2, 3, 4, 5]\n",
    "```"
   ]
  },
  {
   "cell_type": "code",
   "execution_count": 2,
   "metadata": {
    "id": "R5pq1C9LGe1y"
   },
   "outputs": [
    {
     "data": {
      "text/plain": [
       "[1, 2, 3, 4, 5]"
      ]
     },
     "execution_count": 2,
     "metadata": {},
     "output_type": "execute_result"
    }
   ],
   "source": [
    "def unique_list(l):\n",
    "    l = list(set(l))\n",
    "    return l\n",
    "unique_list([1,2,3,3,3,3,4,5])"
   ]
  },
  {
   "cell_type": "markdown",
   "metadata": {
    "id": "UxQ_VoyJGwHj"
   },
   "source": [
    "### **`Problem-2:`** Write a Python function that accepts a hyphen-separated sequence of words as parameter and returns the words in a hyphen-separated sequence after sorting them alphabetically.\n",
    "\n",
    "**Example 1:**\n",
    "\n",
    "Input:\n",
    "```bash\n",
    "green-red-yellow-black-white\n",
    "```\n",
    "\n",
    "Output:\n",
    "```bash\n",
    "black-green-red-white-yellow\n",
    "```"
   ]
  },
  {
   "cell_type": "code",
   "execution_count": 49,
   "metadata": {
    "id": "AAts2m5zGwiQ"
   },
   "outputs": [
    {
     "name": "stdout",
     "output_type": "stream",
     "text": [
      "black-green-red-white-yellow-"
     ]
    }
   ],
   "source": [
    "# Write code here\n",
    "def sorted_sequence(word):\n",
    "    w = word.split(\"-\")\n",
    "    w.sort()\n",
    "#     print(w)\n",
    "    for i in w:\n",
    "        print(i,end=\"-\")\n",
    "sorted_sequence(\"green-red-yellow-black-white\")"
   ]
  },
  {
   "cell_type": "markdown",
   "metadata": {
    "id": "IRGH62S7Gx_n"
   },
   "source": [
    "### **`Problem 3:`** Write a Python function that accepts a string and calculate the number of upper case letters and lower case letters.\n",
    "\n",
    "```\n",
    "Sample String : 'CampusX is an Online Mentorship Program fOr EnginEering studentS.'\n",
    "Expected Output :\n",
    "No. of Upper case characters :  9\n",
    "No. of Lower case Characters :  47\n",
    "```"
   ]
  },
  {
   "cell_type": "code",
   "execution_count": 58,
   "metadata": {
    "id": "OaUrD8vVG5o8"
   },
   "outputs": [
    {
     "data": {
      "text/plain": [
       "'Given text has 10 upper case characters and 46 lower case characters'"
      ]
     },
     "execution_count": 58,
     "metadata": {},
     "output_type": "execute_result"
    }
   ],
   "source": [
    "# Write code here\n",
    "def letterCase(string):\n",
    "    count_upper = 0\n",
    "    count_lower = 0\n",
    "    \n",
    "    for i in string:\n",
    "        if i.isupper():\n",
    "            count_upper += 1\n",
    "        elif i.islower():\n",
    "            count_lower += 1\n",
    "    return \"Given text has {} upper case characters and {} lower case characters\".format(count_upper, count_lower)\n",
    "        \n",
    "        \n",
    "letterCase('CampusX is an online Mentorship Program fOr EnginEering stUdenTS.')"
   ]
  },
  {
   "cell_type": "markdown",
   "metadata": {
    "id": "V1BFFdYQG7Sn"
   },
   "source": [
    "### **`Problem 4:`** Write a Python program to print the even numbers from a given list.\n",
    "```\n",
    "Sample List : [1, 2, 3, 4, 5, 6, 7, 8, 9]\n",
    "Expected Result : [2, 4, 6, 8]\n",
    "```"
   ]
  },
  {
   "cell_type": "code",
   "execution_count": 61,
   "metadata": {
    "id": "VvAReLoDG_Z3"
   },
   "outputs": [
    {
     "data": {
      "text/plain": [
       "[2, 4, 6, 8]"
      ]
     },
     "execution_count": 61,
     "metadata": {},
     "output_type": "execute_result"
    }
   ],
   "source": [
    "# Write code here\n",
    "def even_number(num_list):\n",
    "    new_list = []\n",
    "    for i in num_list:\n",
    "        if i % 2 == 0:\n",
    "            new_list.append(i)\n",
    "    return new_list\n",
    "\n",
    "even_number([1, 2, 3, 4, 5, 6, 7, 8, 9])\n",
    "            "
   ]
  },
  {
   "cell_type": "markdown",
   "metadata": {
    "id": "qrK39Gn-HHb4"
   },
   "source": [
    "### **`Problem 5:`** Write a Python function to check whether a number is perfect or not.\n",
    "\n",
    "A Perfect number is a number that is half the sum of all of its positive divisors (including itself).\n",
    "\n",
    "Example : \n",
    "\n",
    "```\n",
    "The first perfect number is 6, because 1, 2, and 3 are its proper positive divisors, and 1 + 2 + 3 = 6. \n",
    "Equivalently, the number 6 is equal to half the sum of all its positive divisors: ( 1 + 2 + 3 + 6 ) / 2 = 6. \n",
    "\n",
    "The next perfect number is 28 = 1 + 2 + 4 + 7 + 14. This is followed by the perfect numbers 496 and 8128.\n",
    "```\n"
   ]
  },
  {
   "cell_type": "code",
   "execution_count": 81,
   "metadata": {
    "id": "P-OI7H78HICs"
   },
   "outputs": [
    {
     "name": "stdout",
     "output_type": "stream",
     "text": [
      "Perfect\n"
     ]
    }
   ],
   "source": [
    "# Write code here\n",
    "def perfect_number(num,temp_count=0):\n",
    "    \"\"\"check whether a number is perfect or not\"\"\"    \n",
    "    for i in range(1,num+1):        \n",
    "        if num % i == 0:\n",
    "            temp_count = temp_count + i\n",
    "    temp_count = temp_count/2\n",
    "\n",
    "    if temp_count == num:\n",
    "        print(\"Perfect\")\n",
    "    else:\n",
    "        print(\"Not Perfect\")\n",
    "            \n",
    "            \n",
    "perfect_number(496)"
   ]
  },
  {
   "cell_type": "markdown",
   "metadata": {
    "id": "oZdpcG77HO-6"
   },
   "source": [
    "### **`Problem-6:`** Write a Python function to concatenate any no of dictionaries to create a new one.\n",
    "\n",
    "```\n",
    "Sample Dictionary :\n",
    "dic1={1:10, 2:20}\n",
    "dic2={3:30, 4:40}\n",
    "dic3={5:50,6:60}\n",
    "Expected Result : {1: 10, 2: 20, 3: 30, 4: 40, 5: 50, 6: 60}\n",
    "```"
   ]
  },
  {
   "cell_type": "code",
   "execution_count": 22,
   "metadata": {
    "id": "LQgfAY4ZHPhj"
   },
   "outputs": [
    {
     "name": "stdout",
     "output_type": "stream",
     "text": [
      "{1: 10, 2: 20, 3: 30, 4: 40, 5: 50, 6: 60}\n"
     ]
    }
   ],
   "source": [
    "# Write code here\n",
    "def concatenate_list(**kwargs):    \n",
    "    \"\"\"concatenate any no of dictionaries to create a new one\"\"\"\n",
    "    dic = {}\n",
    "    for label,value in kwargs.items():\n",
    "        dic.update(value)\n",
    "    print(dic)\n",
    "concatenate_list(dic1={1:10, 2:20},dic2={3:30, 4:40},dic3={5:50,6:60})"
   ]
  },
  {
   "cell_type": "code",
   "execution_count": 2,
   "metadata": {},
   "outputs": [
    {
     "name": "stdout",
     "output_type": "stream",
     "text": [
      "checking: ('atif', 1, 2, True) 1\n"
     ]
    }
   ],
   "source": [
    "def print_params(title,*args, z=0):\n",
    "#     z = 0\n",
    "#     print(title)\n",
    "    print(title,args, z)\n",
    "    \n",
    "print_params(\"checking:\",\"atif\", 1,2,True,z=1)\n",
    "# print(\"My:\",args=45,z=2)"
   ]
  },
  {
   "cell_type": "markdown",
   "metadata": {
    "id": "jQ6SzbCkHRd0"
   },
   "source": [
    "`Problem-7` Write a python function that accepts a string as input and returns the word with most occurence.\n",
    "\n",
    "```\n",
    "Input:\n",
    "hello how are you i am fine thank you\n",
    "```\n",
    "\n",
    "```\n",
    "Output\n",
    "you -> 2\n",
    "```"
   ]
  },
  {
   "cell_type": "code",
   "execution_count": 96,
   "metadata": {
    "id": "Lh04JHLzIW7Z"
   },
   "outputs": [
    {
     "data": {
      "text/plain": [
       "2"
      ]
     },
     "execution_count": 96,
     "metadata": {},
     "output_type": "execute_result"
    }
   ],
   "source": [
    "# Write code here\n",
    "def word_occurence(word, most_occur):\n",
    "    count = 0\n",
    "    b = word.split()\n",
    "    for i in b:\n",
    "        if i == most_occur:\n",
    "            count +=1\n",
    "    return count\n",
    "word_occurence(\"hello how are you i am fine thank you\", \"you\")"
   ]
  },
  {
   "cell_type": "markdown",
   "metadata": {
    "id": "1r8SpVntI-IW"
   },
   "source": [
    "`Problem-8` Write a python function that receives a list of integers and prints out a histogram of bin size 10\n",
    "\n",
    "```\n",
    "Input:\n",
    "[13,42,15,37,22,39,41,50]\n",
    "```\n",
    "\n",
    "```\n",
    "Output:\n",
    "{11-20:2,21-30:1,31-40:2,41-50:3}\n",
    "```"
   ]
  },
  {
   "cell_type": "code",
   "execution_count": 175,
   "metadata": {
    "id": "7W0J8rUjJovg"
   },
   "outputs": [
    {
     "data": {
      "text/plain": [
       "{'10-24': 5, '25-39': 2, '40-54': 4}"
      ]
     },
     "execution_count": 175,
     "metadata": {},
     "output_type": "execute_result"
    }
   ],
   "source": [
    "# Write code here\n",
    "\n",
    "l = [10,15,16,18,20,30,35,42,48,50,52,55]\n",
    "# l = [13,42,15,37,22,39,41,50]\n",
    "def histogram_bin(l,count=0,d={}):\n",
    "    \"\"\"receives a list of integers and prints out a histogram of bin size 10\"\"\"\n",
    "    min_val = min(l)\n",
    "    max_val = max(l)\n",
    "    bin_no = (max_val - min_val)//len(l) # Number of bins according to lenth of list          \n",
    "    width = (max_val - min_val)//bin_no  # Bin size according to list\n",
    "    lower_bound = min_val\n",
    "\n",
    "    for i in range(1,bin_no+1):        \n",
    "        upper_bound = min_val + (i*width)-1\n",
    "        for j in l:\n",
    "            if j >= lower_bound and j <= upper_bound:\n",
    "                count +=1\n",
    "        d[\"{}-{}\".format(lower_bound,upper_bound)] = count        \n",
    "        count = 0\n",
    "        lower_bound = upper_bound + 1\n",
    "    return d\n",
    "\n",
    "histogram_bin(l)"
   ]
  },
  {
   "cell_type": "markdown",
   "metadata": {
    "id": "1P2-rbgXKE53"
   },
   "source": [
    "`Problem-9` Write a python function that accepts a list of 2D co-ordinates and a query point, and then finds the the co-ordinate which is closest in terms of distance from the query point.\n",
    "\n",
    "```\n",
    "List of Coordinates\n",
    "[(1,1),(2,2),(3,3),(4,4)]\n",
    "Query Point\n",
    "(0,0)\n",
    "```\n",
    "\n",
    "```\n",
    "Output\n",
    "Nearest to (0,0) is (1,1)\n",
    "```"
   ]
  },
  {
   "cell_type": "code",
   "execution_count": 17,
   "metadata": {},
   "outputs": [
    {
     "data": {
      "text/plain": [
       "'Nearest to (0, 0) is (2, 2)'"
      ]
     },
     "execution_count": 17,
     "metadata": {},
     "output_type": "execute_result"
    }
   ],
   "source": [
    "# Write code here\n",
    "def closet_distance(coordinates_list, query_point, l1=[], d={}):\n",
    "    \"\"\"accepts a list of 2D co-ordinates and a query point,\n",
    "    and then finds the the co-ordinate which is closest in terms of distance from the query point.\"\"\"\n",
    "    for i in range(0,len(coordinates_list)):\n",
    "        x = coordinates_list[i][0] - query_point[0]\n",
    "        y = coordinates_list[i][1] - query_point[1]\n",
    "        dis = ((x)**2 + (y)**2)**0.5\n",
    "        d[(x,y)] = dis\n",
    "        l1.append(dis)\n",
    "    \n",
    "    return \"Nearest to {} is {}\".format(query_point, min(d))\n",
    "\n",
    "closet_distance([(11,11),(2,2),(3,3),(44,44)],query_point=(0,0))"
   ]
  },
  {
   "cell_type": "markdown",
   "metadata": {
    "id": "i-B6igmyK9hB"
   },
   "source": [
    "`Problem-10`:Write a python program that receives a list of strings and performs bag of word operation on those strings\n",
    "\n",
    "https://en.wikipedia.org/wiki/Bag-of-words_model"
   ]
  },
  {
   "cell_type": "code",
   "execution_count": 216,
   "metadata": {
    "id": "N2l1_AWULT-z"
   },
   "outputs": [
    {
     "data": {
      "text/plain": [
       "{'Mary': 1,\n",
       " 'also': 2,\n",
       " 'likes': 1,\n",
       " 'to': 1,\n",
       " 'watch': 1,\n",
       " 'football': 1,\n",
       " 'games': 1}"
      ]
     },
     "execution_count": 216,
     "metadata": {},
     "output_type": "execute_result"
    }
   ],
   "source": [
    "# Write code here\n",
    "def bag_of_words(string):\n",
    "    \"\"\"receives a list of strings and performs bag of word operation on those strings\"\"\"\n",
    "    dic_string = {}\n",
    "    list1 = []\n",
    "    for i in string.split():\n",
    "        if \".\" in i:        \n",
    "            list1.append(i[:-1])\n",
    "        else:\n",
    "            list1.append(i)\n",
    "\n",
    "    for j in list1:\n",
    "        count = list1.count(j)\n",
    "        dic_string[j] = count\n",
    "    return dic_string\n",
    "\n",
    "bag_of_words(\"Mary also likes to also watch football games. \")"
   ]
  },
  {
   "cell_type": "code",
   "execution_count": 267,
   "metadata": {},
   "outputs": [],
   "source": [
    "# Lambda\n",
    "\n",
    "# str1 = \"atifsalam\"\n",
    "# rev_upper = lambda string: string.upper()[::-1]\n",
    "# print(rev_upper(str1))\n",
    "\n",
    "# format_numeric = lambda num: f\"{num:e}\" if isinstance(num, int) else f\"{num:,.2f}\"\n",
    "# print(format_numeric(100000.2587954))\n",
    "\n",
    "# lambda_cube = lambda x: x*x*x\n",
    "# print(lambda_cube(3))\n",
    "\n",
    "# is_even_list = [lambda arg=x: arg * 10 for x in range(1,5)]\n",
    "# for item in is_even_list:\n",
    "#     print(item())\n",
    "\n",
    "# x = lambda x: \n",
    "# def check_a(string):\n",
    "#     if string[0] == \"a\":\n",
    "#         return True\n",
    "#     else:\n",
    "#         return False\n",
    "        \n",
    "# print(check_a(\"apple\"))\n",
    "\n",
    "# x = lambda x: x[0] == \"a\"\n",
    "# x(\"banana\")\n",
    "\n",
    "# x = lambda x: \"Even\" if x%2 == 0 else \"Odd\"\n",
    "# x(2)\n",
    "\n",
    "# def return_sum(l):  \n",
    "#     sum_even = 0\n",
    "#     sum_odd = 0\n",
    "#     div3_sum = 0\n",
    "    \n",
    "#     for i in l:        \n",
    "#         if i % 2 == 0:\n",
    "#             sum_even = sum_even + i\n",
    "#         elif i % 3 == 0:\n",
    "#             div3_sum = div3_sum + i\n",
    "#         elif i % 2 != 0:\n",
    "#             sum_odd = sum_odd + i\n",
    "        \n",
    "            \n",
    "#     return (sum_even, sum_odd, div3_sum)\n",
    "\n",
    "# l = [11,14,21,23,56,78,45,29,28]\n",
    "# print(return_sum(l))\n",
    "            \n",
    "# Higher Order function\n",
    "\n",
    "# def return_sum(func, l):\n",
    "    \n",
    "#     result = 0\n",
    "#     for i in l:\n",
    "#         if func(i):\n",
    "#             result = result + i\n",
    "#     return result\n",
    "\n",
    "\n",
    "# x = lambda x: x % 2 == 0\n",
    "# y = lambda x: x % 2 != 0\n",
    "# z = lambda x: x % 3 == 0\n",
    "\n",
    "# l = [11,14,21,23,56,78,45,29,28]\n",
    "\n",
    "# print(return_sum(x, l))\n",
    "# print(return_sum(y, l))\n",
    "# print(return_sum(z, l))"
   ]
  },
  {
   "cell_type": "markdown",
   "metadata": {
    "id": "dHTRKb-DqMLw"
   },
   "source": [
    "###`Problem 11:` Write a Python program to add three given lists using Python map and lambda."
   ]
  },
  {
   "cell_type": "code",
   "execution_count": 286,
   "metadata": {
    "id": "NfJdzyNZqNW-"
   },
   "outputs": [
    {
     "data": {
      "text/plain": [
       "[[1, 2, 3, 4, 5, 6, 7, 8, 9],\n",
       " [1, 2, 3, 4, 5, 6, 7, 8, 9],\n",
       " [1, 2, 3, 4, 5, 6, 7, 8, 9]]"
      ]
     },
     "execution_count": 286,
     "metadata": {},
     "output_type": "execute_result"
    }
   ],
   "source": [
    "# Write code here\n",
    "l1 = [1,2,3]\n",
    "l2 = [4,5,6]\n",
    "l3 = [7,8,9]\n",
    "# list(map(lambda *l: l1+l2+l3,l1,l2,l3))\n",
    "concat_list = lambda x: l1+l2+l3\n",
    "list(map(concat_list,l1))"
   ]
  },
  {
   "cell_type": "markdown",
   "metadata": {
    "id": "MgHP7mbUqO8l"
   },
   "source": [
    "###`Problem-12:`Write a Python program to create a list containing the power of said number in bases raised to the corresponding number in the index using Python map.\n",
    "`Input:`\n",
    "```\n",
    "list1 = [1,2,3,4,5,6]\n",
    "```\n",
    "`Output:`\n",
    "```\n",
    "[1,2,9,64,625,-]\n",
    "```"
   ]
  },
  {
   "cell_type": "code",
   "execution_count": 317,
   "metadata": {
    "id": "gG3Dc6N3qbvN"
   },
   "outputs": [
    {
     "data": {
      "text/plain": [
       "[1, 2, 9, 64, 625, 7776]"
      ]
     },
     "execution_count": 317,
     "metadata": {},
     "output_type": "execute_result"
    }
   ],
   "source": [
    "# Write code here\n",
    "list1 = [1,2,3,4,5,6]\n",
    "list(map(lambda i: i**list1.index(i), list1))"
   ]
  },
  {
   "cell_type": "markdown",
   "metadata": {
    "id": "G26SYq6vqdLN"
   },
   "source": [
    "###`Problem-13` Using filter() and list() functions and .lower() method filter all the vowels in a given string.\n",
    "\n"
   ]
  },
  {
   "cell_type": "code",
   "execution_count": 318,
   "metadata": {
    "id": "zurga3DIqmEx"
   },
   "outputs": [
    {
     "data": {
      "text/plain": [
       "['i', 'I', 'o', 'a']"
      ]
     },
     "execution_count": 318,
     "metadata": {},
     "output_type": "execute_result"
    }
   ],
   "source": [
    "# Write code here\n",
    "string = \"dictIonary\"\n",
    "l1 = []\n",
    "def check_vowels(string):\n",
    "    vowels = [\"a\",\"e\",\"o\",\"i\",\"u\"]\n",
    "    for i in string:\n",
    "        if i.lower() in vowels:\n",
    "            return i\n",
    "\n",
    "list(filter(check_vowels, string))"
   ]
  },
  {
   "cell_type": "markdown",
   "metadata": {
    "id": "uQrsunZSqoYu"
   },
   "source": [
    "`Problem-14`: Use reduce to convert a 2D list to 1D"
   ]
  },
  {
   "cell_type": "code",
   "execution_count": 319,
   "metadata": {
    "id": "E1YUwnfgqnka"
   },
   "outputs": [
    {
     "data": {
      "text/plain": [
       "[1, 2, 3, 4, 5, 6]"
      ]
     },
     "execution_count": 319,
     "metadata": {},
     "output_type": "execute_result"
    }
   ],
   "source": [
    "# Write code here\n",
    "from functools import reduce\n",
    "\n",
    "l1 = [[1,2,3],[4,5,6]]\n",
    "\n",
    "reduce_list = lambda x,y: l1[0] + l1[1]\n",
    "reduce(reduce_list,l1)"
   ]
  },
  {
   "cell_type": "markdown",
   "metadata": {
    "id": "8-DLQEawt-_t"
   },
   "source": [
    "`Problem 15`- A dictionary contains following information about 5 employees:\n",
    "- First name\n",
    "- Last name\n",
    "- Age\n",
    "- Grade(Skilled,Semi-skilled,Highly skilled)<br>\n",
    "Write a program using map/filter/reduce to a list of employees(first name + last name) who are highly skilled"
   ]
  },
  {
   "cell_type": "code",
   "execution_count": 321,
   "metadata": {
    "id": "OLvptttLs6OU"
   },
   "outputs": [],
   "source": [
    "# Write code here\n",
    "employees = [\n",
    "    {\n",
    "        'fname':'Nitish',\n",
    "        'lname':'Singh',\n",
    "        'age' : 33,\n",
    "        'grade':'skilled'\n",
    "    },\n",
    "    {\n",
    "        'fname':'Ankit',\n",
    "        'lname':'Verma',\n",
    "        'age' : 34,\n",
    "        'grade':'semi-skilled'\n",
    "    },\n",
    "    {\n",
    "        'fname':'Neha',\n",
    "        'lname':'Singh',\n",
    "        'age' : 35,\n",
    "        'grade':'highly-skilled'\n",
    "    },\n",
    "    {\n",
    "        'fname':'Anurag',\n",
    "        'lname':'Kumar',\n",
    "        'age' : 30,\n",
    "        'grade':'skilled'\n",
    "    },\n",
    "    {\n",
    "        'fname':'Abhinav',\n",
    "        'lname':'Sharma',\n",
    "        'age' : 37,\n",
    "        'grade':'highly-skilled'\n",
    "    }\n",
    "    \n",
    "]"
   ]
  },
  {
   "cell_type": "code",
   "execution_count": 468,
   "metadata": {},
   "outputs": [
    {
     "data": {
      "text/plain": [
       "[('Neha', 'Singh'), ('Abhinav', 'Sharma')]"
      ]
     },
     "execution_count": 468,
     "metadata": {},
     "output_type": "execute_result"
    }
   ],
   "source": [
    "def high_skilled_employee(l):\n",
    "    list1 = []\n",
    "    for i in range(len(employees)):   \n",
    "        if employees[i][\"grade\"] == \"highly-skilled\":\n",
    "            a = employees[i][\"fname\"],employees[i][\"lname\"]\n",
    "            list1.append(a)\n",
    "    return list1\n",
    "            \n",
    "high_skilled_employee(employees)\n",
    "# list(filter(high_skilled_employee,employees))\n",
    "\n",
    "    "
   ]
  },
  {
   "cell_type": "code",
   "execution_count": 470,
   "metadata": {},
   "outputs": [
    {
     "data": {
      "text/plain": [
       "['Neha Singh', 'Abhinav Sharma']"
      ]
     },
     "execution_count": 470,
     "metadata": {},
     "output_type": "execute_result"
    }
   ],
   "source": [
    "list(filter(lambda x:True if x[\"grade\"] == \"highly-skilled\" else False,employees))\n",
    "list(map(lambda x:x[\"fname\"] + \" \" + x[\"lname\"],a))"
   ]
  },
  {
   "cell_type": "code",
   "execution_count": null,
   "metadata": {},
   "outputs": [],
   "source": []
  }
 ],
 "metadata": {
  "colab": {
   "provenance": []
  },
  "kernelspec": {
   "display_name": "Python 3 (ipykernel)",
   "language": "python",
   "name": "python3"
  },
  "language_info": {
   "codemirror_mode": {
    "name": "ipython",
    "version": 3
   },
   "file_extension": ".py",
   "mimetype": "text/x-python",
   "name": "python",
   "nbconvert_exporter": "python",
   "pygments_lexer": "ipython3",
   "version": "3.9.13"
  }
 },
 "nbformat": 4,
 "nbformat_minor": 1
}
